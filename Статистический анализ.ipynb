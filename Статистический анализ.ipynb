{
 "cells": [
  {
   "cell_type": "markdown",
   "id": "2078b4a3",
   "metadata": {},
   "source": [
    "# Исследование данных сервиса аренды самокатов GoFast.\n",
    "\n",
    "Вы аналитик популярного сервиса аренды самокатов GoFast. Вам передали данные о некоторых пользователях из нескольких городов, а также об их поездках. Проанализируйте данные и проверьте некоторые гипотезы, которые могут помочь бизнесу вырасти.\n",
    "Чтобы совершать поездки по городу, пользователи сервиса GoFast пользуются мобильным приложением. \n",
    "Сервисом можно пользоваться:\n",
    "\n",
    "\n",
    "**Без подписки:**\n",
    "\n",
    "абонентская плата отсутствует;\n",
    "\n",
    "стоимость одной минуты поездки — 8 рублей;\n",
    "\n",
    "стоимость старта (начала поездки) — 50 рублей;\n",
    "\n",
    "\n",
    "**С подпиской Ultra:**\n",
    "\n",
    "абонентская плата — 199 рублей в месяц;\n",
    "\n",
    "стоимость одной минуты поездки — 6 рублей;\n",
    "\n",
    "стоимость старта — бесплатно."
   ]
  },
  {
   "cell_type": "markdown",
   "id": "7d95f96b",
   "metadata": {},
   "source": [
    "Описание данных. В основных данных есть информация о пользователях, их поездках и подписках.\n",
    "Пользователи — users_go.csv, Поездки — rides_go.csv, \n",
    "Подписки — subscriptions_go.csv."
   ]
  },
  {
   "cell_type": "markdown",
   "id": "1bb2151e",
   "metadata": {},
   "source": [
    "#### Шаг 1. Загрузка данных"
   ]
  },
  {
   "cell_type": "markdown",
   "id": "dc3d5693",
   "metadata": {},
   "source": [
    "**Импортруем необходимые библиотеки:**"
   ]
  },
  {
   "cell_type": "code",
   "execution_count": 2,
   "id": "63e6ebc7",
   "metadata": {},
   "outputs": [],
   "source": [
    "import pandas as pd\n",
    "import matplotlib.pyplot as plt\n",
    "import numpy as np\n",
    "from scipy import stats as st\n",
    "from math import sqrt\n",
    "from scipy.stats import ttest_ind"
   ]
  },
  {
   "cell_type": "markdown",
   "id": "8934b029",
   "metadata": {},
   "source": [
    "**Cохраним наши таблицы в переменные и выведем общую информацию и первые строки каждого датафрейма:**"
   ]
  },
  {
   "cell_type": "code",
   "execution_count": 3,
   "id": "9b8ed349",
   "metadata": {
    "scrolled": true
   },
   "outputs": [
    {
     "name": "stdout",
     "output_type": "stream",
     "text": [
      "<class 'pandas.core.frame.DataFrame'>\n",
      "RangeIndex: 1565 entries, 0 to 1564\n",
      "Data columns (total 5 columns):\n",
      " #   Column             Non-Null Count  Dtype \n",
      "---  ------             --------------  ----- \n",
      " 0   user_id            1565 non-null   int64 \n",
      " 1   name               1565 non-null   object\n",
      " 2   age                1565 non-null   int64 \n",
      " 3   city               1565 non-null   object\n",
      " 4   subscription_type  1565 non-null   object\n",
      "dtypes: int64(2), object(3)\n",
      "memory usage: 61.3+ KB\n",
      "<class 'pandas.core.frame.DataFrame'>\n",
      "RangeIndex: 18068 entries, 0 to 18067\n",
      "Data columns (total 4 columns):\n",
      " #   Column    Non-Null Count  Dtype  \n",
      "---  ------    --------------  -----  \n",
      " 0   user_id   18068 non-null  int64  \n",
      " 1   distance  18068 non-null  float64\n",
      " 2   duration  18068 non-null  float64\n",
      " 3   date      18068 non-null  object \n",
      "dtypes: float64(2), int64(1), object(1)\n",
      "memory usage: 564.8+ KB\n",
      "<class 'pandas.core.frame.DataFrame'>\n",
      "RangeIndex: 2 entries, 0 to 1\n",
      "Data columns (total 4 columns):\n",
      " #   Column             Non-Null Count  Dtype \n",
      "---  ------             --------------  ----- \n",
      " 0   subscription_type  2 non-null      object\n",
      " 1   minute_price       2 non-null      int64 \n",
      " 2   start_ride_price   2 non-null      int64 \n",
      " 3   subscription_fee   2 non-null      int64 \n",
      "dtypes: int64(3), object(1)\n",
      "memory usage: 192.0+ bytes\n"
     ]
    },
    {
     "data": {
      "text/plain": [
       "None"
      ]
     },
     "metadata": {},
     "output_type": "display_data"
    },
    {
     "data": {
      "text/plain": [
       "None"
      ]
     },
     "metadata": {},
     "output_type": "display_data"
    },
    {
     "data": {
      "text/plain": [
       "None"
      ]
     },
     "metadata": {},
     "output_type": "display_data"
    },
    {
     "data": {
      "text/html": [
       "<div>\n",
       "<style scoped>\n",
       "    .dataframe tbody tr th:only-of-type {\n",
       "        vertical-align: middle;\n",
       "    }\n",
       "\n",
       "    .dataframe tbody tr th {\n",
       "        vertical-align: top;\n",
       "    }\n",
       "\n",
       "    .dataframe thead th {\n",
       "        text-align: right;\n",
       "    }\n",
       "</style>\n",
       "<table border=\"1\" class=\"dataframe\">\n",
       "  <thead>\n",
       "    <tr style=\"text-align: right;\">\n",
       "      <th></th>\n",
       "      <th>user_id</th>\n",
       "      <th>name</th>\n",
       "      <th>age</th>\n",
       "      <th>city</th>\n",
       "      <th>subscription_type</th>\n",
       "    </tr>\n",
       "  </thead>\n",
       "  <tbody>\n",
       "    <tr>\n",
       "      <th>0</th>\n",
       "      <td>1</td>\n",
       "      <td>Кира</td>\n",
       "      <td>22</td>\n",
       "      <td>Тюмень</td>\n",
       "      <td>ultra</td>\n",
       "    </tr>\n",
       "    <tr>\n",
       "      <th>1</th>\n",
       "      <td>2</td>\n",
       "      <td>Станислав</td>\n",
       "      <td>31</td>\n",
       "      <td>Омск</td>\n",
       "      <td>ultra</td>\n",
       "    </tr>\n",
       "    <tr>\n",
       "      <th>2</th>\n",
       "      <td>3</td>\n",
       "      <td>Алексей</td>\n",
       "      <td>20</td>\n",
       "      <td>Москва</td>\n",
       "      <td>ultra</td>\n",
       "    </tr>\n",
       "    <tr>\n",
       "      <th>3</th>\n",
       "      <td>4</td>\n",
       "      <td>Константин</td>\n",
       "      <td>26</td>\n",
       "      <td>Ростов-на-Дону</td>\n",
       "      <td>ultra</td>\n",
       "    </tr>\n",
       "    <tr>\n",
       "      <th>4</th>\n",
       "      <td>5</td>\n",
       "      <td>Адель</td>\n",
       "      <td>28</td>\n",
       "      <td>Омск</td>\n",
       "      <td>ultra</td>\n",
       "    </tr>\n",
       "    <tr>\n",
       "      <th>5</th>\n",
       "      <td>6</td>\n",
       "      <td>Регина</td>\n",
       "      <td>25</td>\n",
       "      <td>Краснодар</td>\n",
       "      <td>ultra</td>\n",
       "    </tr>\n",
       "    <tr>\n",
       "      <th>6</th>\n",
       "      <td>7</td>\n",
       "      <td>Игорь</td>\n",
       "      <td>23</td>\n",
       "      <td>Омск</td>\n",
       "      <td>ultra</td>\n",
       "    </tr>\n",
       "    <tr>\n",
       "      <th>7</th>\n",
       "      <td>8</td>\n",
       "      <td>Юрий</td>\n",
       "      <td>23</td>\n",
       "      <td>Краснодар</td>\n",
       "      <td>ultra</td>\n",
       "    </tr>\n",
       "    <tr>\n",
       "      <th>8</th>\n",
       "      <td>9</td>\n",
       "      <td>Ян</td>\n",
       "      <td>21</td>\n",
       "      <td>Пятигорск</td>\n",
       "      <td>ultra</td>\n",
       "    </tr>\n",
       "    <tr>\n",
       "      <th>9</th>\n",
       "      <td>10</td>\n",
       "      <td>Валерий</td>\n",
       "      <td>18</td>\n",
       "      <td>Екатеринбург</td>\n",
       "      <td>ultra</td>\n",
       "    </tr>\n",
       "  </tbody>\n",
       "</table>\n",
       "</div>"
      ],
      "text/plain": [
       "   user_id        name  age            city subscription_type\n",
       "0        1        Кира   22          Тюмень             ultra\n",
       "1        2   Станислав   31            Омск             ultra\n",
       "2        3     Алексей   20          Москва             ultra\n",
       "3        4  Константин   26  Ростов-на-Дону             ultra\n",
       "4        5       Адель   28            Омск             ultra\n",
       "5        6      Регина   25       Краснодар             ultra\n",
       "6        7       Игорь   23            Омск             ultra\n",
       "7        8        Юрий   23       Краснодар             ultra\n",
       "8        9          Ян   21       Пятигорск             ultra\n",
       "9       10     Валерий   18    Екатеринбург             ultra"
      ]
     },
     "metadata": {},
     "output_type": "display_data"
    },
    {
     "data": {
      "text/html": [
       "<div>\n",
       "<style scoped>\n",
       "    .dataframe tbody tr th:only-of-type {\n",
       "        vertical-align: middle;\n",
       "    }\n",
       "\n",
       "    .dataframe tbody tr th {\n",
       "        vertical-align: top;\n",
       "    }\n",
       "\n",
       "    .dataframe thead th {\n",
       "        text-align: right;\n",
       "    }\n",
       "</style>\n",
       "<table border=\"1\" class=\"dataframe\">\n",
       "  <thead>\n",
       "    <tr style=\"text-align: right;\">\n",
       "      <th></th>\n",
       "      <th>user_id</th>\n",
       "      <th>distance</th>\n",
       "      <th>duration</th>\n",
       "      <th>date</th>\n",
       "    </tr>\n",
       "  </thead>\n",
       "  <tbody>\n",
       "    <tr>\n",
       "      <th>0</th>\n",
       "      <td>1</td>\n",
       "      <td>4409.919140</td>\n",
       "      <td>25.599769</td>\n",
       "      <td>2021-01-01</td>\n",
       "    </tr>\n",
       "    <tr>\n",
       "      <th>1</th>\n",
       "      <td>1</td>\n",
       "      <td>2617.592153</td>\n",
       "      <td>15.816871</td>\n",
       "      <td>2021-01-18</td>\n",
       "    </tr>\n",
       "    <tr>\n",
       "      <th>2</th>\n",
       "      <td>1</td>\n",
       "      <td>754.159807</td>\n",
       "      <td>6.232113</td>\n",
       "      <td>2021-04-20</td>\n",
       "    </tr>\n",
       "    <tr>\n",
       "      <th>3</th>\n",
       "      <td>1</td>\n",
       "      <td>2694.783254</td>\n",
       "      <td>18.511000</td>\n",
       "      <td>2021-08-11</td>\n",
       "    </tr>\n",
       "    <tr>\n",
       "      <th>4</th>\n",
       "      <td>1</td>\n",
       "      <td>4028.687306</td>\n",
       "      <td>26.265803</td>\n",
       "      <td>2021-08-28</td>\n",
       "    </tr>\n",
       "    <tr>\n",
       "      <th>5</th>\n",
       "      <td>1</td>\n",
       "      <td>2770.890808</td>\n",
       "      <td>16.650138</td>\n",
       "      <td>2021-10-09</td>\n",
       "    </tr>\n",
       "    <tr>\n",
       "      <th>6</th>\n",
       "      <td>1</td>\n",
       "      <td>3039.020292</td>\n",
       "      <td>14.927879</td>\n",
       "      <td>2021-10-19</td>\n",
       "    </tr>\n",
       "    <tr>\n",
       "      <th>7</th>\n",
       "      <td>1</td>\n",
       "      <td>2842.118050</td>\n",
       "      <td>23.117468</td>\n",
       "      <td>2021-11-06</td>\n",
       "    </tr>\n",
       "    <tr>\n",
       "      <th>8</th>\n",
       "      <td>1</td>\n",
       "      <td>3412.690668</td>\n",
       "      <td>15.238072</td>\n",
       "      <td>2021-11-14</td>\n",
       "    </tr>\n",
       "    <tr>\n",
       "      <th>9</th>\n",
       "      <td>1</td>\n",
       "      <td>748.690645</td>\n",
       "      <td>15.041884</td>\n",
       "      <td>2021-11-22</td>\n",
       "    </tr>\n",
       "  </tbody>\n",
       "</table>\n",
       "</div>"
      ],
      "text/plain": [
       "   user_id     distance   duration        date\n",
       "0        1  4409.919140  25.599769  2021-01-01\n",
       "1        1  2617.592153  15.816871  2021-01-18\n",
       "2        1   754.159807   6.232113  2021-04-20\n",
       "3        1  2694.783254  18.511000  2021-08-11\n",
       "4        1  4028.687306  26.265803  2021-08-28\n",
       "5        1  2770.890808  16.650138  2021-10-09\n",
       "6        1  3039.020292  14.927879  2021-10-19\n",
       "7        1  2842.118050  23.117468  2021-11-06\n",
       "8        1  3412.690668  15.238072  2021-11-14\n",
       "9        1   748.690645  15.041884  2021-11-22"
      ]
     },
     "metadata": {},
     "output_type": "display_data"
    },
    {
     "data": {
      "text/html": [
       "<div>\n",
       "<style scoped>\n",
       "    .dataframe tbody tr th:only-of-type {\n",
       "        vertical-align: middle;\n",
       "    }\n",
       "\n",
       "    .dataframe tbody tr th {\n",
       "        vertical-align: top;\n",
       "    }\n",
       "\n",
       "    .dataframe thead th {\n",
       "        text-align: right;\n",
       "    }\n",
       "</style>\n",
       "<table border=\"1\" class=\"dataframe\">\n",
       "  <thead>\n",
       "    <tr style=\"text-align: right;\">\n",
       "      <th></th>\n",
       "      <th>subscription_type</th>\n",
       "      <th>minute_price</th>\n",
       "      <th>start_ride_price</th>\n",
       "      <th>subscription_fee</th>\n",
       "    </tr>\n",
       "  </thead>\n",
       "  <tbody>\n",
       "    <tr>\n",
       "      <th>0</th>\n",
       "      <td>free</td>\n",
       "      <td>8</td>\n",
       "      <td>50</td>\n",
       "      <td>0</td>\n",
       "    </tr>\n",
       "    <tr>\n",
       "      <th>1</th>\n",
       "      <td>ultra</td>\n",
       "      <td>6</td>\n",
       "      <td>0</td>\n",
       "      <td>199</td>\n",
       "    </tr>\n",
       "  </tbody>\n",
       "</table>\n",
       "</div>"
      ],
      "text/plain": [
       "  subscription_type  minute_price  start_ride_price  subscription_fee\n",
       "0              free             8                50                 0\n",
       "1             ultra             6                 0               199"
      ]
     },
     "metadata": {},
     "output_type": "display_data"
    }
   ],
   "source": [
    "users = pd.read_csv('/datasets/users_go.csv')\n",
    "rides = pd.read_csv('/datasets/rides_go.csv')\n",
    "sub = pd.read_csv('/datasets/subscriptions_go.csv')\n",
    "display(users.info(), rides.info(), sub.info())\n",
    "display(users.head(10), rides.head(10), sub.head(10))"
   ]
  },
  {
   "cell_type": "markdown",
   "id": "468768ff",
   "metadata": {},
   "source": [
    "<div class=\"alert alert-success\">\n",
    "<b>Комментарий ревьюера:</b>☀️\n",
    "    \n",
    "Для вывода `info` дополнительно необязательно писать `display`\n",
    "</div>"
   ]
  },
  {
   "cell_type": "markdown",
   "id": "07de42fd",
   "metadata": {},
   "source": [
    "**Мы видим, что все таблицы представлены в корректном виде.**"
   ]
  },
  {
   "cell_type": "markdown",
   "id": "5886e3bb",
   "metadata": {},
   "source": [
    "#### Шаг 2. Предобработка данных"
   ]
  },
  {
   "cell_type": "markdown",
   "id": "a44b620f",
   "metadata": {},
   "source": [
    "**В таблице с поездками поменяем тип данных в строке с датой на date:**"
   ]
  },
  {
   "cell_type": "code",
   "execution_count": 3,
   "id": "ea101934",
   "metadata": {},
   "outputs": [
    {
     "name": "stdout",
     "output_type": "stream",
     "text": [
      "<class 'pandas.core.frame.DataFrame'>\n",
      "RangeIndex: 18068 entries, 0 to 18067\n",
      "Data columns (total 4 columns):\n",
      " #   Column    Non-Null Count  Dtype         \n",
      "---  ------    --------------  -----         \n",
      " 0   user_id   18068 non-null  int64         \n",
      " 1   distance  18068 non-null  float64       \n",
      " 2   duration  18068 non-null  float64       \n",
      " 3   date      18068 non-null  datetime64[ns]\n",
      "dtypes: datetime64[ns](1), float64(2), int64(1)\n",
      "memory usage: 564.8 KB\n"
     ]
    }
   ],
   "source": [
    "rides['date'] = pd.to_datetime(rides['date'], format='%Y-%m-%d')\n",
    "rides.info()"
   ]
  },
  {
   "cell_type": "markdown",
   "id": "7ce0af8b",
   "metadata": {},
   "source": [
    "**Создадим новый столбец с номером месяца на основании столбца date:**"
   ]
  },
  {
   "cell_type": "code",
   "execution_count": 4,
   "id": "65960027",
   "metadata": {},
   "outputs": [
    {
     "name": "stdout",
     "output_type": "stream",
     "text": [
      "<class 'pandas.core.frame.DataFrame'>\n",
      "RangeIndex: 18068 entries, 0 to 18067\n",
      "Data columns (total 5 columns):\n",
      " #   Column    Non-Null Count  Dtype         \n",
      "---  ------    --------------  -----         \n",
      " 0   user_id   18068 non-null  int64         \n",
      " 1   distance  18068 non-null  float64       \n",
      " 2   duration  18068 non-null  float64       \n",
      " 3   date      18068 non-null  datetime64[ns]\n",
      " 4   month     18068 non-null  int64         \n",
      "dtypes: datetime64[ns](1), float64(2), int64(2)\n",
      "memory usage: 705.9 KB\n"
     ]
    }
   ],
   "source": [
    "rides['month'] = pd.DatetimeIndex(rides['date']).month\n",
    "rides.info()"
   ]
  },
  {
   "cell_type": "markdown",
   "id": "9f2c3b30",
   "metadata": {},
   "source": [
    "**Проверим датафреймы на наличие пропущенных значений:**"
   ]
  },
  {
   "cell_type": "code",
   "execution_count": 5,
   "id": "2f2ede1e",
   "metadata": {},
   "outputs": [
    {
     "data": {
      "text/plain": [
       "user_id              0\n",
       "name                 0\n",
       "age                  0\n",
       "city                 0\n",
       "subscription_type    0\n",
       "dtype: int64"
      ]
     },
     "execution_count": 5,
     "metadata": {},
     "output_type": "execute_result"
    }
   ],
   "source": [
    "users.isna().sum()"
   ]
  },
  {
   "cell_type": "code",
   "execution_count": 6,
   "id": "ab675f3b",
   "metadata": {},
   "outputs": [
    {
     "data": {
      "text/plain": [
       "user_id     0\n",
       "distance    0\n",
       "duration    0\n",
       "date        0\n",
       "month       0\n",
       "dtype: int64"
      ]
     },
     "execution_count": 6,
     "metadata": {},
     "output_type": "execute_result"
    }
   ],
   "source": [
    "rides.isna().sum()"
   ]
  },
  {
   "cell_type": "code",
   "execution_count": 7,
   "id": "655d02b4",
   "metadata": {},
   "outputs": [
    {
     "data": {
      "text/plain": [
       "subscription_type    0\n",
       "minute_price         0\n",
       "start_ride_price     0\n",
       "subscription_fee     0\n",
       "dtype: int64"
      ]
     },
     "execution_count": 7,
     "metadata": {},
     "output_type": "execute_result"
    }
   ],
   "source": [
    "sub.isna().sum()"
   ]
  },
  {
   "cell_type": "markdown",
   "id": "045f4309",
   "metadata": {},
   "source": [
    "**Как мы видим, в таблицах нет пропущенных значений. Проверим датафреймы на дубликаты:**"
   ]
  },
  {
   "cell_type": "code",
   "execution_count": 8,
   "id": "2e3cd056",
   "metadata": {},
   "outputs": [
    {
     "data": {
      "text/plain": [
       "31"
      ]
     },
     "execution_count": 8,
     "metadata": {},
     "output_type": "execute_result"
    }
   ],
   "source": [
    "users.duplicated().sum()"
   ]
  },
  {
   "cell_type": "markdown",
   "id": "036c5b11",
   "metadata": {},
   "source": [
    "**В таблице users 31 дубликат, удалим их:**"
   ]
  },
  {
   "cell_type": "code",
   "execution_count": 9,
   "id": "8d2f45d5",
   "metadata": {},
   "outputs": [
    {
     "data": {
      "text/plain": [
       "0"
      ]
     },
     "execution_count": 9,
     "metadata": {},
     "output_type": "execute_result"
    }
   ],
   "source": [
    "users = users.drop_duplicates()\n",
    "users.duplicated().sum()"
   ]
  },
  {
   "cell_type": "markdown",
   "id": "db1be576",
   "metadata": {},
   "source": [
    "**Как мы видим, в таблице не осталось дубликатов. Перейдем к таблице rides:**"
   ]
  },
  {
   "cell_type": "code",
   "execution_count": 10,
   "id": "bc0d766a",
   "metadata": {},
   "outputs": [
    {
     "data": {
      "text/plain": [
       "0"
      ]
     },
     "execution_count": 10,
     "metadata": {},
     "output_type": "execute_result"
    }
   ],
   "source": [
    "rides.duplicated().sum()"
   ]
  },
  {
   "cell_type": "markdown",
   "id": "86315988",
   "metadata": {},
   "source": [
    "<div class=\"alert alert-success\">\n",
    "<b>Комментарий ревьюера:</b>☀️\n",
    "    \n",
    "И про дубликаты не забываешь, замечательно. Но действия по первичному анализу датафреймов схожи, можно было бы функцию написать "
   ]
  },
  {
   "cell_type": "markdown",
   "id": "6912323a",
   "metadata": {},
   "source": [
    "**В таблице rides нет дубликатов. В последней таблице sub также нет дубликатов, т.к. она содержит всего две не одинаковые строки.**"
   ]
  },
  {
   "cell_type": "markdown",
   "id": "212593c7",
   "metadata": {},
   "source": [
    "#### Шаг 3. Исследовательский анализ данных"
   ]
  },
  {
   "cell_type": "markdown",
   "id": "85f747c2",
   "metadata": {},
   "source": [
    "**Опишем и визуализируем общую информацию о пользователях и поездках.**"
   ]
  },
  {
   "cell_type": "markdown",
   "id": "d99c0f66",
   "metadata": {},
   "source": [
    "**Частота встречаемости городов:**"
   ]
  },
  {
   "cell_type": "code",
   "execution_count": 11,
   "id": "af51c7c3",
   "metadata": {},
   "outputs": [
    {
     "data": {
      "image/png": "[encoded data removed]",
      "text/plain": [
       "<Figure size 864x360 with 1 Axes>"
      ]
     },
     "metadata": {
      "needs_background": "light"
     },
     "output_type": "display_data"
    }
   ],
   "source": [
    "users['city'].hist(bins=20, figsize=(12, 5));\n",
    "plt.title('Частота встречаемости городов', fontsize=14)\n",
    "plt.xlabel('Город')\n",
    "plt.ylabel('Количество пользователей');"
   ]
  },
  {
   "cell_type": "markdown",
   "id": "2e06989b",
   "metadata": {},
   "source": [
    "<div class=\"alert alert-warning\">\n",
    "<b>Комментарий ревьюера:</b>⛅️ \n",
    "\n",
    "Рекомендую ещё сортировать значения, так график более читаемым будет "
   ]
  },
  {
   "cell_type": "markdown",
   "id": "5de58a13",
   "metadata": {},
   "source": [
    "**Как мы видим, колличество пользователей из разных городов примерно одинаковое, наименьшее количество в Москве, наибольшее - в Пятигорске.**"
   ]
  },
  {
   "cell_type": "markdown",
   "id": "9702bcae",
   "metadata": {},
   "source": [
    "**Соотношение пользователей с подпиской и без подписки:**"
   ]
  },
  {
   "cell_type": "code",
   "execution_count": 12,
   "id": "e3a4274c",
   "metadata": {},
   "outputs": [
    {
     "data": {
      "image/png": "[encoded data removed]",
      "text/plain": [
       "<Figure size 864x360 with 1 Axes>"
      ]
     },
     "metadata": {},
     "output_type": "display_data"
    }
   ],
   "source": [
    "subscription_counts = users['subscription_type'].value_counts()\n",
    "subscription_counts.plot(kind='pie', figsize=(12,5), autopct='%1.1f%%')\n",
    "plt.title('Соотношение пользователей с подпиской и без подписки')\n",
    "plt.ylabel('')\n",
    "plt.show()"
   ]
  },
  {
   "cell_type": "markdown",
   "id": "347e5f7b",
   "metadata": {},
   "source": [
    "**Как мы видим, большая часть пользователей использует сервис без подписки.**"
   ]
  },
  {
   "cell_type": "markdown",
   "id": "0a87f415",
   "metadata": {},
   "source": [
    "**Возраст пользователей:**"
   ]
  },
  {
   "cell_type": "code",
   "execution_count": 13,
   "id": "cd885c87",
   "metadata": {},
   "outputs": [
    {
     "data": {
      "image/png": "[encoded data removed]",
      "text/plain": [
       "<Figure size 864x360 with 1 Axes>"
      ]
     },
     "metadata": {
      "needs_background": "light"
     },
     "output_type": "display_data"
    }
   ],
   "source": [
    "users['age'].hist(bins=150, figsize=(12, 5));\n",
    "plt.title('Возраст пользователей', fontsize=14)\n",
    "plt.xlabel('Возраст')\n",
    "plt.ylabel('Количество пользователей');"
   ]
  },
  {
   "cell_type": "markdown",
   "id": "993c3a3d",
   "metadata": {},
   "source": [
    "<div class=\"alert alert-warning\">\n",
    "<b>Комментарий ревьюера:</b>⛅️ \n",
    "\n",
    "Всё же пользователь условных 44 лет вполне может быть в сервисе аренды самокатов, в таком случае, когда сведение не сильно то выбивается из реальности его можно и лучше оставлять \n",
    "</div>"
   ]
  },
  {
   "cell_type": "markdown",
   "id": "491a0887",
   "metadata": {},
   "source": [
    "<span style=\"color:blue\"> Спасибо за пометку! Исправил.</span>"
   ]
  },
  {
   "cell_type": "markdown",
   "id": "f237445c",
   "metadata": {},
   "source": [
    "<div class=\"alert alert-success\">\n",
    "<b>Комментарий ревьюера v2:</b>☀️\n",
    "   \n",
    "Пожалуйста, не всегда значение, если больше какой-то границы - сто процентов аномалия, рекомендую соотносить с действительностью, как например здесь, возраст в 44 - вполне возможный)\n",
    "\n",
    "</div>"
   ]
  },
  {
   "cell_type": "markdown",
   "id": "469dc760",
   "metadata": {},
   "source": [
    "**Расстояние, которое пользователь преодолел за одну поездку:**"
   ]
  },
  {
   "cell_type": "code",
   "execution_count": 14,
   "id": "4fd4328c",
   "metadata": {},
   "outputs": [
    {
     "data": {
      "image/png": "[encoded data removed]",
      "text/plain": [
       "<Figure size 864x360 with 1 Axes>"
      ]
     },
     "metadata": {
      "needs_background": "light"
     },
     "output_type": "display_data"
    }
   ],
   "source": [
    "rides['distance'].hist(bins=150, figsize=(12, 5));\n",
    "plt.title('Расстояние, которое пользователь преодолел за одну поездку', fontsize=14)\n",
    "plt.xlabel('Расстояние, метры')\n",
    "plt.ylabel('Количество поездок');"
   ]
  },
  {
   "cell_type": "markdown",
   "id": "94b6cf9e",
   "metadata": {},
   "source": [
    "<div class=\"alert alert-success\">\n",
    "<b>Комментарий ревьюера:</b>☀️\n",
    "    \n",
    "Наличие пары пиков дистанций наталкивает на мысль, что может быть несколько сценариев пользования приложением и с этими категориями стоит отдельно работать"
   ]
  },
  {
   "cell_type": "markdown",
   "id": "0a7474cb",
   "metadata": {},
   "source": [
    "**На гистограмме видно, что среднее расстояние поездки составиор около 3000 метров.**"
   ]
  },
  {
   "cell_type": "markdown",
   "id": "b5a0398d",
   "metadata": {},
   "source": [
    "**Продолжительность поездок:**"
   ]
  },
  {
   "cell_type": "code",
   "execution_count": 15,
   "id": "92343e45",
   "metadata": {},
   "outputs": [
    {
     "data": {
      "image/png": "[encoded data removed]",
      "text/plain": [
       "<Figure size 864x360 with 1 Axes>"
      ]
     },
     "metadata": {
      "needs_background": "light"
     },
     "output_type": "display_data"
    }
   ],
   "source": [
    "rides['duration'].hist(bins=150, figsize=(12, 5));\n",
    "plt.title('Продолжительность поездки', fontsize=14)\n",
    "plt.xlabel('Время, мин.')\n",
    "plt.ylabel('Количество поездок');"
   ]
  },
  {
   "cell_type": "markdown",
   "id": "cf9a2631",
   "metadata": {},
   "source": [
    "**Видим, что среднее время поезки составило около 17 минут. Также, на графике присутсвеут аномалия, суть меньше ста значиений в левой части, изучим их:**"
   ]
  },
  {
   "cell_type": "code",
   "execution_count": 16,
   "id": "3ec662f8",
   "metadata": {},
   "outputs": [
    {
     "name": "stderr",
     "output_type": "stream",
     "text": [
      "/tmp/ipykernel_115/50561959.py:1: FutureWarning: DataFrame.mean and DataFrame.median with numeric_only=None will include datetime64 and datetime64tz columns in a future version.\n",
      "  rides[rides['duration']<2].mean()\n"
     ]
    },
    {
     "data": {
      "text/plain": [
       "user_id     1092.210526\n",
       "distance    5113.176549\n",
       "duration       0.500000\n",
       "month          6.484211\n",
       "dtype: float64"
      ]
     },
     "execution_count": 16,
     "metadata": {},
     "output_type": "execute_result"
    }
   ],
   "source": [
    "rides[rides['duration']<2].mean()"
   ]
  },
  {
   "cell_type": "markdown",
   "id": "262ca6c5",
   "metadata": {},
   "source": [
    "<div class=\"alert alert-success\">\n",
    "<b>Комментарий ревьюера:</b>☀️\n",
    "    \n",
    "И эта проблема тобой обнаружена, молодец. Возможно это так сократилось 30 минут, так как нет поездок ровно с 30 минутами гипотеза не лишена оснований, хоть и странная).\n",
    "    \n",
    "Здесь хочется обратить внимание на то, как можно подходить к проверке корректности даннных, в этом пункте ты сделал вывод о некорректности данных формально на основе скорости, скорость оказалось запредельной в таких поездках и это странно, как и в случае с довольно короткими по дистанции, но до нескольких минут по времени поездками. И можно было посчитать скорость по каждой поездке и изучить этот график. В прошлом проекте возможно было оценить стоимость квадратного метра, если в каких-то объектах она аномально - стоит подробнее изучить"
   ]
  },
  {
   "cell_type": "markdown",
   "id": "a6c43472",
   "metadata": {},
   "source": [
    "**Все значения равны 0.5 минутам. Возможно, при заполнении таблицы допустили ошибку, и вместо количества минут, писали количество часов (0.5 часа = 30 минут). Проверим это. У нас есть среднее растояние этих поездок, выделим в датафрейме строки с похожими значениями расстояния, и найдем среденюю продолжительность таких поездкок:**"
   ]
  },
  {
   "cell_type": "code",
   "execution_count": 17,
   "id": "d2a17c91",
   "metadata": {},
   "outputs": [
    {
     "name": "stderr",
     "output_type": "stream",
     "text": [
      "/tmp/ipykernel_115/4100356910.py:1: FutureWarning: DataFrame.mean and DataFrame.median with numeric_only=None will include datetime64 and datetime64tz columns in a future version.\n",
      "  rides.query('5100<distance<5150').mean()\n"
     ]
    },
    {
     "data": {
      "text/plain": [
       "user_id     1017.081633\n",
       "distance    5126.859931\n",
       "duration      23.109267\n",
       "month          6.530612\n",
       "dtype: float64"
      ]
     },
     "execution_count": 17,
     "metadata": {},
     "output_type": "execute_result"
    }
   ],
   "source": [
    "rides.query('5100<distance<5150').mean()"
   ]
  },
  {
   "cell_type": "markdown",
   "id": "8f78987c",
   "metadata": {},
   "source": [
    "**Видим, что средняя продолжительность таких поездок равна чуть более 23 минут. Наша теория не подтвердилась. Т.к. общее количесвтво строк более 18000, мы можем просто удалить эти странные строки:**"
   ]
  },
  {
   "cell_type": "code",
   "execution_count": 18,
   "id": "c8a42e21",
   "metadata": {},
   "outputs": [],
   "source": [
    "rides = rides[rides['duration']>1]"
   ]
  },
  {
   "cell_type": "markdown",
   "id": "4ef51331",
   "metadata": {},
   "source": [
    "#### Шаг 4. Объединение данных"
   ]
  },
  {
   "cell_type": "markdown",
   "id": "f3fd5e6d",
   "metadata": {},
   "source": [
    "**Объединим данные о пользователях, поездках и подписках в один датафрейм.**"
   ]
  },
  {
   "cell_type": "code",
   "execution_count": 19,
   "id": "c3448217",
   "metadata": {
    "scrolled": true
   },
   "outputs": [
    {
     "data": {
      "text/html": [
       "<div>\n",
       "<style scoped>\n",
       "    .dataframe tbody tr th:only-of-type {\n",
       "        vertical-align: middle;\n",
       "    }\n",
       "\n",
       "    .dataframe tbody tr th {\n",
       "        vertical-align: top;\n",
       "    }\n",
       "\n",
       "    .dataframe thead th {\n",
       "        text-align: right;\n",
       "    }\n",
       "</style>\n",
       "<table border=\"1\" class=\"dataframe\">\n",
       "  <thead>\n",
       "    <tr style=\"text-align: right;\">\n",
       "      <th></th>\n",
       "      <th>user_id</th>\n",
       "      <th>distance</th>\n",
       "      <th>duration</th>\n",
       "      <th>date</th>\n",
       "      <th>month</th>\n",
       "      <th>name</th>\n",
       "      <th>age</th>\n",
       "      <th>city</th>\n",
       "      <th>subscription_type</th>\n",
       "    </tr>\n",
       "  </thead>\n",
       "  <tbody>\n",
       "    <tr>\n",
       "      <th>0</th>\n",
       "      <td>1</td>\n",
       "      <td>4409.919140</td>\n",
       "      <td>25.599769</td>\n",
       "      <td>2021-01-01</td>\n",
       "      <td>1</td>\n",
       "      <td>Кира</td>\n",
       "      <td>22</td>\n",
       "      <td>Тюмень</td>\n",
       "      <td>ultra</td>\n",
       "    </tr>\n",
       "    <tr>\n",
       "      <th>1</th>\n",
       "      <td>1</td>\n",
       "      <td>2617.592153</td>\n",
       "      <td>15.816871</td>\n",
       "      <td>2021-01-18</td>\n",
       "      <td>1</td>\n",
       "      <td>Кира</td>\n",
       "      <td>22</td>\n",
       "      <td>Тюмень</td>\n",
       "      <td>ultra</td>\n",
       "    </tr>\n",
       "    <tr>\n",
       "      <th>2</th>\n",
       "      <td>1</td>\n",
       "      <td>754.159807</td>\n",
       "      <td>6.232113</td>\n",
       "      <td>2021-04-20</td>\n",
       "      <td>4</td>\n",
       "      <td>Кира</td>\n",
       "      <td>22</td>\n",
       "      <td>Тюмень</td>\n",
       "      <td>ultra</td>\n",
       "    </tr>\n",
       "    <tr>\n",
       "      <th>3</th>\n",
       "      <td>1</td>\n",
       "      <td>2694.783254</td>\n",
       "      <td>18.511000</td>\n",
       "      <td>2021-08-11</td>\n",
       "      <td>8</td>\n",
       "      <td>Кира</td>\n",
       "      <td>22</td>\n",
       "      <td>Тюмень</td>\n",
       "      <td>ultra</td>\n",
       "    </tr>\n",
       "    <tr>\n",
       "      <th>4</th>\n",
       "      <td>1</td>\n",
       "      <td>4028.687306</td>\n",
       "      <td>26.265803</td>\n",
       "      <td>2021-08-28</td>\n",
       "      <td>8</td>\n",
       "      <td>Кира</td>\n",
       "      <td>22</td>\n",
       "      <td>Тюмень</td>\n",
       "      <td>ultra</td>\n",
       "    </tr>\n",
       "  </tbody>\n",
       "</table>\n",
       "</div>"
      ],
      "text/plain": [
       "   user_id     distance   duration       date  month  name  age    city  \\\n",
       "0        1  4409.919140  25.599769 2021-01-01      1  Кира   22  Тюмень   \n",
       "1        1  2617.592153  15.816871 2021-01-18      1  Кира   22  Тюмень   \n",
       "2        1   754.159807   6.232113 2021-04-20      4  Кира   22  Тюмень   \n",
       "3        1  2694.783254  18.511000 2021-08-11      8  Кира   22  Тюмень   \n",
       "4        1  4028.687306  26.265803 2021-08-28      8  Кира   22  Тюмень   \n",
       "\n",
       "  subscription_type  \n",
       "0             ultra  \n",
       "1             ultra  \n",
       "2             ultra  \n",
       "3             ultra  \n",
       "4             ultra  "
      ]
     },
     "execution_count": 19,
     "metadata": {},
     "output_type": "execute_result"
    }
   ],
   "source": [
    "rides_users = rides.merge(users, on='user_id', how='left')\n",
    "rides_users.head()"
   ]
  },
  {
   "cell_type": "markdown",
   "id": "d20af931",
   "metadata": {},
   "source": [
    "**Проверим общую информацию и наличие пропусков в таблице:**"
   ]
  },
  {
   "cell_type": "code",
   "execution_count": 20,
   "id": "8f5dcc54",
   "metadata": {},
   "outputs": [
    {
     "name": "stdout",
     "output_type": "stream",
     "text": [
      "<class 'pandas.core.frame.DataFrame'>\n",
      "Int64Index: 17973 entries, 0 to 17972\n",
      "Data columns (total 9 columns):\n",
      " #   Column             Non-Null Count  Dtype         \n",
      "---  ------             --------------  -----         \n",
      " 0   user_id            17973 non-null  int64         \n",
      " 1   distance           17973 non-null  float64       \n",
      " 2   duration           17973 non-null  float64       \n",
      " 3   date               17973 non-null  datetime64[ns]\n",
      " 4   month              17973 non-null  int64         \n",
      " 5   name               17973 non-null  object        \n",
      " 6   age                17973 non-null  int64         \n",
      " 7   city               17973 non-null  object        \n",
      " 8   subscription_type  17973 non-null  object        \n",
      "dtypes: datetime64[ns](1), float64(2), int64(3), object(3)\n",
      "memory usage: 1.4+ MB\n"
     ]
    },
    {
     "data": {
      "text/plain": [
       "(None,\n",
       " user_id              0\n",
       " distance             0\n",
       " duration             0\n",
       " date                 0\n",
       " month                0\n",
       " name                 0\n",
       " age                  0\n",
       " city                 0\n",
       " subscription_type    0\n",
       " dtype: int64)"
      ]
     },
     "execution_count": 20,
     "metadata": {},
     "output_type": "execute_result"
    }
   ],
   "source": [
    "rides_users.info(), rides_users.isna().sum()"
   ]
  },
  {
   "cell_type": "markdown",
   "id": "eaa21e0a",
   "metadata": {},
   "source": [
    "**Видим, что пропусков в таблице нет.**"
   ]
  },
  {
   "cell_type": "markdown",
   "id": "4fae5f5e",
   "metadata": {},
   "source": [
    "**Создадим ещё два датафрейма из датафрейма, созданного на предыдущем этапе. Первый c данными о пользователях без подписки:**"
   ]
  },
  {
   "cell_type": "code",
   "execution_count": 21,
   "id": "261b7d5c",
   "metadata": {},
   "outputs": [
    {
     "data": {
      "text/html": [
       "<div>\n",
       "<style scoped>\n",
       "    .dataframe tbody tr th:only-of-type {\n",
       "        vertical-align: middle;\n",
       "    }\n",
       "\n",
       "    .dataframe tbody tr th {\n",
       "        vertical-align: top;\n",
       "    }\n",
       "\n",
       "    .dataframe thead th {\n",
       "        text-align: right;\n",
       "    }\n",
       "</style>\n",
       "<table border=\"1\" class=\"dataframe\">\n",
       "  <thead>\n",
       "    <tr style=\"text-align: right;\">\n",
       "      <th></th>\n",
       "      <th>user_id</th>\n",
       "      <th>distance</th>\n",
       "      <th>duration</th>\n",
       "      <th>date</th>\n",
       "      <th>month</th>\n",
       "      <th>name</th>\n",
       "      <th>age</th>\n",
       "      <th>city</th>\n",
       "      <th>subscription_type</th>\n",
       "    </tr>\n",
       "  </thead>\n",
       "  <tbody>\n",
       "    <tr>\n",
       "      <th>6500</th>\n",
       "      <td>700</td>\n",
       "      <td>2515.690719</td>\n",
       "      <td>14.944286</td>\n",
       "      <td>2021-01-02</td>\n",
       "      <td>1</td>\n",
       "      <td>Айдар</td>\n",
       "      <td>22</td>\n",
       "      <td>Омск</td>\n",
       "      <td>free</td>\n",
       "    </tr>\n",
       "    <tr>\n",
       "      <th>6501</th>\n",
       "      <td>700</td>\n",
       "      <td>846.932642</td>\n",
       "      <td>16.234663</td>\n",
       "      <td>2021-02-01</td>\n",
       "      <td>2</td>\n",
       "      <td>Айдар</td>\n",
       "      <td>22</td>\n",
       "      <td>Омск</td>\n",
       "      <td>free</td>\n",
       "    </tr>\n",
       "    <tr>\n",
       "      <th>6502</th>\n",
       "      <td>700</td>\n",
       "      <td>4004.434142</td>\n",
       "      <td>20.016628</td>\n",
       "      <td>2021-02-04</td>\n",
       "      <td>2</td>\n",
       "      <td>Айдар</td>\n",
       "      <td>22</td>\n",
       "      <td>Омск</td>\n",
       "      <td>free</td>\n",
       "    </tr>\n",
       "    <tr>\n",
       "      <th>6503</th>\n",
       "      <td>700</td>\n",
       "      <td>1205.911290</td>\n",
       "      <td>9.782872</td>\n",
       "      <td>2021-02-10</td>\n",
       "      <td>2</td>\n",
       "      <td>Айдар</td>\n",
       "      <td>22</td>\n",
       "      <td>Омск</td>\n",
       "      <td>free</td>\n",
       "    </tr>\n",
       "    <tr>\n",
       "      <th>6504</th>\n",
       "      <td>700</td>\n",
       "      <td>3047.379435</td>\n",
       "      <td>17.427673</td>\n",
       "      <td>2021-02-14</td>\n",
       "      <td>2</td>\n",
       "      <td>Айдар</td>\n",
       "      <td>22</td>\n",
       "      <td>Омск</td>\n",
       "      <td>free</td>\n",
       "    </tr>\n",
       "  </tbody>\n",
       "</table>\n",
       "</div>"
      ],
      "text/plain": [
       "      user_id     distance   duration       date  month   name  age  city  \\\n",
       "6500      700  2515.690719  14.944286 2021-01-02      1  Айдар   22  Омск   \n",
       "6501      700   846.932642  16.234663 2021-02-01      2  Айдар   22  Омск   \n",
       "6502      700  4004.434142  20.016628 2021-02-04      2  Айдар   22  Омск   \n",
       "6503      700  1205.911290   9.782872 2021-02-10      2  Айдар   22  Омск   \n",
       "6504      700  3047.379435  17.427673 2021-02-14      2  Айдар   22  Омск   \n",
       "\n",
       "     subscription_type  \n",
       "6500              free  \n",
       "6501              free  \n",
       "6502              free  \n",
       "6503              free  \n",
       "6504              free  "
      ]
     },
     "execution_count": 21,
     "metadata": {},
     "output_type": "execute_result"
    }
   ],
   "source": [
    "rides_users_free = rides_users[rides_users['subscription_type'] == 'free']\n",
    "rides_users_free.head()"
   ]
  },
  {
   "cell_type": "markdown",
   "id": "a3ba7990",
   "metadata": {},
   "source": [
    "**Второй с данными о пользователях с подпиской:**"
   ]
  },
  {
   "cell_type": "code",
   "execution_count": 22,
   "id": "3b667067",
   "metadata": {},
   "outputs": [
    {
     "data": {
      "text/html": [
       "<div>\n",
       "<style scoped>\n",
       "    .dataframe tbody tr th:only-of-type {\n",
       "        vertical-align: middle;\n",
       "    }\n",
       "\n",
       "    .dataframe tbody tr th {\n",
       "        vertical-align: top;\n",
       "    }\n",
       "\n",
       "    .dataframe thead th {\n",
       "        text-align: right;\n",
       "    }\n",
       "</style>\n",
       "<table border=\"1\" class=\"dataframe\">\n",
       "  <thead>\n",
       "    <tr style=\"text-align: right;\">\n",
       "      <th></th>\n",
       "      <th>user_id</th>\n",
       "      <th>distance</th>\n",
       "      <th>duration</th>\n",
       "      <th>date</th>\n",
       "      <th>month</th>\n",
       "      <th>name</th>\n",
       "      <th>age</th>\n",
       "      <th>city</th>\n",
       "      <th>subscription_type</th>\n",
       "    </tr>\n",
       "  </thead>\n",
       "  <tbody>\n",
       "    <tr>\n",
       "      <th>0</th>\n",
       "      <td>1</td>\n",
       "      <td>4409.919140</td>\n",
       "      <td>25.599769</td>\n",
       "      <td>2021-01-01</td>\n",
       "      <td>1</td>\n",
       "      <td>Кира</td>\n",
       "      <td>22</td>\n",
       "      <td>Тюмень</td>\n",
       "      <td>ultra</td>\n",
       "    </tr>\n",
       "    <tr>\n",
       "      <th>1</th>\n",
       "      <td>1</td>\n",
       "      <td>2617.592153</td>\n",
       "      <td>15.816871</td>\n",
       "      <td>2021-01-18</td>\n",
       "      <td>1</td>\n",
       "      <td>Кира</td>\n",
       "      <td>22</td>\n",
       "      <td>Тюмень</td>\n",
       "      <td>ultra</td>\n",
       "    </tr>\n",
       "    <tr>\n",
       "      <th>2</th>\n",
       "      <td>1</td>\n",
       "      <td>754.159807</td>\n",
       "      <td>6.232113</td>\n",
       "      <td>2021-04-20</td>\n",
       "      <td>4</td>\n",
       "      <td>Кира</td>\n",
       "      <td>22</td>\n",
       "      <td>Тюмень</td>\n",
       "      <td>ultra</td>\n",
       "    </tr>\n",
       "    <tr>\n",
       "      <th>3</th>\n",
       "      <td>1</td>\n",
       "      <td>2694.783254</td>\n",
       "      <td>18.511000</td>\n",
       "      <td>2021-08-11</td>\n",
       "      <td>8</td>\n",
       "      <td>Кира</td>\n",
       "      <td>22</td>\n",
       "      <td>Тюмень</td>\n",
       "      <td>ultra</td>\n",
       "    </tr>\n",
       "    <tr>\n",
       "      <th>4</th>\n",
       "      <td>1</td>\n",
       "      <td>4028.687306</td>\n",
       "      <td>26.265803</td>\n",
       "      <td>2021-08-28</td>\n",
       "      <td>8</td>\n",
       "      <td>Кира</td>\n",
       "      <td>22</td>\n",
       "      <td>Тюмень</td>\n",
       "      <td>ultra</td>\n",
       "    </tr>\n",
       "  </tbody>\n",
       "</table>\n",
       "</div>"
      ],
      "text/plain": [
       "   user_id     distance   duration       date  month  name  age    city  \\\n",
       "0        1  4409.919140  25.599769 2021-01-01      1  Кира   22  Тюмень   \n",
       "1        1  2617.592153  15.816871 2021-01-18      1  Кира   22  Тюмень   \n",
       "2        1   754.159807   6.232113 2021-04-20      4  Кира   22  Тюмень   \n",
       "3        1  2694.783254  18.511000 2021-08-11      8  Кира   22  Тюмень   \n",
       "4        1  4028.687306  26.265803 2021-08-28      8  Кира   22  Тюмень   \n",
       "\n",
       "  subscription_type  \n",
       "0             ultra  \n",
       "1             ultra  \n",
       "2             ultra  \n",
       "3             ultra  \n",
       "4             ultra  "
      ]
     },
     "execution_count": 22,
     "metadata": {},
     "output_type": "execute_result"
    }
   ],
   "source": [
    "rides_users_ultra = rides_users[rides_users['subscription_type'] == 'ultra']\n",
    "rides_users_ultra.head()"
   ]
  },
  {
   "cell_type": "markdown",
   "id": "319a6f12",
   "metadata": {},
   "source": [
    "<div class=\"alert alert-danger\">\n",
    "<b>Комментарий ревьюера:</b>☁️\n",
    "\n",
    "Прошу ещё добавить проверку, что после соединения таблиц не возникли пропуски, что размер объъединенной таблице соответствует ожиданиям\n",
    "\n",
    "</div>"
   ]
  },
  {
   "cell_type": "markdown",
   "id": "ebbacd51",
   "metadata": {},
   "source": [
    "<span style=\"color:blue\"> Спасибо за пометку! Добавил.</span>"
   ]
  },
  {
   "cell_type": "markdown",
   "id": "b6436a24",
   "metadata": {},
   "source": [
    "**Визуализируем информацию о расстоянии и времени поездок для пользователей обеих категорий. Для категории без подписки:**"
   ]
  },
  {
   "cell_type": "code",
   "execution_count": 23,
   "id": "9694c567",
   "metadata": {},
   "outputs": [
    {
     "data": {
      "image/png": "[encoded data removed]",
      "text/plain": [
       "<Figure size 864x360 with 1 Axes>"
      ]
     },
     "metadata": {
      "needs_background": "light"
     },
     "output_type": "display_data"
    }
   ],
   "source": [
    "rides_users_free['distance'].hist(bins=150, figsize=(12, 5));\n",
    "plt.title('Расстояние, которое пользователь преодолел за одну поездку', fontsize=14)\n",
    "plt.xlabel('Расстояние, метры')\n",
    "plt.ylabel('Количество поездок');"
   ]
  },
  {
   "cell_type": "markdown",
   "id": "2b88eaf6",
   "metadata": {},
   "source": [
    "**Среднее расстояние по графику довольно растянуто, составляет около 3000 метров.**"
   ]
  },
  {
   "cell_type": "code",
   "execution_count": 24,
   "id": "47af6820",
   "metadata": {},
   "outputs": [
    {
     "data": {
      "image/png": "[encoded data removed]",
      "text/plain": [
       "<Figure size 864x360 with 1 Axes>"
      ]
     },
     "metadata": {
      "needs_background": "light"
     },
     "output_type": "display_data"
    }
   ],
   "source": [
    "rides_users_free['duration'].hist(bins=150, figsize=(12, 5));\n",
    "plt.title('Продолжительность поездки', fontsize=14)\n",
    "plt.xlabel('Время, мин.')\n",
    "plt.ylabel('Количество поездок');"
   ]
  },
  {
   "cell_type": "markdown",
   "id": "0a24b660",
   "metadata": {},
   "source": [
    "**Видно, что средняя продолжительность составила примерно 18 минут.**"
   ]
  },
  {
   "cell_type": "markdown",
   "id": "618d0e28",
   "metadata": {},
   "source": [
    "**Для категории с подпиской:**"
   ]
  },
  {
   "cell_type": "code",
   "execution_count": 25,
   "id": "cd722b86",
   "metadata": {},
   "outputs": [
    {
     "data": {
      "image/png": "[encoded data removed]",
      "text/plain": [
       "<Figure size 864x360 with 1 Axes>"
      ]
     },
     "metadata": {
      "needs_background": "light"
     },
     "output_type": "display_data"
    }
   ],
   "source": [
    "rides_users_ultra['distance'].hist(bins=150, figsize=(12, 5));\n",
    "plt.title('Расстояние, которое пользователь преодолел за одну поездку', fontsize=14)\n",
    "plt.xlabel('Расстояние, метры')\n",
    "plt.ylabel('Количество поездок');"
   ]
  },
  {
   "cell_type": "markdown",
   "id": "220c1f3c",
   "metadata": {},
   "source": [
    "**В отличии от категории без подписки, тут уже более явно вырежаено среднее расстояние чуть более 3000 метров.**"
   ]
  },
  {
   "cell_type": "code",
   "execution_count": 26,
   "id": "755dc236",
   "metadata": {},
   "outputs": [
    {
     "data": {
      "image/png": "[encoded data removed]",
      "text/plain": [
       "<Figure size 864x360 with 1 Axes>"
      ]
     },
     "metadata": {
      "needs_background": "light"
     },
     "output_type": "display_data"
    }
   ],
   "source": [
    "rides_users_ultra['duration'].hist(bins=150, figsize=(12, 5));\n",
    "plt.title('Продолжительность поездки', fontsize=14)\n",
    "plt.xlabel('Время, мин.')\n",
    "plt.ylabel('Количество поездок');"
   ]
  },
  {
   "cell_type": "markdown",
   "id": "cb313135",
   "metadata": {},
   "source": [
    "<div class=\"alert alert-success\">\n",
    "<b>Комментарий ревьюера:</b>☀️\n",
    "    \n",
    "* Проще сравнивать распределения на одном графике, поэтому рекомендовал бы продолжительность двух категорий расположить на одном графике, аналогично с расстоянием\n",
    "* На графиках отлично смотрится среднее или медиана, как дополнительное опорной значение, вот [тут](https://stackoverflow.com/questions/16930328/vertical-horizontal-lines-in-matplotlib) можно посмотреть, как добавить такую визуализацию"
   ]
  },
  {
   "cell_type": "markdown",
   "id": "839f17c3",
   "metadata": {},
   "source": [
    "**Среднее же время поездки с подпиской варьируется между 15 и 20 минутами.**"
   ]
  },
  {
   "cell_type": "markdown",
   "id": "402d620f",
   "metadata": {},
   "source": [
    "#### Шаг 5. Подсчёт выручки"
   ]
  },
  {
   "cell_type": "markdown",
   "id": "019fcc5c",
   "metadata": {},
   "source": [
    "**Создадим датафрейм с агрегированными данными о поездках на основе датафрейма с объединёнными данными из шага 4: найдем суммарное расстояние, количество поездок и суммарное время для каждого пользователя за каждый месяц.**"
   ]
  },
  {
   "cell_type": "code",
   "execution_count": 27,
   "id": "53049e0a",
   "metadata": {},
   "outputs": [
    {
     "data": {
      "text/html": [
       "<div>\n",
       "<style scoped>\n",
       "    .dataframe tbody tr th:only-of-type {\n",
       "        vertical-align: middle;\n",
       "    }\n",
       "\n",
       "    .dataframe tbody tr th {\n",
       "        vertical-align: top;\n",
       "    }\n",
       "\n",
       "    .dataframe thead th {\n",
       "        text-align: right;\n",
       "    }\n",
       "</style>\n",
       "<table border=\"1\" class=\"dataframe\">\n",
       "  <thead>\n",
       "    <tr style=\"text-align: right;\">\n",
       "      <th></th>\n",
       "      <th>user_id</th>\n",
       "      <th>month</th>\n",
       "      <th>subscription_type</th>\n",
       "      <th>distance</th>\n",
       "      <th>duration</th>\n",
       "      <th>trip_count</th>\n",
       "    </tr>\n",
       "  </thead>\n",
       "  <tbody>\n",
       "    <tr>\n",
       "      <th>0</th>\n",
       "      <td>1</td>\n",
       "      <td>1</td>\n",
       "      <td>ultra</td>\n",
       "      <td>7027.511294</td>\n",
       "      <td>41.416640</td>\n",
       "      <td>2</td>\n",
       "    </tr>\n",
       "    <tr>\n",
       "      <th>1</th>\n",
       "      <td>1</td>\n",
       "      <td>4</td>\n",
       "      <td>ultra</td>\n",
       "      <td>754.159807</td>\n",
       "      <td>6.232113</td>\n",
       "      <td>1</td>\n",
       "    </tr>\n",
       "    <tr>\n",
       "      <th>2</th>\n",
       "      <td>1</td>\n",
       "      <td>8</td>\n",
       "      <td>ultra</td>\n",
       "      <td>6723.470560</td>\n",
       "      <td>44.776802</td>\n",
       "      <td>2</td>\n",
       "    </tr>\n",
       "    <tr>\n",
       "      <th>3</th>\n",
       "      <td>1</td>\n",
       "      <td>10</td>\n",
       "      <td>ultra</td>\n",
       "      <td>5809.911100</td>\n",
       "      <td>31.578017</td>\n",
       "      <td>2</td>\n",
       "    </tr>\n",
       "    <tr>\n",
       "      <th>4</th>\n",
       "      <td>1</td>\n",
       "      <td>11</td>\n",
       "      <td>ultra</td>\n",
       "      <td>7003.499363</td>\n",
       "      <td>53.397424</td>\n",
       "      <td>3</td>\n",
       "    </tr>\n",
       "  </tbody>\n",
       "</table>\n",
       "</div>"
      ],
      "text/plain": [
       "   user_id  month subscription_type     distance   duration  trip_count\n",
       "0        1      1             ultra  7027.511294  41.416640           2\n",
       "1        1      4             ultra   754.159807   6.232113           1\n",
       "2        1      8             ultra  6723.470560  44.776802           2\n",
       "3        1     10             ultra  5809.911100  31.578017           2\n",
       "4        1     11             ultra  7003.499363  53.397424           3"
      ]
     },
     "execution_count": 27,
     "metadata": {},
     "output_type": "execute_result"
    }
   ],
   "source": [
    "aggregated_df = rides_users.groupby(['user_id', 'month','subscription_type']).agg({'distance': 'sum','duration': 'sum','date': 'count'}).reset_index()\n",
    "aggregated_df.rename(columns={'date': 'trip_count'}, inplace=True)\n",
    "aggregated_df.head()"
   ]
  },
  {
   "cell_type": "markdown",
   "id": "d12d230f",
   "metadata": {},
   "source": [
    "**В этот же датафрейм добавим столбец с помесячной выручкой, которую принёс каждый пользователь. Для этого обратимся к информации об условиях оплаты для подписчиков и тех, у кого нет подписки. Продолжительность каждой поездки в каждой строке исходного датафрейма для подсчёта стоимости округляется до следующего целого числа. Чтобы соблюдалось данное условие, переделаем датафрейм представленный выше, и внесем некоторые коррекции в изначальный:**"
   ]
  },
  {
   "cell_type": "code",
   "execution_count": 28,
   "id": "43207ee6",
   "metadata": {},
   "outputs": [
    {
     "data": {
      "text/html": [
       "<div>\n",
       "<style scoped>\n",
       "    .dataframe tbody tr th:only-of-type {\n",
       "        vertical-align: middle;\n",
       "    }\n",
       "\n",
       "    .dataframe tbody tr th {\n",
       "        vertical-align: top;\n",
       "    }\n",
       "\n",
       "    .dataframe thead th {\n",
       "        text-align: right;\n",
       "    }\n",
       "</style>\n",
       "<table border=\"1\" class=\"dataframe\">\n",
       "  <thead>\n",
       "    <tr style=\"text-align: right;\">\n",
       "      <th></th>\n",
       "      <th>user_id</th>\n",
       "      <th>distance</th>\n",
       "      <th>duration</th>\n",
       "      <th>date</th>\n",
       "      <th>month</th>\n",
       "      <th>name</th>\n",
       "      <th>age</th>\n",
       "      <th>city</th>\n",
       "      <th>subscription_type</th>\n",
       "    </tr>\n",
       "  </thead>\n",
       "  <tbody>\n",
       "    <tr>\n",
       "      <th>0</th>\n",
       "      <td>1</td>\n",
       "      <td>4409.919140</td>\n",
       "      <td>26.0</td>\n",
       "      <td>2021-01-01</td>\n",
       "      <td>1</td>\n",
       "      <td>Кира</td>\n",
       "      <td>22</td>\n",
       "      <td>Тюмень</td>\n",
       "      <td>ultra</td>\n",
       "    </tr>\n",
       "    <tr>\n",
       "      <th>1</th>\n",
       "      <td>1</td>\n",
       "      <td>2617.592153</td>\n",
       "      <td>16.0</td>\n",
       "      <td>2021-01-18</td>\n",
       "      <td>1</td>\n",
       "      <td>Кира</td>\n",
       "      <td>22</td>\n",
       "      <td>Тюмень</td>\n",
       "      <td>ultra</td>\n",
       "    </tr>\n",
       "    <tr>\n",
       "      <th>2</th>\n",
       "      <td>1</td>\n",
       "      <td>754.159807</td>\n",
       "      <td>7.0</td>\n",
       "      <td>2021-04-20</td>\n",
       "      <td>4</td>\n",
       "      <td>Кира</td>\n",
       "      <td>22</td>\n",
       "      <td>Тюмень</td>\n",
       "      <td>ultra</td>\n",
       "    </tr>\n",
       "    <tr>\n",
       "      <th>3</th>\n",
       "      <td>1</td>\n",
       "      <td>2694.783254</td>\n",
       "      <td>19.0</td>\n",
       "      <td>2021-08-11</td>\n",
       "      <td>8</td>\n",
       "      <td>Кира</td>\n",
       "      <td>22</td>\n",
       "      <td>Тюмень</td>\n",
       "      <td>ultra</td>\n",
       "    </tr>\n",
       "    <tr>\n",
       "      <th>4</th>\n",
       "      <td>1</td>\n",
       "      <td>4028.687306</td>\n",
       "      <td>27.0</td>\n",
       "      <td>2021-08-28</td>\n",
       "      <td>8</td>\n",
       "      <td>Кира</td>\n",
       "      <td>22</td>\n",
       "      <td>Тюмень</td>\n",
       "      <td>ultra</td>\n",
       "    </tr>\n",
       "  </tbody>\n",
       "</table>\n",
       "</div>"
      ],
      "text/plain": [
       "   user_id     distance  duration       date  month  name  age    city  \\\n",
       "0        1  4409.919140      26.0 2021-01-01      1  Кира   22  Тюмень   \n",
       "1        1  2617.592153      16.0 2021-01-18      1  Кира   22  Тюмень   \n",
       "2        1   754.159807       7.0 2021-04-20      4  Кира   22  Тюмень   \n",
       "3        1  2694.783254      19.0 2021-08-11      8  Кира   22  Тюмень   \n",
       "4        1  4028.687306      27.0 2021-08-28      8  Кира   22  Тюмень   \n",
       "\n",
       "  subscription_type  \n",
       "0             ultra  \n",
       "1             ultra  \n",
       "2             ultra  \n",
       "3             ultra  \n",
       "4             ultra  "
      ]
     },
     "execution_count": 28,
     "metadata": {},
     "output_type": "execute_result"
    }
   ],
   "source": [
    "rides_users['duration'] = np.ceil(rides_users['duration'])\n",
    "rides_users.head()"
   ]
  },
  {
   "cell_type": "markdown",
   "id": "a2bbedff",
   "metadata": {},
   "source": [
    "**Напишем функцию для подсчета стоимости поездки исходя из наличия подписки и применим ее к изначальному датафрейму:**"
   ]
  },
  {
   "cell_type": "code",
   "execution_count": 29,
   "id": "6d7862db",
   "metadata": {},
   "outputs": [],
   "source": [
    "def calculate_revenue(row):\n",
    "    if row['subscription_type'] == 'ultra':\n",
    "        return row['duration'] * 6\n",
    "    else:\n",
    "        return row['duration'] * 8 + 50\n",
    "rides_users['revenue'] = rides_users.apply(calculate_revenue, axis=1)"
   ]
  },
  {
   "cell_type": "markdown",
   "id": "a44b4a93",
   "metadata": {},
   "source": [
    "<div class=\"alert alert-danger\">\n",
    "<b>Комментарий ревьюера:</b>☁️\n",
    "\n",
    "* в датафрейме все буквы маленькие, а не `Ultra` \n",
    "* дополнительно нет прибавления стоимости месячной подписки, её нужно учесть при агрегации по месяцам</div>"
   ]
  },
  {
   "cell_type": "markdown",
   "id": "ca694a74",
   "metadata": {},
   "source": [
    "<span style=\"color:blue\"> Спасибо за пометку! Добавил.</span>"
   ]
  },
  {
   "cell_type": "markdown",
   "id": "f0c086de",
   "metadata": {},
   "source": [
    "**Теперь заново создадим агрегированный датафрейм:**"
   ]
  },
  {
   "cell_type": "code",
   "execution_count": 30,
   "id": "f5502789",
   "metadata": {},
   "outputs": [
    {
     "data": {
      "text/html": [
       "<div>\n",
       "<style scoped>\n",
       "    .dataframe tbody tr th:only-of-type {\n",
       "        vertical-align: middle;\n",
       "    }\n",
       "\n",
       "    .dataframe tbody tr th {\n",
       "        vertical-align: top;\n",
       "    }\n",
       "\n",
       "    .dataframe thead th {\n",
       "        text-align: right;\n",
       "    }\n",
       "</style>\n",
       "<table border=\"1\" class=\"dataframe\">\n",
       "  <thead>\n",
       "    <tr style=\"text-align: right;\">\n",
       "      <th></th>\n",
       "      <th>user_id</th>\n",
       "      <th>month</th>\n",
       "      <th>subscription_type</th>\n",
       "      <th>distance</th>\n",
       "      <th>duration</th>\n",
       "      <th>trip_count</th>\n",
       "      <th>revenue</th>\n",
       "    </tr>\n",
       "  </thead>\n",
       "  <tbody>\n",
       "    <tr>\n",
       "      <th>0</th>\n",
       "      <td>1</td>\n",
       "      <td>1</td>\n",
       "      <td>ultra</td>\n",
       "      <td>7027.511294</td>\n",
       "      <td>42.0</td>\n",
       "      <td>2</td>\n",
       "      <td>252.0</td>\n",
       "    </tr>\n",
       "    <tr>\n",
       "      <th>1</th>\n",
       "      <td>1</td>\n",
       "      <td>4</td>\n",
       "      <td>ultra</td>\n",
       "      <td>754.159807</td>\n",
       "      <td>7.0</td>\n",
       "      <td>1</td>\n",
       "      <td>42.0</td>\n",
       "    </tr>\n",
       "    <tr>\n",
       "      <th>2</th>\n",
       "      <td>1</td>\n",
       "      <td>8</td>\n",
       "      <td>ultra</td>\n",
       "      <td>6723.470560</td>\n",
       "      <td>46.0</td>\n",
       "      <td>2</td>\n",
       "      <td>276.0</td>\n",
       "    </tr>\n",
       "    <tr>\n",
       "      <th>3</th>\n",
       "      <td>1</td>\n",
       "      <td>10</td>\n",
       "      <td>ultra</td>\n",
       "      <td>5809.911100</td>\n",
       "      <td>32.0</td>\n",
       "      <td>2</td>\n",
       "      <td>192.0</td>\n",
       "    </tr>\n",
       "    <tr>\n",
       "      <th>4</th>\n",
       "      <td>1</td>\n",
       "      <td>11</td>\n",
       "      <td>ultra</td>\n",
       "      <td>7003.499363</td>\n",
       "      <td>56.0</td>\n",
       "      <td>3</td>\n",
       "      <td>336.0</td>\n",
       "    </tr>\n",
       "  </tbody>\n",
       "</table>\n",
       "</div>"
      ],
      "text/plain": [
       "   user_id  month subscription_type     distance  duration  trip_count  \\\n",
       "0        1      1             ultra  7027.511294      42.0           2   \n",
       "1        1      4             ultra   754.159807       7.0           1   \n",
       "2        1      8             ultra  6723.470560      46.0           2   \n",
       "3        1     10             ultra  5809.911100      32.0           2   \n",
       "4        1     11             ultra  7003.499363      56.0           3   \n",
       "\n",
       "   revenue  \n",
       "0    252.0  \n",
       "1     42.0  \n",
       "2    276.0  \n",
       "3    192.0  \n",
       "4    336.0  "
      ]
     },
     "execution_count": 30,
     "metadata": {},
     "output_type": "execute_result"
    }
   ],
   "source": [
    "aggregated_df = rides_users.groupby(['user_id', 'month', 'subscription_type']).agg({'distance': 'sum', 'duration': 'sum', 'date': 'count', 'revenue': 'sum'}).reset_index()\n",
    "aggregated_df.rename(columns={'date': 'trip_count'}, inplace=True)\n",
    "aggregated_df.head()"
   ]
  },
  {
   "cell_type": "markdown",
   "id": "6754f2b1",
   "metadata": {},
   "source": [
    "**Дополнительно придавим стоимость месячной пописки:**"
   ]
  },
  {
   "cell_type": "code",
   "execution_count": 31,
   "id": "6b498278",
   "metadata": {},
   "outputs": [
    {
     "data": {
      "text/html": [
       "<div>\n",
       "<style scoped>\n",
       "    .dataframe tbody tr th:only-of-type {\n",
       "        vertical-align: middle;\n",
       "    }\n",
       "\n",
       "    .dataframe tbody tr th {\n",
       "        vertical-align: top;\n",
       "    }\n",
       "\n",
       "    .dataframe thead th {\n",
       "        text-align: right;\n",
       "    }\n",
       "</style>\n",
       "<table border=\"1\" class=\"dataframe\">\n",
       "  <thead>\n",
       "    <tr style=\"text-align: right;\">\n",
       "      <th></th>\n",
       "      <th>user_id</th>\n",
       "      <th>month</th>\n",
       "      <th>subscription_type</th>\n",
       "      <th>distance</th>\n",
       "      <th>duration</th>\n",
       "      <th>trip_count</th>\n",
       "      <th>revenue</th>\n",
       "    </tr>\n",
       "  </thead>\n",
       "  <tbody>\n",
       "    <tr>\n",
       "      <th>0</th>\n",
       "      <td>1</td>\n",
       "      <td>1</td>\n",
       "      <td>ultra</td>\n",
       "      <td>7027.511294</td>\n",
       "      <td>42.0</td>\n",
       "      <td>2</td>\n",
       "      <td>451.0</td>\n",
       "    </tr>\n",
       "    <tr>\n",
       "      <th>1</th>\n",
       "      <td>1</td>\n",
       "      <td>4</td>\n",
       "      <td>ultra</td>\n",
       "      <td>754.159807</td>\n",
       "      <td>7.0</td>\n",
       "      <td>1</td>\n",
       "      <td>241.0</td>\n",
       "    </tr>\n",
       "    <tr>\n",
       "      <th>2</th>\n",
       "      <td>1</td>\n",
       "      <td>8</td>\n",
       "      <td>ultra</td>\n",
       "      <td>6723.470560</td>\n",
       "      <td>46.0</td>\n",
       "      <td>2</td>\n",
       "      <td>475.0</td>\n",
       "    </tr>\n",
       "    <tr>\n",
       "      <th>3</th>\n",
       "      <td>1</td>\n",
       "      <td>10</td>\n",
       "      <td>ultra</td>\n",
       "      <td>5809.911100</td>\n",
       "      <td>32.0</td>\n",
       "      <td>2</td>\n",
       "      <td>391.0</td>\n",
       "    </tr>\n",
       "    <tr>\n",
       "      <th>4</th>\n",
       "      <td>1</td>\n",
       "      <td>11</td>\n",
       "      <td>ultra</td>\n",
       "      <td>7003.499363</td>\n",
       "      <td>56.0</td>\n",
       "      <td>3</td>\n",
       "      <td>535.0</td>\n",
       "    </tr>\n",
       "  </tbody>\n",
       "</table>\n",
       "</div>"
      ],
      "text/plain": [
       "   user_id  month subscription_type     distance  duration  trip_count  \\\n",
       "0        1      1             ultra  7027.511294      42.0           2   \n",
       "1        1      4             ultra   754.159807       7.0           1   \n",
       "2        1      8             ultra  6723.470560      46.0           2   \n",
       "3        1     10             ultra  5809.911100      32.0           2   \n",
       "4        1     11             ultra  7003.499363      56.0           3   \n",
       "\n",
       "   revenue  \n",
       "0    451.0  \n",
       "1    241.0  \n",
       "2    475.0  \n",
       "3    391.0  \n",
       "4    535.0  "
      ]
     },
     "execution_count": 31,
     "metadata": {},
     "output_type": "execute_result"
    }
   ],
   "source": [
    "aggregated_df['revenue'] += aggregated_df.apply(lambda row: 199 if row['subscription_type'] == 'ultra' else 0, axis=1)\n",
    "aggregated_df.head()"
   ]
  },
  {
   "cell_type": "markdown",
   "id": "502fed26",
   "metadata": {},
   "source": [
    "<div class=\"alert alert-success\">\n",
    "<b>Комментарий ревьюера v2:</b>☀️\n",
    "   \n",
    "Теперь доходы соответствуют ожиданиям, можно ещё было считать доход уже в агрегированной таблице `aggregated_df`, чтобы в один подход рассчитать доход \n",
    "\n",
    "</div>"
   ]
  },
  {
   "cell_type": "markdown",
   "id": "41545ac0",
   "metadata": {},
   "source": [
    "#### Шаг 6. Проверка гипотез"
   ]
  },
  {
   "cell_type": "markdown",
   "id": "d484a896",
   "metadata": {},
   "source": [
    "**6.1 Важно понять, тратят ли пользователи с подпиской больше времени на поездки? Если да, то пользователи с подпиской могут быть «выгоднее» для компании. Проверьте гипотезу. Используем исходные данные о продолжительности каждой сессии — отдельно для подписчиков и тех, у кого нет подписки.**"
   ]
  },
  {
   "cell_type": "markdown",
   "id": "5e1f33d7",
   "metadata": {},
   "source": [
    "**Создадим датафрейм со всеми поездками всех пользователей:**"
   ]
  },
  {
   "cell_type": "code",
   "execution_count": 32,
   "id": "1fe3c2ad",
   "metadata": {},
   "outputs": [
    {
     "data": {
      "text/html": [
       "<div>\n",
       "<style scoped>\n",
       "    .dataframe tbody tr th:only-of-type {\n",
       "        vertical-align: middle;\n",
       "    }\n",
       "\n",
       "    .dataframe tbody tr th {\n",
       "        vertical-align: top;\n",
       "    }\n",
       "\n",
       "    .dataframe thead th {\n",
       "        text-align: right;\n",
       "    }\n",
       "</style>\n",
       "<table border=\"1\" class=\"dataframe\">\n",
       "  <thead>\n",
       "    <tr style=\"text-align: right;\">\n",
       "      <th></th>\n",
       "      <th>user_id</th>\n",
       "      <th>distance</th>\n",
       "      <th>duration</th>\n",
       "      <th>date</th>\n",
       "      <th>month</th>\n",
       "      <th>name</th>\n",
       "      <th>age</th>\n",
       "      <th>city</th>\n",
       "      <th>subscription_type</th>\n",
       "    </tr>\n",
       "  </thead>\n",
       "  <tbody>\n",
       "    <tr>\n",
       "      <th>0</th>\n",
       "      <td>1</td>\n",
       "      <td>4409.919140</td>\n",
       "      <td>25.599769</td>\n",
       "      <td>2021-01-01</td>\n",
       "      <td>1</td>\n",
       "      <td>Кира</td>\n",
       "      <td>22</td>\n",
       "      <td>Тюмень</td>\n",
       "      <td>ultra</td>\n",
       "    </tr>\n",
       "    <tr>\n",
       "      <th>1</th>\n",
       "      <td>1</td>\n",
       "      <td>2617.592153</td>\n",
       "      <td>15.816871</td>\n",
       "      <td>2021-01-18</td>\n",
       "      <td>1</td>\n",
       "      <td>Кира</td>\n",
       "      <td>22</td>\n",
       "      <td>Тюмень</td>\n",
       "      <td>ultra</td>\n",
       "    </tr>\n",
       "    <tr>\n",
       "      <th>2</th>\n",
       "      <td>1</td>\n",
       "      <td>754.159807</td>\n",
       "      <td>6.232113</td>\n",
       "      <td>2021-04-20</td>\n",
       "      <td>4</td>\n",
       "      <td>Кира</td>\n",
       "      <td>22</td>\n",
       "      <td>Тюмень</td>\n",
       "      <td>ultra</td>\n",
       "    </tr>\n",
       "    <tr>\n",
       "      <th>3</th>\n",
       "      <td>1</td>\n",
       "      <td>2694.783254</td>\n",
       "      <td>18.511000</td>\n",
       "      <td>2021-08-11</td>\n",
       "      <td>8</td>\n",
       "      <td>Кира</td>\n",
       "      <td>22</td>\n",
       "      <td>Тюмень</td>\n",
       "      <td>ultra</td>\n",
       "    </tr>\n",
       "    <tr>\n",
       "      <th>4</th>\n",
       "      <td>1</td>\n",
       "      <td>4028.687306</td>\n",
       "      <td>26.265803</td>\n",
       "      <td>2021-08-28</td>\n",
       "      <td>8</td>\n",
       "      <td>Кира</td>\n",
       "      <td>22</td>\n",
       "      <td>Тюмень</td>\n",
       "      <td>ultra</td>\n",
       "    </tr>\n",
       "  </tbody>\n",
       "</table>\n",
       "</div>"
      ],
      "text/plain": [
       "   user_id     distance   duration       date  month  name  age    city  \\\n",
       "0        1  4409.919140  25.599769 2021-01-01      1  Кира   22  Тюмень   \n",
       "1        1  2617.592153  15.816871 2021-01-18      1  Кира   22  Тюмень   \n",
       "2        1   754.159807   6.232113 2021-04-20      4  Кира   22  Тюмень   \n",
       "3        1  2694.783254  18.511000 2021-08-11      8  Кира   22  Тюмень   \n",
       "4        1  4028.687306  26.265803 2021-08-28      8  Кира   22  Тюмень   \n",
       "\n",
       "  subscription_type  \n",
       "0             ultra  \n",
       "1             ultra  \n",
       "2             ultra  \n",
       "3             ultra  \n",
       "4             ultra  "
      ]
     },
     "execution_count": 32,
     "metadata": {},
     "output_type": "execute_result"
    }
   ],
   "source": [
    "users_and_rides = rides.merge(users, on='user_id', how='left')\n",
    "users_and_rides.head()"
   ]
  },
  {
   "cell_type": "markdown",
   "id": "f69a1916",
   "metadata": {},
   "source": [
    "**Теперь разделим группы по типу подписки:**"
   ]
  },
  {
   "cell_type": "code",
   "execution_count": 33,
   "id": "4fd4b362",
   "metadata": {},
   "outputs": [],
   "source": [
    "ultra_users = users_and_rides[users_and_rides['subscription_type'] == 'ultra']['duration']\n",
    "free_users = users_and_rides[users_and_rides['subscription_type'] == 'free']['duration']"
   ]
  },
  {
   "cell_type": "markdown",
   "id": "6988b2b3",
   "metadata": {},
   "source": [
    "**Проведем тест для этих выборок:**"
   ]
  },
  {
   "cell_type": "code",
   "execution_count": 34,
   "id": "8fcf16a0",
   "metadata": {},
   "outputs": [
    {
     "name": "stdout",
     "output_type": "stream",
     "text": [
      "p-значение: 9.408936148907799e-28\n",
      "Пользователи с подпиской тратят меньше\n"
     ]
    }
   ],
   "source": [
    "alpha = 0.05\n",
    "results = ttest_ind(ultra_users, free_users)\n",
    "\n",
    "print('p-значение:', results.pvalue)\n",
    "\n",
    "if results.pvalue < alpha:\n",
    "    print('Пользователи с подпиской тратят меньше')\n",
    "else:\n",
    "    print('Пользователи с подпиской тратят больше')"
   ]
  },
  {
   "cell_type": "markdown",
   "id": "87370922",
   "metadata": {},
   "source": [
    "<div class=\"alert alert-danger\">\n",
    "<b>Комментарий ревьюера:</b>☁️\n",
    "\n",
    "На шаге проверки стат гипотез ожидалось использование статистических тестов\n",
    "</div>"
   ]
  },
  {
   "cell_type": "markdown",
   "id": "d6641bdb",
   "metadata": {},
   "source": [
    "<div class=\"alert alert-success\">\n",
    "<b>Комментарий ревьюера v2:</b>☀️\n",
    "   \n",
    "\n",
    "Ещё и для проверки дистанции пользователей `ultra` ожидалась стат гипотеза, но не буду возвращать проект на доработку из-за этого, желаю успехов в дальнейшем обучении) \n",
    "</div>"
   ]
  },
  {
   "cell_type": "markdown",
   "id": "989b4a8a",
   "metadata": {},
   "source": [
    "<span style=\"color:blue\"> Спасибо за пометку! Исправил.</span>"
   ]
  },
  {
   "cell_type": "markdown",
   "id": "440a6eb2",
   "metadata": {},
   "source": [
    "**Как мы видим, пользователи с подпиской тратят меньше времени на поездки. Гипотеза не подтвердилась.**"
   ]
  },
  {
   "cell_type": "markdown",
   "id": "1af9ea75",
   "metadata": {},
   "source": [
    "**6.2 Расстояние одной поездки в 3130 метров — оптимальное с точки зрения износа самоката. Можно ли сказать, что среднее расстояние, которое проезжают пользователи с подпиской за одну поездку, не превышает 3130 метров? Проверим эту гипотезу:**"
   ]
  },
  {
   "cell_type": "code",
   "execution_count": 35,
   "id": "60e0263e",
   "metadata": {},
   "outputs": [
    {
     "name": "stdout",
     "output_type": "stream",
     "text": [
      "Среднее расстояние поездки с подпиской: 3115.4453880370247\n"
     ]
    }
   ],
   "source": [
    "print('Среднее расстояние поездки с подпиской:', users_and_rides.query('subscription_type == \"ultra\"')['distance'].mean())"
   ]
  },
  {
   "cell_type": "markdown",
   "id": "e127cae0",
   "metadata": {},
   "source": [
    "**Среднее расстояние поездки с подпиской составило чуть боле 3115 метров. Значит можно сказать, что оно не превышает оптимальное расстояние с точки зрения износа самоката (3130 метров). Гипотеза верна.**\n",
    "\n",
    "**P.S. Если мы проверим не среднее, а медиану, мы увидим значение еще более близкое к оптимальному расстоянию:**"
   ]
  },
  {
   "cell_type": "code",
   "execution_count": 36,
   "id": "42dd4794",
   "metadata": {},
   "outputs": [
    {
     "name": "stdout",
     "output_type": "stream",
     "text": [
      "Медиана расстояния поездки с подпиской: 3148.6372291760854\n"
     ]
    }
   ],
   "source": [
    "print('Медиана расстояния поездки с подпиской:', users_and_rides.query('subscription_type == \"ultra\"')['distance'].median())"
   ]
  },
  {
   "cell_type": "markdown",
   "id": "4b3633cd",
   "metadata": {},
   "source": [
    "**6.3 Проверим гипотезу о том, будет ли помесячная выручка от пользователей с подпиской по месяцам выше, чем выручка от пользователей без подписки.**"
   ]
  },
  {
   "cell_type": "markdown",
   "id": "2ddcc033",
   "metadata": {},
   "source": [
    "**На основе данных из агрегированного датафрейма разобьем на группы пользователей с подпииской и без:**"
   ]
  },
  {
   "cell_type": "code",
   "execution_count": 37,
   "id": "1a5256c5",
   "metadata": {},
   "outputs": [],
   "source": [
    "users_ultra = aggregated_df[aggregated_df['subscription_type'] == 'ultra']['revenue']\n",
    "users_free = aggregated_df[aggregated_df['subscription_type'] == 'free']['revenue']"
   ]
  },
  {
   "cell_type": "markdown",
   "id": "6e8af333",
   "metadata": {},
   "source": [
    "**Теперь проведем тест для этих выборок:**"
   ]
  },
  {
   "cell_type": "code",
   "execution_count": 38,
   "id": "7ec895c6",
   "metadata": {},
   "outputs": [
    {
     "name": "stdout",
     "output_type": "stream",
     "text": [
      "p-значение: 4.0628227349726575e-30\n",
      "Пользователи с подпиской приносят меньше\n"
     ]
    }
   ],
   "source": [
    "alpha = 0.05\n",
    "results = ttest_ind(users_ultra, users_free)\n",
    "\n",
    "print('p-значение:', results.pvalue)\n",
    "\n",
    "if results.pvalue < alpha:\n",
    "    print('Пользователи с подпиской приносят меньше')\n",
    "else:\n",
    "    print('Пользователи с подпиской приносят больше')"
   ]
  },
  {
   "cell_type": "markdown",
   "id": "e0d80ea3",
   "metadata": {},
   "source": [
    "<div class=\"alert alert-danger\">\n",
    "<b>Комментарий ревьюера:</b>☁️\n",
    "\n",
    "Здесь подскажу, что ожидается проверка по доходам отдельных пользователей по месяцам.\n",
    "    \n",
    "То есть нужно использовать `aggregated_df`\n",
    "</div>"
   ]
  },
  {
   "cell_type": "markdown",
   "id": "bc9a55e9",
   "metadata": {},
   "source": [
    "<span style=\"color:blue\"> Спасибо за пометку! Исправил.</span>"
   ]
  },
  {
   "cell_type": "markdown",
   "id": "8b8bebab",
   "metadata": {},
   "source": [
    "**Как видим, выручка от пользователей с подпиской по месяцам оказалась меньше, гипотеза не подтвердилась.**"
   ]
  },
  {
   "cell_type": "markdown",
   "id": "03178136",
   "metadata": {},
   "source": [
    "**6.4 Представим такую ситуацию: техническая команда сервиса обновила сервера, с которыми взаимодействует мобильное приложение. Она надеется, что из-за этого количество обращений в техподдержку значимо снизилось. Некоторый файл содержит для каждого пользователя данные о количестве обращений до обновления и после него. Какой тест вам понадобился бы для проверки этой гипотезы?**"
   ]
  },
  {
   "cell_type": "markdown",
   "id": "de738b76",
   "metadata": {},
   "source": [
    "**В этом случае, выборки для которых нужно будет делать тест зависимы (парные). Чтобы проверить эту гипотезу, нужно применить метод scipy.stats.ttest_rel().**"
   ]
  },
  {
   "cell_type": "markdown",
   "id": "19a46cc6",
   "metadata": {},
   "source": [
    "<div class=\"alert alert-warning\">\n",
    "<b>Комментарий ревьюера:</b>⛅️ \n",
    "\n",
    "А как звучит альтернативная гипотеза? \n",
    "</div>"
   ]
  },
  {
   "cell_type": "markdown",
   "id": "c09b8a79",
   "metadata": {},
   "source": [
    "**Альтернативная гиптеза звучала бы так: колличество обращений не снизилось.**"
   ]
  },
  {
   "cell_type": "markdown",
   "id": "61213c5e",
   "metadata": {},
   "source": [
    "#### Шаг 7. Распределения"
   ]
  },
  {
   "cell_type": "markdown",
   "id": "e80788b5",
   "metadata": {},
   "source": [
    "**7.1 Отделу маркетинга GoFast поставили задачу: нужно провести акцию с раздачей промокодов на один бесплатный месяц подписки, в рамках которой как минимум 100 существующих клиентов должны продлить эту подписку. То есть по завершении периода действия подписки пользователь может либо отказаться от неё, либо продлить, совершив соответствующий платёж. \n",
    "Эта акция уже проводилась ранее и по итогу выяснилось, что после бесплатного пробного периода подписку продлевают 10 % пользователей. Выясним, какое минимальное количество промокодов нужно разослать, чтобы вероятность не выполнить план была примерно 5 %. Подберем параметры распределения, описывающего эту ситуацию, построим график распределения и сформулируем ответ на вопрос о количестве промокодов.**"
   ]
  },
  {
   "cell_type": "code",
   "execution_count": 39,
   "id": "ea41ef76",
   "metadata": {},
   "outputs": [
    {
     "name": "stdout",
     "output_type": "stream",
     "text": [
      "Минимальное количество промокодов: 1161\n"
     ]
    },
    {
     "name": "stderr",
     "output_type": "stream",
     "text": [
      "/opt/conda/lib/python3.9/site-packages/scipy/stats/_discrete_distns.py:78: RuntimeWarning: divide by zero encountered in _binom_pdf\n",
      "  return _boost._binom_pdf(x, n, p)\n"
     ]
    },
    {
     "data": {
      "image/png": "[encoded data removed]",
      "text/plain": [
       "<Figure size 432x288 with 1 Axes>"
      ]
     },
     "metadata": {
      "needs_background": "light"
     },
     "output_type": "display_data"
    }
   ],
   "source": [
    "p = 0.10\n",
    "target = 100\n",
    "alpha = 0.95\n",
    "\n",
    "\n",
    "def find_min_coupons(p, target, alpha):\n",
    "    n = target\n",
    "    while True:\n",
    "        prob = st.binom.cdf(target - 1, n, p)\n",
    "        if prob <= 1 - alpha:\n",
    "            return n\n",
    "        n += 1\n",
    "\n",
    "min_coupons = find_min_coupons(p, target, alpha)\n",
    "print(f\"Минимальное количество промокодов: {min_coupons}\")\n",
    "\n",
    "x = np.arange(0, min_coupons + 1)\n",
    "y = st.binom.pmf(x, min_coupons, p)\n",
    "\n",
    "plt.bar(x, y)\n",
    "plt.xlabel('Количество продлений')\n",
    "plt.ylabel('Вероятность')\n",
    "plt.title('Биномиальное распределение')\n",
    "plt.show()"
   ]
  },
  {
   "cell_type": "markdown",
   "id": "e6c89083",
   "metadata": {},
   "source": [
    "**Минимальное количество промокодов, которые нужно раздать, чтобы подписку продлили хотя бы 100 пользователей равно 1161. В начале мы задали параметры распределения, p - вероятность проделения подписки, target - минимальное количество пользователей для выполнения плана, alpha - уровень доверия, при котором шанс не выполнить план составляет 5%. Далее мы написали функцию, которая ищет минимальное количество промокодов и применили ее с нашеми параметрами, в конце мы построили график распределения.**"
   ]
  },
  {
   "cell_type": "markdown",
   "id": "9969ead8",
   "metadata": {},
   "source": [
    "**7.2 Отдел маркетинга рассылает клиентам push-уведомления в мобильном приложении. Клиенты могут открыть его или не открывать. Известно, что уведомления открывают около 40 % получивших клиентов. Отдел планирует разослать 1 млн уведомлений. С помощью аппроксимации построим примерный график распределения и оценим вероятность того, что уведомление откроют не более 399,5 тыс. пользователей.**"
   ]
  },
  {
   "cell_type": "code",
   "execution_count": 40,
   "id": "8e03d234",
   "metadata": {},
   "outputs": [
    {
     "name": "stdout",
     "output_type": "stream",
     "text": [
      "Вероятность того, что уведомление откроют не более 399,5 тыс. пользователей: 0.15371708296369768\n"
     ]
    },
    {
     "data": {
      "image/png": "[encoded data removed]",
      "text/plain": [
       "<Figure size 432x288 with 1 Axes>"
      ]
     },
     "metadata": {
      "needs_background": "light"
     },
     "output_type": "display_data"
    }
   ],
   "source": [
    "n = 1000000\n",
    "p = 0.4\n",
    "\n",
    "mu = n * p\n",
    "sigma = np.sqrt(n * p * (1 - p))\n",
    "\n",
    "x_value = 399500\n",
    "\n",
    "prob = st.norm.cdf(x_value, mu, sigma)\n",
    "print(\"Вероятность того, что уведомление откроют не более 399,5 тыс. пользователей:\", prob)\n",
    "\n",
    "x = np.linspace(mu - 4*sigma, mu + 4*sigma, 1000)\n",
    "y = st.norm.pdf(x, mu, sigma)\n",
    "\n",
    "plt.plot(x, y, label='Нормальное распределение')\n",
    "plt.axvline(x=x_value, color='r', linestyle='--', label=f'399,5 тыс. пользователей')\n",
    "plt.xlabel('Количество открытий')\n",
    "plt.ylabel('Плотность вероятности')\n",
    "plt.title('Нормальная аппроксимация биномиального распределения')\n",
    "plt.legend()\n",
    "plt.show()\n"
   ]
  },
  {
   "cell_type": "markdown",
   "id": "35065d34",
   "metadata": {},
   "source": [
    "<div class=\"alert alert-success\">\n",
    "<b>Комментарий ревьюера:</b>☀️\n",
    "    \n",
    "Задачи на распределения решены абсолютно верно, молодец!"
   ]
  },
  {
   "cell_type": "markdown",
   "id": "a26844eb",
   "metadata": {},
   "source": [
    "**Верятность того, что уведомление откроют не более 399,5 тыс. пользователей равна чуть более 15%. В начале мы расчитали параметры распределения и нашли нужную нам вероятность. Далее мы построили график нормальной апоксимации биноминального распределения.**"
   ]
  },
  {
   "cell_type": "markdown",
   "id": "ea0acbca",
   "metadata": {},
   "source": [
    "#### Напишите общий вывод"
   ]
  },
  {
   "cell_type": "markdown",
   "id": "0d820ba0",
   "metadata": {},
   "source": [
    "**Выполняя этот проект, мы использовали как знания полученные из прошлых спринтов, так и из текушщего. В начале проекта мы открыли датафреймы, проверили значения в них, поменяли тип данных в некоторых столбца. После этого мы проверили таблицы на пропуски, обработали дубликаты и аномалии в данных. Далее мы добавили несколько столбцов, создали другие таблицы с агрегированными данными на основе начальных. В шестом пунке мы проверили несколько гипотиз, которые позволят продакт-менеджерам увеличить количество пользователей с подпиской. В последнем пункте, мы применили знания, полученные в ходе текущего спринта, на практике, и рассчитали некоторые вероятности для двух событий. Эти расчеты помогли нам закрепить изученный материал, который пригодится нам в будующих кейсах**"
   ]
  }
 ],
 "metadata": {
  "ExecuteTimeLog": [
   {
    "duration": 57,
    "start_time": "2024-09-10T14:09:47.849Z"
   },
   {
    "duration": 1299,
    "start_time": "2024-09-10T14:09:53.994Z"
   },
   {
    "duration": 376,
    "start_time": "2024-09-10T14:09:55.296Z"
   },
   {
    "duration": 97,
    "start_time": "2024-09-10T14:10:05.568Z"
   },
   {
    "duration": 97,
    "start_time": "2024-09-10T14:10:15.829Z"
   },
   {
    "duration": 3,
    "start_time": "2024-09-10T14:11:41.965Z"
   },
   {
    "duration": 93,
    "start_time": "2024-09-10T14:11:42.389Z"
   },
   {
    "duration": 113,
    "start_time": "2024-09-10T14:12:58.333Z"
   },
   {
    "duration": 115,
    "start_time": "2024-09-10T14:13:57.903Z"
   },
   {
    "duration": 2,
    "start_time": "2024-09-10T14:18:31.138Z"
   },
   {
    "duration": 48,
    "start_time": "2024-09-10T16:35:00.402Z"
   },
   {
    "duration": 6,
    "start_time": "2024-09-10T16:35:04.223Z"
   },
   {
    "duration": 1291,
    "start_time": "2024-09-10T16:35:07.683Z"
   },
   {
    "duration": 417,
    "start_time": "2024-09-10T16:35:09.042Z"
   },
   {
    "duration": 13,
    "start_time": "2024-09-10T16:35:10.608Z"
   },
   {
    "duration": 7,
    "start_time": "2024-09-10T16:37:42.315Z"
   },
   {
    "duration": 12,
    "start_time": "2024-09-10T16:37:48.781Z"
   },
   {
    "duration": 6,
    "start_time": "2024-09-10T16:40:36.165Z"
   },
   {
    "duration": 5,
    "start_time": "2024-09-10T16:40:53.121Z"
   },
   {
    "duration": 5,
    "start_time": "2024-09-10T16:41:08.141Z"
   },
   {
    "duration": 63,
    "start_time": "2024-09-10T16:42:46.240Z"
   },
   {
    "duration": 1259,
    "start_time": "2024-09-12T09:48:34.539Z"
   },
   {
    "duration": 14,
    "start_time": "2024-09-12T09:48:36.256Z"
   },
   {
    "duration": 25,
    "start_time": "2024-09-12T09:48:36.271Z"
   },
   {
    "duration": 16,
    "start_time": "2024-09-12T09:48:36.298Z"
   },
   {
    "duration": 19,
    "start_time": "2024-09-12T09:48:36.316Z"
   },
   {
    "duration": 19,
    "start_time": "2024-09-12T09:48:36.336Z"
   },
   {
    "duration": 116,
    "start_time": "2024-09-12T09:48:40.848Z"
   },
   {
    "duration": 7,
    "start_time": "2024-09-12T09:52:27.909Z"
   },
   {
    "duration": 6,
    "start_time": "2024-09-12T09:52:36.212Z"
   },
   {
    "duration": 8,
    "start_time": "2024-09-12T09:55:11.591Z"
   },
   {
    "duration": 13,
    "start_time": "2024-09-12T09:56:19.393Z"
   },
   {
    "duration": 12,
    "start_time": "2024-09-12T09:57:19.211Z"
   },
   {
    "duration": 14,
    "start_time": "2024-09-12T09:57:46.382Z"
   },
   {
    "duration": 14,
    "start_time": "2024-09-12T09:58:02.137Z"
   },
   {
    "duration": 11,
    "start_time": "2024-09-12T09:58:16.238Z"
   },
   {
    "duration": 9,
    "start_time": "2024-09-12T09:58:39.664Z"
   },
   {
    "duration": 9,
    "start_time": "2024-09-12T09:59:05.791Z"
   },
   {
    "duration": 9,
    "start_time": "2024-09-12T09:59:11.597Z"
   },
   {
    "duration": 12,
    "start_time": "2024-09-12T10:02:31.136Z"
   },
   {
    "duration": 9,
    "start_time": "2024-09-12T10:02:48.789Z"
   },
   {
    "duration": 13,
    "start_time": "2024-09-12T10:03:04.126Z"
   },
   {
    "duration": 13,
    "start_time": "2024-09-12T10:03:22.409Z"
   },
   {
    "duration": 6,
    "start_time": "2024-09-12T10:03:38.700Z"
   },
   {
    "duration": 7,
    "start_time": "2024-09-12T10:04:23.316Z"
   },
   {
    "duration": 7,
    "start_time": "2024-09-12T10:04:28.505Z"
   },
   {
    "duration": 8,
    "start_time": "2024-09-12T10:04:32.151Z"
   },
   {
    "duration": 8,
    "start_time": "2024-09-12T10:05:04.891Z"
   },
   {
    "duration": 9,
    "start_time": "2024-09-12T10:05:50.794Z"
   },
   {
    "duration": 153,
    "start_time": "2024-09-12T10:12:24.144Z"
   },
   {
    "duration": 299,
    "start_time": "2024-09-12T10:12:35.518Z"
   },
   {
    "duration": 56,
    "start_time": "2024-09-12T10:12:52.674Z"
   },
   {
    "duration": 385,
    "start_time": "2024-09-12T10:12:59.605Z"
   },
   {
    "duration": 316,
    "start_time": "2024-09-12T10:13:09.011Z"
   },
   {
    "duration": 321,
    "start_time": "2024-09-12T10:13:18.455Z"
   },
   {
    "duration": 202,
    "start_time": "2024-09-12T10:13:24.361Z"
   },
   {
    "duration": 157,
    "start_time": "2024-09-12T10:17:09.302Z"
   },
   {
    "duration": 159,
    "start_time": "2024-09-12T10:17:24.987Z"
   },
   {
    "duration": 132,
    "start_time": "2024-09-12T10:17:38.339Z"
   },
   {
    "duration": 158,
    "start_time": "2024-09-12T10:17:43.215Z"
   },
   {
    "duration": 159,
    "start_time": "2024-09-12T10:19:37.471Z"
   },
   {
    "duration": 313,
    "start_time": "2024-09-12T10:33:56.609Z"
   },
   {
    "duration": 5,
    "start_time": "2024-09-12T10:37:22.024Z"
   },
   {
    "duration": 221,
    "start_time": "2024-09-12T10:37:39.231Z"
   },
   {
    "duration": 4,
    "start_time": "2024-09-12T10:39:12.412Z"
   },
   {
    "duration": 8,
    "start_time": "2024-09-12T10:39:47.637Z"
   },
   {
    "duration": 86,
    "start_time": "2024-09-12T10:40:06.787Z"
   },
   {
    "duration": 88,
    "start_time": "2024-09-12T10:40:24.604Z"
   },
   {
    "duration": 166,
    "start_time": "2024-09-12T10:40:33.614Z"
   },
   {
    "duration": 224,
    "start_time": "2024-09-12T10:40:56.449Z"
   },
   {
    "duration": 100,
    "start_time": "2024-09-12T10:41:02.492Z"
   },
   {
    "duration": 260,
    "start_time": "2024-09-12T10:42:55.849Z"
   },
   {
    "duration": 317,
    "start_time": "2024-09-12T10:43:18.172Z"
   },
   {
    "duration": 93,
    "start_time": "2024-09-12T10:48:04.379Z"
   },
   {
    "duration": 88,
    "start_time": "2024-09-12T10:48:14.927Z"
   },
   {
    "duration": 83,
    "start_time": "2024-09-12T10:48:24.144Z"
   },
   {
    "duration": 413,
    "start_time": "2024-09-12T10:48:30.084Z"
   },
   {
    "duration": 309,
    "start_time": "2024-09-12T10:48:49.641Z"
   },
   {
    "duration": 305,
    "start_time": "2024-09-12T10:49:10.326Z"
   },
   {
    "duration": 315,
    "start_time": "2024-09-12T10:51:05.326Z"
   },
   {
    "duration": 414,
    "start_time": "2024-09-12T10:51:15.562Z"
   },
   {
    "duration": 305,
    "start_time": "2024-09-12T10:52:14.648Z"
   },
   {
    "duration": 3,
    "start_time": "2024-09-12T10:53:05.540Z"
   },
   {
    "duration": 125,
    "start_time": "2024-09-12T10:53:05.545Z"
   },
   {
    "duration": 14,
    "start_time": "2024-09-12T10:53:05.671Z"
   },
   {
    "duration": 38,
    "start_time": "2024-09-12T10:53:05.687Z"
   },
   {
    "duration": 38,
    "start_time": "2024-09-12T10:53:05.728Z"
   },
   {
    "duration": 29,
    "start_time": "2024-09-12T10:53:05.767Z"
   },
   {
    "duration": 5,
    "start_time": "2024-09-12T10:53:05.797Z"
   },
   {
    "duration": 15,
    "start_time": "2024-09-12T10:53:05.804Z"
   },
   {
    "duration": 27,
    "start_time": "2024-09-12T10:53:05.820Z"
   },
   {
    "duration": 7,
    "start_time": "2024-09-12T10:53:05.848Z"
   },
   {
    "duration": 172,
    "start_time": "2024-09-12T10:53:05.856Z"
   },
   {
    "duration": 95,
    "start_time": "2024-09-12T10:53:06.029Z"
   },
   {
    "duration": 320,
    "start_time": "2024-09-12T10:53:06.127Z"
   },
   {
    "duration": 309,
    "start_time": "2024-09-12T10:53:06.449Z"
   },
   {
    "duration": 434,
    "start_time": "2024-09-12T10:53:06.759Z"
   },
   {
    "duration": 8,
    "start_time": "2024-09-12T10:54:28.280Z"
   },
   {
    "duration": 314,
    "start_time": "2024-09-12T10:56:53.074Z"
   },
   {
    "duration": 5,
    "start_time": "2024-09-12T10:57:01.162Z"
   },
   {
    "duration": 326,
    "start_time": "2024-09-12T10:57:04.235Z"
   },
   {
    "duration": 18,
    "start_time": "2024-09-12T10:57:45.504Z"
   },
   {
    "duration": 15,
    "start_time": "2024-09-12T10:58:41.312Z"
   },
   {
    "duration": 17,
    "start_time": "2024-09-12T10:58:46.125Z"
   },
   {
    "duration": 13,
    "start_time": "2024-09-12T10:58:54.111Z"
   },
   {
    "duration": 15,
    "start_time": "2024-09-12T10:58:58.312Z"
   },
   {
    "duration": 16,
    "start_time": "2024-09-12T10:59:02.303Z"
   },
   {
    "duration": 17,
    "start_time": "2024-09-12T10:59:06.405Z"
   },
   {
    "duration": 15,
    "start_time": "2024-09-12T10:59:20.839Z"
   },
   {
    "duration": 19,
    "start_time": "2024-09-12T11:00:25.452Z"
   },
   {
    "duration": 8,
    "start_time": "2024-09-12T11:00:31.392Z"
   },
   {
    "duration": 15,
    "start_time": "2024-09-12T11:01:47.989Z"
   },
   {
    "duration": 18,
    "start_time": "2024-09-12T11:02:51.988Z"
   },
   {
    "duration": 15,
    "start_time": "2024-09-12T11:03:11.853Z"
   },
   {
    "duration": 10,
    "start_time": "2024-09-12T11:03:16.973Z"
   },
   {
    "duration": 9,
    "start_time": "2024-09-12T11:03:22.719Z"
   },
   {
    "duration": 13,
    "start_time": "2024-09-12T11:03:42.984Z"
   },
   {
    "duration": 8,
    "start_time": "2024-09-12T11:06:46.382Z"
   },
   {
    "duration": 9,
    "start_time": "2024-09-12T11:10:05.551Z"
   },
   {
    "duration": 11,
    "start_time": "2024-09-12T11:12:41.713Z"
   },
   {
    "duration": 11,
    "start_time": "2024-09-12T11:12:53.386Z"
   },
   {
    "duration": 11,
    "start_time": "2024-09-12T11:13:17.758Z"
   },
   {
    "duration": 9,
    "start_time": "2024-09-12T11:13:21.751Z"
   },
   {
    "duration": 3,
    "start_time": "2024-09-12T11:13:25.132Z"
   },
   {
    "duration": 134,
    "start_time": "2024-09-12T11:13:25.136Z"
   },
   {
    "duration": 13,
    "start_time": "2024-09-12T11:13:25.272Z"
   },
   {
    "duration": 20,
    "start_time": "2024-09-12T11:13:25.287Z"
   },
   {
    "duration": 6,
    "start_time": "2024-09-12T11:13:25.309Z"
   },
   {
    "duration": 10,
    "start_time": "2024-09-12T11:13:25.316Z"
   },
   {
    "duration": 6,
    "start_time": "2024-09-12T11:13:25.327Z"
   },
   {
    "duration": 16,
    "start_time": "2024-09-12T11:13:25.334Z"
   },
   {
    "duration": 12,
    "start_time": "2024-09-12T11:13:25.351Z"
   },
   {
    "duration": 9,
    "start_time": "2024-09-12T11:13:25.365Z"
   },
   {
    "duration": 196,
    "start_time": "2024-09-12T11:13:25.375Z"
   },
   {
    "duration": 91,
    "start_time": "2024-09-12T11:13:25.573Z"
   },
   {
    "duration": 410,
    "start_time": "2024-09-12T11:13:25.666Z"
   },
   {
    "duration": 4,
    "start_time": "2024-09-12T11:13:26.078Z"
   },
   {
    "duration": 338,
    "start_time": "2024-09-12T11:13:26.083Z"
   },
   {
    "duration": 340,
    "start_time": "2024-09-12T11:13:26.423Z"
   },
   {
    "duration": 9,
    "start_time": "2024-09-12T11:13:26.765Z"
   },
   {
    "duration": 26,
    "start_time": "2024-09-12T11:13:26.776Z"
   },
   {
    "duration": 40,
    "start_time": "2024-09-12T11:13:26.807Z"
   },
   {
    "duration": 9,
    "start_time": "2024-09-12T11:14:02.720Z"
   },
   {
    "duration": 9,
    "start_time": "2024-09-12T11:14:26.879Z"
   },
   {
    "duration": 330,
    "start_time": "2024-09-12T11:14:34.354Z"
   },
   {
    "duration": 4,
    "start_time": "2024-09-12T11:14:48.485Z"
   },
   {
    "duration": 11,
    "start_time": "2024-09-12T11:21:09.619Z"
   },
   {
    "duration": 19,
    "start_time": "2024-09-12T11:21:24.774Z"
   },
   {
    "duration": 25,
    "start_time": "2024-09-12T11:21:41.783Z"
   },
   {
    "duration": 19,
    "start_time": "2024-09-12T11:21:55.902Z"
   },
   {
    "duration": 16,
    "start_time": "2024-09-12T11:23:58.374Z"
   },
   {
    "duration": 14,
    "start_time": "2024-09-12T11:25:05.650Z"
   },
   {
    "duration": 618,
    "start_time": "2024-09-12T11:32:43.893Z"
   },
   {
    "duration": 328,
    "start_time": "2024-09-12T11:33:23.930Z"
   },
   {
    "duration": 325,
    "start_time": "2024-09-12T11:33:33.556Z"
   },
   {
    "duration": 350,
    "start_time": "2024-09-12T11:35:44.730Z"
   },
   {
    "duration": 467,
    "start_time": "2024-09-12T11:37:37.064Z"
   },
   {
    "duration": 358,
    "start_time": "2024-09-12T11:37:53.241Z"
   },
   {
    "duration": 20,
    "start_time": "2024-09-12T11:50:15.552Z"
   },
   {
    "duration": 20,
    "start_time": "2024-09-12T11:50:32.243Z"
   },
   {
    "duration": 23,
    "start_time": "2024-09-12T11:53:04.297Z"
   },
   {
    "duration": 20,
    "start_time": "2024-09-12T11:56:18.244Z"
   },
   {
    "duration": 24,
    "start_time": "2024-09-12T11:58:55.429Z"
   },
   {
    "duration": 24,
    "start_time": "2024-09-12T12:00:06.710Z"
   },
   {
    "duration": 4,
    "start_time": "2024-09-12T12:18:50.852Z"
   },
   {
    "duration": 24,
    "start_time": "2024-09-12T12:24:26.316Z"
   },
   {
    "duration": 3,
    "start_time": "2024-09-12T12:25:43.936Z"
   },
   {
    "duration": 13,
    "start_time": "2024-09-12T12:27:21.317Z"
   },
   {
    "duration": 3,
    "start_time": "2024-09-12T12:27:29.409Z"
   },
   {
    "duration": 122,
    "start_time": "2024-09-12T12:27:29.414Z"
   },
   {
    "duration": 13,
    "start_time": "2024-09-12T12:27:29.538Z"
   },
   {
    "duration": 10,
    "start_time": "2024-09-12T12:27:29.553Z"
   },
   {
    "duration": 11,
    "start_time": "2024-09-12T12:27:29.565Z"
   },
   {
    "duration": 32,
    "start_time": "2024-09-12T12:27:29.577Z"
   },
   {
    "duration": 5,
    "start_time": "2024-09-12T12:27:29.611Z"
   },
   {
    "duration": 7,
    "start_time": "2024-09-12T12:27:29.617Z"
   },
   {
    "duration": 7,
    "start_time": "2024-09-12T12:27:29.626Z"
   },
   {
    "duration": 7,
    "start_time": "2024-09-12T12:27:29.634Z"
   },
   {
    "duration": 216,
    "start_time": "2024-09-12T12:27:29.643Z"
   },
   {
    "duration": 101,
    "start_time": "2024-09-12T12:27:29.860Z"
   },
   {
    "duration": 335,
    "start_time": "2024-09-12T12:27:29.962Z"
   },
   {
    "duration": 4,
    "start_time": "2024-09-12T12:27:30.308Z"
   },
   {
    "duration": 476,
    "start_time": "2024-09-12T12:27:30.314Z"
   },
   {
    "duration": 346,
    "start_time": "2024-09-12T12:27:30.792Z"
   },
   {
    "duration": 8,
    "start_time": "2024-09-12T12:27:31.140Z"
   },
   {
    "duration": 23,
    "start_time": "2024-09-12T12:27:31.150Z"
   },
   {
    "duration": 4,
    "start_time": "2024-09-12T12:27:31.174Z"
   },
   {
    "duration": 33,
    "start_time": "2024-09-12T12:27:31.180Z"
   },
   {
    "duration": 15,
    "start_time": "2024-09-12T12:27:31.215Z"
   },
   {
    "duration": 14,
    "start_time": "2024-09-12T12:27:31.231Z"
   },
   {
    "duration": 343,
    "start_time": "2024-09-12T12:27:31.246Z"
   },
   {
    "duration": 334,
    "start_time": "2024-09-12T12:27:31.591Z"
   },
   {
    "duration": 445,
    "start_time": "2024-09-12T12:27:31.927Z"
   },
   {
    "duration": 356,
    "start_time": "2024-09-12T12:27:32.374Z"
   },
   {
    "duration": 24,
    "start_time": "2024-09-12T12:27:32.732Z"
   },
   {
    "duration": 13,
    "start_time": "2024-09-12T12:27:32.758Z"
   },
   {
    "duration": 14,
    "start_time": "2024-09-12T12:27:50.809Z"
   },
   {
    "duration": 13,
    "start_time": "2024-09-12T12:28:04.280Z"
   },
   {
    "duration": 3,
    "start_time": "2024-09-12T12:28:07.910Z"
   },
   {
    "duration": 147,
    "start_time": "2024-09-12T12:28:07.915Z"
   },
   {
    "duration": 13,
    "start_time": "2024-09-12T12:28:08.064Z"
   },
   {
    "duration": 12,
    "start_time": "2024-09-12T12:28:08.119Z"
   },
   {
    "duration": 5,
    "start_time": "2024-09-12T12:28:08.133Z"
   },
   {
    "duration": 19,
    "start_time": "2024-09-12T12:28:08.139Z"
   },
   {
    "duration": 14,
    "start_time": "2024-09-12T12:28:08.159Z"
   },
   {
    "duration": 5,
    "start_time": "2024-09-12T12:28:08.175Z"
   },
   {
    "duration": 13,
    "start_time": "2024-09-12T12:28:08.182Z"
   },
   {
    "duration": 11,
    "start_time": "2024-09-12T12:28:08.196Z"
   },
   {
    "duration": 177,
    "start_time": "2024-09-12T12:28:08.208Z"
   },
   {
    "duration": 93,
    "start_time": "2024-09-12T12:28:08.388Z"
   },
   {
    "duration": 340,
    "start_time": "2024-09-12T12:28:08.483Z"
   },
   {
    "duration": 4,
    "start_time": "2024-09-12T12:28:08.824Z"
   },
   {
    "duration": 334,
    "start_time": "2024-09-12T12:28:08.830Z"
   },
   {
    "duration": 432,
    "start_time": "2024-09-12T12:28:09.166Z"
   },
   {
    "duration": 14,
    "start_time": "2024-09-12T12:28:09.599Z"
   },
   {
    "duration": 9,
    "start_time": "2024-09-12T12:28:09.614Z"
   },
   {
    "duration": 9,
    "start_time": "2024-09-12T12:28:09.625Z"
   },
   {
    "duration": 37,
    "start_time": "2024-09-12T12:28:09.636Z"
   },
   {
    "duration": 18,
    "start_time": "2024-09-12T12:28:09.675Z"
   },
   {
    "duration": 24,
    "start_time": "2024-09-12T12:28:09.694Z"
   },
   {
    "duration": 334,
    "start_time": "2024-09-12T12:28:09.720Z"
   },
   {
    "duration": 337,
    "start_time": "2024-09-12T12:28:10.055Z"
   },
   {
    "duration": 365,
    "start_time": "2024-09-12T12:28:10.394Z"
   },
   {
    "duration": 430,
    "start_time": "2024-09-12T12:28:10.761Z"
   },
   {
    "duration": 32,
    "start_time": "2024-09-12T12:28:11.193Z"
   },
   {
    "duration": 14,
    "start_time": "2024-09-12T12:28:11.227Z"
   },
   {
    "duration": 25,
    "start_time": "2024-09-12T12:28:36.685Z"
   },
   {
    "duration": 21,
    "start_time": "2024-09-12T12:28:41.906Z"
   },
   {
    "duration": 343,
    "start_time": "2024-09-12T12:28:57.472Z"
   },
   {
    "duration": 1036,
    "start_time": "2024-09-12T12:29:08.950Z"
   },
   {
    "duration": 123,
    "start_time": "2024-09-12T12:29:09.988Z"
   },
   {
    "duration": 14,
    "start_time": "2024-09-12T12:29:10.113Z"
   },
   {
    "duration": 11,
    "start_time": "2024-09-12T12:29:10.129Z"
   },
   {
    "duration": 5,
    "start_time": "2024-09-12T12:29:10.142Z"
   },
   {
    "duration": 13,
    "start_time": "2024-09-12T12:29:10.149Z"
   },
   {
    "duration": 5,
    "start_time": "2024-09-12T12:29:10.163Z"
   },
   {
    "duration": 23,
    "start_time": "2024-09-12T12:29:10.170Z"
   },
   {
    "duration": 17,
    "start_time": "2024-09-12T12:29:10.195Z"
   },
   {
    "duration": 9,
    "start_time": "2024-09-12T12:29:10.215Z"
   },
   {
    "duration": 202,
    "start_time": "2024-09-12T12:29:10.226Z"
   },
   {
    "duration": 93,
    "start_time": "2024-09-12T12:29:10.429Z"
   },
   {
    "duration": 337,
    "start_time": "2024-09-12T12:29:10.523Z"
   },
   {
    "duration": 4,
    "start_time": "2024-09-12T12:29:10.861Z"
   },
   {
    "duration": 332,
    "start_time": "2024-09-12T12:29:10.866Z"
   },
   {
    "duration": 445,
    "start_time": "2024-09-12T12:29:11.207Z"
   },
   {
    "duration": 8,
    "start_time": "2024-09-12T12:29:11.654Z"
   },
   {
    "duration": 10,
    "start_time": "2024-09-12T12:29:11.663Z"
   },
   {
    "duration": 5,
    "start_time": "2024-09-12T12:29:11.675Z"
   },
   {
    "duration": 41,
    "start_time": "2024-09-12T12:29:11.681Z"
   },
   {
    "duration": 15,
    "start_time": "2024-09-12T12:29:11.724Z"
   },
   {
    "duration": 13,
    "start_time": "2024-09-12T12:29:11.741Z"
   },
   {
    "duration": 343,
    "start_time": "2024-09-12T12:29:11.755Z"
   },
   {
    "duration": 339,
    "start_time": "2024-09-12T12:29:12.100Z"
   },
   {
    "duration": 348,
    "start_time": "2024-09-12T12:29:12.441Z"
   },
   {
    "duration": 437,
    "start_time": "2024-09-12T12:29:12.791Z"
   },
   {
    "duration": 22,
    "start_time": "2024-09-12T12:29:13.229Z"
   },
   {
    "duration": 11,
    "start_time": "2024-09-12T12:29:13.254Z"
   },
   {
    "duration": 3,
    "start_time": "2024-09-12T12:29:23.687Z"
   },
   {
    "duration": 119,
    "start_time": "2024-09-12T12:29:23.692Z"
   },
   {
    "duration": 13,
    "start_time": "2024-09-12T12:29:23.813Z"
   },
   {
    "duration": 12,
    "start_time": "2024-09-12T12:29:23.827Z"
   },
   {
    "duration": 6,
    "start_time": "2024-09-12T12:29:23.840Z"
   },
   {
    "duration": 10,
    "start_time": "2024-09-12T12:29:23.847Z"
   },
   {
    "duration": 5,
    "start_time": "2024-09-12T12:29:23.858Z"
   },
   {
    "duration": 8,
    "start_time": "2024-09-12T12:29:23.865Z"
   },
   {
    "duration": 38,
    "start_time": "2024-09-12T12:29:23.875Z"
   },
   {
    "duration": 13,
    "start_time": "2024-09-12T12:29:23.915Z"
   },
   {
    "duration": 176,
    "start_time": "2024-09-12T12:29:23.930Z"
   },
   {
    "duration": 84,
    "start_time": "2024-09-12T12:29:24.107Z"
   },
   {
    "duration": 320,
    "start_time": "2024-09-12T12:29:24.193Z"
   },
   {
    "duration": 4,
    "start_time": "2024-09-12T12:29:24.515Z"
   },
   {
    "duration": 322,
    "start_time": "2024-09-12T12:29:24.521Z"
   },
   {
    "duration": 417,
    "start_time": "2024-09-12T12:29:24.844Z"
   },
   {
    "duration": 8,
    "start_time": "2024-09-12T12:29:25.263Z"
   },
   {
    "duration": 10,
    "start_time": "2024-09-12T12:29:25.272Z"
   },
   {
    "duration": 26,
    "start_time": "2024-09-12T12:29:25.284Z"
   },
   {
    "duration": 24,
    "start_time": "2024-09-12T12:29:25.311Z"
   },
   {
    "duration": 14,
    "start_time": "2024-09-12T12:29:25.336Z"
   },
   {
    "duration": 12,
    "start_time": "2024-09-12T12:29:25.352Z"
   },
   {
    "duration": 342,
    "start_time": "2024-09-12T12:29:25.365Z"
   },
   {
    "duration": 314,
    "start_time": "2024-09-12T12:29:25.708Z"
   },
   {
    "duration": 331,
    "start_time": "2024-09-12T12:29:26.023Z"
   },
   {
    "duration": 409,
    "start_time": "2024-09-12T12:29:26.355Z"
   },
   {
    "duration": 21,
    "start_time": "2024-09-12T12:29:26.765Z"
   },
   {
    "duration": 27,
    "start_time": "2024-09-12T12:29:26.787Z"
   },
   {
    "duration": 14,
    "start_time": "2024-09-12T12:29:34.643Z"
   },
   {
    "duration": 3,
    "start_time": "2024-09-12T12:30:11.303Z"
   },
   {
    "duration": 145,
    "start_time": "2024-09-12T12:30:11.308Z"
   },
   {
    "duration": 12,
    "start_time": "2024-09-12T12:30:11.455Z"
   },
   {
    "duration": 57,
    "start_time": "2024-09-12T12:30:11.469Z"
   },
   {
    "duration": 31,
    "start_time": "2024-09-12T12:30:11.528Z"
   },
   {
    "duration": 60,
    "start_time": "2024-09-12T12:30:11.561Z"
   },
   {
    "duration": 51,
    "start_time": "2024-09-12T12:30:11.622Z"
   },
   {
    "duration": 27,
    "start_time": "2024-09-12T12:30:11.675Z"
   },
   {
    "duration": 25,
    "start_time": "2024-09-12T12:30:11.704Z"
   },
   {
    "duration": 17,
    "start_time": "2024-09-12T12:30:11.731Z"
   },
   {
    "duration": 166,
    "start_time": "2024-09-12T12:30:11.750Z"
   },
   {
    "duration": 90,
    "start_time": "2024-09-12T12:30:11.917Z"
   },
   {
    "duration": 352,
    "start_time": "2024-09-12T12:30:12.009Z"
   },
   {
    "duration": 4,
    "start_time": "2024-09-12T12:30:12.363Z"
   },
   {
    "duration": 340,
    "start_time": "2024-09-12T12:30:12.369Z"
   },
   {
    "duration": 387,
    "start_time": "2024-09-12T12:30:12.710Z"
   },
   {
    "duration": 14,
    "start_time": "2024-09-12T12:30:13.099Z"
   },
   {
    "duration": 9,
    "start_time": "2024-09-12T12:30:13.114Z"
   },
   {
    "duration": 25,
    "start_time": "2024-09-12T12:30:13.125Z"
   },
   {
    "duration": 47,
    "start_time": "2024-09-12T12:30:13.152Z"
   },
   {
    "duration": 23,
    "start_time": "2024-09-12T12:30:13.200Z"
   },
   {
    "duration": 13,
    "start_time": "2024-09-12T12:30:13.224Z"
   },
   {
    "duration": 434,
    "start_time": "2024-09-12T12:30:13.238Z"
   },
   {
    "duration": 344,
    "start_time": "2024-09-12T12:30:13.673Z"
   },
   {
    "duration": 343,
    "start_time": "2024-09-12T12:30:14.019Z"
   },
   {
    "duration": 338,
    "start_time": "2024-09-12T12:30:14.364Z"
   },
   {
    "duration": 22,
    "start_time": "2024-09-12T12:30:14.707Z"
   },
   {
    "duration": 13,
    "start_time": "2024-09-12T12:30:14.731Z"
   },
   {
    "duration": 5,
    "start_time": "2024-09-12T12:30:57.391Z"
   },
   {
    "duration": 134,
    "start_time": "2024-09-12T12:30:57.398Z"
   },
   {
    "duration": 16,
    "start_time": "2024-09-12T12:30:57.534Z"
   },
   {
    "duration": 20,
    "start_time": "2024-09-12T12:30:57.553Z"
   },
   {
    "duration": 33,
    "start_time": "2024-09-12T12:30:57.575Z"
   },
   {
    "duration": 33,
    "start_time": "2024-09-12T12:30:57.610Z"
   },
   {
    "duration": 7,
    "start_time": "2024-09-12T12:30:57.645Z"
   },
   {
    "duration": 17,
    "start_time": "2024-09-12T12:30:57.654Z"
   },
   {
    "duration": 134,
    "start_time": "2024-09-12T12:30:57.675Z"
   },
   {
    "duration": 9,
    "start_time": "2024-09-12T12:30:57.811Z"
   },
   {
    "duration": 206,
    "start_time": "2024-09-12T12:30:57.822Z"
   },
   {
    "duration": 100,
    "start_time": "2024-09-12T12:30:58.030Z"
   },
   {
    "duration": 340,
    "start_time": "2024-09-12T12:30:58.132Z"
   },
   {
    "duration": 4,
    "start_time": "2024-09-12T12:30:58.474Z"
   },
   {
    "duration": 366,
    "start_time": "2024-09-12T12:30:58.480Z"
   },
   {
    "duration": 356,
    "start_time": "2024-09-12T12:30:58.848Z"
   },
   {
    "duration": 12,
    "start_time": "2024-09-12T12:30:59.206Z"
   },
   {
    "duration": 15,
    "start_time": "2024-09-12T12:30:59.220Z"
   },
   {
    "duration": 7,
    "start_time": "2024-09-12T12:30:59.237Z"
   },
   {
    "duration": 36,
    "start_time": "2024-09-12T12:30:59.245Z"
   },
   {
    "duration": 31,
    "start_time": "2024-09-12T12:30:59.282Z"
   },
   {
    "duration": 14,
    "start_time": "2024-09-12T12:30:59.314Z"
   },
   {
    "duration": 447,
    "start_time": "2024-09-12T12:30:59.330Z"
   },
   {
    "duration": 350,
    "start_time": "2024-09-12T12:30:59.780Z"
   },
   {
    "duration": 359,
    "start_time": "2024-09-12T12:31:00.131Z"
   },
   {
    "duration": 366,
    "start_time": "2024-09-12T12:31:00.491Z"
   },
   {
    "duration": 24,
    "start_time": "2024-09-12T12:31:00.859Z"
   },
   {
    "duration": 26,
    "start_time": "2024-09-12T12:31:00.885Z"
   },
   {
    "duration": 125,
    "start_time": "2024-09-12T12:31:42.849Z"
   },
   {
    "duration": 10,
    "start_time": "2024-09-12T12:31:53.909Z"
   },
   {
    "duration": 326,
    "start_time": "2024-09-12T12:32:11.623Z"
   },
   {
    "duration": 235,
    "start_time": "2024-09-12T12:32:25.243Z"
   },
   {
    "duration": 24,
    "start_time": "2024-09-12T12:33:45.320Z"
   },
   {
    "duration": 8,
    "start_time": "2024-09-12T12:34:26.893Z"
   },
   {
    "duration": 13,
    "start_time": "2024-09-12T12:34:46.246Z"
   },
   {
    "duration": 15,
    "start_time": "2024-09-12T12:34:49.935Z"
   },
   {
    "duration": 20,
    "start_time": "2024-09-12T12:35:00.482Z"
   },
   {
    "duration": 20,
    "start_time": "2024-09-12T12:35:13.485Z"
   },
   {
    "duration": 33,
    "start_time": "2024-09-12T12:35:22.497Z"
   },
   {
    "duration": 51,
    "start_time": "2024-09-13T10:03:55.682Z"
   },
   {
    "duration": 1439,
    "start_time": "2024-09-13T10:03:59.335Z"
   },
   {
    "duration": 334,
    "start_time": "2024-09-13T10:04:00.776Z"
   },
   {
    "duration": 18,
    "start_time": "2024-09-13T10:04:01.112Z"
   },
   {
    "duration": 103,
    "start_time": "2024-09-13T10:04:01.132Z"
   },
   {
    "duration": 45,
    "start_time": "2024-09-13T10:04:01.237Z"
   },
   {
    "duration": 53,
    "start_time": "2024-09-13T10:04:01.284Z"
   },
   {
    "duration": 29,
    "start_time": "2024-09-13T10:04:01.339Z"
   },
   {
    "duration": 50,
    "start_time": "2024-09-13T10:04:01.369Z"
   },
   {
    "duration": 212,
    "start_time": "2024-09-13T10:04:01.420Z"
   },
   {
    "duration": 336,
    "start_time": "2024-09-13T10:04:01.633Z"
   },
   {
    "duration": 220,
    "start_time": "2024-09-13T10:04:01.970Z"
   },
   {
    "duration": 103,
    "start_time": "2024-09-13T10:04:02.192Z"
   },
   {
    "duration": 352,
    "start_time": "2024-09-13T10:04:02.297Z"
   },
   {
    "duration": 7,
    "start_time": "2024-09-13T10:04:02.652Z"
   },
   {
    "duration": 388,
    "start_time": "2024-09-13T10:04:02.661Z"
   },
   {
    "duration": 465,
    "start_time": "2024-09-13T10:04:03.054Z"
   },
   {
    "duration": 10,
    "start_time": "2024-09-13T10:04:03.521Z"
   },
   {
    "duration": 53,
    "start_time": "2024-09-13T10:04:03.533Z"
   },
   {
    "duration": 70,
    "start_time": "2024-09-13T10:04:03.588Z"
   },
   {
    "duration": 33,
    "start_time": "2024-09-13T10:04:03.660Z"
   },
   {
    "duration": 19,
    "start_time": "2024-09-13T10:04:03.695Z"
   },
   {
    "duration": 20,
    "start_time": "2024-09-13T10:04:03.716Z"
   },
   {
    "duration": 365,
    "start_time": "2024-09-13T10:04:03.738Z"
   },
   {
    "duration": 343,
    "start_time": "2024-09-13T10:04:04.105Z"
   },
   {
    "duration": 364,
    "start_time": "2024-09-13T10:04:04.450Z"
   },
   {
    "duration": 480,
    "start_time": "2024-09-13T10:04:04.816Z"
   },
   {
    "duration": 25,
    "start_time": "2024-09-13T10:04:05.298Z"
   },
   {
    "duration": 31,
    "start_time": "2024-09-13T10:04:05.325Z"
   },
   {
    "duration": 303,
    "start_time": "2024-09-13T10:04:05.358Z"
   },
   {
    "duration": 24,
    "start_time": "2024-09-13T10:04:05.663Z"
   },
   {
    "duration": 28,
    "start_time": "2024-09-13T10:04:05.688Z"
   },
   {
    "duration": 12,
    "start_time": "2024-09-13T10:07:07.515Z"
   },
   {
    "duration": 12,
    "start_time": "2024-09-13T10:07:31.452Z"
   },
   {
    "duration": 10,
    "start_time": "2024-09-13T10:09:26.614Z"
   },
   {
    "duration": 7,
    "start_time": "2024-09-13T10:12:10.045Z"
   },
   {
    "duration": 7,
    "start_time": "2024-09-13T10:12:29.701Z"
   },
   {
    "duration": 7,
    "start_time": "2024-09-13T10:12:39.061Z"
   },
   {
    "duration": 8,
    "start_time": "2024-09-13T10:15:39.072Z"
   },
   {
    "duration": 8,
    "start_time": "2024-09-13T10:15:41.190Z"
   },
   {
    "duration": 76,
    "start_time": "2024-09-13T10:17:28.053Z"
   },
   {
    "duration": 28,
    "start_time": "2024-09-13T10:17:36.026Z"
   },
   {
    "duration": 8,
    "start_time": "2024-09-13T10:19:29.347Z"
   },
   {
    "duration": 10,
    "start_time": "2024-09-13T10:19:56.131Z"
   },
   {
    "duration": 3,
    "start_time": "2024-09-13T10:33:05.743Z"
   },
   {
    "duration": 140,
    "start_time": "2024-09-13T10:33:05.755Z"
   },
   {
    "duration": 14,
    "start_time": "2024-09-13T10:33:05.897Z"
   },
   {
    "duration": 12,
    "start_time": "2024-09-13T10:33:05.922Z"
   },
   {
    "duration": 8,
    "start_time": "2024-09-13T10:33:05.998Z"
   },
   {
    "duration": 24,
    "start_time": "2024-09-13T10:33:06.008Z"
   },
   {
    "duration": 16,
    "start_time": "2024-09-13T10:33:06.034Z"
   },
   {
    "duration": 7,
    "start_time": "2024-09-13T10:33:06.092Z"
   },
   {
    "duration": 8,
    "start_time": "2024-09-13T10:33:06.162Z"
   },
   {
    "duration": 9,
    "start_time": "2024-09-13T10:33:06.230Z"
   },
   {
    "duration": 187,
    "start_time": "2024-09-13T10:33:06.307Z"
   },
   {
    "duration": 107,
    "start_time": "2024-09-13T10:33:06.497Z"
   },
   {
    "duration": 359,
    "start_time": "2024-09-13T10:33:06.606Z"
   },
   {
    "duration": 4,
    "start_time": "2024-09-13T10:33:06.968Z"
   },
   {
    "duration": 394,
    "start_time": "2024-09-13T10:33:06.974Z"
   },
   {
    "duration": 487,
    "start_time": "2024-09-13T10:33:07.370Z"
   },
   {
    "duration": 10,
    "start_time": "2024-09-13T10:33:07.859Z"
   },
   {
    "duration": 26,
    "start_time": "2024-09-13T10:33:07.871Z"
   },
   {
    "duration": 24,
    "start_time": "2024-09-13T10:33:07.898Z"
   },
   {
    "duration": 28,
    "start_time": "2024-09-13T10:33:07.925Z"
   },
   {
    "duration": 19,
    "start_time": "2024-09-13T10:33:07.955Z"
   },
   {
    "duration": 37,
    "start_time": "2024-09-13T10:33:07.976Z"
   },
   {
    "duration": 337,
    "start_time": "2024-09-13T10:33:08.015Z"
   },
   {
    "duration": 339,
    "start_time": "2024-09-13T10:33:08.355Z"
   },
   {
    "duration": 357,
    "start_time": "2024-09-13T10:33:08.696Z"
   },
   {
    "duration": 495,
    "start_time": "2024-09-13T10:33:09.056Z"
   },
   {
    "duration": 27,
    "start_time": "2024-09-13T10:33:09.553Z"
   },
   {
    "duration": 14,
    "start_time": "2024-09-13T10:33:09.582Z"
   },
   {
    "duration": 226,
    "start_time": "2024-09-13T10:33:09.598Z"
   },
   {
    "duration": 36,
    "start_time": "2024-09-13T10:33:09.826Z"
   },
   {
    "duration": 28,
    "start_time": "2024-09-13T10:33:09.863Z"
   },
   {
    "duration": 13,
    "start_time": "2024-09-13T10:33:09.892Z"
   },
   {
    "duration": 18,
    "start_time": "2024-09-13T10:33:09.907Z"
   },
   {
    "duration": 34,
    "start_time": "2024-09-13T10:33:09.926Z"
   },
   {
    "duration": 36,
    "start_time": "2024-09-13T10:33:09.961Z"
   },
   {
    "duration": 16,
    "start_time": "2024-09-13T10:45:44.709Z"
   },
   {
    "duration": 22,
    "start_time": "2024-09-13T10:46:11.578Z"
   },
   {
    "duration": 1856,
    "start_time": "2024-09-13T10:46:40.513Z"
   },
   {
    "duration": 1465,
    "start_time": "2024-09-13T10:47:09.563Z"
   },
   {
    "duration": 1388,
    "start_time": "2024-09-13T10:48:35.221Z"
   },
   {
    "duration": 239,
    "start_time": "2024-09-13T10:49:10.552Z"
   },
   {
    "duration": 1441,
    "start_time": "2024-09-13T10:49:23.226Z"
   },
   {
    "duration": 1908,
    "start_time": "2024-09-13T10:51:18.101Z"
   },
   {
    "duration": 1869,
    "start_time": "2024-09-13T10:52:48.155Z"
   },
   {
    "duration": 1936,
    "start_time": "2024-09-13T11:02:53.974Z"
   },
   {
    "duration": 11,
    "start_time": "2024-09-13T11:04:49.961Z"
   },
   {
    "duration": 3,
    "start_time": "2024-09-13T11:05:13.819Z"
   },
   {
    "duration": 6,
    "start_time": "2024-09-13T11:05:20.012Z"
   },
   {
    "duration": 5,
    "start_time": "2024-09-13T11:05:31.893Z"
   },
   {
    "duration": 190,
    "start_time": "2024-09-13T11:07:16.225Z"
   },
   {
    "duration": 332,
    "start_time": "2024-09-13T11:07:24.802Z"
   },
   {
    "duration": 342,
    "start_time": "2024-09-13T11:08:23.140Z"
   },
   {
    "duration": 320,
    "start_time": "2024-09-13T11:08:41.614Z"
   },
   {
    "duration": 5,
    "start_time": "2024-09-13T11:43:00.610Z"
   },
   {
    "duration": 171,
    "start_time": "2024-09-13T11:43:00.617Z"
   },
   {
    "duration": 16,
    "start_time": "2024-09-13T11:43:00.790Z"
   },
   {
    "duration": 20,
    "start_time": "2024-09-13T11:43:00.939Z"
   },
   {
    "duration": 13,
    "start_time": "2024-09-13T11:43:00.962Z"
   },
   {
    "duration": 34,
    "start_time": "2024-09-13T11:43:00.977Z"
   },
   {
    "duration": 9,
    "start_time": "2024-09-13T11:43:01.185Z"
   },
   {
    "duration": 28,
    "start_time": "2024-09-13T11:43:01.197Z"
   },
   {
    "duration": 10,
    "start_time": "2024-09-13T11:43:01.227Z"
   },
   {
    "duration": 22,
    "start_time": "2024-09-13T11:43:01.240Z"
   },
   {
    "duration": 200,
    "start_time": "2024-09-13T11:43:01.265Z"
   },
   {
    "duration": 116,
    "start_time": "2024-09-13T11:43:01.467Z"
   },
   {
    "duration": 588,
    "start_time": "2024-09-13T11:43:01.585Z"
   },
   {
    "duration": 4,
    "start_time": "2024-09-13T11:43:02.175Z"
   },
   {
    "duration": 380,
    "start_time": "2024-09-13T11:43:02.182Z"
   },
   {
    "duration": 378,
    "start_time": "2024-09-13T11:43:02.563Z"
   },
   {
    "duration": 18,
    "start_time": "2024-09-13T11:43:02.943Z"
   },
   {
    "duration": 11,
    "start_time": "2024-09-13T11:43:02.962Z"
   },
   {
    "duration": 40,
    "start_time": "2024-09-13T11:43:02.976Z"
   },
   {
    "duration": 62,
    "start_time": "2024-09-13T11:43:03.018Z"
   },
   {
    "duration": 42,
    "start_time": "2024-09-13T11:43:03.082Z"
   },
   {
    "duration": 17,
    "start_time": "2024-09-13T11:43:03.126Z"
   },
   {
    "duration": 378,
    "start_time": "2024-09-13T11:43:03.145Z"
   },
   {
    "duration": 490,
    "start_time": "2024-09-13T11:43:03.525Z"
   },
   {
    "duration": 368,
    "start_time": "2024-09-13T11:43:04.017Z"
   },
   {
    "duration": 384,
    "start_time": "2024-09-13T11:43:04.387Z"
   },
   {
    "duration": 31,
    "start_time": "2024-09-13T11:43:04.773Z"
   },
   {
    "duration": 18,
    "start_time": "2024-09-13T11:43:04.806Z"
   },
   {
    "duration": 266,
    "start_time": "2024-09-13T11:43:04.826Z"
   },
   {
    "duration": 32,
    "start_time": "2024-09-13T11:43:05.095Z"
   },
   {
    "duration": 34,
    "start_time": "2024-09-13T11:43:05.129Z"
   },
   {
    "duration": 18,
    "start_time": "2024-09-13T11:43:05.165Z"
   },
   {
    "duration": 57,
    "start_time": "2024-09-13T11:43:05.184Z"
   },
   {
    "duration": 18,
    "start_time": "2024-09-13T11:43:05.243Z"
   },
   {
    "duration": 13,
    "start_time": "2024-09-13T11:43:05.263Z"
   },
   {
    "duration": 2053,
    "start_time": "2024-09-13T11:43:05.278Z"
   },
   {
    "duration": 392,
    "start_time": "2024-09-13T11:43:07.333Z"
   },
   {
    "duration": 1160,
    "start_time": "2024-09-13T11:43:49.016Z"
   },
   {
    "duration": 116,
    "start_time": "2024-09-13T11:43:50.178Z"
   },
   {
    "duration": 14,
    "start_time": "2024-09-13T11:43:50.296Z"
   },
   {
    "duration": 23,
    "start_time": "2024-09-13T11:43:50.312Z"
   },
   {
    "duration": 41,
    "start_time": "2024-09-13T11:43:50.338Z"
   },
   {
    "duration": 34,
    "start_time": "2024-09-13T11:43:50.381Z"
   },
   {
    "duration": 54,
    "start_time": "2024-09-13T11:43:50.416Z"
   },
   {
    "duration": 27,
    "start_time": "2024-09-13T11:43:50.472Z"
   },
   {
    "duration": 36,
    "start_time": "2024-09-13T11:43:50.501Z"
   },
   {
    "duration": 33,
    "start_time": "2024-09-13T11:43:50.539Z"
   },
   {
    "duration": 192,
    "start_time": "2024-09-13T11:43:50.574Z"
   },
   {
    "duration": 116,
    "start_time": "2024-09-13T11:43:50.768Z"
   },
   {
    "duration": 363,
    "start_time": "2024-09-13T11:43:50.885Z"
   },
   {
    "duration": 4,
    "start_time": "2024-09-13T11:43:51.254Z"
   },
   {
    "duration": 368,
    "start_time": "2024-09-13T11:43:51.260Z"
   },
   {
    "duration": 463,
    "start_time": "2024-09-13T11:43:51.630Z"
   },
   {
    "duration": 10,
    "start_time": "2024-09-13T11:43:52.095Z"
   },
   {
    "duration": 61,
    "start_time": "2024-09-13T11:43:52.107Z"
   },
   {
    "duration": 6,
    "start_time": "2024-09-13T11:43:52.170Z"
   },
   {
    "duration": 30,
    "start_time": "2024-09-13T11:43:52.178Z"
   },
   {
    "duration": 18,
    "start_time": "2024-09-13T11:43:52.210Z"
   },
   {
    "duration": 32,
    "start_time": "2024-09-13T11:43:52.230Z"
   },
   {
    "duration": 362,
    "start_time": "2024-09-13T11:43:52.264Z"
   },
   {
    "duration": 353,
    "start_time": "2024-09-13T11:43:52.628Z"
   },
   {
    "duration": 386,
    "start_time": "2024-09-13T11:43:52.983Z"
   },
   {
    "duration": 470,
    "start_time": "2024-09-13T11:43:53.371Z"
   },
   {
    "duration": 33,
    "start_time": "2024-09-13T11:43:53.842Z"
   },
   {
    "duration": 13,
    "start_time": "2024-09-13T11:43:53.877Z"
   },
   {
    "duration": 246,
    "start_time": "2024-09-13T11:43:53.891Z"
   },
   {
    "duration": 36,
    "start_time": "2024-09-13T11:43:54.139Z"
   },
   {
    "duration": 31,
    "start_time": "2024-09-13T11:43:54.176Z"
   },
   {
    "duration": 16,
    "start_time": "2024-09-13T11:43:54.209Z"
   },
   {
    "duration": 10,
    "start_time": "2024-09-13T11:43:54.227Z"
   },
   {
    "duration": 31,
    "start_time": "2024-09-13T11:43:54.239Z"
   },
   {
    "duration": 12,
    "start_time": "2024-09-13T11:43:54.272Z"
   },
   {
    "duration": 1890,
    "start_time": "2024-09-13T11:43:54.287Z"
   },
   {
    "duration": 268,
    "start_time": "2024-09-13T11:43:56.180Z"
   },
   {
    "duration": 3,
    "start_time": "2024-09-13T11:44:27.652Z"
   },
   {
    "duration": 124,
    "start_time": "2024-09-13T11:44:27.659Z"
   },
   {
    "duration": 15,
    "start_time": "2024-09-13T11:44:27.785Z"
   },
   {
    "duration": 13,
    "start_time": "2024-09-13T11:44:27.803Z"
   },
   {
    "duration": 42,
    "start_time": "2024-09-13T11:44:27.818Z"
   },
   {
    "duration": 17,
    "start_time": "2024-09-13T11:44:27.863Z"
   },
   {
    "duration": 8,
    "start_time": "2024-09-13T11:44:27.882Z"
   },
   {
    "duration": 12,
    "start_time": "2024-09-13T11:44:27.892Z"
   },
   {
    "duration": 9,
    "start_time": "2024-09-13T11:44:27.906Z"
   },
   {
    "duration": 29,
    "start_time": "2024-09-13T11:44:27.927Z"
   },
   {
    "duration": 209,
    "start_time": "2024-09-13T11:44:27.958Z"
   },
   {
    "duration": 102,
    "start_time": "2024-09-13T11:44:28.168Z"
   },
   {
    "duration": 507,
    "start_time": "2024-09-13T11:44:28.576Z"
   },
   {
    "duration": 5,
    "start_time": "2024-09-13T11:44:29.086Z"
   },
   {
    "duration": 400,
    "start_time": "2024-09-13T11:44:29.093Z"
   },
   {
    "duration": 386,
    "start_time": "2024-09-13T11:44:29.495Z"
   },
   {
    "duration": 9,
    "start_time": "2024-09-13T11:44:29.883Z"
   },
   {
    "duration": 29,
    "start_time": "2024-09-13T11:44:29.894Z"
   },
   {
    "duration": 5,
    "start_time": "2024-09-13T11:44:29.925Z"
   },
   {
    "duration": 29,
    "start_time": "2024-09-13T11:44:29.932Z"
   },
   {
    "duration": 18,
    "start_time": "2024-09-13T11:44:29.962Z"
   },
   {
    "duration": 16,
    "start_time": "2024-09-13T11:44:29.982Z"
   },
   {
    "duration": 391,
    "start_time": "2024-09-13T11:44:30.000Z"
   },
   {
    "duration": 468,
    "start_time": "2024-09-13T11:44:30.393Z"
   },
   {
    "duration": 378,
    "start_time": "2024-09-13T11:44:30.863Z"
   },
   {
    "duration": 351,
    "start_time": "2024-09-13T11:44:31.255Z"
   },
   {
    "duration": 26,
    "start_time": "2024-09-13T11:44:31.608Z"
   },
   {
    "duration": 27,
    "start_time": "2024-09-13T11:44:31.636Z"
   },
   {
    "duration": 239,
    "start_time": "2024-09-13T11:44:31.664Z"
   },
   {
    "duration": 26,
    "start_time": "2024-09-13T11:44:31.905Z"
   },
   {
    "duration": 30,
    "start_time": "2024-09-13T11:44:31.933Z"
   },
   {
    "duration": 14,
    "start_time": "2024-09-13T11:44:32.108Z"
   },
   {
    "duration": 8,
    "start_time": "2024-09-13T11:44:32.125Z"
   },
   {
    "duration": 19,
    "start_time": "2024-09-13T11:44:32.135Z"
   },
   {
    "duration": 12,
    "start_time": "2024-09-13T11:44:35.004Z"
   },
   {
    "duration": 2053,
    "start_time": "2024-09-13T11:44:35.018Z"
   },
   {
    "duration": 196,
    "start_time": "2024-09-13T11:44:37.074Z"
   },
   {
    "duration": 354,
    "start_time": "2024-09-13T11:46:10.142Z"
   },
   {
    "duration": 12,
    "start_time": "2024-09-13T11:46:38.063Z"
   },
   {
    "duration": 15,
    "start_time": "2024-09-13T11:46:44.018Z"
   },
   {
    "duration": 334,
    "start_time": "2024-09-13T11:46:51.161Z"
   },
   {
    "duration": 361,
    "start_time": "2024-09-13T11:47:28.513Z"
   },
   {
    "duration": 1136,
    "start_time": "2024-09-13T11:48:10.611Z"
   },
   {
    "duration": 123,
    "start_time": "2024-09-13T11:48:11.750Z"
   },
   {
    "duration": 17,
    "start_time": "2024-09-13T11:48:11.875Z"
   },
   {
    "duration": 14,
    "start_time": "2024-09-13T11:48:11.894Z"
   },
   {
    "duration": 7,
    "start_time": "2024-09-13T11:48:11.911Z"
   },
   {
    "duration": 8,
    "start_time": "2024-09-13T11:48:11.956Z"
   },
   {
    "duration": 23,
    "start_time": "2024-09-13T11:48:11.966Z"
   },
   {
    "duration": 17,
    "start_time": "2024-09-13T11:48:11.991Z"
   },
   {
    "duration": 9,
    "start_time": "2024-09-13T11:48:12.011Z"
   },
   {
    "duration": 9,
    "start_time": "2024-09-13T11:48:12.023Z"
   },
   {
    "duration": 215,
    "start_time": "2024-09-13T11:48:12.034Z"
   },
   {
    "duration": 89,
    "start_time": "2024-09-13T11:48:12.251Z"
   },
   {
    "duration": 357,
    "start_time": "2024-09-13T11:48:12.342Z"
   },
   {
    "duration": 5,
    "start_time": "2024-09-13T11:48:12.702Z"
   },
   {
    "duration": 373,
    "start_time": "2024-09-13T11:48:12.708Z"
   },
   {
    "duration": 466,
    "start_time": "2024-09-13T11:48:13.082Z"
   },
   {
    "duration": 12,
    "start_time": "2024-09-13T11:48:13.550Z"
   },
   {
    "duration": 1353,
    "start_time": "2024-09-13T13:23:25.308Z"
   },
   {
    "duration": 326,
    "start_time": "2024-09-13T13:23:26.663Z"
   },
   {
    "duration": 16,
    "start_time": "2024-09-13T13:23:26.992Z"
   },
   {
    "duration": 18,
    "start_time": "2024-09-13T13:23:27.011Z"
   },
   {
    "duration": 27,
    "start_time": "2024-09-13T13:23:27.032Z"
   },
   {
    "duration": 7,
    "start_time": "2024-09-13T13:23:27.062Z"
   },
   {
    "duration": 19,
    "start_time": "2024-09-13T13:23:27.071Z"
   },
   {
    "duration": 36,
    "start_time": "2024-09-13T13:23:27.092Z"
   },
   {
    "duration": 23,
    "start_time": "2024-09-13T13:23:27.131Z"
   },
   {
    "duration": 44,
    "start_time": "2024-09-13T13:23:27.157Z"
   },
   {
    "duration": 205,
    "start_time": "2024-09-13T13:23:27.203Z"
   },
   {
    "duration": 100,
    "start_time": "2024-09-13T13:23:27.409Z"
   },
   {
    "duration": 391,
    "start_time": "2024-09-13T13:23:27.511Z"
   },
   {
    "duration": 4,
    "start_time": "2024-09-13T13:23:27.903Z"
   },
   {
    "duration": 356,
    "start_time": "2024-09-13T13:23:27.909Z"
   },
   {
    "duration": 444,
    "start_time": "2024-09-13T13:23:28.267Z"
   },
   {
    "duration": 8,
    "start_time": "2024-09-13T13:23:28.713Z"
   },
   {
    "duration": 34,
    "start_time": "2024-09-13T13:23:28.723Z"
   },
   {
    "duration": 15,
    "start_time": "2024-09-13T13:23:28.759Z"
   },
   {
    "duration": 68,
    "start_time": "2024-09-13T13:23:28.776Z"
   },
   {
    "duration": 19,
    "start_time": "2024-09-13T13:23:28.846Z"
   },
   {
    "duration": 25,
    "start_time": "2024-09-13T13:23:28.867Z"
   },
   {
    "duration": 394,
    "start_time": "2024-09-13T13:23:28.893Z"
   },
   {
    "duration": 346,
    "start_time": "2024-09-13T13:23:29.289Z"
   },
   {
    "duration": 360,
    "start_time": "2024-09-13T13:23:29.637Z"
   },
   {
    "duration": 472,
    "start_time": "2024-09-13T13:23:29.999Z"
   },
   {
    "duration": 27,
    "start_time": "2024-09-13T13:23:30.472Z"
   },
   {
    "duration": 17,
    "start_time": "2024-09-13T13:23:30.503Z"
   },
   {
    "duration": 246,
    "start_time": "2024-09-13T13:23:30.522Z"
   },
   {
    "duration": 28,
    "start_time": "2024-09-13T13:23:30.770Z"
   },
   {
    "duration": 20,
    "start_time": "2024-09-13T13:23:30.800Z"
   },
   {
    "duration": 33,
    "start_time": "2024-09-13T13:23:30.822Z"
   },
   {
    "duration": 7,
    "start_time": "2024-09-13T13:23:30.857Z"
   },
   {
    "duration": 32,
    "start_time": "2024-09-13T13:23:30.866Z"
   },
   {
    "duration": 71,
    "start_time": "2024-09-13T13:23:30.900Z"
   },
   {
    "duration": 1868,
    "start_time": "2024-09-13T13:23:30.973Z"
   },
   {
    "duration": 423,
    "start_time": "2024-09-13T13:23:32.844Z"
   },
   {
    "duration": 1183,
    "start_time": "2024-09-13T13:26:03.483Z"
   },
   {
    "duration": 119,
    "start_time": "2024-09-13T13:26:04.668Z"
   },
   {
    "duration": 16,
    "start_time": "2024-09-13T13:26:04.788Z"
   },
   {
    "duration": 13,
    "start_time": "2024-09-13T13:26:04.806Z"
   },
   {
    "duration": 34,
    "start_time": "2024-09-13T13:26:04.821Z"
   },
   {
    "duration": 7,
    "start_time": "2024-09-13T13:26:04.857Z"
   },
   {
    "duration": 19,
    "start_time": "2024-09-13T13:26:04.866Z"
   },
   {
    "duration": 8,
    "start_time": "2024-09-13T13:26:04.887Z"
   },
   {
    "duration": 9,
    "start_time": "2024-09-13T13:26:04.896Z"
   },
   {
    "duration": 12,
    "start_time": "2024-09-13T13:26:04.908Z"
   },
   {
    "duration": 230,
    "start_time": "2024-09-13T13:26:04.921Z"
   },
   {
    "duration": 108,
    "start_time": "2024-09-13T13:26:05.155Z"
   },
   {
    "duration": 393,
    "start_time": "2024-09-13T13:26:05.265Z"
   },
   {
    "duration": 4,
    "start_time": "2024-09-13T13:26:05.659Z"
   },
   {
    "duration": 408,
    "start_time": "2024-09-13T13:26:05.665Z"
   },
   {
    "duration": 517,
    "start_time": "2024-09-13T13:26:06.074Z"
   },
   {
    "duration": 9,
    "start_time": "2024-09-13T13:26:06.593Z"
   },
   {
    "duration": 33,
    "start_time": "2024-09-13T13:26:06.603Z"
   },
   {
    "duration": 80,
    "start_time": "2024-09-13T13:26:06.638Z"
   },
   {
    "duration": 23,
    "start_time": "2024-09-13T13:26:06.721Z"
   },
   {
    "duration": 29,
    "start_time": "2024-09-13T13:26:06.746Z"
   },
   {
    "duration": 15,
    "start_time": "2024-09-13T13:26:06.776Z"
   },
   {
    "duration": 382,
    "start_time": "2024-09-13T13:26:06.793Z"
   },
   {
    "duration": 375,
    "start_time": "2024-09-13T13:26:07.177Z"
   },
   {
    "duration": 389,
    "start_time": "2024-09-13T13:26:07.555Z"
   },
   {
    "duration": 467,
    "start_time": "2024-09-13T13:26:07.946Z"
   },
   {
    "duration": 26,
    "start_time": "2024-09-13T13:26:08.414Z"
   },
   {
    "duration": 43,
    "start_time": "2024-09-13T13:26:08.456Z"
   },
   {
    "duration": 230,
    "start_time": "2024-09-13T13:26:08.501Z"
   },
   {
    "duration": 38,
    "start_time": "2024-09-13T13:26:08.733Z"
   },
   {
    "duration": 22,
    "start_time": "2024-09-13T13:26:08.772Z"
   },
   {
    "duration": 20,
    "start_time": "2024-09-13T13:26:08.795Z"
   },
   {
    "duration": 11,
    "start_time": "2024-09-13T13:26:08.817Z"
   },
   {
    "duration": 38,
    "start_time": "2024-09-13T13:26:08.830Z"
   },
   {
    "duration": 26,
    "start_time": "2024-09-13T13:26:08.869Z"
   },
   {
    "duration": 1911,
    "start_time": "2024-09-13T13:26:08.897Z"
   },
   {
    "duration": 325,
    "start_time": "2024-09-13T13:26:10.811Z"
   },
   {
    "duration": 22,
    "start_time": "2024-09-13T13:28:49.376Z"
   },
   {
    "duration": 48,
    "start_time": "2024-09-14T07:51:34.644Z"
   },
   {
    "duration": 1208,
    "start_time": "2024-09-14T07:51:39.195Z"
   },
   {
    "duration": 390,
    "start_time": "2024-09-14T07:51:40.405Z"
   },
   {
    "duration": 12,
    "start_time": "2024-09-14T07:51:40.796Z"
   },
   {
    "duration": 10,
    "start_time": "2024-09-14T07:51:40.809Z"
   },
   {
    "duration": 5,
    "start_time": "2024-09-14T07:51:40.821Z"
   },
   {
    "duration": 6,
    "start_time": "2024-09-14T07:51:40.827Z"
   },
   {
    "duration": 4,
    "start_time": "2024-09-14T07:51:40.835Z"
   },
   {
    "duration": 5,
    "start_time": "2024-09-14T07:51:40.840Z"
   },
   {
    "duration": 6,
    "start_time": "2024-09-14T07:51:40.846Z"
   },
   {
    "duration": 6,
    "start_time": "2024-09-14T07:51:40.854Z"
   },
   {
    "duration": 194,
    "start_time": "2024-09-14T07:51:40.861Z"
   },
   {
    "duration": 86,
    "start_time": "2024-09-14T07:51:41.056Z"
   },
   {
    "duration": 298,
    "start_time": "2024-09-14T07:51:41.144Z"
   },
   {
    "duration": 3,
    "start_time": "2024-09-14T07:51:41.444Z"
   },
   {
    "duration": 293,
    "start_time": "2024-09-14T07:51:41.448Z"
   },
   {
    "duration": 375,
    "start_time": "2024-09-14T07:51:41.743Z"
   },
   {
    "duration": 11,
    "start_time": "2024-09-14T07:51:42.120Z"
   },
   {
    "duration": 9,
    "start_time": "2024-09-14T07:51:42.132Z"
   },
   {
    "duration": 3,
    "start_time": "2024-09-14T07:51:42.142Z"
   },
   {
    "duration": 18,
    "start_time": "2024-09-14T07:51:42.147Z"
   },
   {
    "duration": 14,
    "start_time": "2024-09-14T07:51:42.167Z"
   },
   {
    "duration": 68,
    "start_time": "2024-09-14T07:51:42.182Z"
   },
   {
    "duration": 6,
    "start_time": "2024-09-14T07:51:42.252Z"
   },
   {
    "duration": 291,
    "start_time": "2024-09-14T07:51:42.259Z"
   },
   {
    "duration": 294,
    "start_time": "2024-09-14T07:51:42.551Z"
   },
   {
    "duration": 304,
    "start_time": "2024-09-14T07:51:42.846Z"
   },
   {
    "duration": 390,
    "start_time": "2024-09-14T07:51:43.151Z"
   },
   {
    "duration": 22,
    "start_time": "2024-09-14T07:51:43.542Z"
   },
   {
    "duration": 11,
    "start_time": "2024-09-14T07:51:43.565Z"
   },
   {
    "duration": 206,
    "start_time": "2024-09-14T07:51:43.577Z"
   },
   {
    "duration": 23,
    "start_time": "2024-09-14T07:51:43.784Z"
   },
   {
    "duration": 28,
    "start_time": "2024-09-14T07:51:43.809Z"
   },
   {
    "duration": 18,
    "start_time": "2024-09-14T07:51:43.838Z"
   },
   {
    "duration": 36,
    "start_time": "2024-09-14T07:51:43.857Z"
   },
   {
    "duration": 6,
    "start_time": "2024-09-14T07:51:43.894Z"
   },
   {
    "duration": 9,
    "start_time": "2024-09-14T07:51:43.902Z"
   },
   {
    "duration": 1584,
    "start_time": "2024-09-14T07:51:43.912Z"
   },
   {
    "duration": 377,
    "start_time": "2024-09-14T07:51:45.498Z"
   },
   {
    "duration": 13,
    "start_time": "2024-09-14T07:52:07.368Z"
   },
   {
    "duration": 9,
    "start_time": "2024-09-14T07:53:04.310Z"
   },
   {
    "duration": 9,
    "start_time": "2024-09-14T07:53:26.551Z"
   },
   {
    "duration": 18,
    "start_time": "2024-09-14T07:55:23.931Z"
   },
   {
    "duration": 17,
    "start_time": "2024-09-14T07:56:57.420Z"
   },
   {
    "duration": 3,
    "start_time": "2024-09-14T07:57:22.617Z"
   },
   {
    "duration": 121,
    "start_time": "2024-09-14T07:57:22.622Z"
   },
   {
    "duration": 13,
    "start_time": "2024-09-14T07:57:22.744Z"
   },
   {
    "duration": 12,
    "start_time": "2024-09-14T07:57:22.759Z"
   },
   {
    "duration": 6,
    "start_time": "2024-09-14T07:57:22.773Z"
   },
   {
    "duration": 6,
    "start_time": "2024-09-14T07:57:22.781Z"
   },
   {
    "duration": 5,
    "start_time": "2024-09-14T07:57:22.825Z"
   },
   {
    "duration": 9,
    "start_time": "2024-09-14T07:57:22.832Z"
   },
   {
    "duration": 8,
    "start_time": "2024-09-14T07:57:22.843Z"
   },
   {
    "duration": 8,
    "start_time": "2024-09-14T07:57:22.852Z"
   },
   {
    "duration": 151,
    "start_time": "2024-09-14T07:57:22.985Z"
   },
   {
    "duration": 87,
    "start_time": "2024-09-14T07:57:23.138Z"
   },
   {
    "duration": 417,
    "start_time": "2024-09-14T07:57:23.227Z"
   },
   {
    "duration": 4,
    "start_time": "2024-09-14T07:57:23.646Z"
   },
   {
    "duration": 290,
    "start_time": "2024-09-14T07:57:23.652Z"
   },
   {
    "duration": 293,
    "start_time": "2024-09-14T07:57:23.943Z"
   },
   {
    "duration": 8,
    "start_time": "2024-09-14T07:57:24.237Z"
   },
   {
    "duration": 24,
    "start_time": "2024-09-14T07:57:24.246Z"
   },
   {
    "duration": 9,
    "start_time": "2024-09-14T07:57:24.271Z"
   },
   {
    "duration": 14,
    "start_time": "2024-09-14T07:57:24.281Z"
   },
   {
    "duration": 32,
    "start_time": "2024-09-14T07:57:24.297Z"
   },
   {
    "duration": 12,
    "start_time": "2024-09-14T07:57:24.330Z"
   },
   {
    "duration": 11,
    "start_time": "2024-09-14T07:57:24.343Z"
   },
   {
    "duration": 304,
    "start_time": "2024-09-14T07:57:24.357Z"
   },
   {
    "duration": 366,
    "start_time": "2024-09-14T07:57:24.662Z"
   },
   {
    "duration": 308,
    "start_time": "2024-09-14T07:57:25.030Z"
   },
   {
    "duration": 307,
    "start_time": "2024-09-14T07:57:25.339Z"
   },
   {
    "duration": 22,
    "start_time": "2024-09-14T07:57:25.648Z"
   },
   {
    "duration": 12,
    "start_time": "2024-09-14T07:57:25.672Z"
   },
   {
    "duration": 216,
    "start_time": "2024-09-14T07:57:25.686Z"
   },
   {
    "duration": 33,
    "start_time": "2024-09-14T07:57:25.904Z"
   },
   {
    "duration": 17,
    "start_time": "2024-09-14T07:57:25.939Z"
   },
   {
    "duration": 11,
    "start_time": "2024-09-14T07:57:25.958Z"
   },
   {
    "duration": 7,
    "start_time": "2024-09-14T07:57:25.971Z"
   },
   {
    "duration": 8,
    "start_time": "2024-09-14T07:57:25.979Z"
   },
   {
    "duration": 40,
    "start_time": "2024-09-14T07:57:25.989Z"
   },
   {
    "duration": 1667,
    "start_time": "2024-09-14T07:57:26.031Z"
   },
   {
    "duration": 325,
    "start_time": "2024-09-14T07:57:27.700Z"
   },
   {
    "duration": 5,
    "start_time": "2024-09-14T07:57:40.417Z"
   },
   {
    "duration": 56,
    "start_time": "2024-09-14T08:04:59.501Z"
   },
   {
    "duration": 11,
    "start_time": "2024-09-14T08:05:05.454Z"
   },
   {
    "duration": 10,
    "start_time": "2024-09-14T08:05:10.191Z"
   },
   {
    "duration": 9,
    "start_time": "2024-09-14T08:05:17.689Z"
   },
   {
    "duration": 10,
    "start_time": "2024-09-14T08:05:30.364Z"
   },
   {
    "duration": 24,
    "start_time": "2024-09-14T08:05:47.720Z"
   },
   {
    "duration": 17,
    "start_time": "2024-09-14T08:05:55.141Z"
   },
   {
    "duration": 23,
    "start_time": "2024-09-14T08:07:08.672Z"
   },
   {
    "duration": 22,
    "start_time": "2024-09-14T08:07:14.964Z"
   },
   {
    "duration": 17,
    "start_time": "2024-09-14T08:07:24.879Z"
   },
   {
    "duration": 15,
    "start_time": "2024-09-14T08:07:43.741Z"
   },
   {
    "duration": 10,
    "start_time": "2024-09-14T08:08:36.442Z"
   },
   {
    "duration": 7,
    "start_time": "2024-09-14T08:08:45.100Z"
   },
   {
    "duration": 18,
    "start_time": "2024-09-14T08:08:55.624Z"
   },
   {
    "duration": 18,
    "start_time": "2024-09-14T08:08:57.704Z"
   },
   {
    "duration": 10,
    "start_time": "2024-09-14T08:09:12.465Z"
   },
   {
    "duration": 7,
    "start_time": "2024-09-14T08:09:15.891Z"
   },
   {
    "duration": 7,
    "start_time": "2024-09-14T08:09:23.033Z"
   },
   {
    "duration": 9,
    "start_time": "2024-09-14T08:09:26.759Z"
   },
   {
    "duration": 12,
    "start_time": "2024-09-14T08:09:51.286Z"
   },
   {
    "duration": 5,
    "start_time": "2024-09-14T08:10:04.142Z"
   },
   {
    "duration": 55,
    "start_time": "2024-09-14T08:10:28.790Z"
   },
   {
    "duration": 11,
    "start_time": "2024-09-14T08:10:32.921Z"
   },
   {
    "duration": 8,
    "start_time": "2024-09-14T08:10:47.266Z"
   },
   {
    "duration": 9,
    "start_time": "2024-09-14T08:10:58.499Z"
   },
   {
    "duration": 6,
    "start_time": "2024-09-14T08:13:14.333Z"
   },
   {
    "duration": 6,
    "start_time": "2024-09-14T08:13:24.064Z"
   },
   {
    "duration": 13,
    "start_time": "2024-09-14T08:13:43.243Z"
   },
   {
    "duration": 4,
    "start_time": "2024-09-14T08:15:47.151Z"
   },
   {
    "duration": 3,
    "start_time": "2024-09-14T08:15:59.410Z"
   },
   {
    "duration": 4,
    "start_time": "2024-09-14T08:16:08.923Z"
   },
   {
    "duration": 3,
    "start_time": "2024-09-14T08:16:21.430Z"
   },
   {
    "duration": 12,
    "start_time": "2024-09-14T08:16:33.771Z"
   },
   {
    "duration": 9,
    "start_time": "2024-09-14T08:17:00.351Z"
   },
   {
    "duration": 14,
    "start_time": "2024-09-14T08:17:20.358Z"
   },
   {
    "duration": 16,
    "start_time": "2024-09-14T08:17:29.895Z"
   },
   {
    "duration": 15,
    "start_time": "2024-09-14T08:17:35.867Z"
   },
   {
    "duration": 18,
    "start_time": "2024-09-14T08:17:54.964Z"
   },
   {
    "duration": 21,
    "start_time": "2024-09-14T08:18:12.326Z"
   },
   {
    "duration": 21,
    "start_time": "2024-09-14T08:19:05.048Z"
   },
   {
    "duration": 23,
    "start_time": "2024-09-14T08:19:22.711Z"
   },
   {
    "duration": 22,
    "start_time": "2024-09-14T08:19:36.364Z"
   },
   {
    "duration": 18,
    "start_time": "2024-09-14T08:19:55.022Z"
   },
   {
    "duration": 19,
    "start_time": "2024-09-14T08:20:07.653Z"
   },
   {
    "duration": 21,
    "start_time": "2024-09-14T08:20:19.299Z"
   },
   {
    "duration": 26,
    "start_time": "2024-09-14T08:20:29.658Z"
   },
   {
    "duration": 29,
    "start_time": "2024-09-14T08:22:40.623Z"
   },
   {
    "duration": 8,
    "start_time": "2024-09-14T08:22:56.496Z"
   },
   {
    "duration": 322,
    "start_time": "2024-09-14T08:23:18.803Z"
   },
   {
    "duration": 304,
    "start_time": "2024-09-14T08:23:31.304Z"
   },
   {
    "duration": 7,
    "start_time": "2024-09-14T08:23:50.734Z"
   },
   {
    "duration": 7,
    "start_time": "2024-09-14T08:23:55.932Z"
   },
   {
    "duration": 3,
    "start_time": "2024-09-14T08:24:02.730Z"
   },
   {
    "duration": 128,
    "start_time": "2024-09-14T08:24:02.736Z"
   },
   {
    "duration": 16,
    "start_time": "2024-09-14T08:24:02.866Z"
   },
   {
    "duration": 13,
    "start_time": "2024-09-14T08:24:02.884Z"
   },
   {
    "duration": 11,
    "start_time": "2024-09-14T08:24:02.926Z"
   },
   {
    "duration": 7,
    "start_time": "2024-09-14T08:24:02.938Z"
   },
   {
    "duration": 5,
    "start_time": "2024-09-14T08:24:02.947Z"
   },
   {
    "duration": 12,
    "start_time": "2024-09-14T08:24:02.954Z"
   },
   {
    "duration": 8,
    "start_time": "2024-09-14T08:24:02.969Z"
   },
   {
    "duration": 9,
    "start_time": "2024-09-14T08:24:02.978Z"
   },
   {
    "duration": 177,
    "start_time": "2024-09-14T08:24:03.025Z"
   },
   {
    "duration": 90,
    "start_time": "2024-09-14T08:24:03.204Z"
   },
   {
    "duration": 327,
    "start_time": "2024-09-14T08:24:03.296Z"
   },
   {
    "duration": 4,
    "start_time": "2024-09-14T08:24:03.626Z"
   },
   {
    "duration": 553,
    "start_time": "2024-09-14T08:24:03.632Z"
   },
   {
    "duration": 322,
    "start_time": "2024-09-14T08:24:04.186Z"
   },
   {
    "duration": 16,
    "start_time": "2024-09-14T08:24:04.510Z"
   },
   {
    "duration": 9,
    "start_time": "2024-09-14T08:24:04.528Z"
   },
   {
    "duration": 3,
    "start_time": "2024-09-14T08:24:04.539Z"
   },
   {
    "duration": 17,
    "start_time": "2024-09-14T08:24:04.544Z"
   },
   {
    "duration": 19,
    "start_time": "2024-09-14T08:24:04.562Z"
   },
   {
    "duration": 58,
    "start_time": "2024-09-14T08:24:04.582Z"
   },
   {
    "duration": 22,
    "start_time": "2024-09-14T08:24:04.641Z"
   },
   {
    "duration": 32,
    "start_time": "2024-09-14T08:24:04.664Z"
   },
   {
    "duration": 15,
    "start_time": "2024-09-14T08:24:04.698Z"
   },
   {
    "duration": 312,
    "start_time": "2024-09-14T08:24:04.715Z"
   },
   {
    "duration": 319,
    "start_time": "2024-09-14T08:24:05.029Z"
   },
   {
    "duration": 433,
    "start_time": "2024-09-14T08:24:05.350Z"
   },
   {
    "duration": 314,
    "start_time": "2024-09-14T08:24:05.784Z"
   },
   {
    "duration": 29,
    "start_time": "2024-09-14T08:24:06.101Z"
   },
   {
    "duration": 12,
    "start_time": "2024-09-14T08:24:06.132Z"
   },
   {
    "duration": 205,
    "start_time": "2024-09-14T08:24:06.145Z"
   },
   {
    "duration": 23,
    "start_time": "2024-09-14T08:24:06.352Z"
   },
   {
    "duration": 16,
    "start_time": "2024-09-14T08:24:06.377Z"
   },
   {
    "duration": 32,
    "start_time": "2024-09-14T08:24:06.395Z"
   },
   {
    "duration": 6,
    "start_time": "2024-09-14T08:24:06.429Z"
   },
   {
    "duration": 7,
    "start_time": "2024-09-14T08:24:06.436Z"
   },
   {
    "duration": 9,
    "start_time": "2024-09-14T08:24:06.444Z"
   },
   {
    "duration": 1641,
    "start_time": "2024-09-14T08:24:06.455Z"
   },
   {
    "duration": 330,
    "start_time": "2024-09-14T08:24:08.098Z"
   },
   {
    "duration": 7,
    "start_time": "2024-09-14T08:24:18.344Z"
   },
   {
    "duration": 3,
    "start_time": "2024-09-14T08:25:18.657Z"
   },
   {
    "duration": 118,
    "start_time": "2024-09-14T08:25:18.664Z"
   },
   {
    "duration": 12,
    "start_time": "2024-09-14T08:25:18.783Z"
   },
   {
    "duration": 9,
    "start_time": "2024-09-14T08:25:18.797Z"
   },
   {
    "duration": 5,
    "start_time": "2024-09-14T08:25:18.828Z"
   },
   {
    "duration": 8,
    "start_time": "2024-09-14T08:25:18.834Z"
   },
   {
    "duration": 17,
    "start_time": "2024-09-14T08:25:18.844Z"
   },
   {
    "duration": 8,
    "start_time": "2024-09-14T08:25:18.862Z"
   },
   {
    "duration": 169,
    "start_time": "2024-09-14T08:25:18.871Z"
   },
   {
    "duration": 73,
    "start_time": "2024-09-14T08:25:19.042Z"
   },
   {
    "duration": 156,
    "start_time": "2024-09-14T08:25:19.117Z"
   },
   {
    "duration": 89,
    "start_time": "2024-09-14T08:25:19.274Z"
   },
   {
    "duration": 356,
    "start_time": "2024-09-14T08:25:19.365Z"
   },
   {
    "duration": 325,
    "start_time": "2024-09-14T08:25:19.724Z"
   },
   {
    "duration": 367,
    "start_time": "2024-09-14T08:25:20.051Z"
   },
   {
    "duration": 13,
    "start_time": "2024-09-14T08:25:20.419Z"
   },
   {
    "duration": 8,
    "start_time": "2024-09-14T08:25:20.433Z"
   },
   {
    "duration": 4,
    "start_time": "2024-09-14T08:25:20.442Z"
   },
   {
    "duration": 18,
    "start_time": "2024-09-14T08:25:20.448Z"
   },
   {
    "duration": 19,
    "start_time": "2024-09-14T08:25:20.467Z"
   },
   {
    "duration": 19,
    "start_time": "2024-09-14T08:25:20.526Z"
   },
   {
    "duration": 9,
    "start_time": "2024-09-14T08:25:20.546Z"
   },
   {
    "duration": 21,
    "start_time": "2024-09-14T08:25:20.556Z"
   },
   {
    "duration": 13,
    "start_time": "2024-09-14T08:25:20.578Z"
   },
   {
    "duration": 449,
    "start_time": "2024-09-14T08:25:20.592Z"
   },
   {
    "duration": 318,
    "start_time": "2024-09-14T08:25:21.043Z"
   },
   {
    "duration": 325,
    "start_time": "2024-09-14T08:25:21.363Z"
   },
   {
    "duration": 326,
    "start_time": "2024-09-14T08:25:21.689Z"
   },
   {
    "duration": 25,
    "start_time": "2024-09-14T08:25:22.018Z"
   },
   {
    "duration": 10,
    "start_time": "2024-09-14T08:25:22.044Z"
   },
   {
    "duration": 308,
    "start_time": "2024-09-14T08:25:22.055Z"
   },
   {
    "duration": 25,
    "start_time": "2024-09-14T08:25:22.364Z"
   },
   {
    "duration": 16,
    "start_time": "2024-09-14T08:25:22.390Z"
   },
   {
    "duration": 12,
    "start_time": "2024-09-14T08:25:22.425Z"
   },
   {
    "duration": 11,
    "start_time": "2024-09-14T08:25:22.438Z"
   },
   {
    "duration": 10,
    "start_time": "2024-09-14T08:25:22.450Z"
   },
   {
    "duration": 13,
    "start_time": "2024-09-14T08:25:22.461Z"
   },
   {
    "duration": 1681,
    "start_time": "2024-09-14T08:25:22.475Z"
   },
   {
    "duration": 277,
    "start_time": "2024-09-14T08:25:24.157Z"
   },
   {
    "duration": 58,
    "start_time": "2024-09-14T08:45:23.743Z"
   },
   {
    "duration": 67,
    "start_time": "2024-09-14T08:48:43.259Z"
   },
   {
    "duration": 55,
    "start_time": "2024-09-14T08:48:57.611Z"
   },
   {
    "duration": 53,
    "start_time": "2024-09-14T08:49:03.585Z"
   },
   {
    "duration": 56,
    "start_time": "2024-09-14T08:49:22.828Z"
   },
   {
    "duration": 16,
    "start_time": "2024-09-14T08:49:33.429Z"
   },
   {
    "duration": 71,
    "start_time": "2024-09-14T08:51:48.455Z"
   },
   {
    "duration": 76,
    "start_time": "2024-09-14T08:51:56.215Z"
   },
   {
    "duration": 74,
    "start_time": "2024-09-14T08:52:07.170Z"
   },
   {
    "duration": 3,
    "start_time": "2024-09-14T08:52:14.185Z"
   },
   {
    "duration": 111,
    "start_time": "2024-09-14T08:52:14.190Z"
   },
   {
    "duration": 12,
    "start_time": "2024-09-14T08:52:14.302Z"
   },
   {
    "duration": 10,
    "start_time": "2024-09-14T08:52:14.316Z"
   },
   {
    "duration": 5,
    "start_time": "2024-09-14T08:52:14.328Z"
   },
   {
    "duration": 8,
    "start_time": "2024-09-14T08:52:14.334Z"
   },
   {
    "duration": 7,
    "start_time": "2024-09-14T08:52:14.343Z"
   },
   {
    "duration": 5,
    "start_time": "2024-09-14T08:52:14.351Z"
   },
   {
    "duration": 7,
    "start_time": "2024-09-14T08:52:14.358Z"
   },
   {
    "duration": 6,
    "start_time": "2024-09-14T08:52:14.367Z"
   },
   {
    "duration": 202,
    "start_time": "2024-09-14T08:52:14.375Z"
   },
   {
    "duration": 87,
    "start_time": "2024-09-14T08:52:14.579Z"
   },
   {
    "duration": 304,
    "start_time": "2024-09-14T08:52:14.667Z"
   },
   {
    "duration": 485,
    "start_time": "2024-09-14T08:52:14.972Z"
   },
   {
    "duration": 322,
    "start_time": "2024-09-14T08:52:15.458Z"
   },
   {
    "duration": 8,
    "start_time": "2024-09-14T08:52:15.782Z"
   },
   {
    "duration": 9,
    "start_time": "2024-09-14T08:52:15.792Z"
   },
   {
    "duration": 25,
    "start_time": "2024-09-14T08:52:15.802Z"
   },
   {
    "duration": 17,
    "start_time": "2024-09-14T08:52:15.828Z"
   },
   {
    "duration": 18,
    "start_time": "2024-09-14T08:52:15.848Z"
   },
   {
    "duration": 14,
    "start_time": "2024-09-14T08:52:15.867Z"
   },
   {
    "duration": 12,
    "start_time": "2024-09-14T08:52:15.882Z"
   },
   {
    "duration": 334,
    "start_time": "2024-09-14T08:52:15.895Z"
   },
   {
    "duration": 313,
    "start_time": "2024-09-14T08:52:16.231Z"
   },
   {
    "duration": 459,
    "start_time": "2024-09-14T08:52:16.545Z"
   },
   {
    "duration": 341,
    "start_time": "2024-09-14T08:52:17.006Z"
   },
   {
    "duration": 21,
    "start_time": "2024-09-14T08:52:17.349Z"
   },
   {
    "duration": 10,
    "start_time": "2024-09-14T08:52:17.372Z"
   },
   {
    "duration": 211,
    "start_time": "2024-09-14T08:52:17.384Z"
   },
   {
    "duration": 33,
    "start_time": "2024-09-14T08:52:17.596Z"
   },
   {
    "duration": 74,
    "start_time": "2024-09-14T08:52:17.631Z"
   },
   {
    "duration": 28,
    "start_time": "2024-09-14T08:52:17.707Z"
   },
   {
    "duration": 12,
    "start_time": "2024-09-14T08:52:17.736Z"
   },
   {
    "duration": 5,
    "start_time": "2024-09-14T08:52:17.749Z"
   },
   {
    "duration": 6,
    "start_time": "2024-09-14T08:52:17.756Z"
   },
   {
    "duration": 17,
    "start_time": "2024-09-14T08:52:17.763Z"
   },
   {
    "duration": 1659,
    "start_time": "2024-09-14T08:52:17.781Z"
   },
   {
    "duration": 302,
    "start_time": "2024-09-14T08:52:19.442Z"
   },
   {
    "duration": 23,
    "start_time": "2024-09-14T08:55:04.499Z"
   },
   {
    "duration": 25,
    "start_time": "2024-09-14T08:55:22.164Z"
   },
   {
    "duration": 81,
    "start_time": "2024-09-14T08:55:31.136Z"
   },
   {
    "duration": 22,
    "start_time": "2024-09-14T08:55:45.661Z"
   },
   {
    "duration": 75,
    "start_time": "2024-09-14T08:55:54.109Z"
   },
   {
    "duration": 76,
    "start_time": "2024-09-14T08:56:04.030Z"
   },
   {
    "duration": 24,
    "start_time": "2024-09-14T08:56:05.910Z"
   },
   {
    "duration": 8,
    "start_time": "2024-09-14T09:03:16.923Z"
   },
   {
    "duration": 9,
    "start_time": "2024-09-14T09:04:04.722Z"
   },
   {
    "duration": 9,
    "start_time": "2024-09-14T09:04:31.407Z"
   },
   {
    "duration": 3,
    "start_time": "2024-09-14T09:05:01.574Z"
   },
   {
    "duration": 104,
    "start_time": "2024-09-14T09:05:01.579Z"
   },
   {
    "duration": 15,
    "start_time": "2024-09-14T09:05:01.685Z"
   },
   {
    "duration": 25,
    "start_time": "2024-09-14T09:05:01.702Z"
   },
   {
    "duration": 19,
    "start_time": "2024-09-14T09:05:01.728Z"
   },
   {
    "duration": 26,
    "start_time": "2024-09-14T09:05:01.749Z"
   },
   {
    "duration": 6,
    "start_time": "2024-09-14T09:05:01.776Z"
   },
   {
    "duration": 11,
    "start_time": "2024-09-14T09:05:01.783Z"
   },
   {
    "duration": 7,
    "start_time": "2024-09-14T09:05:01.796Z"
   },
   {
    "duration": 20,
    "start_time": "2024-09-14T09:05:01.804Z"
   },
   {
    "duration": 203,
    "start_time": "2024-09-14T09:05:01.825Z"
   },
   {
    "duration": 242,
    "start_time": "2024-09-14T09:05:02.029Z"
   },
   {
    "duration": 367,
    "start_time": "2024-09-14T09:05:02.273Z"
   },
   {
    "duration": 375,
    "start_time": "2024-09-14T09:05:02.641Z"
   },
   {
    "duration": 338,
    "start_time": "2024-09-14T09:05:03.018Z"
   },
   {
    "duration": 9,
    "start_time": "2024-09-14T09:05:03.358Z"
   },
   {
    "duration": 11,
    "start_time": "2024-09-14T09:05:03.368Z"
   },
   {
    "duration": 4,
    "start_time": "2024-09-14T09:05:03.380Z"
   },
   {
    "duration": 45,
    "start_time": "2024-09-14T09:05:03.387Z"
   },
   {
    "duration": 18,
    "start_time": "2024-09-14T09:05:03.434Z"
   },
   {
    "duration": 13,
    "start_time": "2024-09-14T09:05:03.454Z"
   },
   {
    "duration": 13,
    "start_time": "2024-09-14T09:05:03.468Z"
   },
   {
    "duration": 422,
    "start_time": "2024-09-14T09:05:03.482Z"
   },
   {
    "duration": 324,
    "start_time": "2024-09-14T09:05:03.906Z"
   },
   {
    "duration": 329,
    "start_time": "2024-09-14T09:05:04.232Z"
   },
   {
    "duration": 319,
    "start_time": "2024-09-14T09:05:04.563Z"
   },
   {
    "duration": 21,
    "start_time": "2024-09-14T09:05:04.883Z"
   },
   {
    "duration": 34,
    "start_time": "2024-09-14T09:05:04.906Z"
   },
   {
    "duration": 290,
    "start_time": "2024-09-14T09:05:04.941Z"
   },
   {
    "duration": 25,
    "start_time": "2024-09-14T09:05:05.232Z"
   },
   {
    "duration": 88,
    "start_time": "2024-09-14T09:05:05.258Z"
   },
   {
    "duration": 16,
    "start_time": "2024-09-14T09:05:05.348Z"
   },
   {
    "duration": 9,
    "start_time": "2024-09-14T09:05:05.365Z"
   },
   {
    "duration": 5,
    "start_time": "2024-09-14T09:05:05.375Z"
   },
   {
    "duration": 7,
    "start_time": "2024-09-14T09:05:05.382Z"
   },
   {
    "duration": 36,
    "start_time": "2024-09-14T09:05:05.390Z"
   },
   {
    "duration": 11,
    "start_time": "2024-09-14T09:05:05.428Z"
   },
   {
    "duration": 1703,
    "start_time": "2024-09-14T09:05:05.440Z"
   },
   {
    "duration": 297,
    "start_time": "2024-09-14T09:05:07.145Z"
   },
   {
    "duration": 5,
    "start_time": "2024-09-14T09:08:51.612Z"
   },
   {
    "duration": 5,
    "start_time": "2024-09-14T09:09:57.479Z"
   },
   {
    "duration": 9,
    "start_time": "2024-09-14T09:16:10.830Z"
   },
   {
    "duration": 7,
    "start_time": "2024-09-14T09:16:26.150Z"
   },
   {
    "duration": 5,
    "start_time": "2024-09-14T09:16:27.696Z"
   },
   {
    "duration": 1121,
    "start_time": "2024-09-14T09:18:39.288Z"
   },
   {
    "duration": 113,
    "start_time": "2024-09-14T09:18:40.411Z"
   },
   {
    "duration": 14,
    "start_time": "2024-09-14T09:18:40.526Z"
   },
   {
    "duration": 14,
    "start_time": "2024-09-14T09:18:40.542Z"
   },
   {
    "duration": 5,
    "start_time": "2024-09-14T09:18:40.558Z"
   },
   {
    "duration": 6,
    "start_time": "2024-09-14T09:18:40.565Z"
   },
   {
    "duration": 5,
    "start_time": "2024-09-14T09:18:40.572Z"
   },
   {
    "duration": 5,
    "start_time": "2024-09-14T09:18:40.579Z"
   },
   {
    "duration": 46,
    "start_time": "2024-09-14T09:18:40.585Z"
   },
   {
    "duration": 7,
    "start_time": "2024-09-14T09:18:40.634Z"
   },
   {
    "duration": 207,
    "start_time": "2024-09-14T09:18:40.642Z"
   },
   {
    "duration": 86,
    "start_time": "2024-09-14T09:18:40.850Z"
   },
   {
    "duration": 324,
    "start_time": "2024-09-14T09:18:40.938Z"
   },
   {
    "duration": 332,
    "start_time": "2024-09-14T09:18:41.264Z"
   },
   {
    "duration": 392,
    "start_time": "2024-09-14T09:18:41.598Z"
   },
   {
    "duration": 8,
    "start_time": "2024-09-14T09:18:41.992Z"
   },
   {
    "duration": 27,
    "start_time": "2024-09-14T09:18:42.002Z"
   },
   {
    "duration": 4,
    "start_time": "2024-09-14T09:18:42.031Z"
   },
   {
    "duration": 18,
    "start_time": "2024-09-14T09:18:42.036Z"
   },
   {
    "duration": 19,
    "start_time": "2024-09-14T09:18:42.055Z"
   },
   {
    "duration": 52,
    "start_time": "2024-09-14T09:18:42.075Z"
   },
   {
    "duration": 13,
    "start_time": "2024-09-14T09:18:42.128Z"
   },
   {
    "duration": 324,
    "start_time": "2024-09-14T09:18:42.142Z"
   },
   {
    "duration": 327,
    "start_time": "2024-09-14T09:18:42.467Z"
   },
   {
    "duration": 333,
    "start_time": "2024-09-14T09:18:42.795Z"
   },
   {
    "duration": 407,
    "start_time": "2024-09-14T09:18:43.130Z"
   },
   {
    "duration": 22,
    "start_time": "2024-09-14T09:18:43.539Z"
   },
   {
    "duration": 10,
    "start_time": "2024-09-14T09:18:43.564Z"
   },
   {
    "duration": 218,
    "start_time": "2024-09-14T09:18:43.576Z"
   },
   {
    "duration": 33,
    "start_time": "2024-09-14T09:18:43.796Z"
   },
   {
    "duration": 79,
    "start_time": "2024-09-14T09:18:43.830Z"
   },
   {
    "duration": 27,
    "start_time": "2024-09-14T09:18:43.911Z"
   },
   {
    "duration": 9,
    "start_time": "2024-09-14T09:18:43.940Z"
   },
   {
    "duration": 5,
    "start_time": "2024-09-14T09:18:43.950Z"
   },
   {
    "duration": 19,
    "start_time": "2024-09-14T09:18:43.956Z"
   },
   {
    "duration": 11,
    "start_time": "2024-09-14T09:18:43.976Z"
   },
   {
    "duration": 6,
    "start_time": "2024-09-14T09:18:43.988Z"
   },
   {
    "duration": 5,
    "start_time": "2024-09-14T09:18:43.995Z"
   },
   {
    "duration": 1675,
    "start_time": "2024-09-14T09:18:44.001Z"
   },
   {
    "duration": 269,
    "start_time": "2024-09-14T09:18:45.677Z"
   },
   {
    "duration": 7,
    "start_time": "2024-09-14T09:19:40.302Z"
   },
   {
    "duration": 5,
    "start_time": "2024-09-14T09:19:41.936Z"
   },
   {
    "duration": 1004,
    "start_time": "2024-09-14T09:19:55.269Z"
   },
   {
    "duration": 109,
    "start_time": "2024-09-14T09:19:56.275Z"
   },
   {
    "duration": 14,
    "start_time": "2024-09-14T09:19:56.385Z"
   },
   {
    "duration": 11,
    "start_time": "2024-09-14T09:19:56.401Z"
   },
   {
    "duration": 5,
    "start_time": "2024-09-14T09:19:56.425Z"
   },
   {
    "duration": 8,
    "start_time": "2024-09-14T09:19:56.432Z"
   },
   {
    "duration": 5,
    "start_time": "2024-09-14T09:19:56.441Z"
   },
   {
    "duration": 5,
    "start_time": "2024-09-14T09:19:56.447Z"
   },
   {
    "duration": 20,
    "start_time": "2024-09-14T09:19:56.453Z"
   },
   {
    "duration": 7,
    "start_time": "2024-09-14T09:19:56.475Z"
   },
   {
    "duration": 203,
    "start_time": "2024-09-14T09:19:56.484Z"
   },
   {
    "duration": 93,
    "start_time": "2024-09-14T09:19:56.688Z"
   },
   {
    "duration": 302,
    "start_time": "2024-09-14T09:19:56.782Z"
   },
   {
    "duration": 326,
    "start_time": "2024-09-14T09:19:57.086Z"
   },
   {
    "duration": 400,
    "start_time": "2024-09-14T09:19:57.413Z"
   },
   {
    "duration": 16,
    "start_time": "2024-09-14T09:19:57.814Z"
   },
   {
    "duration": 17,
    "start_time": "2024-09-14T09:19:57.832Z"
   },
   {
    "duration": 3,
    "start_time": "2024-09-14T09:19:57.851Z"
   },
   {
    "duration": 20,
    "start_time": "2024-09-14T09:19:57.856Z"
   },
   {
    "duration": 18,
    "start_time": "2024-09-14T09:19:57.878Z"
   },
   {
    "duration": 35,
    "start_time": "2024-09-14T09:19:57.898Z"
   },
   {
    "duration": 13,
    "start_time": "2024-09-14T09:19:57.934Z"
   },
   {
    "duration": 327,
    "start_time": "2024-09-14T09:19:57.949Z"
   },
   {
    "duration": 319,
    "start_time": "2024-09-14T09:19:58.278Z"
   },
   {
    "duration": 326,
    "start_time": "2024-09-14T09:19:58.599Z"
   },
   {
    "duration": 408,
    "start_time": "2024-09-14T09:19:58.927Z"
   },
   {
    "duration": 22,
    "start_time": "2024-09-14T09:19:59.337Z"
   },
   {
    "duration": 11,
    "start_time": "2024-09-14T09:19:59.363Z"
   },
   {
    "duration": 227,
    "start_time": "2024-09-14T09:19:59.375Z"
   },
   {
    "duration": 37,
    "start_time": "2024-09-14T09:19:59.604Z"
   },
   {
    "duration": 92,
    "start_time": "2024-09-14T09:19:59.643Z"
   },
   {
    "duration": 17,
    "start_time": "2024-09-14T09:19:59.737Z"
   },
   {
    "duration": 10,
    "start_time": "2024-09-14T09:19:59.755Z"
   },
   {
    "duration": 6,
    "start_time": "2024-09-14T09:19:59.766Z"
   },
   {
    "duration": 16,
    "start_time": "2024-09-14T09:19:59.774Z"
   },
   {
    "duration": 7,
    "start_time": "2024-09-14T09:19:59.792Z"
   },
   {
    "duration": 7,
    "start_time": "2024-09-14T09:19:59.826Z"
   },
   {
    "duration": 6,
    "start_time": "2024-09-14T09:19:59.834Z"
   },
   {
    "duration": 1659,
    "start_time": "2024-09-14T09:19:59.841Z"
   },
   {
    "duration": 336,
    "start_time": "2024-09-14T09:20:01.502Z"
   },
   {
    "duration": 47,
    "start_time": "2024-09-17T10:28:56.561Z"
   },
   {
    "duration": 1273,
    "start_time": "2024-12-05T20:19:07.025Z"
   },
   {
    "duration": 3,
    "start_time": "2024-12-05T20:19:13.574Z"
   },
   {
    "duration": 459,
    "start_time": "2024-12-05T20:19:15.921Z"
   }
  ],
  "kernelspec": {
   "display_name": "Python 3 (ipykernel)",
   "language": "python",
   "name": "python3"
  },
  "language_info": {
   "codemirror_mode": {
    "name": "ipython",
    "version": 3
   },
   "file_extension": ".py",
   "mimetype": "text/x-python",
   "name": "python",
   "nbconvert_exporter": "python",
   "pygments_lexer": "ipython3",
   "version": "3.9.5"
  },
  "toc": {
   "base_numbering": 1,
   "nav_menu": {},
   "number_sections": true,
   "sideBar": true,
   "skip_h1_title": true,
   "title_cell": "Table of Contents",
   "title_sidebar": "Contents",
   "toc_cell": false,
   "toc_position": {},
   "toc_section_display": true,
   "toc_window_display": false
  }
 },
 "nbformat": 4,
 "nbformat_minor": 5
}
