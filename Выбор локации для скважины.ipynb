{
 "cells": [
  {
   "cell_type": "markdown",
   "metadata": {},
   "source": [
    "# Выбор локации для скважины"
   ]
  },
  {
   "cell_type": "markdown",
   "metadata": {},
   "source": [
    "Допустим, вы работаете в добывающей компании «ГлавРосГосНефть». Нужно решить, где бурить новую скважину.\n",
    "\n",
    "Вам предоставлены пробы нефти в трёх регионах: в каждом 10 000 месторождений, где измерили качество нефти и объём её запасов. Постройте модель машинного обучения, которая поможет определить регион, где добыча принесёт наибольшую прибыль. Проанализируйте возможную прибыль и риски техникой *Bootstrap.*\n",
    "\n",
    "Шаги для выбора локации:\n",
    "\n",
    "- В избранном регионе ищут месторождения, для каждого определяют значения признаков;\n",
    "- Строят модель и оценивают объём запасов;\n",
    "- Выбирают месторождения с самым высокими оценками значений. Количество месторождений зависит от бюджета компании и стоимости разработки одной скважины;\n",
    "- Прибыль равна суммарной прибыли отобранных месторождений."
   ]
  },
  {
   "cell_type": "markdown",
   "metadata": {},
   "source": [
    "## Загрузка и подготовка данных"
   ]
  },
  {
   "cell_type": "markdown",
   "metadata": {},
   "source": [
    "**Импортируем необходимые библиотеки и функции:**"
   ]
  },
  {
   "cell_type": "code",
   "execution_count": 1,
   "metadata": {},
   "outputs": [],
   "source": [
    "!pip install scikit-learn==1.1.3 -q\n",
    "import pandas as pd\n",
    "import matplotlib.pyplot as plt\n",
    "import numpy as np\n",
    "import seaborn as sns\n",
    "!pip install phik -q\n",
    "import phik\n",
    "import warnings\n",
    "warnings.filterwarnings(\"ignore\")"
   ]
  },
  {
   "cell_type": "code",
   "execution_count": 2,
   "metadata": {},
   "outputs": [],
   "source": [
    "from sklearn.linear_model import LinearRegression\n",
    "from sklearn.model_selection import (GridSearchCV,\n",
    "                                     RandomizedSearchCV,\n",
    "                                     train_test_split, cross_val_score)\n",
    "from sklearn.preprocessing import OneHotEncoder, OrdinalEncoder, StandardScaler, MinMaxScaler, RobustScaler\n",
    "from sklearn.metrics import r2_score\n",
    "from sklearn.metrics import mean_squared_error\n",
    "from sklearn.metrics import mean_absolute_error"
   ]
  },
  {
   "cell_type": "markdown",
   "metadata": {},
   "source": [
    "**Загрузим наши таблицы:**"
   ]
  },
  {
   "cell_type": "code",
   "execution_count": 3,
   "metadata": {},
   "outputs": [
    {
     "name": "stdout",
     "output_type": "stream",
     "text": [
      "<class 'pandas.core.frame.DataFrame'>\n",
      "RangeIndex: 100000 entries, 0 to 99999\n",
      "Data columns (total 5 columns):\n",
      " #   Column   Non-Null Count   Dtype  \n",
      "---  ------   --------------   -----  \n",
      " 0   id       100000 non-null  object \n",
      " 1   f0       100000 non-null  float64\n",
      " 2   f1       100000 non-null  float64\n",
      " 3   f2       100000 non-null  float64\n",
      " 4   product  100000 non-null  float64\n",
      "dtypes: float64(4), object(1)\n",
      "memory usage: 3.8+ MB\n"
     ]
    },
    {
     "data": {
      "text/html": [
       "<div>\n",
       "<style scoped>\n",
       "    .dataframe tbody tr th:only-of-type {\n",
       "        vertical-align: middle;\n",
       "    }\n",
       "\n",
       "    .dataframe tbody tr th {\n",
       "        vertical-align: top;\n",
       "    }\n",
       "\n",
       "    .dataframe thead th {\n",
       "        text-align: right;\n",
       "    }\n",
       "</style>\n",
       "<table border=\"1\" class=\"dataframe\">\n",
       "  <thead>\n",
       "    <tr style=\"text-align: right;\">\n",
       "      <th></th>\n",
       "      <th>id</th>\n",
       "      <th>f0</th>\n",
       "      <th>f1</th>\n",
       "      <th>f2</th>\n",
       "      <th>product</th>\n",
       "    </tr>\n",
       "  </thead>\n",
       "  <tbody>\n",
       "    <tr>\n",
       "      <th>0</th>\n",
       "      <td>txEyH</td>\n",
       "      <td>0.705745</td>\n",
       "      <td>-0.497823</td>\n",
       "      <td>1.221170</td>\n",
       "      <td>105.280062</td>\n",
       "    </tr>\n",
       "    <tr>\n",
       "      <th>1</th>\n",
       "      <td>2acmU</td>\n",
       "      <td>1.334711</td>\n",
       "      <td>-0.340164</td>\n",
       "      <td>4.365080</td>\n",
       "      <td>73.037750</td>\n",
       "    </tr>\n",
       "    <tr>\n",
       "      <th>2</th>\n",
       "      <td>409Wp</td>\n",
       "      <td>1.022732</td>\n",
       "      <td>0.151990</td>\n",
       "      <td>1.419926</td>\n",
       "      <td>85.265647</td>\n",
       "    </tr>\n",
       "    <tr>\n",
       "      <th>3</th>\n",
       "      <td>iJLyR</td>\n",
       "      <td>-0.032172</td>\n",
       "      <td>0.139033</td>\n",
       "      <td>2.978566</td>\n",
       "      <td>168.620776</td>\n",
       "    </tr>\n",
       "    <tr>\n",
       "      <th>4</th>\n",
       "      <td>Xdl7t</td>\n",
       "      <td>1.988431</td>\n",
       "      <td>0.155413</td>\n",
       "      <td>4.751769</td>\n",
       "      <td>154.036647</td>\n",
       "    </tr>\n",
       "  </tbody>\n",
       "</table>\n",
       "</div>"
      ],
      "text/plain": [
       "      id        f0        f1        f2     product\n",
       "0  txEyH  0.705745 -0.497823  1.221170  105.280062\n",
       "1  2acmU  1.334711 -0.340164  4.365080   73.037750\n",
       "2  409Wp  1.022732  0.151990  1.419926   85.265647\n",
       "3  iJLyR -0.032172  0.139033  2.978566  168.620776\n",
       "4  Xdl7t  1.988431  0.155413  4.751769  154.036647"
      ]
     },
     "execution_count": 3,
     "metadata": {},
     "output_type": "execute_result"
    }
   ],
   "source": [
    "geo1 = pd.read_csv('/datasets/geo_data_0.csv')\n",
    "geo1.info() \n",
    "geo1.head()"
   ]
  },
  {
   "cell_type": "code",
   "execution_count": 4,
   "metadata": {},
   "outputs": [
    {
     "name": "stdout",
     "output_type": "stream",
     "text": [
      "<class 'pandas.core.frame.DataFrame'>\n",
      "RangeIndex: 100000 entries, 0 to 99999\n",
      "Data columns (total 5 columns):\n",
      " #   Column   Non-Null Count   Dtype  \n",
      "---  ------   --------------   -----  \n",
      " 0   id       100000 non-null  object \n",
      " 1   f0       100000 non-null  float64\n",
      " 2   f1       100000 non-null  float64\n",
      " 3   f2       100000 non-null  float64\n",
      " 4   product  100000 non-null  float64\n",
      "dtypes: float64(4), object(1)\n",
      "memory usage: 3.8+ MB\n"
     ]
    },
    {
     "data": {
      "text/html": [
       "<div>\n",
       "<style scoped>\n",
       "    .dataframe tbody tr th:only-of-type {\n",
       "        vertical-align: middle;\n",
       "    }\n",
       "\n",
       "    .dataframe tbody tr th {\n",
       "        vertical-align: top;\n",
       "    }\n",
       "\n",
       "    .dataframe thead th {\n",
       "        text-align: right;\n",
       "    }\n",
       "</style>\n",
       "<table border=\"1\" class=\"dataframe\">\n",
       "  <thead>\n",
       "    <tr style=\"text-align: right;\">\n",
       "      <th></th>\n",
       "      <th>id</th>\n",
       "      <th>f0</th>\n",
       "      <th>f1</th>\n",
       "      <th>f2</th>\n",
       "      <th>product</th>\n",
       "    </tr>\n",
       "  </thead>\n",
       "  <tbody>\n",
       "    <tr>\n",
       "      <th>0</th>\n",
       "      <td>kBEdx</td>\n",
       "      <td>-15.001348</td>\n",
       "      <td>-8.276000</td>\n",
       "      <td>-0.005876</td>\n",
       "      <td>3.179103</td>\n",
       "    </tr>\n",
       "    <tr>\n",
       "      <th>1</th>\n",
       "      <td>62mP7</td>\n",
       "      <td>14.272088</td>\n",
       "      <td>-3.475083</td>\n",
       "      <td>0.999183</td>\n",
       "      <td>26.953261</td>\n",
       "    </tr>\n",
       "    <tr>\n",
       "      <th>2</th>\n",
       "      <td>vyE1P</td>\n",
       "      <td>6.263187</td>\n",
       "      <td>-5.948386</td>\n",
       "      <td>5.001160</td>\n",
       "      <td>134.766305</td>\n",
       "    </tr>\n",
       "    <tr>\n",
       "      <th>3</th>\n",
       "      <td>KcrkZ</td>\n",
       "      <td>-13.081196</td>\n",
       "      <td>-11.506057</td>\n",
       "      <td>4.999415</td>\n",
       "      <td>137.945408</td>\n",
       "    </tr>\n",
       "    <tr>\n",
       "      <th>4</th>\n",
       "      <td>AHL4O</td>\n",
       "      <td>12.702195</td>\n",
       "      <td>-8.147433</td>\n",
       "      <td>5.004363</td>\n",
       "      <td>134.766305</td>\n",
       "    </tr>\n",
       "  </tbody>\n",
       "</table>\n",
       "</div>"
      ],
      "text/plain": [
       "      id         f0         f1        f2     product\n",
       "0  kBEdx -15.001348  -8.276000 -0.005876    3.179103\n",
       "1  62mP7  14.272088  -3.475083  0.999183   26.953261\n",
       "2  vyE1P   6.263187  -5.948386  5.001160  134.766305\n",
       "3  KcrkZ -13.081196 -11.506057  4.999415  137.945408\n",
       "4  AHL4O  12.702195  -8.147433  5.004363  134.766305"
      ]
     },
     "execution_count": 4,
     "metadata": {},
     "output_type": "execute_result"
    }
   ],
   "source": [
    "geo2 = pd.read_csv('/datasets/geo_data_1.csv')\n",
    "geo2.info() \n",
    "geo2.head()"
   ]
  },
  {
   "cell_type": "code",
   "execution_count": 5,
   "metadata": {},
   "outputs": [
    {
     "name": "stdout",
     "output_type": "stream",
     "text": [
      "<class 'pandas.core.frame.DataFrame'>\n",
      "RangeIndex: 100000 entries, 0 to 99999\n",
      "Data columns (total 5 columns):\n",
      " #   Column   Non-Null Count   Dtype  \n",
      "---  ------   --------------   -----  \n",
      " 0   id       100000 non-null  object \n",
      " 1   f0       100000 non-null  float64\n",
      " 2   f1       100000 non-null  float64\n",
      " 3   f2       100000 non-null  float64\n",
      " 4   product  100000 non-null  float64\n",
      "dtypes: float64(4), object(1)\n",
      "memory usage: 3.8+ MB\n"
     ]
    },
    {
     "data": {
      "text/html": [
       "<div>\n",
       "<style scoped>\n",
       "    .dataframe tbody tr th:only-of-type {\n",
       "        vertical-align: middle;\n",
       "    }\n",
       "\n",
       "    .dataframe tbody tr th {\n",
       "        vertical-align: top;\n",
       "    }\n",
       "\n",
       "    .dataframe thead th {\n",
       "        text-align: right;\n",
       "    }\n",
       "</style>\n",
       "<table border=\"1\" class=\"dataframe\">\n",
       "  <thead>\n",
       "    <tr style=\"text-align: right;\">\n",
       "      <th></th>\n",
       "      <th>id</th>\n",
       "      <th>f0</th>\n",
       "      <th>f1</th>\n",
       "      <th>f2</th>\n",
       "      <th>product</th>\n",
       "    </tr>\n",
       "  </thead>\n",
       "  <tbody>\n",
       "    <tr>\n",
       "      <th>0</th>\n",
       "      <td>fwXo0</td>\n",
       "      <td>-1.146987</td>\n",
       "      <td>0.963328</td>\n",
       "      <td>-0.828965</td>\n",
       "      <td>27.758673</td>\n",
       "    </tr>\n",
       "    <tr>\n",
       "      <th>1</th>\n",
       "      <td>WJtFt</td>\n",
       "      <td>0.262778</td>\n",
       "      <td>0.269839</td>\n",
       "      <td>-2.530187</td>\n",
       "      <td>56.069697</td>\n",
       "    </tr>\n",
       "    <tr>\n",
       "      <th>2</th>\n",
       "      <td>ovLUW</td>\n",
       "      <td>0.194587</td>\n",
       "      <td>0.289035</td>\n",
       "      <td>-5.586433</td>\n",
       "      <td>62.871910</td>\n",
       "    </tr>\n",
       "    <tr>\n",
       "      <th>3</th>\n",
       "      <td>q6cA6</td>\n",
       "      <td>2.236060</td>\n",
       "      <td>-0.553760</td>\n",
       "      <td>0.930038</td>\n",
       "      <td>114.572842</td>\n",
       "    </tr>\n",
       "    <tr>\n",
       "      <th>4</th>\n",
       "      <td>WPMUX</td>\n",
       "      <td>-0.515993</td>\n",
       "      <td>1.716266</td>\n",
       "      <td>5.899011</td>\n",
       "      <td>149.600746</td>\n",
       "    </tr>\n",
       "  </tbody>\n",
       "</table>\n",
       "</div>"
      ],
      "text/plain": [
       "      id        f0        f1        f2     product\n",
       "0  fwXo0 -1.146987  0.963328 -0.828965   27.758673\n",
       "1  WJtFt  0.262778  0.269839 -2.530187   56.069697\n",
       "2  ovLUW  0.194587  0.289035 -5.586433   62.871910\n",
       "3  q6cA6  2.236060 -0.553760  0.930038  114.572842\n",
       "4  WPMUX -0.515993  1.716266  5.899011  149.600746"
      ]
     },
     "execution_count": 5,
     "metadata": {},
     "output_type": "execute_result"
    }
   ],
   "source": [
    "geo3 = pd.read_csv('/datasets/geo_data_2.csv')\n",
    "geo3.info() \n",
    "geo3.head()"
   ]
  },
  {
   "cell_type": "markdown",
   "metadata": {},
   "source": [
    "**Данные импортироваллись корректно. Выполним предобработку:**"
   ]
  },
  {
   "cell_type": "code",
   "execution_count": 6,
   "metadata": {},
   "outputs": [
    {
     "data": {
      "text/plain": [
       "id         0\n",
       "f0         0\n",
       "f1         0\n",
       "f2         0\n",
       "product    0\n",
       "dtype: int64"
      ]
     },
     "execution_count": 6,
     "metadata": {},
     "output_type": "execute_result"
    }
   ],
   "source": [
    "geo1.isna().sum()"
   ]
  },
  {
   "cell_type": "code",
   "execution_count": 7,
   "metadata": {},
   "outputs": [
    {
     "data": {
      "text/plain": [
       "id         0\n",
       "f0         0\n",
       "f1         0\n",
       "f2         0\n",
       "product    0\n",
       "dtype: int64"
      ]
     },
     "execution_count": 7,
     "metadata": {},
     "output_type": "execute_result"
    }
   ],
   "source": [
    "geo2.isna().sum()"
   ]
  },
  {
   "cell_type": "code",
   "execution_count": 8,
   "metadata": {},
   "outputs": [
    {
     "data": {
      "text/plain": [
       "id         0\n",
       "f0         0\n",
       "f1         0\n",
       "f2         0\n",
       "product    0\n",
       "dtype: int64"
      ]
     },
     "execution_count": 8,
     "metadata": {},
     "output_type": "execute_result"
    }
   ],
   "source": [
    "geo3.isna().sum()"
   ]
  },
  {
   "cell_type": "markdown",
   "metadata": {},
   "source": [
    "**Пропусков в данных не оказалось, проверим на дубликаты:**"
   ]
  },
  {
   "cell_type": "code",
   "execution_count": 9,
   "metadata": {},
   "outputs": [
    {
     "data": {
      "text/plain": [
       "0"
      ]
     },
     "execution_count": 9,
     "metadata": {},
     "output_type": "execute_result"
    }
   ],
   "source": [
    "geo1.duplicated().sum()"
   ]
  },
  {
   "cell_type": "code",
   "execution_count": 10,
   "metadata": {},
   "outputs": [
    {
     "data": {
      "text/plain": [
       "0"
      ]
     },
     "execution_count": 10,
     "metadata": {},
     "output_type": "execute_result"
    }
   ],
   "source": [
    "geo2.duplicated().sum()"
   ]
  },
  {
   "cell_type": "code",
   "execution_count": 11,
   "metadata": {},
   "outputs": [
    {
     "data": {
      "text/plain": [
       "0"
      ]
     },
     "execution_count": 11,
     "metadata": {},
     "output_type": "execute_result"
    }
   ],
   "source": [
    "geo3.duplicated().sum()"
   ]
  },
  {
   "cell_type": "markdown",
   "metadata": {},
   "source": [
    "**Дубликатов тоже не оказалось. Перейдем к исследовательскому анализу. Напишем функцию, строющую гистограмму и график ящика с усами:**"
   ]
  },
  {
   "cell_type": "code",
   "execution_count": 12,
   "metadata": {},
   "outputs": [],
   "source": [
    "def charts(df, column):\n",
    "\n",
    "    plt.figure(figsize=(12, 5))\n",
    "    plt.subplot(1, 2, 1)\n",
    "    sns.histplot(df[column], bins=20)\n",
    "    plt.title(f'Гистограмма для {column}')\n",
    "    plt.xlabel(column)\n",
    "    plt.ylabel('Частота')\n",
    "    plt.subplot(1, 2, 2)\n",
    "    sns.boxplot(x=df[column])\n",
    "    plt.title(f'Ящик с усами для {column}')\n",
    "    plt.tight_layout()\n",
    "    plt.show()"
   ]
  },
  {
   "cell_type": "code",
   "execution_count": 13,
   "metadata": {},
   "outputs": [
    {
     "data": {
      "image/png": "[encoded data removed]",
      "text/plain": [
       "<Figure size 864x360 with 2 Axes>"
      ]
     },
     "metadata": {
      "needs_background": "light"
     },
     "output_type": "display_data"
    }
   ],
   "source": [
    "charts(geo1, 'f0')"
   ]
  },
  {
   "cell_type": "markdown",
   "metadata": {},
   "source": [
    "**Видим распределение с 3 пиками и без выбросов. Значения варьируются от -1.5 до 2.5.**"
   ]
  },
  {
   "cell_type": "code",
   "execution_count": 14,
   "metadata": {},
   "outputs": [
    {
     "data": {
      "image/png": "[encoded data removed]",
      "text/plain": [
       "<Figure size 864x360 with 2 Axes>"
      ]
     },
     "metadata": {
      "needs_background": "light"
     },
     "output_type": "display_data"
    }
   ],
   "source": [
    "charts(geo1, 'f1')"
   ]
  },
  {
   "cell_type": "markdown",
   "metadata": {},
   "source": [
    "**Тут также видим распределение с нескольками пиками и без выбросов. Значения варьируются от 0.1 до 1.2.**"
   ]
  },
  {
   "cell_type": "code",
   "execution_count": 15,
   "metadata": {},
   "outputs": [
    {
     "data": {
      "image/png": "[encoded data removed]",
      "text/plain": [
       "<Figure size 864x360 with 2 Axes>"
      ]
     },
     "metadata": {
      "needs_background": "light"
     },
     "output_type": "display_data"
    }
   ],
   "source": [
    "charts(geo1, 'f2')"
   ]
  },
  {
   "cell_type": "markdown",
   "metadata": {},
   "source": [
    "**Видим нормальное распределение, но с большим числом выбросов. Так как в условиях нам не сказано что это за признаки(просто три признака точек), то сочтем их распределения адекватными, и ничего менять не будем.****"
   ]
  },
  {
   "cell_type": "code",
   "execution_count": 16,
   "metadata": {},
   "outputs": [
    {
     "data": {
      "image/png": "[encoded data removed]",
      "text/plain": [
       "<Figure size 864x360 with 2 Axes>"
      ]
     },
     "metadata": {
      "needs_background": "light"
     },
     "output_type": "display_data"
    }
   ],
   "source": [
    "charts(geo1, 'product')"
   ]
  },
  {
   "cell_type": "markdown",
   "metadata": {},
   "source": [
    "**Тут мы видим нормальное распределение с множеством пиков, но без выбросов. Переходим ко второй таблице:**"
   ]
  },
  {
   "cell_type": "code",
   "execution_count": 17,
   "metadata": {},
   "outputs": [
    {
     "data": {
      "image/png": "[encoded data removed]",
      "text/plain": [
       "<Figure size 864x360 with 2 Axes>"
      ]
     },
     "metadata": {
      "needs_background": "light"
     },
     "output_type": "display_data"
    }
   ],
   "source": [
    "charts(geo2, 'f0')"
   ]
  },
  {
   "cell_type": "markdown",
   "metadata": {},
   "source": [
    "**Видим аномалию в левой части графика, взглянем на эту строку:**"
   ]
  },
  {
   "cell_type": "code",
   "execution_count": 18,
   "metadata": {},
   "outputs": [
    {
     "data": {
      "text/html": [
       "<div>\n",
       "<style scoped>\n",
       "    .dataframe tbody tr th:only-of-type {\n",
       "        vertical-align: middle;\n",
       "    }\n",
       "\n",
       "    .dataframe tbody tr th {\n",
       "        vertical-align: top;\n",
       "    }\n",
       "\n",
       "    .dataframe thead th {\n",
       "        text-align: right;\n",
       "    }\n",
       "</style>\n",
       "<table border=\"1\" class=\"dataframe\">\n",
       "  <thead>\n",
       "    <tr style=\"text-align: right;\">\n",
       "      <th></th>\n",
       "      <th>id</th>\n",
       "      <th>f0</th>\n",
       "      <th>f1</th>\n",
       "      <th>f2</th>\n",
       "      <th>product</th>\n",
       "    </tr>\n",
       "  </thead>\n",
       "  <tbody>\n",
       "    <tr>\n",
       "      <th>83601</th>\n",
       "      <td>jJm67</td>\n",
       "      <td>-31.609576</td>\n",
       "      <td>1.390042</td>\n",
       "      <td>4.001055</td>\n",
       "      <td>110.992147</td>\n",
       "    </tr>\n",
       "  </tbody>\n",
       "</table>\n",
       "</div>"
      ],
      "text/plain": [
       "          id         f0        f1        f2     product\n",
       "83601  jJm67 -31.609576  1.390042  4.001055  110.992147"
      ]
     },
     "execution_count": 18,
     "metadata": {},
     "output_type": "execute_result"
    }
   ],
   "source": [
    "geo2[geo2['f0']<-30]"
   ]
  },
  {
   "cell_type": "markdown",
   "metadata": {},
   "source": [
    "**Выглядит довольно правдоподобно, скорее всего это не аномалия а выброс.**"
   ]
  },
  {
   "cell_type": "code",
   "execution_count": 19,
   "metadata": {},
   "outputs": [
    {
     "data": {
      "image/png": "[encoded data removed]",
      "text/plain": [
       "<Figure size 864x360 with 2 Axes>"
      ]
     },
     "metadata": {
      "needs_background": "light"
     },
     "output_type": "display_data"
    }
   ],
   "source": [
    "charts(geo2, 'f1')"
   ]
  },
  {
   "cell_type": "code",
   "execution_count": 20,
   "metadata": {},
   "outputs": [
    {
     "data": {
      "image/png": "[encoded data removed]",
      "text/plain": [
       "<Figure size 864x360 with 2 Axes>"
      ]
     },
     "metadata": {
      "needs_background": "light"
     },
     "output_type": "display_data"
    }
   ],
   "source": [
    "charts(geo2, 'f2')"
   ]
  },
  {
   "cell_type": "markdown",
   "metadata": {},
   "source": [
    "**На этих двух графиках разные распределения, однако нет выброс. И т.к. нам ничего не сказано про эти признаки, будем считать что с ними все нормально.**"
   ]
  },
  {
   "cell_type": "code",
   "execution_count": 21,
   "metadata": {},
   "outputs": [
    {
     "data": {
      "image/png": "[encoded data removed]",
      "text/plain": [
       "<Figure size 864x360 with 2 Axes>"
      ]
     },
     "metadata": {
      "needs_background": "light"
     },
     "output_type": "display_data"
    }
   ],
   "source": [
    "charts(geo2, 'product')"
   ]
  },
  {
   "cell_type": "markdown",
   "metadata": {},
   "source": [
    "**Тут признак распределен в нескольких промежутках. Возможно это связано с прошлым признаком(месторождения находятся в нескольких скоплениях близко друг к другу, и имеюют схожие запасы нефти.**"
   ]
  },
  {
   "cell_type": "code",
   "execution_count": 22,
   "metadata": {},
   "outputs": [
    {
     "data": {
      "image/png": "[encoded data removed]",
      "text/plain": [
       "<Figure size 864x360 with 2 Axes>"
      ]
     },
     "metadata": {
      "needs_background": "light"
     },
     "output_type": "display_data"
    }
   ],
   "source": [
    "charts(geo3, 'f0')"
   ]
  },
  {
   "cell_type": "markdown",
   "metadata": {},
   "source": [
    "**Видим аномалию слева на гарфике. Скорее всего это просто выброс, нужно в этом убедится, взглянем на эти строки:**"
   ]
  },
  {
   "cell_type": "code",
   "execution_count": 23,
   "metadata": {},
   "outputs": [
    {
     "data": {
      "text/html": [
       "<div>\n",
       "<style scoped>\n",
       "    .dataframe tbody tr th:only-of-type {\n",
       "        vertical-align: middle;\n",
       "    }\n",
       "\n",
       "    .dataframe tbody tr th {\n",
       "        vertical-align: top;\n",
       "    }\n",
       "\n",
       "    .dataframe thead th {\n",
       "        text-align: right;\n",
       "    }\n",
       "</style>\n",
       "<table border=\"1\" class=\"dataframe\">\n",
       "  <thead>\n",
       "    <tr style=\"text-align: right;\">\n",
       "      <th></th>\n",
       "      <th>id</th>\n",
       "      <th>f0</th>\n",
       "      <th>f1</th>\n",
       "      <th>f2</th>\n",
       "      <th>product</th>\n",
       "    </tr>\n",
       "  </thead>\n",
       "  <tbody>\n",
       "    <tr>\n",
       "      <th>68126</th>\n",
       "      <td>onzVI</td>\n",
       "      <td>-8.760004</td>\n",
       "      <td>2.528391</td>\n",
       "      <td>6.552393</td>\n",
       "      <td>163.580588</td>\n",
       "    </tr>\n",
       "  </tbody>\n",
       "</table>\n",
       "</div>"
      ],
      "text/plain": [
       "          id        f0        f1        f2     product\n",
       "68126  onzVI -8.760004  2.528391  6.552393  163.580588"
      ]
     },
     "execution_count": 23,
     "metadata": {},
     "output_type": "execute_result"
    }
   ],
   "source": [
    "geo3[geo3['f0']<-8]"
   ]
  },
  {
   "cell_type": "markdown",
   "metadata": {},
   "source": [
    "**Наши догадка подтвердилась.**"
   ]
  },
  {
   "cell_type": "code",
   "execution_count": 24,
   "metadata": {},
   "outputs": [
    {
     "data": {
      "image/png": "[encoded data removed]",
      "text/plain": [
       "<Figure size 864x360 with 2 Axes>"
      ]
     },
     "metadata": {
      "needs_background": "light"
     },
     "output_type": "display_data"
    }
   ],
   "source": [
    "charts(geo3, 'f1')"
   ]
  },
  {
   "cell_type": "code",
   "execution_count": 25,
   "metadata": {},
   "outputs": [
    {
     "data": {
      "image/png": "[encoded data removed]",
      "text/plain": [
       "<Figure size 864x360 with 2 Axes>"
      ]
     },
     "metadata": {
      "needs_background": "light"
     },
     "output_type": "display_data"
    }
   ],
   "source": [
    "charts(geo2, 'f2')"
   ]
  },
  {
   "cell_type": "markdown",
   "metadata": {},
   "source": [
    "**Тут схожая ситуация со второй таблицей, признак f1 распределен нормально, а f2 в определенных интервалах.**"
   ]
  },
  {
   "cell_type": "code",
   "execution_count": 26,
   "metadata": {},
   "outputs": [
    {
     "data": {
      "image/png": "[encoded data removed]",
      "text/plain": [
       "<Figure size 864x360 with 2 Axes>"
      ]
     },
     "metadata": {
      "needs_background": "light"
     },
     "output_type": "display_data"
    }
   ],
   "source": [
    "charts(geo3, 'product')"
   ]
  },
  {
   "cell_type": "markdown",
   "metadata": {},
   "source": [
    "**Однаков продукт в третий таблице распределен нормально, с некоторыми пиками, но без выбросв и аномалий.**"
   ]
  },
  {
   "cell_type": "markdown",
   "metadata": {},
   "source": [
    "**Мы проверили все признаки во всем таблицах на выбросы и аномалии, изучили их распределения. Теперь можно приступать к обучению модели.**"
   ]
  },
  {
   "cell_type": "markdown",
   "metadata": {},
   "source": [
    "## Обучение и проверка модели"
   ]
  },
  {
   "cell_type": "markdown",
   "metadata": {},
   "source": [
    "**Напишем функцию, в которой будем обучать модель, делать предсказания и считать необходимые метрики. На выходе она будет выводить метрики и возвращать таблицу, с предсказанным запасом сырья рядом с целевым.**"
   ]
  },
  {
   "cell_type": "code",
   "execution_count": 27,
   "metadata": {},
   "outputs": [],
   "source": [
    "def model (df, ):\n",
    "    RANDOM_STATE = 42\n",
    "    X = df.drop(['id', 'product'], axis=1)\n",
    "    y = df['product']\n",
    "    X_train, X_test, y_train, y_test = train_test_split(\n",
    "        X, \n",
    "        y, \n",
    "        random_state=RANDOM_STATE)\n",
    "    X_valid = X_test.reset_index(drop=True)\n",
    "    y_valid = y_test.reset_index(drop=True)\n",
    "    scaler = StandardScaler()\n",
    "    X_train = scaler.fit_transform(X_train)\n",
    "    X_test = scaler.transform(X_test)\n",
    "    model  = LinearRegression()\n",
    "    model.fit(X_train, y_train)\n",
    "    pred = model.predict(X_test)\n",
    "    rmse = mean_squared_error(y_test, pred, squared=False)\n",
    "    mean = pred.mean()\n",
    "    pred = pd.DataFrame(pred, columns=['predict'])\n",
    "    val = pd.concat([X_valid, y_valid, pred], axis=1)\n",
    "    print(f'RMSE: {rmse}')\n",
    "    print(f'Средний запас предсказанного сырья: {mean}')\n",
    "    \n",
    "    return val"
   ]
  },
  {
   "cell_type": "markdown",
   "metadata": {},
   "source": [
    "**Применим функцию для первого региона**"
   ]
  },
  {
   "cell_type": "code",
   "execution_count": 28,
   "metadata": {},
   "outputs": [
    {
     "name": "stdout",
     "output_type": "stream",
     "text": [
      "RMSE: 37.75660035026169\n",
      "Средний запас предсказанного сырья: 92.39879990657768\n"
     ]
    },
    {
     "data": {
      "text/html": [
       "<div>\n",
       "<style scoped>\n",
       "    .dataframe tbody tr th:only-of-type {\n",
       "        vertical-align: middle;\n",
       "    }\n",
       "\n",
       "    .dataframe tbody tr th {\n",
       "        vertical-align: top;\n",
       "    }\n",
       "\n",
       "    .dataframe thead th {\n",
       "        text-align: right;\n",
       "    }\n",
       "</style>\n",
       "<table border=\"1\" class=\"dataframe\">\n",
       "  <thead>\n",
       "    <tr style=\"text-align: right;\">\n",
       "      <th></th>\n",
       "      <th>f0</th>\n",
       "      <th>f1</th>\n",
       "      <th>f2</th>\n",
       "      <th>product</th>\n",
       "      <th>predict</th>\n",
       "    </tr>\n",
       "  </thead>\n",
       "  <tbody>\n",
       "    <tr>\n",
       "      <th>0</th>\n",
       "      <td>0.599283</td>\n",
       "      <td>-0.557623</td>\n",
       "      <td>2.121187</td>\n",
       "      <td>122.073350</td>\n",
       "      <td>101.901017</td>\n",
       "    </tr>\n",
       "    <tr>\n",
       "      <th>1</th>\n",
       "      <td>0.739017</td>\n",
       "      <td>-0.463156</td>\n",
       "      <td>-1.347584</td>\n",
       "      <td>48.738540</td>\n",
       "      <td>78.217774</td>\n",
       "    </tr>\n",
       "    <tr>\n",
       "      <th>2</th>\n",
       "      <td>1.422743</td>\n",
       "      <td>-0.534917</td>\n",
       "      <td>3.718798</td>\n",
       "      <td>131.338088</td>\n",
       "      <td>115.266901</td>\n",
       "    </tr>\n",
       "    <tr>\n",
       "      <th>3</th>\n",
       "      <td>1.580244</td>\n",
       "      <td>-0.238458</td>\n",
       "      <td>2.805149</td>\n",
       "      <td>88.327757</td>\n",
       "      <td>105.618618</td>\n",
       "    </tr>\n",
       "    <tr>\n",
       "      <th>4</th>\n",
       "      <td>0.918974</td>\n",
       "      <td>0.023961</td>\n",
       "      <td>2.598575</td>\n",
       "      <td>36.959266</td>\n",
       "      <td>97.980185</td>\n",
       "    </tr>\n",
       "    <tr>\n",
       "      <th>...</th>\n",
       "      <td>...</td>\n",
       "      <td>...</td>\n",
       "      <td>...</td>\n",
       "      <td>...</td>\n",
       "      <td>...</td>\n",
       "    </tr>\n",
       "    <tr>\n",
       "      <th>24995</th>\n",
       "      <td>0.754647</td>\n",
       "      <td>-0.512213</td>\n",
       "      <td>2.610771</td>\n",
       "      <td>148.821520</td>\n",
       "      <td>105.076959</td>\n",
       "    </tr>\n",
       "    <tr>\n",
       "      <th>24996</th>\n",
       "      <td>-0.062056</td>\n",
       "      <td>0.516884</td>\n",
       "      <td>0.714446</td>\n",
       "      <td>123.454003</td>\n",
       "      <td>74.768176</td>\n",
       "    </tr>\n",
       "    <tr>\n",
       "      <th>24997</th>\n",
       "      <td>0.593769</td>\n",
       "      <td>-0.425260</td>\n",
       "      <td>-0.525017</td>\n",
       "      <td>91.945213</td>\n",
       "      <td>82.544397</td>\n",
       "    </tr>\n",
       "    <tr>\n",
       "      <th>24998</th>\n",
       "      <td>0.198209</td>\n",
       "      <td>0.453940</td>\n",
       "      <td>1.497557</td>\n",
       "      <td>149.295563</td>\n",
       "      <td>81.826689</td>\n",
       "    </tr>\n",
       "    <tr>\n",
       "      <th>24999</th>\n",
       "      <td>-0.246727</td>\n",
       "      <td>1.013025</td>\n",
       "      <td>4.678275</td>\n",
       "      <td>57.244039</td>\n",
       "      <td>93.121062</td>\n",
       "    </tr>\n",
       "  </tbody>\n",
       "</table>\n",
       "<p>25000 rows × 5 columns</p>\n",
       "</div>"
      ],
      "text/plain": [
       "             f0        f1        f2     product     predict\n",
       "0      0.599283 -0.557623  2.121187  122.073350  101.901017\n",
       "1      0.739017 -0.463156 -1.347584   48.738540   78.217774\n",
       "2      1.422743 -0.534917  3.718798  131.338088  115.266901\n",
       "3      1.580244 -0.238458  2.805149   88.327757  105.618618\n",
       "4      0.918974  0.023961  2.598575   36.959266   97.980185\n",
       "...         ...       ...       ...         ...         ...\n",
       "24995  0.754647 -0.512213  2.610771  148.821520  105.076959\n",
       "24996 -0.062056  0.516884  0.714446  123.454003   74.768176\n",
       "24997  0.593769 -0.425260 -0.525017   91.945213   82.544397\n",
       "24998  0.198209  0.453940  1.497557  149.295563   81.826689\n",
       "24999 -0.246727  1.013025  4.678275   57.244039   93.121062\n",
       "\n",
       "[25000 rows x 5 columns]"
      ]
     },
     "execution_count": 28,
     "metadata": {},
     "output_type": "execute_result"
    }
   ],
   "source": [
    "val1 = model(geo1)\n",
    "val1"
   ]
  },
  {
   "cell_type": "markdown",
   "metadata": {},
   "source": [
    "**Применим функцию для второго региона**"
   ]
  },
  {
   "cell_type": "code",
   "execution_count": 29,
   "metadata": {},
   "outputs": [
    {
     "name": "stdout",
     "output_type": "stream",
     "text": [
      "RMSE: 0.8902801001028846\n",
      "Средний запас предсказанного сырья: 68.7128780391376\n"
     ]
    },
    {
     "data": {
      "text/html": [
       "<div>\n",
       "<style scoped>\n",
       "    .dataframe tbody tr th:only-of-type {\n",
       "        vertical-align: middle;\n",
       "    }\n",
       "\n",
       "    .dataframe tbody tr th {\n",
       "        vertical-align: top;\n",
       "    }\n",
       "\n",
       "    .dataframe thead th {\n",
       "        text-align: right;\n",
       "    }\n",
       "</style>\n",
       "<table border=\"1\" class=\"dataframe\">\n",
       "  <thead>\n",
       "    <tr style=\"text-align: right;\">\n",
       "      <th></th>\n",
       "      <th>f0</th>\n",
       "      <th>f1</th>\n",
       "      <th>f2</th>\n",
       "      <th>product</th>\n",
       "      <th>predict</th>\n",
       "    </tr>\n",
       "  </thead>\n",
       "  <tbody>\n",
       "    <tr>\n",
       "      <th>0</th>\n",
       "      <td>6.078076</td>\n",
       "      <td>0.084568</td>\n",
       "      <td>0.002957</td>\n",
       "      <td>0.000000</td>\n",
       "      <td>0.844738</td>\n",
       "    </tr>\n",
       "    <tr>\n",
       "      <th>1</th>\n",
       "      <td>16.462386</td>\n",
       "      <td>2.712946</td>\n",
       "      <td>1.993030</td>\n",
       "      <td>53.906522</td>\n",
       "      <td>52.921612</td>\n",
       "    </tr>\n",
       "    <tr>\n",
       "      <th>2</th>\n",
       "      <td>7.051898</td>\n",
       "      <td>0.766983</td>\n",
       "      <td>4.990194</td>\n",
       "      <td>134.766305</td>\n",
       "      <td>135.110385</td>\n",
       "    </tr>\n",
       "    <tr>\n",
       "      <th>3</th>\n",
       "      <td>-0.240045</td>\n",
       "      <td>-0.380804</td>\n",
       "      <td>3.999693</td>\n",
       "      <td>107.813044</td>\n",
       "      <td>109.494863</td>\n",
       "    </tr>\n",
       "    <tr>\n",
       "      <th>4</th>\n",
       "      <td>13.350111</td>\n",
       "      <td>-8.558281</td>\n",
       "      <td>0.002010</td>\n",
       "      <td>0.000000</td>\n",
       "      <td>-0.047292</td>\n",
       "    </tr>\n",
       "    <tr>\n",
       "      <th>...</th>\n",
       "      <td>...</td>\n",
       "      <td>...</td>\n",
       "      <td>...</td>\n",
       "      <td>...</td>\n",
       "      <td>...</td>\n",
       "    </tr>\n",
       "    <tr>\n",
       "      <th>24995</th>\n",
       "      <td>8.141417</td>\n",
       "      <td>-0.832158</td>\n",
       "      <td>4.001976</td>\n",
       "      <td>107.813044</td>\n",
       "      <td>108.351600</td>\n",
       "    </tr>\n",
       "    <tr>\n",
       "      <th>24996</th>\n",
       "      <td>16.601751</td>\n",
       "      <td>-8.141232</td>\n",
       "      <td>2.010371</td>\n",
       "      <td>53.906522</td>\n",
       "      <td>53.604049</td>\n",
       "    </tr>\n",
       "    <tr>\n",
       "      <th>24997</th>\n",
       "      <td>14.674777</td>\n",
       "      <td>-5.633890</td>\n",
       "      <td>1.004171</td>\n",
       "      <td>26.953261</td>\n",
       "      <td>26.708734</td>\n",
       "    </tr>\n",
       "    <tr>\n",
       "      <th>24998</th>\n",
       "      <td>-1.381118</td>\n",
       "      <td>-5.464254</td>\n",
       "      <td>4.001648</td>\n",
       "      <td>110.992147</td>\n",
       "      <td>109.823087</td>\n",
       "    </tr>\n",
       "    <tr>\n",
       "      <th>24999</th>\n",
       "      <td>8.390836</td>\n",
       "      <td>-2.782887</td>\n",
       "      <td>5.007094</td>\n",
       "      <td>134.766305</td>\n",
       "      <td>135.448780</td>\n",
       "    </tr>\n",
       "  </tbody>\n",
       "</table>\n",
       "<p>25000 rows × 5 columns</p>\n",
       "</div>"
      ],
      "text/plain": [
       "              f0        f1        f2     product     predict\n",
       "0       6.078076  0.084568  0.002957    0.000000    0.844738\n",
       "1      16.462386  2.712946  1.993030   53.906522   52.921612\n",
       "2       7.051898  0.766983  4.990194  134.766305  135.110385\n",
       "3      -0.240045 -0.380804  3.999693  107.813044  109.494863\n",
       "4      13.350111 -8.558281  0.002010    0.000000   -0.047292\n",
       "...          ...       ...       ...         ...         ...\n",
       "24995   8.141417 -0.832158  4.001976  107.813044  108.351600\n",
       "24996  16.601751 -8.141232  2.010371   53.906522   53.604049\n",
       "24997  14.674777 -5.633890  1.004171   26.953261   26.708734\n",
       "24998  -1.381118 -5.464254  4.001648  110.992147  109.823087\n",
       "24999   8.390836 -2.782887  5.007094  134.766305  135.448780\n",
       "\n",
       "[25000 rows x 5 columns]"
      ]
     },
     "execution_count": 29,
     "metadata": {},
     "output_type": "execute_result"
    }
   ],
   "source": [
    "val2 = model(geo2)\n",
    "val2"
   ]
  },
  {
   "cell_type": "markdown",
   "metadata": {},
   "source": [
    "**Применим функция для третьего региона:**"
   ]
  },
  {
   "cell_type": "code",
   "execution_count": 30,
   "metadata": {},
   "outputs": [
    {
     "name": "stdout",
     "output_type": "stream",
     "text": [
      "RMSE: 40.145872311342174\n",
      "Средний запас предсказанного сырья: 94.77102387765939\n"
     ]
    },
    {
     "data": {
      "text/html": [
       "<div>\n",
       "<style scoped>\n",
       "    .dataframe tbody tr th:only-of-type {\n",
       "        vertical-align: middle;\n",
       "    }\n",
       "\n",
       "    .dataframe tbody tr th {\n",
       "        vertical-align: top;\n",
       "    }\n",
       "\n",
       "    .dataframe thead th {\n",
       "        text-align: right;\n",
       "    }\n",
       "</style>\n",
       "<table border=\"1\" class=\"dataframe\">\n",
       "  <thead>\n",
       "    <tr style=\"text-align: right;\">\n",
       "      <th></th>\n",
       "      <th>f0</th>\n",
       "      <th>f1</th>\n",
       "      <th>f2</th>\n",
       "      <th>product</th>\n",
       "      <th>predict</th>\n",
       "    </tr>\n",
       "  </thead>\n",
       "  <tbody>\n",
       "    <tr>\n",
       "      <th>0</th>\n",
       "      <td>2.111118</td>\n",
       "      <td>-1.679773</td>\n",
       "      <td>3.112240</td>\n",
       "      <td>117.441301</td>\n",
       "      <td>98.301916</td>\n",
       "    </tr>\n",
       "    <tr>\n",
       "      <th>1</th>\n",
       "      <td>0.734759</td>\n",
       "      <td>0.747788</td>\n",
       "      <td>3.670879</td>\n",
       "      <td>47.841249</td>\n",
       "      <td>101.592461</td>\n",
       "    </tr>\n",
       "    <tr>\n",
       "      <th>2</th>\n",
       "      <td>-2.513109</td>\n",
       "      <td>0.844631</td>\n",
       "      <td>-4.922889</td>\n",
       "      <td>45.883483</td>\n",
       "      <td>52.449099</td>\n",
       "    </tr>\n",
       "    <tr>\n",
       "      <th>3</th>\n",
       "      <td>-2.035301</td>\n",
       "      <td>-1.522988</td>\n",
       "      <td>5.072839</td>\n",
       "      <td>139.014608</td>\n",
       "      <td>109.922127</td>\n",
       "    </tr>\n",
       "    <tr>\n",
       "      <th>4</th>\n",
       "      <td>2.744145</td>\n",
       "      <td>1.429952</td>\n",
       "      <td>-1.372661</td>\n",
       "      <td>84.004276</td>\n",
       "      <td>72.411847</td>\n",
       "    </tr>\n",
       "    <tr>\n",
       "      <th>...</th>\n",
       "      <td>...</td>\n",
       "      <td>...</td>\n",
       "      <td>...</td>\n",
       "      <td>...</td>\n",
       "      <td>...</td>\n",
       "    </tr>\n",
       "    <tr>\n",
       "      <th>24995</th>\n",
       "      <td>-1.532677</td>\n",
       "      <td>0.365315</td>\n",
       "      <td>3.840436</td>\n",
       "      <td>40.797226</td>\n",
       "      <td>102.764169</td>\n",
       "    </tr>\n",
       "    <tr>\n",
       "      <th>24996</th>\n",
       "      <td>1.381244</td>\n",
       "      <td>1.168552</td>\n",
       "      <td>2.262261</td>\n",
       "      <td>87.144239</td>\n",
       "      <td>93.431823</td>\n",
       "    </tr>\n",
       "    <tr>\n",
       "      <th>24997</th>\n",
       "      <td>2.902487</td>\n",
       "      <td>0.839203</td>\n",
       "      <td>-2.817721</td>\n",
       "      <td>52.039812</td>\n",
       "      <td>64.098390</td>\n",
       "    </tr>\n",
       "    <tr>\n",
       "      <th>24998</th>\n",
       "      <td>0.942093</td>\n",
       "      <td>-1.424641</td>\n",
       "      <td>0.567559</td>\n",
       "      <td>136.961454</td>\n",
       "      <td>83.764135</td>\n",
       "    </tr>\n",
       "    <tr>\n",
       "      <th>24999</th>\n",
       "      <td>1.015823</td>\n",
       "      <td>-1.600172</td>\n",
       "      <td>1.054157</td>\n",
       "      <td>109.173206</td>\n",
       "      <td>86.558644</td>\n",
       "    </tr>\n",
       "  </tbody>\n",
       "</table>\n",
       "<p>25000 rows × 5 columns</p>\n",
       "</div>"
      ],
      "text/plain": [
       "             f0        f1        f2     product     predict\n",
       "0      2.111118 -1.679773  3.112240  117.441301   98.301916\n",
       "1      0.734759  0.747788  3.670879   47.841249  101.592461\n",
       "2     -2.513109  0.844631 -4.922889   45.883483   52.449099\n",
       "3     -2.035301 -1.522988  5.072839  139.014608  109.922127\n",
       "4      2.744145  1.429952 -1.372661   84.004276   72.411847\n",
       "...         ...       ...       ...         ...         ...\n",
       "24995 -1.532677  0.365315  3.840436   40.797226  102.764169\n",
       "24996  1.381244  1.168552  2.262261   87.144239   93.431823\n",
       "24997  2.902487  0.839203 -2.817721   52.039812   64.098390\n",
       "24998  0.942093 -1.424641  0.567559  136.961454   83.764135\n",
       "24999  1.015823 -1.600172  1.054157  109.173206   86.558644\n",
       "\n",
       "[25000 rows x 5 columns]"
      ]
     },
     "execution_count": 30,
     "metadata": {},
     "output_type": "execute_result"
    }
   ],
   "source": [
    "val3 = model(geo3)\n",
    "val3"
   ]
  },
  {
   "cell_type": "markdown",
   "metadata": {},
   "source": [
    "**В результате мы получили 3 модели: метрика 1 и 3 модели оставляют желать лучшего, а вот вторая модель показала себя очень хорошо. Теперь можно приступить к подготовке к расчету прибыли.**"
   ]
  },
  {
   "cell_type": "markdown",
   "metadata": {},
   "source": [
    "## Подготовка к расчёту прибыли"
   ]
  },
  {
   "cell_type": "markdown",
   "metadata": {},
   "source": [
    "**Всего на разработку скважин выделено 10 млрд рублей. Компания хочет разработать 200 скважин, почситаем сколько выделяется на одну скважину:**"
   ]
  },
  {
   "cell_type": "code",
   "execution_count": 31,
   "metadata": {
    "scrolled": true
   },
   "outputs": [
    {
     "data": {
      "text/plain": [
       "50000000.0"
      ]
     },
     "execution_count": 31,
     "metadata": {},
     "output_type": "execute_result"
    }
   ],
   "source": [
    "BUDGET = 10000000000\n",
    "NUMBER_OF_WELLS = 200\n",
    "BUDGET_ONE_WELL = BUDGET/NUMBER_OF_WELLS\n",
    "BUDGET_ONE_WELL"
   ]
  },
  {
   "cell_type": "markdown",
   "metadata": {},
   "source": [
    "**Бюджет разработки одной скважины составляет 50 млн. рублей. Доход с каждой единицы продукта составляет 450 тыс. рублей, найдем достаточный объём сырья для безубыточной разработки новой скважины:**  "
   ]
  },
  {
   "cell_type": "code",
   "execution_count": 32,
   "metadata": {},
   "outputs": [
    {
     "data": {
      "text/plain": [
       "111.11111111111111"
      ]
     },
     "execution_count": 32,
     "metadata": {},
     "output_type": "execute_result"
    }
   ],
   "source": [
    "ONE_THOUSANT_BARRELS_COST = 450000\n",
    "REQUIRED_VOLUME = BUDGET_ONE_WELL/ONE_THOUSANT_BARRELS_COST\n",
    "REQUIRED_VOLUME"
   ]
  },
  {
   "cell_type": "markdown",
   "metadata": {},
   "source": [
    "**Необходимое количество сырья для безубыточной разработки составляет 111.2. Это больше, чем среденее предсказанное любой из таблиц. Скорее всего это озночает, что не все регионы можно будет рекомендовать к разработке.**"
   ]
  },
  {
   "cell_type": "markdown",
   "metadata": {},
   "source": [
    "## Расчёт прибыли "
   ]
  },
  {
   "cell_type": "markdown",
   "metadata": {},
   "source": [
    "**Напишем функцию для расчёта прибыли по выбранным скважинам и предсказаниям модели:**"
   ]
  },
  {
   "cell_type": "code",
   "execution_count": 33,
   "metadata": {},
   "outputs": [],
   "source": [
    "def revenue(target, predictions, count):\n",
    "    prediction_sorted = predictions.sort_values(ascending=False)\n",
    "    selected = target.loc[prediction_sorted.index][:count]\n",
    "    return (ONE_THOUSANT_BARRELS_COST * selected.sum()) - (count*BUDGET_ONE_WELL)"
   ]
  },
  {
   "cell_type": "markdown",
   "metadata": {},
   "source": [
    "## Расчёт рисков"
   ]
  },
  {
   "cell_type": "markdown",
   "metadata": {},
   "source": [
    "**Напишем функцию, которая считает риски и прибыль для каждого региона с помощью техники Boostrap с 1000 выборок:**"
   ]
  },
  {
   "cell_type": "code",
   "execution_count": 34,
   "metadata": {},
   "outputs": [],
   "source": [
    "def risk(df):\n",
    "    state = np.random.RandomState(12345)  \n",
    "    values = []\n",
    "    for i in range(1000):\n",
    "        target_subsample = df['product'].sample(n=500, replace=True, random_state=state)\n",
    "        predictions_subsample = df['predict'].loc[target_subsample.index]\n",
    "        values.append(revenue(target_subsample, predictions_subsample, 200))\n",
    "    values = pd.Series(values)\n",
    "    lower = values.quantile(0.025)\n",
    "    high = values.quantile(0.975)\n",
    "    mean = values.mean()\n",
    "    risk_of_loss = np.mean(np.array(values) <0)\n",
    "    print(\"Средняя прибыль региона:\", mean)\n",
    "    print(\"Доверительный интервал для прибыли:\", lower, ':', high)\n",
    "    print(f\"Риск убытков для региона: {risk_of_loss:.2%}\")"
   ]
  },
  {
   "cell_type": "code",
   "execution_count": 35,
   "metadata": {},
   "outputs": [
    {
     "name": "stdout",
     "output_type": "stream",
     "text": [
      "Средняя прибыль региона: 435933772.1386621\n",
      "Доверительный интервал для прибыли: -116231612.77720818 - 966504180.707376\n",
      "Риск убытков для региона: 6.10%\n"
     ]
    }
   ],
   "source": [
    "risk(val1)"
   ]
  },
  {
   "cell_type": "markdown",
   "metadata": {},
   "source": [
    "**Теперь сделаем все тоже самое для второго региона:**"
   ]
  },
  {
   "cell_type": "code",
   "execution_count": 36,
   "metadata": {},
   "outputs": [
    {
     "name": "stdout",
     "output_type": "stream",
     "text": [
      "Средняя прибыль региона: 489661254.41175246\n",
      "Доверительный интервал для прибыли: 55116177.27361494 - 905762650.4248402\n",
      "Риск убытков для региона: 1.10%\n"
     ]
    }
   ],
   "source": [
    "risk(val2)"
   ]
  },
  {
   "cell_type": "markdown",
   "metadata": {},
   "source": [
    "**И для  третьего региона:**"
   ]
  },
  {
   "cell_type": "code",
   "execution_count": 37,
   "metadata": {},
   "outputs": [
    {
     "name": "stdout",
     "output_type": "stream",
     "text": [
      "Средняя прибыль региона: 403687927.86213845\n",
      "Доверительный интервал для прибыли: -153116984.7619049 - 952887416.7078604\n",
      "Риск убытков для региона: 7.10%\n"
     ]
    }
   ],
   "source": [
    "risk(val3)"
   ]
  },
  {
   "cell_type": "markdown",
   "metadata": {},
   "source": [
    "**Исходя из условия выбора скважины о том, что вероятность убытков должна быть меньше 2.5%, делаем вывод что нам подходит только второй регион, в нем как раз наибольшая средняя выручка.**"
   ]
  },
  {
   "cell_type": "markdown",
   "metadata": {},
   "source": [
    "## Вывод"
   ]
  },
  {
   "cell_type": "markdown",
   "metadata": {},
   "source": [
    "**В ходе работ по этому проекту, нами был проделан полный путь анализа трех регионов для разработки скважин. Мы загрузили и предобработали данные, исследовали их, а затем для каждого из регионов построили модели, предсказывающие объем сырья в скважинах. После этого с помощью техники Bootstrap мы нашли среднюю выручку и риск убытков для каждого из регионов. На основе этих данных мы выбрали подходящий нам регион - второй регион. Он подходит из-за низкого риска убытков и из-за самой выскокой средней вырчки**"
   ]
  }
 ],
 "metadata": {
  "ExecuteTimeLog": [
   {
    "duration": 11439,
    "start_time": "2024-11-27T09:17:15.300Z"
   },
   {
    "duration": 58,
    "start_time": "2024-11-27T09:18:17.338Z"
   },
   {
    "duration": 61,
    "start_time": "2024-11-27T09:18:32.398Z"
   },
   {
    "duration": 514,
    "start_time": "2024-11-27T09:20:03.854Z"
   },
   {
    "duration": 266,
    "start_time": "2024-11-27T09:20:42.248Z"
   },
   {
    "duration": 248,
    "start_time": "2024-11-27T09:21:02.282Z"
   },
   {
    "duration": 11,
    "start_time": "2024-11-27T09:25:45.492Z"
   },
   {
    "duration": 16,
    "start_time": "2024-11-27T09:25:55.673Z"
   },
   {
    "duration": 10,
    "start_time": "2024-11-27T09:26:00.406Z"
   },
   {
    "duration": 49,
    "start_time": "2024-11-27T09:26:42.419Z"
   },
   {
    "duration": 43,
    "start_time": "2024-11-27T09:26:47.963Z"
   },
   {
    "duration": 46,
    "start_time": "2024-11-27T09:26:51.337Z"
   },
   {
    "duration": 107,
    "start_time": "2024-11-27T09:28:41.968Z"
   },
   {
    "duration": 32,
    "start_time": "2024-11-27T09:29:40.226Z"
   },
   {
    "duration": 6,
    "start_time": "2024-11-27T09:29:49.366Z"
   },
   {
    "duration": 13,
    "start_time": "2024-11-27T09:30:00.269Z"
   },
   {
    "duration": 5,
    "start_time": "2024-11-27T09:30:00.537Z"
   },
   {
    "duration": 6134,
    "start_time": "2024-11-27T09:30:11.379Z"
   },
   {
    "duration": 51,
    "start_time": "2024-11-27T09:30:17.516Z"
   },
   {
    "duration": 179,
    "start_time": "2024-11-27T09:30:17.569Z"
   },
   {
    "duration": 150,
    "start_time": "2024-11-27T09:30:17.750Z"
   },
   {
    "duration": 151,
    "start_time": "2024-11-27T09:30:17.902Z"
   },
   {
    "duration": 9,
    "start_time": "2024-11-27T09:30:18.055Z"
   },
   {
    "duration": 33,
    "start_time": "2024-11-27T09:30:18.065Z"
   },
   {
    "duration": 24,
    "start_time": "2024-11-27T09:30:18.100Z"
   },
   {
    "duration": 51,
    "start_time": "2024-11-27T09:30:18.125Z"
   },
   {
    "duration": 41,
    "start_time": "2024-11-27T09:30:18.178Z"
   },
   {
    "duration": 45,
    "start_time": "2024-11-27T09:30:18.220Z"
   },
   {
    "duration": 50,
    "start_time": "2024-11-27T09:30:18.267Z"
   },
   {
    "duration": 41,
    "start_time": "2024-11-27T09:30:18.319Z"
   },
   {
    "duration": 44,
    "start_time": "2024-11-27T09:30:31.656Z"
   },
   {
    "duration": 93,
    "start_time": "2024-11-27T09:30:58.686Z"
   },
   {
    "duration": 41,
    "start_time": "2024-11-27T09:31:03.242Z"
   },
   {
    "duration": 48,
    "start_time": "2024-11-27T09:31:09.090Z"
   },
   {
    "duration": 5,
    "start_time": "2024-11-27T09:32:29.436Z"
   },
   {
    "duration": 565,
    "start_time": "2024-11-27T09:32:50.821Z"
   },
   {
    "duration": 446,
    "start_time": "2024-11-27T09:33:22.403Z"
   },
   {
    "duration": 465,
    "start_time": "2024-11-27T09:33:34.368Z"
   },
   {
    "duration": 573,
    "start_time": "2024-11-27T09:37:39.871Z"
   },
   {
    "duration": 498,
    "start_time": "2024-11-27T09:44:52.867Z"
   },
   {
    "duration": 463,
    "start_time": "2024-11-27T09:44:58.627Z"
   },
   {
    "duration": 431,
    "start_time": "2024-11-27T09:45:25.457Z"
   },
   {
    "duration": 460,
    "start_time": "2024-11-27T09:45:29.072Z"
   },
   {
    "duration": 465,
    "start_time": "2024-11-27T09:45:39.368Z"
   },
   {
    "duration": 511,
    "start_time": "2024-11-27T09:45:43.248Z"
   },
   {
    "duration": 6,
    "start_time": "2024-11-27T09:46:39.570Z"
   },
   {
    "duration": 108,
    "start_time": "2024-11-27T09:46:49.383Z"
   },
   {
    "duration": 18,
    "start_time": "2024-11-27T09:46:54.175Z"
   },
   {
    "duration": 11,
    "start_time": "2024-11-27T09:47:02.258Z"
   },
   {
    "duration": 440,
    "start_time": "2024-11-27T09:56:31.715Z"
   },
   {
    "duration": 453,
    "start_time": "2024-11-27T09:58:14.360Z"
   },
   {
    "duration": 10,
    "start_time": "2024-11-27T09:58:37.018Z"
   },
   {
    "duration": 476,
    "start_time": "2024-11-27T09:59:53.794Z"
   },
   {
    "duration": 440,
    "start_time": "2024-11-27T10:00:04.699Z"
   },
   {
    "duration": 484,
    "start_time": "2024-11-27T10:01:05.957Z"
   },
   {
    "duration": 4869,
    "start_time": "2024-11-27T10:09:02.714Z"
   },
   {
    "duration": 4,
    "start_time": "2024-11-27T10:09:07.585Z"
   },
   {
    "duration": 205,
    "start_time": "2024-11-27T10:09:07.591Z"
   },
   {
    "duration": 154,
    "start_time": "2024-11-27T10:09:07.800Z"
   },
   {
    "duration": 155,
    "start_time": "2024-11-27T10:09:07.956Z"
   },
   {
    "duration": 11,
    "start_time": "2024-11-27T10:09:08.113Z"
   },
   {
    "duration": 135,
    "start_time": "2024-11-27T10:09:08.125Z"
   },
   {
    "duration": 10,
    "start_time": "2024-11-27T10:09:08.262Z"
   },
   {
    "duration": 79,
    "start_time": "2024-11-27T10:09:08.274Z"
   },
   {
    "duration": 47,
    "start_time": "2024-11-27T10:09:08.355Z"
   },
   {
    "duration": 49,
    "start_time": "2024-11-27T10:09:08.404Z"
   },
   {
    "duration": 4,
    "start_time": "2024-11-27T10:09:08.455Z"
   },
   {
    "duration": 558,
    "start_time": "2024-11-27T10:09:08.461Z"
   },
   {
    "duration": 445,
    "start_time": "2024-11-27T10:09:09.022Z"
   },
   {
    "duration": 489,
    "start_time": "2024-11-27T10:09:09.468Z"
   },
   {
    "duration": 498,
    "start_time": "2024-11-27T10:09:09.958Z"
   },
   {
    "duration": 470,
    "start_time": "2024-11-27T10:09:10.458Z"
   },
   {
    "duration": 9,
    "start_time": "2024-11-27T10:09:10.930Z"
   },
   {
    "duration": 486,
    "start_time": "2024-11-27T10:09:10.941Z"
   },
   {
    "duration": 523,
    "start_time": "2024-11-27T10:09:11.429Z"
   },
   {
    "duration": 478,
    "start_time": "2024-11-27T10:09:11.954Z"
   },
   {
    "duration": 452,
    "start_time": "2024-11-27T10:09:12.434Z"
   },
   {
    "duration": 20,
    "start_time": "2024-11-27T10:09:12.888Z"
   },
   {
    "duration": 449,
    "start_time": "2024-11-27T10:09:12.910Z"
   },
   {
    "duration": 446,
    "start_time": "2024-11-27T10:09:13.360Z"
   },
   {
    "duration": 459,
    "start_time": "2024-11-27T10:09:13.807Z"
   },
   {
    "duration": 12,
    "start_time": "2024-11-27T10:24:34.932Z"
   },
   {
    "duration": 4,
    "start_time": "2024-11-27T10:24:36.612Z"
   },
   {
    "duration": 7,
    "start_time": "2024-11-27T10:24:39.642Z"
   },
   {
    "duration": 11,
    "start_time": "2024-11-27T10:24:40.093Z"
   },
   {
    "duration": 4,
    "start_time": "2024-11-27T10:24:52.309Z"
   },
   {
    "duration": 4,
    "start_time": "2024-11-27T10:25:06.672Z"
   },
   {
    "duration": 3,
    "start_time": "2024-11-27T10:25:12.059Z"
   },
   {
    "duration": 4,
    "start_time": "2024-11-27T10:25:16.401Z"
   },
   {
    "duration": 16,
    "start_time": "2024-11-27T10:25:32.396Z"
   },
   {
    "duration": 11,
    "start_time": "2024-11-27T10:52:22.445Z"
   },
   {
    "duration": 95,
    "start_time": "2024-11-27T10:53:20.606Z"
   },
   {
    "duration": 21,
    "start_time": "2024-11-27T10:53:25.907Z"
   },
   {
    "duration": 12,
    "start_time": "2024-11-27T10:53:36.426Z"
   },
   {
    "duration": 4,
    "start_time": "2024-11-27T10:55:02.503Z"
   },
   {
    "duration": 5,
    "start_time": "2024-11-27T10:55:07.939Z"
   },
   {
    "duration": 9,
    "start_time": "2024-11-27T10:56:26.287Z"
   },
   {
    "duration": 13,
    "start_time": "2024-11-27T10:56:38.745Z"
   },
   {
    "duration": 6,
    "start_time": "2024-11-27T10:56:52.339Z"
   },
   {
    "duration": 4,
    "start_time": "2024-11-27T10:57:02.038Z"
   },
   {
    "duration": 14,
    "start_time": "2024-11-27T10:58:05.633Z"
   },
   {
    "duration": 11,
    "start_time": "2024-11-27T10:58:06.714Z"
   },
   {
    "duration": 99,
    "start_time": "2024-11-27T10:58:07.711Z"
   },
   {
    "duration": 5,
    "start_time": "2024-11-27T10:58:08.724Z"
   },
   {
    "duration": 5,
    "start_time": "2024-11-27T10:58:13.114Z"
   },
   {
    "duration": 5,
    "start_time": "2024-11-27T10:58:13.842Z"
   },
   {
    "duration": 4,
    "start_time": "2024-11-27T10:58:14.422Z"
   },
   {
    "duration": 5,
    "start_time": "2024-11-27T11:00:07.888Z"
   },
   {
    "duration": 6,
    "start_time": "2024-11-27T11:00:14.731Z"
   },
   {
    "duration": 5,
    "start_time": "2024-11-27T11:00:19.842Z"
   },
   {
    "duration": 7,
    "start_time": "2024-11-27T11:00:38.246Z"
   },
   {
    "duration": 11,
    "start_time": "2024-11-27T11:01:37.168Z"
   },
   {
    "duration": 6,
    "start_time": "2024-11-27T11:01:41.772Z"
   },
   {
    "duration": 4960,
    "start_time": "2024-11-27T11:02:05.428Z"
   },
   {
    "duration": 4,
    "start_time": "2024-11-27T11:02:10.391Z"
   },
   {
    "duration": 198,
    "start_time": "2024-11-27T11:02:10.397Z"
   },
   {
    "duration": 267,
    "start_time": "2024-11-27T11:02:10.600Z"
   },
   {
    "duration": 174,
    "start_time": "2024-11-27T11:02:10.870Z"
   },
   {
    "duration": 14,
    "start_time": "2024-11-27T11:02:11.046Z"
   },
   {
    "duration": 11,
    "start_time": "2024-11-27T11:02:11.061Z"
   },
   {
    "duration": 35,
    "start_time": "2024-11-27T11:02:11.074Z"
   },
   {
    "duration": 47,
    "start_time": "2024-11-27T11:02:11.110Z"
   },
   {
    "duration": 64,
    "start_time": "2024-11-27T11:02:11.159Z"
   },
   {
    "duration": 45,
    "start_time": "2024-11-27T11:02:11.225Z"
   },
   {
    "duration": 4,
    "start_time": "2024-11-27T11:02:11.272Z"
   },
   {
    "duration": 511,
    "start_time": "2024-11-27T11:02:11.277Z"
   },
   {
    "duration": 463,
    "start_time": "2024-11-27T11:02:11.791Z"
   },
   {
    "duration": 497,
    "start_time": "2024-11-27T11:02:12.256Z"
   },
   {
    "duration": 484,
    "start_time": "2024-11-27T11:02:12.755Z"
   },
   {
    "duration": 459,
    "start_time": "2024-11-27T11:02:13.241Z"
   },
   {
    "duration": 10,
    "start_time": "2024-11-27T11:02:13.701Z"
   },
   {
    "duration": 434,
    "start_time": "2024-11-27T11:02:13.712Z"
   },
   {
    "duration": 597,
    "start_time": "2024-11-27T11:02:14.147Z"
   },
   {
    "duration": 479,
    "start_time": "2024-11-27T11:02:14.746Z"
   },
   {
    "duration": 463,
    "start_time": "2024-11-27T11:02:15.227Z"
   },
   {
    "duration": 16,
    "start_time": "2024-11-27T11:02:15.691Z"
   },
   {
    "duration": 476,
    "start_time": "2024-11-27T11:02:15.710Z"
   },
   {
    "duration": 451,
    "start_time": "2024-11-27T11:02:16.188Z"
   },
   {
    "duration": 480,
    "start_time": "2024-11-27T11:02:16.641Z"
   },
   {
    "duration": 17,
    "start_time": "2024-11-27T11:02:17.123Z"
   },
   {
    "duration": 3,
    "start_time": "2024-11-27T11:02:17.142Z"
   },
   {
    "duration": 57,
    "start_time": "2024-11-27T11:02:17.147Z"
   },
   {
    "duration": 98,
    "start_time": "2024-11-27T11:02:17.206Z"
   },
   {
    "duration": 97,
    "start_time": "2024-11-27T11:02:17.306Z"
   },
   {
    "duration": 14,
    "start_time": "2024-11-27T11:02:28.016Z"
   },
   {
    "duration": 22,
    "start_time": "2024-11-27T11:02:29.096Z"
   },
   {
    "duration": 6,
    "start_time": "2024-11-27T11:02:29.711Z"
   },
   {
    "duration": 5,
    "start_time": "2024-11-27T11:02:30.391Z"
   },
   {
    "duration": 4930,
    "start_time": "2024-11-27T11:02:34.072Z"
   },
   {
    "duration": 4,
    "start_time": "2024-11-27T11:02:39.005Z"
   },
   {
    "duration": 211,
    "start_time": "2024-11-27T11:02:39.011Z"
   },
   {
    "duration": 148,
    "start_time": "2024-11-27T11:02:39.223Z"
   },
   {
    "duration": 155,
    "start_time": "2024-11-27T11:02:39.373Z"
   },
   {
    "duration": 12,
    "start_time": "2024-11-27T11:02:39.529Z"
   },
   {
    "duration": 20,
    "start_time": "2024-11-27T11:02:39.543Z"
   },
   {
    "duration": 12,
    "start_time": "2024-11-27T11:02:39.565Z"
   },
   {
    "duration": 49,
    "start_time": "2024-11-27T11:02:39.600Z"
   },
   {
    "duration": 59,
    "start_time": "2024-11-27T11:02:39.652Z"
   },
   {
    "duration": 158,
    "start_time": "2024-11-27T11:02:39.713Z"
   },
   {
    "duration": 5,
    "start_time": "2024-11-27T11:02:39.872Z"
   },
   {
    "duration": 558,
    "start_time": "2024-11-27T11:02:39.879Z"
   },
   {
    "duration": 436,
    "start_time": "2024-11-27T11:02:40.440Z"
   },
   {
    "duration": 485,
    "start_time": "2024-11-27T11:02:40.878Z"
   },
   {
    "duration": 505,
    "start_time": "2024-11-27T11:02:41.365Z"
   },
   {
    "duration": 469,
    "start_time": "2024-11-27T11:02:41.873Z"
   },
   {
    "duration": 10,
    "start_time": "2024-11-27T11:02:42.345Z"
   },
   {
    "duration": 468,
    "start_time": "2024-11-27T11:02:42.357Z"
   },
   {
    "duration": 540,
    "start_time": "2024-11-27T11:02:42.827Z"
   },
   {
    "duration": 471,
    "start_time": "2024-11-27T11:02:43.369Z"
   },
   {
    "duration": 468,
    "start_time": "2024-11-27T11:02:43.842Z"
   },
   {
    "duration": 9,
    "start_time": "2024-11-27T11:02:44.312Z"
   },
   {
    "duration": 467,
    "start_time": "2024-11-27T11:02:44.322Z"
   },
   {
    "duration": 485,
    "start_time": "2024-11-27T11:02:44.791Z"
   },
   {
    "duration": 464,
    "start_time": "2024-11-27T11:02:45.278Z"
   },
   {
    "duration": 15,
    "start_time": "2024-11-27T11:02:45.744Z"
   },
   {
    "duration": 30,
    "start_time": "2024-11-27T11:02:45.760Z"
   },
   {
    "duration": 208,
    "start_time": "2024-11-27T11:02:45.791Z"
   },
   {
    "duration": 7,
    "start_time": "2024-11-27T11:02:46.002Z"
   },
   {
    "duration": 11,
    "start_time": "2024-11-27T11:02:46.010Z"
   },
   {
    "duration": 5,
    "start_time": "2024-11-27T11:05:21.157Z"
   },
   {
    "duration": 11933,
    "start_time": "2024-11-27T14:33:13.154Z"
   },
   {
    "duration": 48,
    "start_time": "2024-11-27T14:33:25.090Z"
   },
   {
    "duration": 484,
    "start_time": "2024-11-27T14:33:25.139Z"
   },
   {
    "duration": 203,
    "start_time": "2024-11-27T14:33:25.625Z"
   },
   {
    "duration": 200,
    "start_time": "2024-11-27T14:33:25.829Z"
   },
   {
    "duration": 8,
    "start_time": "2024-11-27T14:33:26.030Z"
   },
   {
    "duration": 13,
    "start_time": "2024-11-27T14:33:26.039Z"
   },
   {
    "duration": 8,
    "start_time": "2024-11-27T14:33:26.053Z"
   },
   {
    "duration": 56,
    "start_time": "2024-11-27T14:33:26.062Z"
   },
   {
    "duration": 38,
    "start_time": "2024-11-27T14:33:26.120Z"
   },
   {
    "duration": 73,
    "start_time": "2024-11-27T14:33:26.159Z"
   },
   {
    "duration": 5,
    "start_time": "2024-11-27T14:33:26.234Z"
   },
   {
    "duration": 506,
    "start_time": "2024-11-27T14:33:26.242Z"
   },
   {
    "duration": 424,
    "start_time": "2024-11-27T14:33:26.749Z"
   },
   {
    "duration": 450,
    "start_time": "2024-11-27T14:33:27.174Z"
   },
   {
    "duration": 509,
    "start_time": "2024-11-27T14:33:27.625Z"
   },
   {
    "duration": 404,
    "start_time": "2024-11-27T14:33:28.135Z"
   },
   {
    "duration": 8,
    "start_time": "2024-11-27T14:33:28.540Z"
   },
   {
    "duration": 386,
    "start_time": "2024-11-27T14:33:28.550Z"
   },
   {
    "duration": 433,
    "start_time": "2024-11-27T14:33:28.937Z"
   },
   {
    "duration": 450,
    "start_time": "2024-11-27T14:33:29.371Z"
   },
   {
    "duration": 490,
    "start_time": "2024-11-27T14:33:29.823Z"
   },
   {
    "duration": 9,
    "start_time": "2024-11-27T14:33:30.315Z"
   },
   {
    "duration": 440,
    "start_time": "2024-11-27T14:33:30.326Z"
   },
   {
    "duration": 463,
    "start_time": "2024-11-27T14:33:30.769Z"
   },
   {
    "duration": 413,
    "start_time": "2024-11-27T14:33:31.233Z"
   },
   {
    "duration": 15,
    "start_time": "2024-11-27T14:33:31.648Z"
   },
   {
    "duration": 28,
    "start_time": "2024-11-27T14:33:31.667Z"
   },
   {
    "duration": 215,
    "start_time": "2024-11-27T14:33:31.697Z"
   },
   {
    "duration": 5,
    "start_time": "2024-11-27T14:33:31.915Z"
   },
   {
    "duration": 46,
    "start_time": "2024-11-27T14:33:31.921Z"
   },
   {
    "duration": 18,
    "start_time": "2024-11-27T14:33:31.969Z"
   },
   {
    "duration": 19,
    "start_time": "2024-11-27T14:34:10.921Z"
   },
   {
    "duration": 4,
    "start_time": "2024-11-27T14:34:11.360Z"
   },
   {
    "duration": 4,
    "start_time": "2024-11-27T14:34:12.198Z"
   },
   {
    "duration": 38,
    "start_time": "2024-11-27T14:53:11.773Z"
   },
   {
    "duration": 3,
    "start_time": "2024-11-27T14:53:17.978Z"
   },
   {
    "duration": 27,
    "start_time": "2024-11-27T14:54:29.417Z"
   },
   {
    "duration": 26,
    "start_time": "2024-11-27T14:54:32.940Z"
   },
   {
    "duration": 5,
    "start_time": "2024-11-27T14:56:58.550Z"
   },
   {
    "duration": 5195,
    "start_time": "2024-11-27T14:57:30.309Z"
   },
   {
    "duration": 4,
    "start_time": "2024-11-27T14:57:35.507Z"
   },
   {
    "duration": 171,
    "start_time": "2024-11-27T14:57:35.512Z"
   },
   {
    "duration": 125,
    "start_time": "2024-11-27T14:57:35.684Z"
   },
   {
    "duration": 123,
    "start_time": "2024-11-27T14:57:35.811Z"
   },
   {
    "duration": 8,
    "start_time": "2024-11-27T14:57:35.936Z"
   },
   {
    "duration": 9,
    "start_time": "2024-11-27T14:57:35.945Z"
   },
   {
    "duration": 15,
    "start_time": "2024-11-27T14:57:35.956Z"
   },
   {
    "duration": 61,
    "start_time": "2024-11-27T14:57:35.972Z"
   },
   {
    "duration": 42,
    "start_time": "2024-11-27T14:57:36.036Z"
   },
   {
    "duration": 53,
    "start_time": "2024-11-27T14:57:36.080Z"
   },
   {
    "duration": 4,
    "start_time": "2024-11-27T14:57:36.134Z"
   },
   {
    "duration": 519,
    "start_time": "2024-11-27T14:57:36.139Z"
   },
   {
    "duration": 380,
    "start_time": "2024-11-27T14:57:36.660Z"
   },
   {
    "duration": 520,
    "start_time": "2024-11-27T14:57:37.042Z"
   },
   {
    "duration": 404,
    "start_time": "2024-11-27T14:57:37.563Z"
   },
   {
    "duration": 400,
    "start_time": "2024-11-27T14:57:37.969Z"
   },
   {
    "duration": 9,
    "start_time": "2024-11-27T14:57:38.370Z"
   },
   {
    "duration": 425,
    "start_time": "2024-11-27T14:57:38.380Z"
   },
   {
    "duration": 417,
    "start_time": "2024-11-27T14:57:38.807Z"
   },
   {
    "duration": 405,
    "start_time": "2024-11-27T14:57:39.226Z"
   },
   {
    "duration": 497,
    "start_time": "2024-11-27T14:57:39.632Z"
   },
   {
    "duration": 8,
    "start_time": "2024-11-27T14:57:40.130Z"
   },
   {
    "duration": 417,
    "start_time": "2024-11-27T14:57:40.140Z"
   },
   {
    "duration": 384,
    "start_time": "2024-11-27T14:57:40.558Z"
   },
   {
    "duration": 403,
    "start_time": "2024-11-27T14:57:40.943Z"
   },
   {
    "duration": 10,
    "start_time": "2024-11-27T14:57:41.347Z"
   },
   {
    "duration": 17,
    "start_time": "2024-11-27T14:57:41.360Z"
   },
   {
    "duration": 34,
    "start_time": "2024-11-27T14:57:41.379Z"
   },
   {
    "duration": 6,
    "start_time": "2024-11-27T14:57:41.414Z"
   },
   {
    "duration": 98,
    "start_time": "2024-11-27T14:57:41.421Z"
   },
   {
    "duration": 127,
    "start_time": "2024-11-27T14:57:41.521Z"
   },
   {
    "duration": 180,
    "start_time": "2024-11-27T14:57:41.650Z"
   },
   {
    "duration": 4,
    "start_time": "2024-11-27T14:58:08.177Z"
   },
   {
    "duration": 108,
    "start_time": "2024-11-27T15:00:17.666Z"
   },
   {
    "duration": 3,
    "start_time": "2024-11-27T15:01:25.678Z"
   },
   {
    "duration": 5,
    "start_time": "2024-11-27T15:01:55.414Z"
   },
   {
    "duration": 4,
    "start_time": "2024-11-27T15:02:04.262Z"
   },
   {
    "duration": 11,
    "start_time": "2024-11-27T15:02:30.716Z"
   },
   {
    "duration": 8,
    "start_time": "2024-11-27T15:02:36.371Z"
   },
   {
    "duration": 10,
    "start_time": "2024-11-27T15:02:44.080Z"
   },
   {
    "duration": 9,
    "start_time": "2024-11-27T15:03:10.898Z"
   },
   {
    "duration": 10,
    "start_time": "2024-11-27T15:03:29.961Z"
   },
   {
    "duration": 8,
    "start_time": "2024-11-27T15:03:30.543Z"
   },
   {
    "duration": 21,
    "start_time": "2024-11-27T15:03:31.174Z"
   },
   {
    "duration": 5,
    "start_time": "2024-11-27T15:03:31.713Z"
   },
   {
    "duration": 4,
    "start_time": "2024-11-27T15:03:33.655Z"
   },
   {
    "duration": 4,
    "start_time": "2024-11-27T15:03:35.225Z"
   },
   {
    "duration": 8,
    "start_time": "2024-11-27T15:04:08.119Z"
   },
   {
    "duration": 4,
    "start_time": "2024-11-27T15:04:12.653Z"
   },
   {
    "duration": 12,
    "start_time": "2024-11-27T15:05:16.321Z"
   },
   {
    "duration": 15,
    "start_time": "2024-11-27T15:05:56.109Z"
   },
   {
    "duration": 9,
    "start_time": "2024-11-27T15:06:17.118Z"
   },
   {
    "duration": 10,
    "start_time": "2024-11-27T15:06:26.017Z"
   },
   {
    "duration": 9,
    "start_time": "2024-11-27T15:06:32.824Z"
   },
   {
    "duration": 9,
    "start_time": "2024-11-27T15:07:16.808Z"
   },
   {
    "duration": 12,
    "start_time": "2024-11-27T15:07:19.683Z"
   },
   {
    "duration": 18,
    "start_time": "2024-11-27T15:07:21.848Z"
   },
   {
    "duration": 11,
    "start_time": "2024-11-27T15:07:25.494Z"
   },
   {
    "duration": 8,
    "start_time": "2024-11-27T15:07:25.794Z"
   },
   {
    "duration": 19,
    "start_time": "2024-11-27T15:07:26.110Z"
   },
   {
    "duration": 4,
    "start_time": "2024-11-27T15:07:26.313Z"
   },
   {
    "duration": 3,
    "start_time": "2024-11-27T15:07:27.392Z"
   },
   {
    "duration": 17,
    "start_time": "2024-11-27T15:07:29.430Z"
   },
   {
    "duration": 10,
    "start_time": "2024-11-27T15:07:50.511Z"
   },
   {
    "duration": 11,
    "start_time": "2024-11-27T15:08:08.291Z"
   },
   {
    "duration": 13,
    "start_time": "2024-11-27T15:08:14.860Z"
   },
   {
    "duration": 17,
    "start_time": "2024-11-27T15:08:22.906Z"
   },
   {
    "duration": 17,
    "start_time": "2024-11-27T15:09:53.461Z"
   },
   {
    "duration": 3,
    "start_time": "2024-11-27T15:11:35.439Z"
   },
   {
    "duration": 9,
    "start_time": "2024-11-27T15:11:48.273Z"
   },
   {
    "duration": 11,
    "start_time": "2024-11-27T15:12:36.984Z"
   },
   {
    "duration": 15,
    "start_time": "2024-11-27T15:12:41.120Z"
   },
   {
    "duration": 13,
    "start_time": "2024-11-27T15:13:39.677Z"
   },
   {
    "duration": 11,
    "start_time": "2024-11-27T15:13:40.541Z"
   },
   {
    "duration": 13,
    "start_time": "2024-11-27T15:13:41.240Z"
   },
   {
    "duration": 5,
    "start_time": "2024-11-27T15:13:41.871Z"
   },
   {
    "duration": 13,
    "start_time": "2024-11-27T15:13:56.400Z"
   },
   {
    "duration": 8,
    "start_time": "2024-11-27T15:13:56.878Z"
   },
   {
    "duration": 13,
    "start_time": "2024-11-27T15:13:57.649Z"
   },
   {
    "duration": 4,
    "start_time": "2024-11-27T15:13:58.081Z"
   },
   {
    "duration": 4,
    "start_time": "2024-11-27T15:13:59.327Z"
   },
   {
    "duration": 14,
    "start_time": "2024-11-27T15:14:01.149Z"
   },
   {
    "duration": 4,
    "start_time": "2024-11-27T15:15:17.659Z"
   },
   {
    "duration": 28,
    "start_time": "2024-11-27T15:16:09.011Z"
   },
   {
    "duration": 3,
    "start_time": "2024-11-27T15:16:10.277Z"
   },
   {
    "duration": 13,
    "start_time": "2024-11-27T15:16:11.484Z"
   },
   {
    "duration": 11,
    "start_time": "2024-11-27T15:17:29.605Z"
   },
   {
    "duration": 27,
    "start_time": "2024-11-27T15:17:42.356Z"
   },
   {
    "duration": 3,
    "start_time": "2024-11-27T15:17:45.654Z"
   },
   {
    "duration": 4,
    "start_time": "2024-11-27T15:17:49.163Z"
   },
   {
    "duration": 12,
    "start_time": "2024-11-27T15:17:50.836Z"
   },
   {
    "duration": 5,
    "start_time": "2024-11-27T15:18:08.297Z"
   },
   {
    "duration": 12,
    "start_time": "2024-11-27T15:18:59.996Z"
   },
   {
    "duration": 31,
    "start_time": "2024-11-27T15:19:07.217Z"
   },
   {
    "duration": 4,
    "start_time": "2024-11-27T15:19:08.659Z"
   },
   {
    "duration": 12,
    "start_time": "2024-11-27T15:19:10.024Z"
   },
   {
    "duration": 5255,
    "start_time": "2024-11-27T15:19:14.867Z"
   },
   {
    "duration": 4,
    "start_time": "2024-11-27T15:19:20.125Z"
   },
   {
    "duration": 167,
    "start_time": "2024-11-27T15:19:20.130Z"
   },
   {
    "duration": 125,
    "start_time": "2024-11-27T15:19:20.298Z"
   },
   {
    "duration": 126,
    "start_time": "2024-11-27T15:19:20.425Z"
   },
   {
    "duration": 9,
    "start_time": "2024-11-27T15:19:20.553Z"
   },
   {
    "duration": 34,
    "start_time": "2024-11-27T15:19:20.564Z"
   },
   {
    "duration": 9,
    "start_time": "2024-11-27T15:19:20.600Z"
   },
   {
    "duration": 42,
    "start_time": "2024-11-27T15:19:20.611Z"
   },
   {
    "duration": 43,
    "start_time": "2024-11-27T15:19:20.655Z"
   },
   {
    "duration": 54,
    "start_time": "2024-11-27T15:19:20.699Z"
   },
   {
    "duration": 5,
    "start_time": "2024-11-27T15:19:20.755Z"
   },
   {
    "duration": 516,
    "start_time": "2024-11-27T15:19:20.761Z"
   },
   {
    "duration": 432,
    "start_time": "2024-11-27T15:19:21.280Z"
   },
   {
    "duration": 511,
    "start_time": "2024-11-27T15:19:21.713Z"
   },
   {
    "duration": 417,
    "start_time": "2024-11-27T15:19:22.226Z"
   },
   {
    "duration": 393,
    "start_time": "2024-11-27T15:19:22.644Z"
   },
   {
    "duration": 9,
    "start_time": "2024-11-27T15:19:23.039Z"
   },
   {
    "duration": 422,
    "start_time": "2024-11-27T15:19:23.049Z"
   },
   {
    "duration": 445,
    "start_time": "2024-11-27T15:19:23.473Z"
   },
   {
    "duration": 418,
    "start_time": "2024-11-27T15:19:23.919Z"
   },
   {
    "duration": 500,
    "start_time": "2024-11-27T15:19:24.338Z"
   },
   {
    "duration": 8,
    "start_time": "2024-11-27T15:19:24.840Z"
   },
   {
    "duration": 441,
    "start_time": "2024-11-27T15:19:24.849Z"
   },
   {
    "duration": 421,
    "start_time": "2024-11-27T15:19:25.292Z"
   },
   {
    "duration": 428,
    "start_time": "2024-11-27T15:19:25.714Z"
   },
   {
    "duration": 12,
    "start_time": "2024-11-27T15:19:26.144Z"
   },
   {
    "duration": 10,
    "start_time": "2024-11-27T15:19:26.157Z"
   },
   {
    "duration": 46,
    "start_time": "2024-11-27T15:19:26.168Z"
   },
   {
    "duration": 5,
    "start_time": "2024-11-27T15:19:26.215Z"
   },
   {
    "duration": 93,
    "start_time": "2024-11-27T15:19:26.222Z"
   },
   {
    "duration": 97,
    "start_time": "2024-11-27T15:19:26.316Z"
   },
   {
    "duration": 40,
    "start_time": "2024-11-27T15:19:26.414Z"
   },
   {
    "duration": 59,
    "start_time": "2024-11-27T15:19:26.455Z"
   },
   {
    "duration": 119,
    "start_time": "2024-11-27T15:19:26.516Z"
   },
   {
    "duration": 31,
    "start_time": "2024-11-27T15:19:26.637Z"
   },
   {
    "duration": 4,
    "start_time": "2024-11-27T15:19:26.713Z"
   },
   {
    "duration": 103,
    "start_time": "2024-11-27T15:19:26.719Z"
   },
   {
    "duration": 4,
    "start_time": "2024-11-27T15:40:09.675Z"
   },
   {
    "duration": 4,
    "start_time": "2024-11-27T15:45:22.471Z"
   },
   {
    "duration": 12221,
    "start_time": "2024-11-28T10:20:26.229Z"
   },
   {
    "duration": 69,
    "start_time": "2024-11-28T10:20:38.452Z"
   },
   {
    "duration": 533,
    "start_time": "2024-11-28T10:20:38.523Z"
   },
   {
    "duration": 248,
    "start_time": "2024-11-28T10:20:39.058Z"
   },
   {
    "duration": 253,
    "start_time": "2024-11-28T10:20:39.309Z"
   },
   {
    "duration": 11,
    "start_time": "2024-11-28T10:20:39.563Z"
   },
   {
    "duration": 17,
    "start_time": "2024-11-28T10:20:39.575Z"
   },
   {
    "duration": 69,
    "start_time": "2024-11-28T10:20:39.594Z"
   },
   {
    "duration": 70,
    "start_time": "2024-11-28T10:20:39.665Z"
   },
   {
    "duration": 52,
    "start_time": "2024-11-28T10:20:39.737Z"
   },
   {
    "duration": 69,
    "start_time": "2024-11-28T10:20:39.791Z"
   },
   {
    "duration": 5,
    "start_time": "2024-11-28T10:20:39.861Z"
   },
   {
    "duration": 555,
    "start_time": "2024-11-28T10:20:39.867Z"
   },
   {
    "duration": 448,
    "start_time": "2024-11-28T10:20:40.425Z"
   },
   {
    "duration": 506,
    "start_time": "2024-11-28T10:20:40.875Z"
   },
   {
    "duration": 602,
    "start_time": "2024-11-28T10:20:41.382Z"
   },
   {
    "duration": 485,
    "start_time": "2024-11-28T10:20:41.986Z"
   },
   {
    "duration": 11,
    "start_time": "2024-11-28T10:20:42.472Z"
   },
   {
    "duration": 483,
    "start_time": "2024-11-28T10:20:42.485Z"
   },
   {
    "duration": 486,
    "start_time": "2024-11-28T10:20:42.970Z"
   },
   {
    "duration": 546,
    "start_time": "2024-11-28T10:20:43.458Z"
   },
   {
    "duration": 489,
    "start_time": "2024-11-28T10:20:44.006Z"
   },
   {
    "duration": 11,
    "start_time": "2024-11-28T10:20:44.496Z"
   },
   {
    "duration": 592,
    "start_time": "2024-11-28T10:20:44.520Z"
   },
   {
    "duration": 475,
    "start_time": "2024-11-28T10:20:45.115Z"
   },
   {
    "duration": 488,
    "start_time": "2024-11-28T10:20:45.591Z"
   },
   {
    "duration": 13,
    "start_time": "2024-11-28T10:20:46.081Z"
   },
   {
    "duration": 101,
    "start_time": "2024-11-28T10:20:46.096Z"
   },
   {
    "duration": 30,
    "start_time": "2024-11-28T10:20:46.199Z"
   },
   {
    "duration": 190,
    "start_time": "2024-11-28T10:20:46.231Z"
   },
   {
    "duration": 5,
    "start_time": "2024-11-28T10:20:46.423Z"
   },
   {
    "duration": 30,
    "start_time": "2024-11-28T10:20:46.429Z"
   },
   {
    "duration": 65,
    "start_time": "2024-11-28T10:20:46.461Z"
   },
   {
    "duration": 96,
    "start_time": "2024-11-28T10:20:46.528Z"
   },
   {
    "duration": 110,
    "start_time": "2024-11-28T10:20:46.630Z"
   },
   {
    "duration": 80,
    "start_time": "2024-11-28T10:20:46.742Z"
   },
   {
    "duration": 5,
    "start_time": "2024-11-28T10:20:46.825Z"
   },
   {
    "duration": 15,
    "start_time": "2024-11-28T10:20:46.921Z"
   },
   {
    "duration": 4,
    "start_time": "2024-11-28T10:20:46.938Z"
   },
   {
    "duration": 47,
    "start_time": "2024-11-28T10:20:46.943Z"
   },
   {
    "duration": 3,
    "start_time": "2024-11-28T10:30:30.577Z"
   },
   {
    "duration": 141,
    "start_time": "2024-11-28T10:33:39.162Z"
   },
   {
    "duration": 6568,
    "start_time": "2024-11-28T10:33:58.605Z"
   },
   {
    "duration": 57,
    "start_time": "2024-11-28T10:34:05.176Z"
   },
   {
    "duration": 190,
    "start_time": "2024-11-28T10:34:05.236Z"
   },
   {
    "duration": 166,
    "start_time": "2024-11-28T10:34:05.428Z"
   },
   {
    "duration": 172,
    "start_time": "2024-11-28T10:34:05.596Z"
   },
   {
    "duration": 15,
    "start_time": "2024-11-28T10:34:05.770Z"
   },
   {
    "duration": 57,
    "start_time": "2024-11-28T10:34:05.786Z"
   },
   {
    "duration": 51,
    "start_time": "2024-11-28T10:34:05.845Z"
   },
   {
    "duration": 72,
    "start_time": "2024-11-28T10:34:05.897Z"
   },
   {
    "duration": 64,
    "start_time": "2024-11-28T10:34:05.972Z"
   },
   {
    "duration": 52,
    "start_time": "2024-11-28T10:34:06.038Z"
   },
   {
    "duration": 5,
    "start_time": "2024-11-28T10:34:06.091Z"
   },
   {
    "duration": 751,
    "start_time": "2024-11-28T10:34:06.097Z"
   },
   {
    "duration": 462,
    "start_time": "2024-11-28T10:34:06.849Z"
   },
   {
    "duration": 472,
    "start_time": "2024-11-28T10:34:07.313Z"
   },
   {
    "duration": 607,
    "start_time": "2024-11-28T10:34:07.787Z"
   },
   {
    "duration": 471,
    "start_time": "2024-11-28T10:34:08.396Z"
   },
   {
    "duration": 9,
    "start_time": "2024-11-28T10:34:08.869Z"
   },
   {
    "duration": 470,
    "start_time": "2024-11-28T10:34:08.880Z"
   },
   {
    "duration": 491,
    "start_time": "2024-11-28T10:34:09.352Z"
   },
   {
    "duration": 531,
    "start_time": "2024-11-28T10:34:09.845Z"
   },
   {
    "duration": 594,
    "start_time": "2024-11-28T10:34:10.377Z"
   },
   {
    "duration": 11,
    "start_time": "2024-11-28T10:34:10.973Z"
   },
   {
    "duration": 524,
    "start_time": "2024-11-28T10:34:10.986Z"
   },
   {
    "duration": 478,
    "start_time": "2024-11-28T10:34:11.512Z"
   },
   {
    "duration": 488,
    "start_time": "2024-11-28T10:34:11.993Z"
   },
   {
    "duration": 19,
    "start_time": "2024-11-28T10:34:12.482Z"
   },
   {
    "duration": 25,
    "start_time": "2024-11-28T10:34:12.504Z"
   },
   {
    "duration": 94,
    "start_time": "2024-11-28T10:34:12.531Z"
   },
   {
    "duration": 94,
    "start_time": "2024-11-28T10:34:12.628Z"
   },
   {
    "duration": 8,
    "start_time": "2024-11-28T10:34:12.724Z"
   },
   {
    "duration": 91,
    "start_time": "2024-11-28T10:34:12.734Z"
   },
   {
    "duration": 195,
    "start_time": "2024-11-28T10:34:12.826Z"
   },
   {
    "duration": 5,
    "start_time": "2024-11-28T10:34:13.023Z"
   },
   {
    "duration": 22,
    "start_time": "2024-11-28T10:34:13.030Z"
   },
   {
    "duration": 72,
    "start_time": "2024-11-28T10:34:13.053Z"
   },
   {
    "duration": 95,
    "start_time": "2024-11-28T10:34:13.127Z"
   },
   {
    "duration": 14,
    "start_time": "2024-11-28T10:34:13.224Z"
   },
   {
    "duration": 5,
    "start_time": "2024-11-28T10:34:13.239Z"
   },
   {
    "duration": 11,
    "start_time": "2024-11-28T10:34:13.246Z"
   },
   {
    "duration": 4,
    "start_time": "2024-11-28T10:34:13.259Z"
   },
   {
    "duration": 140,
    "start_time": "2024-11-28T10:34:13.265Z"
   },
   {
    "duration": 0,
    "start_time": "2024-11-28T10:34:13.408Z"
   },
   {
    "duration": 14,
    "start_time": "2024-11-28T10:38:43.251Z"
   },
   {
    "duration": 14,
    "start_time": "2024-11-28T10:43:03.391Z"
   },
   {
    "duration": 19,
    "start_time": "2024-11-28T10:43:43.727Z"
   },
   {
    "duration": 16,
    "start_time": "2024-11-28T10:44:19.097Z"
   },
   {
    "duration": 20,
    "start_time": "2024-11-28T10:44:27.808Z"
   },
   {
    "duration": 17,
    "start_time": "2024-11-28T10:45:36.344Z"
   },
   {
    "duration": 3,
    "start_time": "2024-11-28T10:45:52.968Z"
   },
   {
    "duration": 38,
    "start_time": "2024-11-28T10:45:54.605Z"
   },
   {
    "duration": 12,
    "start_time": "2024-11-28T10:46:15.690Z"
   },
   {
    "duration": 38,
    "start_time": "2024-11-28T10:46:32.950Z"
   },
   {
    "duration": 14,
    "start_time": "2024-11-28T10:48:49.520Z"
   },
   {
    "duration": 43,
    "start_time": "2024-11-28T10:49:31.666Z"
   },
   {
    "duration": 34,
    "start_time": "2024-11-28T10:50:04.214Z"
   },
   {
    "duration": 36,
    "start_time": "2024-11-28T10:50:12.959Z"
   },
   {
    "duration": 49,
    "start_time": "2024-11-28T10:50:21.176Z"
   },
   {
    "duration": 41,
    "start_time": "2024-11-28T10:50:36.631Z"
   },
   {
    "duration": 15,
    "start_time": "2024-11-28T10:51:03.709Z"
   },
   {
    "duration": 34,
    "start_time": "2024-11-28T10:51:18.040Z"
   },
   {
    "duration": 35,
    "start_time": "2024-11-28T10:53:14.287Z"
   },
   {
    "duration": 37,
    "start_time": "2024-11-28T10:54:59.288Z"
   },
   {
    "duration": 3,
    "start_time": "2024-11-28T10:55:26.811Z"
   },
   {
    "duration": 1394,
    "start_time": "2024-11-28T10:55:30.040Z"
   },
   {
    "duration": 1374,
    "start_time": "2024-11-28T10:56:11.846Z"
   },
   {
    "duration": 1403,
    "start_time": "2024-11-28T10:56:36.446Z"
   },
   {
    "duration": 76,
    "start_time": "2024-11-28T10:57:06.471Z"
   },
   {
    "duration": 1366,
    "start_time": "2024-11-28T10:57:11.189Z"
   },
   {
    "duration": 1367,
    "start_time": "2024-11-28T10:58:22.712Z"
   },
   {
    "duration": 1452,
    "start_time": "2024-11-28T10:58:29.417Z"
   },
   {
    "duration": 1401,
    "start_time": "2024-11-28T10:58:36.117Z"
   },
   {
    "duration": 1373,
    "start_time": "2024-11-28T11:21:50.258Z"
   },
   {
    "duration": 1366,
    "start_time": "2024-11-28T11:23:40.145Z"
   },
   {
    "duration": 1408,
    "start_time": "2024-11-28T11:24:22.753Z"
   },
   {
    "duration": 1522,
    "start_time": "2024-11-28T11:28:57.854Z"
   },
   {
    "duration": 1509,
    "start_time": "2024-11-28T11:29:04.693Z"
   },
   {
    "duration": 1402,
    "start_time": "2024-11-28T11:29:16.034Z"
   },
   {
    "duration": 1415,
    "start_time": "2024-11-28T11:29:22.914Z"
   },
   {
    "duration": 1388,
    "start_time": "2024-11-28T11:29:29.938Z"
   },
   {
    "duration": 1398,
    "start_time": "2024-11-28T11:31:52.087Z"
   },
   {
    "duration": 1405,
    "start_time": "2024-11-28T11:31:53.488Z"
   },
   {
    "duration": 1458,
    "start_time": "2024-11-28T11:31:54.895Z"
   },
   {
    "duration": 11675,
    "start_time": "2024-11-28T21:12:40.756Z"
   },
   {
    "duration": 65,
    "start_time": "2024-11-28T21:12:52.433Z"
   },
   {
    "duration": 576,
    "start_time": "2024-11-28T21:12:52.499Z"
   },
   {
    "duration": 209,
    "start_time": "2024-11-28T21:12:53.077Z"
   },
   {
    "duration": 216,
    "start_time": "2024-11-28T21:12:53.288Z"
   },
   {
    "duration": 10,
    "start_time": "2024-11-28T21:12:53.505Z"
   },
   {
    "duration": 15,
    "start_time": "2024-11-28T21:12:53.516Z"
   },
   {
    "duration": 21,
    "start_time": "2024-11-28T21:12:53.532Z"
   },
   {
    "duration": 57,
    "start_time": "2024-11-28T21:12:53.555Z"
   },
   {
    "duration": 38,
    "start_time": "2024-11-28T21:12:53.613Z"
   },
   {
    "duration": 66,
    "start_time": "2024-11-28T21:12:53.653Z"
   },
   {
    "duration": 4,
    "start_time": "2024-11-28T21:12:53.721Z"
   },
   {
    "duration": 482,
    "start_time": "2024-11-28T21:12:53.726Z"
   },
   {
    "duration": 460,
    "start_time": "2024-11-28T21:12:54.211Z"
   },
   {
    "duration": 412,
    "start_time": "2024-11-28T21:12:54.673Z"
   },
   {
    "duration": 498,
    "start_time": "2024-11-28T21:12:55.086Z"
   },
   {
    "duration": 395,
    "start_time": "2024-11-28T21:12:55.585Z"
   },
   {
    "duration": 9,
    "start_time": "2024-11-28T21:12:55.982Z"
   },
   {
    "duration": 414,
    "start_time": "2024-11-28T21:12:55.992Z"
   },
   {
    "duration": 414,
    "start_time": "2024-11-28T21:12:56.408Z"
   },
   {
    "duration": 450,
    "start_time": "2024-11-28T21:12:56.823Z"
   },
   {
    "duration": 492,
    "start_time": "2024-11-28T21:12:57.275Z"
   },
   {
    "duration": 9,
    "start_time": "2024-11-28T21:12:57.768Z"
   },
   {
    "duration": 418,
    "start_time": "2024-11-28T21:12:57.778Z"
   },
   {
    "duration": 417,
    "start_time": "2024-11-28T21:12:58.198Z"
   },
   {
    "duration": 463,
    "start_time": "2024-11-28T21:12:58.617Z"
   },
   {
    "duration": 12,
    "start_time": "2024-11-28T21:12:59.082Z"
   },
   {
    "duration": 11,
    "start_time": "2024-11-28T21:12:59.096Z"
   },
   {
    "duration": 159,
    "start_time": "2024-11-28T21:12:59.108Z"
   },
   {
    "duration": 10,
    "start_time": "2024-11-28T21:12:59.270Z"
   },
   {
    "duration": 5,
    "start_time": "2024-11-28T21:12:59.281Z"
   },
   {
    "duration": 94,
    "start_time": "2024-11-28T21:12:59.287Z"
   },
   {
    "duration": 178,
    "start_time": "2024-11-28T21:12:59.383Z"
   },
   {
    "duration": 7,
    "start_time": "2024-11-28T21:12:59.563Z"
   },
   {
    "duration": 110,
    "start_time": "2024-11-28T21:12:59.571Z"
   },
   {
    "duration": 98,
    "start_time": "2024-11-28T21:12:59.682Z"
   },
   {
    "duration": 4,
    "start_time": "2024-11-28T21:12:59.782Z"
   },
   {
    "duration": 21,
    "start_time": "2024-11-28T21:12:59.880Z"
   },
   {
    "duration": 4,
    "start_time": "2024-11-28T21:12:59.903Z"
   },
   {
    "duration": 9,
    "start_time": "2024-11-28T21:12:59.909Z"
   },
   {
    "duration": 4,
    "start_time": "2024-11-28T21:12:59.923Z"
   },
   {
    "duration": 1185,
    "start_time": "2024-11-28T21:12:59.929Z"
   },
   {
    "duration": 1098,
    "start_time": "2024-11-28T21:13:01.115Z"
   },
   {
    "duration": 1096,
    "start_time": "2024-11-28T21:13:02.215Z"
   },
   {
    "duration": 3,
    "start_time": "2024-11-28T21:14:30.568Z"
   },
   {
    "duration": 4,
    "start_time": "2024-11-28T21:15:37.276Z"
   },
   {
    "duration": 3,
    "start_time": "2024-11-28T21:16:13.077Z"
   },
   {
    "duration": 1047,
    "start_time": "2024-11-28T21:16:31.880Z"
   },
   {
    "duration": 1027,
    "start_time": "2024-11-28T21:17:42.966Z"
   },
   {
    "duration": 2,
    "start_time": "2024-11-28T21:18:31.402Z"
   },
   {
    "duration": 1049,
    "start_time": "2024-11-28T21:18:32.269Z"
   },
   {
    "duration": 1031,
    "start_time": "2024-11-28T21:18:33.319Z"
   },
   {
    "duration": 1087,
    "start_time": "2024-11-28T21:18:47.503Z"
   },
   {
    "duration": 1039,
    "start_time": "2024-11-28T21:18:48.734Z"
   },
   {
    "duration": 3,
    "start_time": "2024-11-28T21:19:34.383Z"
   },
   {
    "duration": 1050,
    "start_time": "2024-11-28T21:19:35.724Z"
   },
   {
    "duration": 1043,
    "start_time": "2024-11-28T21:19:36.776Z"
   },
   {
    "duration": 1062,
    "start_time": "2024-11-28T21:19:37.820Z"
   },
   {
    "duration": 4,
    "start_time": "2024-11-28T21:23:13.926Z"
   },
   {
    "duration": 62,
    "start_time": "2024-11-28T21:23:15.696Z"
   },
   {
    "duration": 4,
    "start_time": "2024-11-28T21:23:29.834Z"
   },
   {
    "duration": 62,
    "start_time": "2024-11-28T21:23:33.394Z"
   },
   {
    "duration": 4,
    "start_time": "2024-11-28T21:24:26.397Z"
   },
   {
    "duration": 81,
    "start_time": "2024-11-28T21:24:26.876Z"
   },
   {
    "duration": 34,
    "start_time": "2024-11-28T21:24:39.254Z"
   },
   {
    "duration": 36,
    "start_time": "2024-11-28T21:25:06.305Z"
   },
   {
    "duration": 5,
    "start_time": "2024-11-28T21:25:13.324Z"
   },
   {
    "duration": 35,
    "start_time": "2024-11-28T21:25:14.804Z"
   },
   {
    "duration": 32,
    "start_time": "2024-11-28T21:25:16.868Z"
   },
   {
    "duration": 36,
    "start_time": "2024-11-28T21:25:21.579Z"
   },
   {
    "duration": 58,
    "start_time": "2024-11-28T21:28:07.604Z"
   },
   {
    "duration": 69,
    "start_time": "2024-11-28T21:28:21.795Z"
   },
   {
    "duration": 62,
    "start_time": "2024-11-28T21:28:27.553Z"
   },
   {
    "duration": 5,
    "start_time": "2024-11-28T21:29:46.513Z"
   },
   {
    "duration": 68,
    "start_time": "2024-11-28T21:29:47.890Z"
   },
   {
    "duration": 5,
    "start_time": "2024-11-28T21:30:41.872Z"
   },
   {
    "duration": 33,
    "start_time": "2024-11-28T21:30:43.829Z"
   },
   {
    "duration": 6,
    "start_time": "2024-11-28T21:31:08.442Z"
   },
   {
    "duration": 32,
    "start_time": "2024-11-28T21:31:08.794Z"
   },
   {
    "duration": 32,
    "start_time": "2024-11-28T21:31:11.772Z"
   },
   {
    "duration": 6,
    "start_time": "2024-11-28T21:31:16.996Z"
   },
   {
    "duration": 4,
    "start_time": "2024-11-28T21:31:27.774Z"
   },
   {
    "duration": 41,
    "start_time": "2024-11-28T21:31:28.380Z"
   },
   {
    "duration": 35,
    "start_time": "2024-11-28T21:31:32.171Z"
   },
   {
    "duration": 5,
    "start_time": "2024-11-28T21:33:46.679Z"
   },
   {
    "duration": 77,
    "start_time": "2024-11-28T21:33:47.794Z"
   },
   {
    "duration": 5,
    "start_time": "2024-11-28T21:35:09.418Z"
   },
   {
    "duration": 54,
    "start_time": "2024-11-28T21:35:11.207Z"
   },
   {
    "duration": 103,
    "start_time": "2024-11-28T21:35:56.572Z"
   },
   {
    "duration": 7,
    "start_time": "2024-11-28T21:36:10.714Z"
   },
   {
    "duration": 54,
    "start_time": "2024-11-28T21:36:11.704Z"
   },
   {
    "duration": 7,
    "start_time": "2024-11-28T21:36:13.454Z"
   },
   {
    "duration": 74,
    "start_time": "2024-11-28T21:36:20.986Z"
   },
   {
    "duration": 5,
    "start_time": "2024-11-28T21:37:20.097Z"
   },
   {
    "duration": 4,
    "start_time": "2024-11-28T21:37:23.590Z"
   },
   {
    "duration": 88,
    "start_time": "2024-11-28T21:37:24.272Z"
   },
   {
    "duration": 119,
    "start_time": "2024-11-28T21:37:31.140Z"
   },
   {
    "duration": 32,
    "start_time": "2024-11-28T21:38:47.110Z"
   },
   {
    "duration": 66,
    "start_time": "2024-11-28T21:38:52.897Z"
   },
   {
    "duration": 62,
    "start_time": "2024-11-28T21:39:29.704Z"
   },
   {
    "duration": 66,
    "start_time": "2024-11-28T21:42:15.794Z"
   },
   {
    "duration": 63,
    "start_time": "2024-11-28T21:42:54.301Z"
   },
   {
    "duration": 3,
    "start_time": "2024-11-28T21:47:04.494Z"
   },
   {
    "duration": 4,
    "start_time": "2024-11-28T21:47:07.710Z"
   },
   {
    "duration": 3,
    "start_time": "2024-11-28T21:47:19.203Z"
   },
   {
    "duration": 1023,
    "start_time": "2024-11-28T21:47:23.203Z"
   },
   {
    "duration": 1030,
    "start_time": "2024-11-28T21:47:31.082Z"
   },
   {
    "duration": 1038,
    "start_time": "2024-11-28T21:47:35.740Z"
   },
   {
    "duration": 2,
    "start_time": "2024-11-28T21:48:19.328Z"
   },
   {
    "duration": 1066,
    "start_time": "2024-11-28T21:48:21.201Z"
   },
   {
    "duration": 1030,
    "start_time": "2024-11-28T21:48:27.217Z"
   },
   {
    "duration": 1084,
    "start_time": "2024-11-28T21:48:29.756Z"
   },
   {
    "duration": 4,
    "start_time": "2024-11-28T21:53:18.964Z"
   },
   {
    "duration": 1048,
    "start_time": "2024-11-28T21:53:19.845Z"
   },
   {
    "duration": 6,
    "start_time": "2024-11-28T21:53:49.521Z"
   },
   {
    "duration": 1040,
    "start_time": "2024-11-28T21:53:49.966Z"
   },
   {
    "duration": 1042,
    "start_time": "2024-11-28T21:56:18.122Z"
   },
   {
    "duration": 1006,
    "start_time": "2024-11-28T21:56:27.223Z"
   },
   {
    "duration": 1041,
    "start_time": "2024-11-28T21:56:31.654Z"
   },
   {
    "duration": 6293,
    "start_time": "2024-11-28T21:57:56.796Z"
   },
   {
    "duration": 44,
    "start_time": "2024-11-28T21:58:03.090Z"
   },
   {
    "duration": 149,
    "start_time": "2024-11-28T21:58:03.135Z"
   },
   {
    "duration": 125,
    "start_time": "2024-11-28T21:58:03.286Z"
   },
   {
    "duration": 127,
    "start_time": "2024-11-28T21:58:03.412Z"
   },
   {
    "duration": 17,
    "start_time": "2024-11-28T21:58:03.540Z"
   },
   {
    "duration": 24,
    "start_time": "2024-11-28T21:58:03.559Z"
   },
   {
    "duration": 21,
    "start_time": "2024-11-28T21:58:03.584Z"
   },
   {
    "duration": 69,
    "start_time": "2024-11-28T21:58:03.606Z"
   },
   {
    "duration": 45,
    "start_time": "2024-11-28T21:58:03.677Z"
   },
   {
    "duration": 46,
    "start_time": "2024-11-28T21:58:03.723Z"
   },
   {
    "duration": 4,
    "start_time": "2024-11-28T21:58:03.771Z"
   },
   {
    "duration": 597,
    "start_time": "2024-11-28T21:58:03.776Z"
   },
   {
    "duration": 399,
    "start_time": "2024-11-28T21:58:04.374Z"
   },
   {
    "duration": 397,
    "start_time": "2024-11-28T21:58:04.775Z"
   },
   {
    "duration": 492,
    "start_time": "2024-11-28T21:58:05.173Z"
   },
   {
    "duration": 400,
    "start_time": "2024-11-28T21:58:05.667Z"
   },
   {
    "duration": 8,
    "start_time": "2024-11-28T21:58:06.068Z"
   },
   {
    "duration": 423,
    "start_time": "2024-11-28T21:58:06.077Z"
   },
   {
    "duration": 391,
    "start_time": "2024-11-28T21:58:06.502Z"
   },
   {
    "duration": 400,
    "start_time": "2024-11-28T21:58:06.895Z"
   },
   {
    "duration": 420,
    "start_time": "2024-11-28T21:58:07.297Z"
   },
   {
    "duration": 8,
    "start_time": "2024-11-28T21:58:07.719Z"
   },
   {
    "duration": 461,
    "start_time": "2024-11-28T21:58:07.729Z"
   },
   {
    "duration": 404,
    "start_time": "2024-11-28T21:58:08.191Z"
   },
   {
    "duration": 397,
    "start_time": "2024-11-28T21:58:08.597Z"
   },
   {
    "duration": 5,
    "start_time": "2024-11-28T21:58:08.996Z"
   },
   {
    "duration": 155,
    "start_time": "2024-11-28T21:58:09.004Z"
   },
   {
    "duration": 205,
    "start_time": "2024-11-28T21:58:09.161Z"
   },
   {
    "duration": 105,
    "start_time": "2024-11-28T21:58:09.457Z"
   },
   {
    "duration": 199,
    "start_time": "2024-11-28T21:58:09.564Z"
   },
   {
    "duration": 0,
    "start_time": "2024-11-28T21:58:09.764Z"
   },
   {
    "duration": 0,
    "start_time": "2024-11-28T21:58:09.765Z"
   },
   {
    "duration": 0,
    "start_time": "2024-11-28T21:58:09.766Z"
   },
   {
    "duration": 0,
    "start_time": "2024-11-28T21:58:09.767Z"
   },
   {
    "duration": 0,
    "start_time": "2024-11-28T21:58:09.769Z"
   },
   {
    "duration": 0,
    "start_time": "2024-11-28T21:58:09.769Z"
   },
   {
    "duration": 6309,
    "start_time": "2024-11-28T21:58:58.124Z"
   },
   {
    "duration": 46,
    "start_time": "2024-11-28T21:59:04.435Z"
   },
   {
    "duration": 151,
    "start_time": "2024-11-28T21:59:04.483Z"
   },
   {
    "duration": 125,
    "start_time": "2024-11-28T21:59:04.636Z"
   },
   {
    "duration": 127,
    "start_time": "2024-11-28T21:59:04.762Z"
   },
   {
    "duration": 8,
    "start_time": "2024-11-28T21:59:04.890Z"
   },
   {
    "duration": 26,
    "start_time": "2024-11-28T21:59:04.900Z"
   },
   {
    "duration": 8,
    "start_time": "2024-11-28T21:59:04.928Z"
   },
   {
    "duration": 52,
    "start_time": "2024-11-28T21:59:04.937Z"
   },
   {
    "duration": 38,
    "start_time": "2024-11-28T21:59:04.992Z"
   },
   {
    "duration": 52,
    "start_time": "2024-11-28T21:59:05.031Z"
   },
   {
    "duration": 4,
    "start_time": "2024-11-28T21:59:05.084Z"
   },
   {
    "duration": 517,
    "start_time": "2024-11-28T21:59:05.089Z"
   },
   {
    "duration": 394,
    "start_time": "2024-11-28T21:59:05.607Z"
   },
   {
    "duration": 400,
    "start_time": "2024-11-28T21:59:06.003Z"
   },
   {
    "duration": 489,
    "start_time": "2024-11-28T21:59:06.404Z"
   },
   {
    "duration": 383,
    "start_time": "2024-11-28T21:59:06.895Z"
   },
   {
    "duration": 7,
    "start_time": "2024-11-28T21:59:07.280Z"
   },
   {
    "duration": 385,
    "start_time": "2024-11-28T21:59:07.288Z"
   },
   {
    "duration": 395,
    "start_time": "2024-11-28T21:59:07.674Z"
   },
   {
    "duration": 422,
    "start_time": "2024-11-28T21:59:08.071Z"
   },
   {
    "duration": 418,
    "start_time": "2024-11-28T21:59:08.494Z"
   },
   {
    "duration": 8,
    "start_time": "2024-11-28T21:59:08.914Z"
   },
   {
    "duration": 464,
    "start_time": "2024-11-28T21:59:08.923Z"
   },
   {
    "duration": 383,
    "start_time": "2024-11-28T21:59:09.389Z"
   },
   {
    "duration": 403,
    "start_time": "2024-11-28T21:59:09.774Z"
   },
   {
    "duration": 5,
    "start_time": "2024-11-28T21:59:10.179Z"
   },
   {
    "duration": 179,
    "start_time": "2024-11-28T21:59:10.188Z"
   },
   {
    "duration": 199,
    "start_time": "2024-11-28T21:59:10.368Z"
   },
   {
    "duration": 102,
    "start_time": "2024-11-28T21:59:10.658Z"
   },
   {
    "duration": 4,
    "start_time": "2024-11-28T21:59:10.762Z"
   },
   {
    "duration": 6,
    "start_time": "2024-11-28T21:59:10.858Z"
   },
   {
    "duration": 3,
    "start_time": "2024-11-28T21:59:10.866Z"
   },
   {
    "duration": 6,
    "start_time": "2024-11-28T21:59:10.870Z"
   },
   {
    "duration": 1080,
    "start_time": "2024-11-28T21:59:10.877Z"
   },
   {
    "duration": 1021,
    "start_time": "2024-11-28T21:59:11.959Z"
   },
   {
    "duration": 1043,
    "start_time": "2024-11-28T21:59:12.981Z"
   }
  ],
  "kernelspec": {
   "display_name": "Python 3 (ipykernel)",
   "language": "python",
   "name": "python3"
  },
  "language_info": {
   "codemirror_mode": {
    "name": "ipython",
    "version": 3
   },
   "file_extension": ".py",
   "mimetype": "text/x-python",
   "name": "python",
   "nbconvert_exporter": "python",
   "pygments_lexer": "ipython3",
   "version": "3.13.1"
  },
  "toc": {
   "base_numbering": 1,
   "nav_menu": {},
   "number_sections": true,
   "sideBar": true,
   "skip_h1_title": true,
   "title_cell": "Table of Contents",
   "title_sidebar": "Contents",
   "toc_cell": false,
   "toc_position": {},
   "toc_section_display": true,
   "toc_window_display": false
  }
 },
 "nbformat": 4,
 "nbformat_minor": 4
}
