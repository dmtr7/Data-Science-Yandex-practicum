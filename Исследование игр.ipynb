{
 "cells": [
  {
   "cell_type": "markdown",
   "metadata": {},
   "source": [
    "# Исследование данных интернет-магазина «Стримчик».\n",
    "\n",
    "Вы работаете в интернет-магазине «Стримчик», который продаёт по всему миру компьютерные игры. Из открытых источников доступны исторические данные о продажах игр, оценки пользователей и экспертов, жанры и платформы (например, Xbox или PlayStation). Вам нужно выявить определяющие успешность игры закономерности. Это позволит сделать ставку на потенциально популярный продукт и спланировать рекламные кампании.\n",
    "\n",
    "Перед вами данные до 2016 года. Представим, что сейчас декабрь 2016 г., и вы планируете кампанию на 2017-й. Нужно отработать принцип работы с данными. Неважно, прогнозируете ли вы продажи на 2017 год по данным 2016-го или же 2027-й — по данным 2026 года.\n",
    "\n",
    "В наборе данных попадается аббревиатура ESRB (Entertainment Software Rating Board) — это ассоциация, определяющая возрастной рейтинг компьютерных игр. ESRB оценивает игровой контент и присваивает ему подходящую возрастную категорию, например, «Для взрослых», «Для детей младшего возраста» или «Для подростков»."
   ]
  },
  {
   "cell_type": "markdown",
   "metadata": {},
   "source": [
    "**Описание данных:**\n",
    "\n",
    "Name — название игры\n",
    "\n",
    "Platform — платформа\n",
    "\n",
    "Year_of_Release — год выпуска\n",
    "\n",
    "Genre — жанр игры\n",
    "\n",
    "NA_sales — продажи в Северной Америке (миллионы проданных копий)\n",
    "\n",
    "EU_sales — продажи в Европе (миллионы проданных копий)\n",
    "\n",
    "JP_sales — продажи в Японии (миллионы проданных копий)\n",
    "\n",
    "Other_sales — продажи в других странах (миллионы проданных копий)\n",
    "\n",
    "Critic_Score — оценка критиков (максимум 100)\n",
    "\n",
    "User_Score — оценка пользователей (максимум 10)\n",
    "\n",
    "Rating — рейтинг от организации ESRB (англ. Entertainment Software Rating Board). Эта ассоциация определяет рейтинг компьютерных игр и присваивает им подходящую возрастную категорию."
   ]
  },
  {
   "cell_type": "markdown",
   "metadata": {},
   "source": [
    "### Шаг 1. Откроем файл с данными и изучим общую информацию"
   ]
  },
  {
   "cell_type": "markdown",
   "metadata": {},
   "source": [
    "**Импортруем необходимые библиотеки:**"
   ]
  },
  {
   "cell_type": "code",
   "execution_count": 1,
   "metadata": {},
   "outputs": [],
   "source": [
    "import pandas as pd"
   ]
  },
  {
   "cell_type": "code",
   "execution_count": 2,
   "metadata": {},
   "outputs": [],
   "source": [
    "import matplotlib.pyplot as plt"
   ]
  },
  {
   "cell_type": "code",
   "execution_count": 3,
   "metadata": {},
   "outputs": [],
   "source": [
    "import numpy as np"
   ]
  },
  {
   "cell_type": "code",
   "execution_count": 4,
   "metadata": {},
   "outputs": [],
   "source": [
    "from scipy import stats as st"
   ]
  },
  {
   "cell_type": "code",
   "execution_count": 5,
   "metadata": {},
   "outputs": [],
   "source": [
    "from math import sqrt"
   ]
  },
  {
   "cell_type": "code",
   "execution_count": 6,
   "metadata": {},
   "outputs": [],
   "source": [
    "from scipy.stats import ttest_ind"
   ]
  },
  {
   "cell_type": "code",
   "execution_count": 7,
   "metadata": {},
   "outputs": [],
   "source": [
    "import seaborn as sns"
   ]
  },
  {
   "cell_type": "markdown",
   "metadata": {},
   "source": [
    "**Сохраним нашу таблицу в переменную и извучим ее содержимое:**"
   ]
  },
  {
   "cell_type": "code",
   "execution_count": 8,
   "metadata": {},
   "outputs": [
    {
     "name": "stdout",
     "output_type": "stream",
     "text": [
      "<class 'pandas.core.frame.DataFrame'>\n",
      "RangeIndex: 16715 entries, 0 to 16714\n",
      "Data columns (total 11 columns):\n",
      " #   Column           Non-Null Count  Dtype  \n",
      "---  ------           --------------  -----  \n",
      " 0   Name             16713 non-null  object \n",
      " 1   Platform         16715 non-null  object \n",
      " 2   Year_of_Release  16446 non-null  float64\n",
      " 3   Genre            16713 non-null  object \n",
      " 4   NA_sales         16715 non-null  float64\n",
      " 5   EU_sales         16715 non-null  float64\n",
      " 6   JP_sales         16715 non-null  float64\n",
      " 7   Other_sales      16715 non-null  float64\n",
      " 8   Critic_Score     8137 non-null   float64\n",
      " 9   User_Score       10014 non-null  object \n",
      " 10  Rating           9949 non-null   object \n",
      "dtypes: float64(6), object(5)\n",
      "memory usage: 1.4+ MB\n"
     ]
    },
    {
     "data": {
      "text/html": [
       "<div>\n",
       "<style scoped>\n",
       "    .dataframe tbody tr th:only-of-type {\n",
       "        vertical-align: middle;\n",
       "    }\n",
       "\n",
       "    .dataframe tbody tr th {\n",
       "        vertical-align: top;\n",
       "    }\n",
       "\n",
       "    .dataframe thead th {\n",
       "        text-align: right;\n",
       "    }\n",
       "</style>\n",
       "<table border=\"1\" class=\"dataframe\">\n",
       "  <thead>\n",
       "    <tr style=\"text-align: right;\">\n",
       "      <th></th>\n",
       "      <th>Name</th>\n",
       "      <th>Platform</th>\n",
       "      <th>Year_of_Release</th>\n",
       "      <th>Genre</th>\n",
       "      <th>NA_sales</th>\n",
       "      <th>EU_sales</th>\n",
       "      <th>JP_sales</th>\n",
       "      <th>Other_sales</th>\n",
       "      <th>Critic_Score</th>\n",
       "      <th>User_Score</th>\n",
       "      <th>Rating</th>\n",
       "    </tr>\n",
       "  </thead>\n",
       "  <tbody>\n",
       "    <tr>\n",
       "      <th>0</th>\n",
       "      <td>Wii Sports</td>\n",
       "      <td>Wii</td>\n",
       "      <td>2006.0</td>\n",
       "      <td>Sports</td>\n",
       "      <td>41.36</td>\n",
       "      <td>28.96</td>\n",
       "      <td>3.77</td>\n",
       "      <td>8.45</td>\n",
       "      <td>76.0</td>\n",
       "      <td>8</td>\n",
       "      <td>E</td>\n",
       "    </tr>\n",
       "    <tr>\n",
       "      <th>1</th>\n",
       "      <td>Super Mario Bros.</td>\n",
       "      <td>NES</td>\n",
       "      <td>1985.0</td>\n",
       "      <td>Platform</td>\n",
       "      <td>29.08</td>\n",
       "      <td>3.58</td>\n",
       "      <td>6.81</td>\n",
       "      <td>0.77</td>\n",
       "      <td>NaN</td>\n",
       "      <td>NaN</td>\n",
       "      <td>NaN</td>\n",
       "    </tr>\n",
       "    <tr>\n",
       "      <th>2</th>\n",
       "      <td>Mario Kart Wii</td>\n",
       "      <td>Wii</td>\n",
       "      <td>2008.0</td>\n",
       "      <td>Racing</td>\n",
       "      <td>15.68</td>\n",
       "      <td>12.76</td>\n",
       "      <td>3.79</td>\n",
       "      <td>3.29</td>\n",
       "      <td>82.0</td>\n",
       "      <td>8.3</td>\n",
       "      <td>E</td>\n",
       "    </tr>\n",
       "    <tr>\n",
       "      <th>3</th>\n",
       "      <td>Wii Sports Resort</td>\n",
       "      <td>Wii</td>\n",
       "      <td>2009.0</td>\n",
       "      <td>Sports</td>\n",
       "      <td>15.61</td>\n",
       "      <td>10.93</td>\n",
       "      <td>3.28</td>\n",
       "      <td>2.95</td>\n",
       "      <td>80.0</td>\n",
       "      <td>8</td>\n",
       "      <td>E</td>\n",
       "    </tr>\n",
       "    <tr>\n",
       "      <th>4</th>\n",
       "      <td>Pokemon Red/Pokemon Blue</td>\n",
       "      <td>GB</td>\n",
       "      <td>1996.0</td>\n",
       "      <td>Role-Playing</td>\n",
       "      <td>11.27</td>\n",
       "      <td>8.89</td>\n",
       "      <td>10.22</td>\n",
       "      <td>1.00</td>\n",
       "      <td>NaN</td>\n",
       "      <td>NaN</td>\n",
       "      <td>NaN</td>\n",
       "    </tr>\n",
       "    <tr>\n",
       "      <th>5</th>\n",
       "      <td>Tetris</td>\n",
       "      <td>GB</td>\n",
       "      <td>1989.0</td>\n",
       "      <td>Puzzle</td>\n",
       "      <td>23.20</td>\n",
       "      <td>2.26</td>\n",
       "      <td>4.22</td>\n",
       "      <td>0.58</td>\n",
       "      <td>NaN</td>\n",
       "      <td>NaN</td>\n",
       "      <td>NaN</td>\n",
       "    </tr>\n",
       "    <tr>\n",
       "      <th>6</th>\n",
       "      <td>New Super Mario Bros.</td>\n",
       "      <td>DS</td>\n",
       "      <td>2006.0</td>\n",
       "      <td>Platform</td>\n",
       "      <td>11.28</td>\n",
       "      <td>9.14</td>\n",
       "      <td>6.50</td>\n",
       "      <td>2.88</td>\n",
       "      <td>89.0</td>\n",
       "      <td>8.5</td>\n",
       "      <td>E</td>\n",
       "    </tr>\n",
       "    <tr>\n",
       "      <th>7</th>\n",
       "      <td>Wii Play</td>\n",
       "      <td>Wii</td>\n",
       "      <td>2006.0</td>\n",
       "      <td>Misc</td>\n",
       "      <td>13.96</td>\n",
       "      <td>9.18</td>\n",
       "      <td>2.93</td>\n",
       "      <td>2.84</td>\n",
       "      <td>58.0</td>\n",
       "      <td>6.6</td>\n",
       "      <td>E</td>\n",
       "    </tr>\n",
       "    <tr>\n",
       "      <th>8</th>\n",
       "      <td>New Super Mario Bros. Wii</td>\n",
       "      <td>Wii</td>\n",
       "      <td>2009.0</td>\n",
       "      <td>Platform</td>\n",
       "      <td>14.44</td>\n",
       "      <td>6.94</td>\n",
       "      <td>4.70</td>\n",
       "      <td>2.24</td>\n",
       "      <td>87.0</td>\n",
       "      <td>8.4</td>\n",
       "      <td>E</td>\n",
       "    </tr>\n",
       "    <tr>\n",
       "      <th>9</th>\n",
       "      <td>Duck Hunt</td>\n",
       "      <td>NES</td>\n",
       "      <td>1984.0</td>\n",
       "      <td>Shooter</td>\n",
       "      <td>26.93</td>\n",
       "      <td>0.63</td>\n",
       "      <td>0.28</td>\n",
       "      <td>0.47</td>\n",
       "      <td>NaN</td>\n",
       "      <td>NaN</td>\n",
       "      <td>NaN</td>\n",
       "    </tr>\n",
       "    <tr>\n",
       "      <th>10</th>\n",
       "      <td>Nintendogs</td>\n",
       "      <td>DS</td>\n",
       "      <td>2005.0</td>\n",
       "      <td>Simulation</td>\n",
       "      <td>9.05</td>\n",
       "      <td>10.95</td>\n",
       "      <td>1.93</td>\n",
       "      <td>2.74</td>\n",
       "      <td>NaN</td>\n",
       "      <td>NaN</td>\n",
       "      <td>NaN</td>\n",
       "    </tr>\n",
       "    <tr>\n",
       "      <th>11</th>\n",
       "      <td>Mario Kart DS</td>\n",
       "      <td>DS</td>\n",
       "      <td>2005.0</td>\n",
       "      <td>Racing</td>\n",
       "      <td>9.71</td>\n",
       "      <td>7.47</td>\n",
       "      <td>4.13</td>\n",
       "      <td>1.90</td>\n",
       "      <td>91.0</td>\n",
       "      <td>8.6</td>\n",
       "      <td>E</td>\n",
       "    </tr>\n",
       "    <tr>\n",
       "      <th>12</th>\n",
       "      <td>Pokemon Gold/Pokemon Silver</td>\n",
       "      <td>GB</td>\n",
       "      <td>1999.0</td>\n",
       "      <td>Role-Playing</td>\n",
       "      <td>9.00</td>\n",
       "      <td>6.18</td>\n",
       "      <td>7.20</td>\n",
       "      <td>0.71</td>\n",
       "      <td>NaN</td>\n",
       "      <td>NaN</td>\n",
       "      <td>NaN</td>\n",
       "    </tr>\n",
       "    <tr>\n",
       "      <th>13</th>\n",
       "      <td>Wii Fit</td>\n",
       "      <td>Wii</td>\n",
       "      <td>2007.0</td>\n",
       "      <td>Sports</td>\n",
       "      <td>8.92</td>\n",
       "      <td>8.03</td>\n",
       "      <td>3.60</td>\n",
       "      <td>2.15</td>\n",
       "      <td>80.0</td>\n",
       "      <td>7.7</td>\n",
       "      <td>E</td>\n",
       "    </tr>\n",
       "    <tr>\n",
       "      <th>14</th>\n",
       "      <td>Kinect Adventures!</td>\n",
       "      <td>X360</td>\n",
       "      <td>2010.0</td>\n",
       "      <td>Misc</td>\n",
       "      <td>15.00</td>\n",
       "      <td>4.89</td>\n",
       "      <td>0.24</td>\n",
       "      <td>1.69</td>\n",
       "      <td>61.0</td>\n",
       "      <td>6.3</td>\n",
       "      <td>E</td>\n",
       "    </tr>\n",
       "    <tr>\n",
       "      <th>15</th>\n",
       "      <td>Wii Fit Plus</td>\n",
       "      <td>Wii</td>\n",
       "      <td>2009.0</td>\n",
       "      <td>Sports</td>\n",
       "      <td>9.01</td>\n",
       "      <td>8.49</td>\n",
       "      <td>2.53</td>\n",
       "      <td>1.77</td>\n",
       "      <td>80.0</td>\n",
       "      <td>7.4</td>\n",
       "      <td>E</td>\n",
       "    </tr>\n",
       "    <tr>\n",
       "      <th>16</th>\n",
       "      <td>Grand Theft Auto V</td>\n",
       "      <td>PS3</td>\n",
       "      <td>2013.0</td>\n",
       "      <td>Action</td>\n",
       "      <td>7.02</td>\n",
       "      <td>9.09</td>\n",
       "      <td>0.98</td>\n",
       "      <td>3.96</td>\n",
       "      <td>97.0</td>\n",
       "      <td>8.2</td>\n",
       "      <td>M</td>\n",
       "    </tr>\n",
       "    <tr>\n",
       "      <th>17</th>\n",
       "      <td>Grand Theft Auto: San Andreas</td>\n",
       "      <td>PS2</td>\n",
       "      <td>2004.0</td>\n",
       "      <td>Action</td>\n",
       "      <td>9.43</td>\n",
       "      <td>0.40</td>\n",
       "      <td>0.41</td>\n",
       "      <td>10.57</td>\n",
       "      <td>95.0</td>\n",
       "      <td>9</td>\n",
       "      <td>M</td>\n",
       "    </tr>\n",
       "    <tr>\n",
       "      <th>18</th>\n",
       "      <td>Super Mario World</td>\n",
       "      <td>SNES</td>\n",
       "      <td>1990.0</td>\n",
       "      <td>Platform</td>\n",
       "      <td>12.78</td>\n",
       "      <td>3.75</td>\n",
       "      <td>3.54</td>\n",
       "      <td>0.55</td>\n",
       "      <td>NaN</td>\n",
       "      <td>NaN</td>\n",
       "      <td>NaN</td>\n",
       "    </tr>\n",
       "    <tr>\n",
       "      <th>19</th>\n",
       "      <td>Brain Age: Train Your Brain in Minutes a Day</td>\n",
       "      <td>DS</td>\n",
       "      <td>2005.0</td>\n",
       "      <td>Misc</td>\n",
       "      <td>4.74</td>\n",
       "      <td>9.20</td>\n",
       "      <td>4.16</td>\n",
       "      <td>2.04</td>\n",
       "      <td>77.0</td>\n",
       "      <td>7.9</td>\n",
       "      <td>E</td>\n",
       "    </tr>\n",
       "  </tbody>\n",
       "</table>\n",
       "</div>"
      ],
      "text/plain": [
       "                                            Name Platform  Year_of_Release  \\\n",
       "0                                     Wii Sports      Wii           2006.0   \n",
       "1                              Super Mario Bros.      NES           1985.0   \n",
       "2                                 Mario Kart Wii      Wii           2008.0   \n",
       "3                              Wii Sports Resort      Wii           2009.0   \n",
       "4                       Pokemon Red/Pokemon Blue       GB           1996.0   \n",
       "5                                         Tetris       GB           1989.0   \n",
       "6                          New Super Mario Bros.       DS           2006.0   \n",
       "7                                       Wii Play      Wii           2006.0   \n",
       "8                      New Super Mario Bros. Wii      Wii           2009.0   \n",
       "9                                      Duck Hunt      NES           1984.0   \n",
       "10                                    Nintendogs       DS           2005.0   \n",
       "11                                 Mario Kart DS       DS           2005.0   \n",
       "12                   Pokemon Gold/Pokemon Silver       GB           1999.0   \n",
       "13                                       Wii Fit      Wii           2007.0   \n",
       "14                            Kinect Adventures!     X360           2010.0   \n",
       "15                                  Wii Fit Plus      Wii           2009.0   \n",
       "16                            Grand Theft Auto V      PS3           2013.0   \n",
       "17                 Grand Theft Auto: San Andreas      PS2           2004.0   \n",
       "18                             Super Mario World     SNES           1990.0   \n",
       "19  Brain Age: Train Your Brain in Minutes a Day       DS           2005.0   \n",
       "\n",
       "           Genre  NA_sales  EU_sales  JP_sales  Other_sales  Critic_Score  \\\n",
       "0         Sports     41.36     28.96      3.77         8.45          76.0   \n",
       "1       Platform     29.08      3.58      6.81         0.77           NaN   \n",
       "2         Racing     15.68     12.76      3.79         3.29          82.0   \n",
       "3         Sports     15.61     10.93      3.28         2.95          80.0   \n",
       "4   Role-Playing     11.27      8.89     10.22         1.00           NaN   \n",
       "5         Puzzle     23.20      2.26      4.22         0.58           NaN   \n",
       "6       Platform     11.28      9.14      6.50         2.88          89.0   \n",
       "7           Misc     13.96      9.18      2.93         2.84          58.0   \n",
       "8       Platform     14.44      6.94      4.70         2.24          87.0   \n",
       "9        Shooter     26.93      0.63      0.28         0.47           NaN   \n",
       "10    Simulation      9.05     10.95      1.93         2.74           NaN   \n",
       "11        Racing      9.71      7.47      4.13         1.90          91.0   \n",
       "12  Role-Playing      9.00      6.18      7.20         0.71           NaN   \n",
       "13        Sports      8.92      8.03      3.60         2.15          80.0   \n",
       "14          Misc     15.00      4.89      0.24         1.69          61.0   \n",
       "15        Sports      9.01      8.49      2.53         1.77          80.0   \n",
       "16        Action      7.02      9.09      0.98         3.96          97.0   \n",
       "17        Action      9.43      0.40      0.41        10.57          95.0   \n",
       "18      Platform     12.78      3.75      3.54         0.55           NaN   \n",
       "19          Misc      4.74      9.20      4.16         2.04          77.0   \n",
       "\n",
       "   User_Score Rating  \n",
       "0           8      E  \n",
       "1         NaN    NaN  \n",
       "2         8.3      E  \n",
       "3           8      E  \n",
       "4         NaN    NaN  \n",
       "5         NaN    NaN  \n",
       "6         8.5      E  \n",
       "7         6.6      E  \n",
       "8         8.4      E  \n",
       "9         NaN    NaN  \n",
       "10        NaN    NaN  \n",
       "11        8.6      E  \n",
       "12        NaN    NaN  \n",
       "13        7.7      E  \n",
       "14        6.3      E  \n",
       "15        7.4      E  \n",
       "16        8.2      M  \n",
       "17          9      M  \n",
       "18        NaN    NaN  \n",
       "19        7.9      E  "
      ]
     },
     "metadata": {},
     "output_type": "display_data"
    }
   ],
   "source": [
    "df = pd.read_csv('/datasets/games.csv')\n",
    "df.info()\n",
    "display(df.head(20))"
   ]
  },
  {
   "cell_type": "markdown",
   "metadata": {},
   "source": [
    "**Мы видим таблицу с названием игр, названием платформы, годом выпуска, жанром, продажами в 3 регионах, остальными продажами, оценками критиков и пользователей а также рейтингом. При первом взгляде на этот датафрейм сразу можно понять, что перед началом работы с ним, требуется сделать предобработку данных.**"
   ]
  },
  {
   "cell_type": "markdown",
   "metadata": {},
   "source": [
    "### Шаг 2. Подготовка данных"
   ]
  },
  {
   "cell_type": "markdown",
   "metadata": {},
   "source": [
    "**Заменим названия столбцов (приведите к нижнему регистру):**"
   ]
  },
  {
   "cell_type": "code",
   "execution_count": 9,
   "metadata": {},
   "outputs": [],
   "source": [
    "df.rename(columns=str.lower, inplace=True)"
   ]
  },
  {
   "cell_type": "markdown",
   "metadata": {},
   "source": [
    "**Поменяем тип столбца year_of_release на int, т.к. он обозначает только год выхода игры. Для этого заменим все пропуски на 0, чтобы поучилось поменять тип:**"
   ]
  },
  {
   "cell_type": "code",
   "execution_count": 10,
   "metadata": {},
   "outputs": [
    {
     "data": {
      "text/html": [
       "<div>\n",
       "<style scoped>\n",
       "    .dataframe tbody tr th:only-of-type {\n",
       "        vertical-align: middle;\n",
       "    }\n",
       "\n",
       "    .dataframe tbody tr th {\n",
       "        vertical-align: top;\n",
       "    }\n",
       "\n",
       "    .dataframe thead th {\n",
       "        text-align: right;\n",
       "    }\n",
       "</style>\n",
       "<table border=\"1\" class=\"dataframe\">\n",
       "  <thead>\n",
       "    <tr style=\"text-align: right;\">\n",
       "      <th></th>\n",
       "      <th>name</th>\n",
       "      <th>platform</th>\n",
       "      <th>year_of_release</th>\n",
       "      <th>genre</th>\n",
       "      <th>na_sales</th>\n",
       "      <th>eu_sales</th>\n",
       "      <th>jp_sales</th>\n",
       "      <th>other_sales</th>\n",
       "      <th>critic_score</th>\n",
       "      <th>user_score</th>\n",
       "      <th>rating</th>\n",
       "    </tr>\n",
       "  </thead>\n",
       "  <tbody>\n",
       "    <tr>\n",
       "      <th>0</th>\n",
       "      <td>Wii Sports</td>\n",
       "      <td>Wii</td>\n",
       "      <td>2006</td>\n",
       "      <td>Sports</td>\n",
       "      <td>41.36</td>\n",
       "      <td>28.96</td>\n",
       "      <td>3.77</td>\n",
       "      <td>8.45</td>\n",
       "      <td>76.0</td>\n",
       "      <td>8</td>\n",
       "      <td>E</td>\n",
       "    </tr>\n",
       "    <tr>\n",
       "      <th>1</th>\n",
       "      <td>Super Mario Bros.</td>\n",
       "      <td>NES</td>\n",
       "      <td>1985</td>\n",
       "      <td>Platform</td>\n",
       "      <td>29.08</td>\n",
       "      <td>3.58</td>\n",
       "      <td>6.81</td>\n",
       "      <td>0.77</td>\n",
       "      <td>NaN</td>\n",
       "      <td>NaN</td>\n",
       "      <td>NaN</td>\n",
       "    </tr>\n",
       "    <tr>\n",
       "      <th>2</th>\n",
       "      <td>Mario Kart Wii</td>\n",
       "      <td>Wii</td>\n",
       "      <td>2008</td>\n",
       "      <td>Racing</td>\n",
       "      <td>15.68</td>\n",
       "      <td>12.76</td>\n",
       "      <td>3.79</td>\n",
       "      <td>3.29</td>\n",
       "      <td>82.0</td>\n",
       "      <td>8.3</td>\n",
       "      <td>E</td>\n",
       "    </tr>\n",
       "    <tr>\n",
       "      <th>3</th>\n",
       "      <td>Wii Sports Resort</td>\n",
       "      <td>Wii</td>\n",
       "      <td>2009</td>\n",
       "      <td>Sports</td>\n",
       "      <td>15.61</td>\n",
       "      <td>10.93</td>\n",
       "      <td>3.28</td>\n",
       "      <td>2.95</td>\n",
       "      <td>80.0</td>\n",
       "      <td>8</td>\n",
       "      <td>E</td>\n",
       "    </tr>\n",
       "    <tr>\n",
       "      <th>4</th>\n",
       "      <td>Pokemon Red/Pokemon Blue</td>\n",
       "      <td>GB</td>\n",
       "      <td>1996</td>\n",
       "      <td>Role-Playing</td>\n",
       "      <td>11.27</td>\n",
       "      <td>8.89</td>\n",
       "      <td>10.22</td>\n",
       "      <td>1.00</td>\n",
       "      <td>NaN</td>\n",
       "      <td>NaN</td>\n",
       "      <td>NaN</td>\n",
       "    </tr>\n",
       "  </tbody>\n",
       "</table>\n",
       "</div>"
      ],
      "text/plain": [
       "                       name platform  year_of_release         genre  na_sales  \\\n",
       "0                Wii Sports      Wii             2006        Sports     41.36   \n",
       "1         Super Mario Bros.      NES             1985      Platform     29.08   \n",
       "2            Mario Kart Wii      Wii             2008        Racing     15.68   \n",
       "3         Wii Sports Resort      Wii             2009        Sports     15.61   \n",
       "4  Pokemon Red/Pokemon Blue       GB             1996  Role-Playing     11.27   \n",
       "\n",
       "   eu_sales  jp_sales  other_sales  critic_score user_score rating  \n",
       "0     28.96      3.77         8.45          76.0          8      E  \n",
       "1      3.58      6.81         0.77           NaN        NaN    NaN  \n",
       "2     12.76      3.79         3.29          82.0        8.3      E  \n",
       "3     10.93      3.28         2.95          80.0          8      E  \n",
       "4      8.89     10.22         1.00           NaN        NaN    NaN  "
      ]
     },
     "execution_count": 10,
     "metadata": {},
     "output_type": "execute_result"
    }
   ],
   "source": [
    "df['year_of_release'] = df['year_of_release'].fillna(0).astype(int)\n",
    "df.head()"
   ]
  },
  {
   "cell_type": "markdown",
   "metadata": {},
   "source": [
    "**Поменять тип столбца user_score на float мешают строки со значением tbd. tbd - это абревеатура, означающая to be defined(будет объявлено или будет определенно). Возможно при заполнении датафремйа кто-то хотел занести эти данные позже, но по итогу так и не занес. Заменим эти значения на 0, также все пропуски в этом столбце заменим на 0 и поменяем тип данных на float:**"
   ]
  },
  {
   "cell_type": "code",
   "execution_count": 11,
   "metadata": {},
   "outputs": [
    {
     "name": "stdout",
     "output_type": "stream",
     "text": [
      "<class 'pandas.core.frame.DataFrame'>\n",
      "RangeIndex: 16715 entries, 0 to 16714\n",
      "Data columns (total 11 columns):\n",
      " #   Column           Non-Null Count  Dtype  \n",
      "---  ------           --------------  -----  \n",
      " 0   name             16713 non-null  object \n",
      " 1   platform         16715 non-null  object \n",
      " 2   year_of_release  16715 non-null  int64  \n",
      " 3   genre            16713 non-null  object \n",
      " 4   na_sales         16715 non-null  float64\n",
      " 5   eu_sales         16715 non-null  float64\n",
      " 6   jp_sales         16715 non-null  float64\n",
      " 7   other_sales      16715 non-null  float64\n",
      " 8   critic_score     8137 non-null   float64\n",
      " 9   user_score       16715 non-null  float64\n",
      " 10  rating           9949 non-null   object \n",
      "dtypes: float64(6), int64(1), object(4)\n",
      "memory usage: 1.4+ MB\n"
     ]
    }
   ],
   "source": [
    "df['user_score'].replace('tbd', '0', inplace=True)\n",
    "df['user_score'].fillna('0', inplace=True)\n",
    "df['user_score'] = df['user_score'].astype(float)\n",
    "df.info()"
   ]
  },
  {
   "cell_type": "markdown",
   "metadata": {},
   "source": [
    "**Теперь перейдем к обработке пропусков в таблице:**"
   ]
  },
  {
   "cell_type": "code",
   "execution_count": 12,
   "metadata": {},
   "outputs": [
    {
     "data": {
      "text/plain": [
       "name                  2\n",
       "platform              0\n",
       "year_of_release       0\n",
       "genre                 2\n",
       "na_sales              0\n",
       "eu_sales              0\n",
       "jp_sales              0\n",
       "other_sales           0\n",
       "critic_score       8578\n",
       "user_score            0\n",
       "rating             6766\n",
       "dtype: int64"
      ]
     },
     "execution_count": 12,
     "metadata": {},
     "output_type": "execute_result"
    }
   ],
   "source": [
    "df.isna().sum()"
   ]
  },
  {
   "cell_type": "markdown",
   "metadata": {},
   "source": [
    "**Посмотрим на пропуски в столбце name:**"
   ]
  },
  {
   "cell_type": "code",
   "execution_count": 13,
   "metadata": {},
   "outputs": [
    {
     "data": {
      "text/html": [
       "<div>\n",
       "<style scoped>\n",
       "    .dataframe tbody tr th:only-of-type {\n",
       "        vertical-align: middle;\n",
       "    }\n",
       "\n",
       "    .dataframe tbody tr th {\n",
       "        vertical-align: top;\n",
       "    }\n",
       "\n",
       "    .dataframe thead th {\n",
       "        text-align: right;\n",
       "    }\n",
       "</style>\n",
       "<table border=\"1\" class=\"dataframe\">\n",
       "  <thead>\n",
       "    <tr style=\"text-align: right;\">\n",
       "      <th></th>\n",
       "      <th>name</th>\n",
       "      <th>platform</th>\n",
       "      <th>year_of_release</th>\n",
       "      <th>genre</th>\n",
       "      <th>na_sales</th>\n",
       "      <th>eu_sales</th>\n",
       "      <th>jp_sales</th>\n",
       "      <th>other_sales</th>\n",
       "      <th>critic_score</th>\n",
       "      <th>user_score</th>\n",
       "      <th>rating</th>\n",
       "    </tr>\n",
       "  </thead>\n",
       "  <tbody>\n",
       "    <tr>\n",
       "      <th>659</th>\n",
       "      <td>name</td>\n",
       "      <td>GEN</td>\n",
       "      <td>1993</td>\n",
       "      <td>NaN</td>\n",
       "      <td>1.78</td>\n",
       "      <td>0.53</td>\n",
       "      <td>0.00</td>\n",
       "      <td>0.08</td>\n",
       "      <td>NaN</td>\n",
       "      <td>0.0</td>\n",
       "      <td>NaN</td>\n",
       "    </tr>\n",
       "    <tr>\n",
       "      <th>14244</th>\n",
       "      <td>name</td>\n",
       "      <td>GEN</td>\n",
       "      <td>1993</td>\n",
       "      <td>NaN</td>\n",
       "      <td>0.00</td>\n",
       "      <td>0.00</td>\n",
       "      <td>0.03</td>\n",
       "      <td>0.00</td>\n",
       "      <td>NaN</td>\n",
       "      <td>0.0</td>\n",
       "      <td>NaN</td>\n",
       "    </tr>\n",
       "  </tbody>\n",
       "</table>\n",
       "</div>"
      ],
      "text/plain": [
       "       name platform  year_of_release genre  na_sales  eu_sales  jp_sales  \\\n",
       "659    name      GEN             1993   NaN      1.78      0.53      0.00   \n",
       "14244  name      GEN             1993   NaN      0.00      0.00      0.03   \n",
       "\n",
       "       other_sales  critic_score  user_score rating  \n",
       "659           0.08           NaN         0.0    NaN  \n",
       "14244         0.00           NaN         0.0    NaN  "
      ]
     },
     "execution_count": 13,
     "metadata": {},
     "output_type": "execute_result"
    }
   ],
   "source": [
    "df['name'].fillna('name', inplace=True)\n",
    "df[df['name'] == 'name']"
   ]
  },
  {
   "cell_type": "markdown",
   "metadata": {},
   "source": [
    "**Эти пропуски оказались теми же самыми строками, что и пропуски в столбце genre. Т.к. их всего две, мы можем просто удалить их:**"
   ]
  },
  {
   "cell_type": "code",
   "execution_count": 14,
   "metadata": {},
   "outputs": [
    {
     "data": {
      "text/html": [
       "<div>\n",
       "<style scoped>\n",
       "    .dataframe tbody tr th:only-of-type {\n",
       "        vertical-align: middle;\n",
       "    }\n",
       "\n",
       "    .dataframe tbody tr th {\n",
       "        vertical-align: top;\n",
       "    }\n",
       "\n",
       "    .dataframe thead th {\n",
       "        text-align: right;\n",
       "    }\n",
       "</style>\n",
       "<table border=\"1\" class=\"dataframe\">\n",
       "  <thead>\n",
       "    <tr style=\"text-align: right;\">\n",
       "      <th></th>\n",
       "      <th>name</th>\n",
       "      <th>platform</th>\n",
       "      <th>year_of_release</th>\n",
       "      <th>genre</th>\n",
       "      <th>na_sales</th>\n",
       "      <th>eu_sales</th>\n",
       "      <th>jp_sales</th>\n",
       "      <th>other_sales</th>\n",
       "      <th>critic_score</th>\n",
       "      <th>user_score</th>\n",
       "      <th>rating</th>\n",
       "    </tr>\n",
       "  </thead>\n",
       "  <tbody>\n",
       "  </tbody>\n",
       "</table>\n",
       "</div>"
      ],
      "text/plain": [
       "Empty DataFrame\n",
       "Columns: [name, platform, year_of_release, genre, na_sales, eu_sales, jp_sales, other_sales, critic_score, user_score, rating]\n",
       "Index: []"
      ]
     },
     "execution_count": 14,
     "metadata": {},
     "output_type": "execute_result"
    }
   ],
   "source": [
    "df = df[df['name'] != 'name']\n",
    "df[df['name'] == 'name']"
   ]
  },
  {
   "cell_type": "markdown",
   "metadata": {},
   "source": [
    "**Перейдем к столбцу с оценкой критиков. Пропуски заполним нулями, они будут означать, что оценки нет:**"
   ]
  },
  {
   "cell_type": "code",
   "execution_count": 15,
   "metadata": {},
   "outputs": [],
   "source": [
    "df['critic_score'] = df['critic_score'].fillna(0)"
   ]
  },
  {
   "cell_type": "markdown",
   "metadata": {},
   "source": [
    "**Для последнего столбца, обозначающего возрастной рейтинг, мы сделаем замену пропусков абревеатурой tbd, т.к. тип столбца текстовой и переменная категориальная:**"
   ]
  },
  {
   "cell_type": "code",
   "execution_count": 16,
   "metadata": {},
   "outputs": [
    {
     "data": {
      "text/plain": [
       "name               0\n",
       "platform           0\n",
       "year_of_release    0\n",
       "genre              0\n",
       "na_sales           0\n",
       "eu_sales           0\n",
       "jp_sales           0\n",
       "other_sales        0\n",
       "critic_score       0\n",
       "user_score         0\n",
       "rating             0\n",
       "dtype: int64"
      ]
     },
     "execution_count": 16,
     "metadata": {},
     "output_type": "execute_result"
    }
   ],
   "source": [
    "df['rating'].fillna('tbd', inplace=True)\n",
    "df.isna().sum()"
   ]
  },
  {
   "cell_type": "markdown",
   "metadata": {},
   "source": [
    "**Проверим таблицу на дубликаты:**"
   ]
  },
  {
   "cell_type": "code",
   "execution_count": 17,
   "metadata": {},
   "outputs": [
    {
     "data": {
      "text/plain": [
       "0"
      ]
     },
     "execution_count": 17,
     "metadata": {},
     "output_type": "execute_result"
    }
   ],
   "source": [
    "df.duplicated().sum()"
   ]
  },
  {
   "cell_type": "markdown",
   "metadata": {},
   "source": [
    "**Дубликатов в нашей таблице нет, значит можно приступать к работе с этими данными.**"
   ]
  },
  {
   "cell_type": "markdown",
   "metadata": {},
   "source": [
    "**Посчитаем суммарные продажи во всех регионах и запишим их в отдельный столбец:**"
   ]
  },
  {
   "cell_type": "code",
   "execution_count": 18,
   "metadata": {},
   "outputs": [
    {
     "data": {
      "text/html": [
       "<div>\n",
       "<style scoped>\n",
       "    .dataframe tbody tr th:only-of-type {\n",
       "        vertical-align: middle;\n",
       "    }\n",
       "\n",
       "    .dataframe tbody tr th {\n",
       "        vertical-align: top;\n",
       "    }\n",
       "\n",
       "    .dataframe thead th {\n",
       "        text-align: right;\n",
       "    }\n",
       "</style>\n",
       "<table border=\"1\" class=\"dataframe\">\n",
       "  <thead>\n",
       "    <tr style=\"text-align: right;\">\n",
       "      <th></th>\n",
       "      <th>name</th>\n",
       "      <th>platform</th>\n",
       "      <th>year_of_release</th>\n",
       "      <th>genre</th>\n",
       "      <th>na_sales</th>\n",
       "      <th>eu_sales</th>\n",
       "      <th>jp_sales</th>\n",
       "      <th>other_sales</th>\n",
       "      <th>critic_score</th>\n",
       "      <th>user_score</th>\n",
       "      <th>rating</th>\n",
       "      <th>total_sales</th>\n",
       "    </tr>\n",
       "  </thead>\n",
       "  <tbody>\n",
       "    <tr>\n",
       "      <th>0</th>\n",
       "      <td>Wii Sports</td>\n",
       "      <td>Wii</td>\n",
       "      <td>2006</td>\n",
       "      <td>Sports</td>\n",
       "      <td>41.36</td>\n",
       "      <td>28.96</td>\n",
       "      <td>3.77</td>\n",
       "      <td>8.45</td>\n",
       "      <td>76.0</td>\n",
       "      <td>8.0</td>\n",
       "      <td>E</td>\n",
       "      <td>82.54</td>\n",
       "    </tr>\n",
       "    <tr>\n",
       "      <th>1</th>\n",
       "      <td>Super Mario Bros.</td>\n",
       "      <td>NES</td>\n",
       "      <td>1985</td>\n",
       "      <td>Platform</td>\n",
       "      <td>29.08</td>\n",
       "      <td>3.58</td>\n",
       "      <td>6.81</td>\n",
       "      <td>0.77</td>\n",
       "      <td>0.0</td>\n",
       "      <td>0.0</td>\n",
       "      <td>tbd</td>\n",
       "      <td>40.24</td>\n",
       "    </tr>\n",
       "    <tr>\n",
       "      <th>2</th>\n",
       "      <td>Mario Kart Wii</td>\n",
       "      <td>Wii</td>\n",
       "      <td>2008</td>\n",
       "      <td>Racing</td>\n",
       "      <td>15.68</td>\n",
       "      <td>12.76</td>\n",
       "      <td>3.79</td>\n",
       "      <td>3.29</td>\n",
       "      <td>82.0</td>\n",
       "      <td>8.3</td>\n",
       "      <td>E</td>\n",
       "      <td>35.52</td>\n",
       "    </tr>\n",
       "    <tr>\n",
       "      <th>3</th>\n",
       "      <td>Wii Sports Resort</td>\n",
       "      <td>Wii</td>\n",
       "      <td>2009</td>\n",
       "      <td>Sports</td>\n",
       "      <td>15.61</td>\n",
       "      <td>10.93</td>\n",
       "      <td>3.28</td>\n",
       "      <td>2.95</td>\n",
       "      <td>80.0</td>\n",
       "      <td>8.0</td>\n",
       "      <td>E</td>\n",
       "      <td>32.77</td>\n",
       "    </tr>\n",
       "    <tr>\n",
       "      <th>4</th>\n",
       "      <td>Pokemon Red/Pokemon Blue</td>\n",
       "      <td>GB</td>\n",
       "      <td>1996</td>\n",
       "      <td>Role-Playing</td>\n",
       "      <td>11.27</td>\n",
       "      <td>8.89</td>\n",
       "      <td>10.22</td>\n",
       "      <td>1.00</td>\n",
       "      <td>0.0</td>\n",
       "      <td>0.0</td>\n",
       "      <td>tbd</td>\n",
       "      <td>31.38</td>\n",
       "    </tr>\n",
       "    <tr>\n",
       "      <th>5</th>\n",
       "      <td>Tetris</td>\n",
       "      <td>GB</td>\n",
       "      <td>1989</td>\n",
       "      <td>Puzzle</td>\n",
       "      <td>23.20</td>\n",
       "      <td>2.26</td>\n",
       "      <td>4.22</td>\n",
       "      <td>0.58</td>\n",
       "      <td>0.0</td>\n",
       "      <td>0.0</td>\n",
       "      <td>tbd</td>\n",
       "      <td>30.26</td>\n",
       "    </tr>\n",
       "    <tr>\n",
       "      <th>6</th>\n",
       "      <td>New Super Mario Bros.</td>\n",
       "      <td>DS</td>\n",
       "      <td>2006</td>\n",
       "      <td>Platform</td>\n",
       "      <td>11.28</td>\n",
       "      <td>9.14</td>\n",
       "      <td>6.50</td>\n",
       "      <td>2.88</td>\n",
       "      <td>89.0</td>\n",
       "      <td>8.5</td>\n",
       "      <td>E</td>\n",
       "      <td>29.80</td>\n",
       "    </tr>\n",
       "    <tr>\n",
       "      <th>7</th>\n",
       "      <td>Wii Play</td>\n",
       "      <td>Wii</td>\n",
       "      <td>2006</td>\n",
       "      <td>Misc</td>\n",
       "      <td>13.96</td>\n",
       "      <td>9.18</td>\n",
       "      <td>2.93</td>\n",
       "      <td>2.84</td>\n",
       "      <td>58.0</td>\n",
       "      <td>6.6</td>\n",
       "      <td>E</td>\n",
       "      <td>28.91</td>\n",
       "    </tr>\n",
       "    <tr>\n",
       "      <th>8</th>\n",
       "      <td>New Super Mario Bros. Wii</td>\n",
       "      <td>Wii</td>\n",
       "      <td>2009</td>\n",
       "      <td>Platform</td>\n",
       "      <td>14.44</td>\n",
       "      <td>6.94</td>\n",
       "      <td>4.70</td>\n",
       "      <td>2.24</td>\n",
       "      <td>87.0</td>\n",
       "      <td>8.4</td>\n",
       "      <td>E</td>\n",
       "      <td>28.32</td>\n",
       "    </tr>\n",
       "    <tr>\n",
       "      <th>9</th>\n",
       "      <td>Duck Hunt</td>\n",
       "      <td>NES</td>\n",
       "      <td>1984</td>\n",
       "      <td>Shooter</td>\n",
       "      <td>26.93</td>\n",
       "      <td>0.63</td>\n",
       "      <td>0.28</td>\n",
       "      <td>0.47</td>\n",
       "      <td>0.0</td>\n",
       "      <td>0.0</td>\n",
       "      <td>tbd</td>\n",
       "      <td>28.31</td>\n",
       "    </tr>\n",
       "  </tbody>\n",
       "</table>\n",
       "</div>"
      ],
      "text/plain": [
       "                        name platform  year_of_release         genre  \\\n",
       "0                 Wii Sports      Wii             2006        Sports   \n",
       "1          Super Mario Bros.      NES             1985      Platform   \n",
       "2             Mario Kart Wii      Wii             2008        Racing   \n",
       "3          Wii Sports Resort      Wii             2009        Sports   \n",
       "4   Pokemon Red/Pokemon Blue       GB             1996  Role-Playing   \n",
       "5                     Tetris       GB             1989        Puzzle   \n",
       "6      New Super Mario Bros.       DS             2006      Platform   \n",
       "7                   Wii Play      Wii             2006          Misc   \n",
       "8  New Super Mario Bros. Wii      Wii             2009      Platform   \n",
       "9                  Duck Hunt      NES             1984       Shooter   \n",
       "\n",
       "   na_sales  eu_sales  jp_sales  other_sales  critic_score  user_score rating  \\\n",
       "0     41.36     28.96      3.77         8.45          76.0         8.0      E   \n",
       "1     29.08      3.58      6.81         0.77           0.0         0.0    tbd   \n",
       "2     15.68     12.76      3.79         3.29          82.0         8.3      E   \n",
       "3     15.61     10.93      3.28         2.95          80.0         8.0      E   \n",
       "4     11.27      8.89     10.22         1.00           0.0         0.0    tbd   \n",
       "5     23.20      2.26      4.22         0.58           0.0         0.0    tbd   \n",
       "6     11.28      9.14      6.50         2.88          89.0         8.5      E   \n",
       "7     13.96      9.18      2.93         2.84          58.0         6.6      E   \n",
       "8     14.44      6.94      4.70         2.24          87.0         8.4      E   \n",
       "9     26.93      0.63      0.28         0.47           0.0         0.0    tbd   \n",
       "\n",
       "   total_sales  \n",
       "0        82.54  \n",
       "1        40.24  \n",
       "2        35.52  \n",
       "3        32.77  \n",
       "4        31.38  \n",
       "5        30.26  \n",
       "6        29.80  \n",
       "7        28.91  \n",
       "8        28.32  \n",
       "9        28.31  "
      ]
     },
     "execution_count": 18,
     "metadata": {},
     "output_type": "execute_result"
    }
   ],
   "source": [
    "df['total_sales'] = df['na_sales'] + df['eu_sales'] + df['jp_sales'] + df['other_sales']\n",
    "df.head(10)"
   ]
  },
  {
   "cell_type": "markdown",
   "metadata": {},
   "source": [
    "**Теперь этот датафрейм приведен к нормальному виду, избавлен от пропусков и дубликатов, а значит можно приступать к работе с данными.**"
   ]
  },
  {
   "cell_type": "markdown",
   "metadata": {},
   "source": [
    "### Шаг 3. Исследовательский анализ данных"
   ]
  },
  {
   "cell_type": "markdown",
   "metadata": {},
   "source": [
    "**Посмотрим, сколько игр выпускалось в разные годы:**"
   ]
  },
  {
   "cell_type": "code",
   "execution_count": 19,
   "metadata": {},
   "outputs": [
    {
     "data": {
      "image/png": "[encoded data removed]",
      "text/plain": [
       "<Figure size 864x360 with 1 Axes>"
      ]
     },
     "metadata": {
      "needs_background": "light"
     },
     "output_type": "display_data"
    }
   ],
   "source": [
    "df['year_of_release'].sort_values().hist(bins=150, figsize=(12, 5));\n",
    "plt.title('Частота выхода игр', fontsize=14)\n",
    "plt.xlabel('Год выхода игры')\n",
    "plt.ylabel('Количество игр');"
   ]
  },
  {
   "cell_type": "markdown",
   "metadata": {},
   "source": [
    "**После заполнения пропусков нулями, в столбце year_of_release мы можем увидеть на графике эти значения. Проверим сколько их:**"
   ]
  },
  {
   "cell_type": "code",
   "execution_count": 20,
   "metadata": {},
   "outputs": [
    {
     "data": {
      "text/plain": [
       "name               269\n",
       "platform           269\n",
       "year_of_release    269\n",
       "genre              269\n",
       "na_sales           269\n",
       "eu_sales           269\n",
       "jp_sales           269\n",
       "other_sales        269\n",
       "critic_score       269\n",
       "user_score         269\n",
       "rating             269\n",
       "total_sales        269\n",
       "dtype: int64"
      ]
     },
     "execution_count": 20,
     "metadata": {},
     "output_type": "execute_result"
    }
   ],
   "source": [
    "df[df['year_of_release']==0].count()"
   ]
  },
  {
   "cell_type": "markdown",
   "metadata": {},
   "source": [
    "**Так, как количество таких записей всего 269, что очень мало в сравнении с общем количеством строк, можно просто удалить их:**"
   ]
  },
  {
   "cell_type": "code",
   "execution_count": 21,
   "metadata": {},
   "outputs": [
    {
     "data": {
      "image/png": "[encoded data removed]",
      "text/plain": [
       "<Figure size 864x360 with 1 Axes>"
      ]
     },
     "metadata": {
      "needs_background": "light"
     },
     "output_type": "display_data"
    }
   ],
   "source": [
    "df = df[df['year_of_release']>0]\n",
    "df['year_of_release'].sort_values().hist(bins=150, figsize=(12, 5));\n",
    "plt.title('Частота выхода игр', fontsize=14)\n",
    "plt.xlabel('Год выхода игры')\n",
    "plt.ylabel('Количество игр');"
   ]
  },
  {
   "cell_type": "markdown",
   "metadata": {},
   "source": [
    "**Видно, что пик выхода игр пришелся на 2008 и 2009 год. Количество игр, вышедших до 1990 года очень мало.**"
   ]
  },
  {
   "cell_type": "markdown",
   "metadata": {},
   "source": [
    "**Посмотрим, как менялись продажи по платформам. Выберим платформы с наибольшими суммарными продажами и постройте распределение по годам.**"
   ]
  },
  {
   "cell_type": "code",
   "execution_count": 22,
   "metadata": {},
   "outputs": [
    {
     "data": {
      "image/png": "[encoded data removed]",
      "text/plain": [
       "<Figure size 864x576 with 1 Axes>"
      ]
     },
     "metadata": {
      "needs_background": "light"
     },
     "output_type": "display_data"
    }
   ],
   "source": [
    "df.plot(x='year_of_release', y='platform', kind='scatter', figsize=(12, 8));"
   ]
  },
  {
   "cell_type": "markdown",
   "metadata": {},
   "source": [
    "**На графике видно, что многие платформы уже не существуют. Возьмем более актуальный отрезок после 2000 года:**"
   ]
  },
  {
   "cell_type": "code",
   "execution_count": 23,
   "metadata": {},
   "outputs": [
    {
     "data": {
      "image/png": "[encoded data removed]",
      "text/plain": [
       "<Figure size 864x576 with 1 Axes>"
      ]
     },
     "metadata": {
      "needs_background": "light"
     },
     "output_type": "display_data"
    }
   ],
   "source": [
    "df[df['year_of_release']>1999].plot(x='year_of_release', y='platform', kind='scatter', figsize=(12, 8));"
   ]
  },
  {
   "cell_type": "markdown",
   "metadata": {},
   "source": [
    "**Тут уже видно актуальные платформы**"
   ]
  },
  {
   "cell_type": "markdown",
   "metadata": {},
   "source": [
    "**Расчитаем среднее время жизни одной платформы:**"
   ]
  },
  {
   "cell_type": "code",
   "execution_count": 24,
   "metadata": {},
   "outputs": [
    {
     "data": {
      "text/plain": [
       "7.67741935483871"
      ]
     },
     "execution_count": 24,
     "metadata": {},
     "output_type": "execute_result"
    }
   ],
   "source": [
    "mean = df.loc[:,['year_of_release', 'platform']].drop_duplicates().pivot_table(index=['platform'], values='year_of_release', aggfunc='count')\n",
    "mean['year_of_release'].mean()"
   ]
  },
  {
   "cell_type": "markdown",
   "metadata": {},
   "source": [
    "**Средний срок жизни у платформы составляет около 7.5 лет**"
   ]
  },
  {
   "cell_type": "markdown",
   "metadata": {},
   "source": [
    "**Создадим датафрейм с актуальными платформами. Это PSV, WiiU, XOne, PSP, PC, 3DS, PS4, PS3, X360, Wii:**"
   ]
  },
  {
   "cell_type": "code",
   "execution_count": 25,
   "metadata": {},
   "outputs": [
    {
     "data": {
      "text/html": [
       "<div>\n",
       "<style scoped>\n",
       "    .dataframe tbody tr th:only-of-type {\n",
       "        vertical-align: middle;\n",
       "    }\n",
       "\n",
       "    .dataframe tbody tr th {\n",
       "        vertical-align: top;\n",
       "    }\n",
       "\n",
       "    .dataframe thead th {\n",
       "        text-align: right;\n",
       "    }\n",
       "</style>\n",
       "<table border=\"1\" class=\"dataframe\">\n",
       "  <thead>\n",
       "    <tr style=\"text-align: right;\">\n",
       "      <th></th>\n",
       "      <th>name</th>\n",
       "      <th>platform</th>\n",
       "      <th>year_of_release</th>\n",
       "      <th>genre</th>\n",
       "      <th>na_sales</th>\n",
       "      <th>eu_sales</th>\n",
       "      <th>jp_sales</th>\n",
       "      <th>other_sales</th>\n",
       "      <th>critic_score</th>\n",
       "      <th>user_score</th>\n",
       "      <th>rating</th>\n",
       "      <th>total_sales</th>\n",
       "    </tr>\n",
       "  </thead>\n",
       "  <tbody>\n",
       "    <tr>\n",
       "      <th>0</th>\n",
       "      <td>Wii Sports</td>\n",
       "      <td>Wii</td>\n",
       "      <td>2006</td>\n",
       "      <td>Sports</td>\n",
       "      <td>41.36</td>\n",
       "      <td>28.96</td>\n",
       "      <td>3.77</td>\n",
       "      <td>8.45</td>\n",
       "      <td>76.0</td>\n",
       "      <td>8.0</td>\n",
       "      <td>E</td>\n",
       "      <td>82.54</td>\n",
       "    </tr>\n",
       "    <tr>\n",
       "      <th>2</th>\n",
       "      <td>Mario Kart Wii</td>\n",
       "      <td>Wii</td>\n",
       "      <td>2008</td>\n",
       "      <td>Racing</td>\n",
       "      <td>15.68</td>\n",
       "      <td>12.76</td>\n",
       "      <td>3.79</td>\n",
       "      <td>3.29</td>\n",
       "      <td>82.0</td>\n",
       "      <td>8.3</td>\n",
       "      <td>E</td>\n",
       "      <td>35.52</td>\n",
       "    </tr>\n",
       "    <tr>\n",
       "      <th>3</th>\n",
       "      <td>Wii Sports Resort</td>\n",
       "      <td>Wii</td>\n",
       "      <td>2009</td>\n",
       "      <td>Sports</td>\n",
       "      <td>15.61</td>\n",
       "      <td>10.93</td>\n",
       "      <td>3.28</td>\n",
       "      <td>2.95</td>\n",
       "      <td>80.0</td>\n",
       "      <td>8.0</td>\n",
       "      <td>E</td>\n",
       "      <td>32.77</td>\n",
       "    </tr>\n",
       "    <tr>\n",
       "      <th>7</th>\n",
       "      <td>Wii Play</td>\n",
       "      <td>Wii</td>\n",
       "      <td>2006</td>\n",
       "      <td>Misc</td>\n",
       "      <td>13.96</td>\n",
       "      <td>9.18</td>\n",
       "      <td>2.93</td>\n",
       "      <td>2.84</td>\n",
       "      <td>58.0</td>\n",
       "      <td>6.6</td>\n",
       "      <td>E</td>\n",
       "      <td>28.91</td>\n",
       "    </tr>\n",
       "    <tr>\n",
       "      <th>8</th>\n",
       "      <td>New Super Mario Bros. Wii</td>\n",
       "      <td>Wii</td>\n",
       "      <td>2009</td>\n",
       "      <td>Platform</td>\n",
       "      <td>14.44</td>\n",
       "      <td>6.94</td>\n",
       "      <td>4.70</td>\n",
       "      <td>2.24</td>\n",
       "      <td>87.0</td>\n",
       "      <td>8.4</td>\n",
       "      <td>E</td>\n",
       "      <td>28.32</td>\n",
       "    </tr>\n",
       "  </tbody>\n",
       "</table>\n",
       "</div>"
      ],
      "text/plain": [
       "                        name platform  year_of_release     genre  na_sales  \\\n",
       "0                 Wii Sports      Wii             2006    Sports     41.36   \n",
       "2             Mario Kart Wii      Wii             2008    Racing     15.68   \n",
       "3          Wii Sports Resort      Wii             2009    Sports     15.61   \n",
       "7                   Wii Play      Wii             2006      Misc     13.96   \n",
       "8  New Super Mario Bros. Wii      Wii             2009  Platform     14.44   \n",
       "\n",
       "   eu_sales  jp_sales  other_sales  critic_score  user_score rating  \\\n",
       "0     28.96      3.77         8.45          76.0         8.0      E   \n",
       "2     12.76      3.79         3.29          82.0         8.3      E   \n",
       "3     10.93      3.28         2.95          80.0         8.0      E   \n",
       "7      9.18      2.93         2.84          58.0         6.6      E   \n",
       "8      6.94      4.70         2.24          87.0         8.4      E   \n",
       "\n",
       "   total_sales  \n",
       "0        82.54  \n",
       "2        35.52  \n",
       "3        32.77  \n",
       "7        28.91  \n",
       "8        28.32  "
      ]
     },
     "execution_count": 25,
     "metadata": {},
     "output_type": "execute_result"
    }
   ],
   "source": [
    "actual_platforms = ['PSV', 'WiiU', 'XOne','PSP', 'PC', '3DS', 'PS4', 'PS3', 'X360', 'Wii']\n",
    "actual_df = df[df['platform'].isin(actual_platforms)]\n",
    "actual_df.head()"
   ]
  },
  {
   "cell_type": "markdown",
   "metadata": {},
   "source": [
    "**Построим график продаж для каждой из платформ за последние 5 лет:**"
   ]
  },
  {
   "cell_type": "code",
   "execution_count": 26,
   "metadata": {},
   "outputs": [
    {
     "data": {
      "image/png": "[encoded data removed]",
      "text/plain": [
       "<Figure size 1080x576 with 1 Axes>"
      ]
     },
     "metadata": {
      "needs_background": "light"
     },
     "output_type": "display_data"
    }
   ],
   "source": [
    "last_5_years = actual_df[actual_df['year_of_release'] > 2011]\n",
    "plt.figure(figsize=(15, 8))\n",
    "sns.barplot(data=last_5_years, x='platform', y='total_sales', hue='year_of_release')\n",
    "plt.title('Продажи за последние 5 лет', fontsize=14)\n",
    "plt.xlabel('Платформа')\n",
    "plt.ylabel('Продажи, млн. копий');\n",
    "plt.show()"
   ]
  },
  {
   "cell_type": "markdown",
   "metadata": {},
   "source": [
    "**На этом графике мы видим общий объем продаж для каждой отдельной актуальной платформы на последние 5 лет. Виден общий тренд на падение продаж. Самыми прибыльными платформами можно считать PS4, XOne, X360.**"
   ]
  },
  {
   "cell_type": "markdown",
   "metadata": {},
   "source": [
    "**Построем график «ящик с усами» по глобальным продажам игр в разбивке по платформам.:**"
   ]
  },
  {
   "cell_type": "code",
   "execution_count": 27,
   "metadata": {},
   "outputs": [
    {
     "data": {
      "image/png": "[encoded data removed]",
      "text/plain": [
       "<Figure size 1080x576 with 1 Axes>"
      ]
     },
     "metadata": {
      "needs_background": "light"
     },
     "output_type": "display_data"
    }
   ],
   "source": [
    "plt.figure(figsize=(15, 8))\n",
    "sns.boxplot(data=last_5_years, x='platform', y='total_sales')\n",
    "plt.title('Продажи в разбивке по платформам', fontsize=14)\n",
    "plt.xlabel('Платформа')\n",
    "plt.ylabel('Продажи, млн. копий');\n",
    "plt.show()"
   ]
  },
  {
   "cell_type": "markdown",
   "metadata": {},
   "source": [
    "<span style=\"color:blue\"> Спасибо за пометку! Добавил.</span>"
   ]
  },
  {
   "cell_type": "markdown",
   "metadata": {},
   "source": [
    "<div class=\"alert alert-block alert-success\">\n",
    " \n",
    "# Комментарий ревьюера ver.2 \n",
    "    \n",
    "#### Успех\n",
    "    \n",
    "Хорошо. Можно было еще и старые убрать"
   ]
  },
  {
   "cell_type": "markdown",
   "metadata": {},
   "source": [
    "**На графике мы видим, что почти у всех платформ есть выбросы. Многих из них аномально большие (это может быть связано с какой-то невероятнот попярной игрой, выпущенной на этой платформе.**"
   ]
  },
  {
   "cell_type": "markdown",
   "metadata": {},
   "source": [
    "**Зададим ограничение по оси y чтобы рассмотреть графики более детально:**"
   ]
  },
  {
   "cell_type": "code",
   "execution_count": 28,
   "metadata": {},
   "outputs": [
    {
     "data": {
      "image/png": "[encoded data removed]",
      "text/plain": [
       "<Figure size 1080x576 with 1 Axes>"
      ]
     },
     "metadata": {
      "needs_background": "light"
     },
     "output_type": "display_data"
    }
   ],
   "source": [
    "plt.figure(figsize=(15, 8))\n",
    "plt.ylim(0,3)\n",
    "sns.boxplot(data=last_5_years, x='platform', y='total_sales')\n",
    "plt.title('Продажи в разбивке по платформам', fontsize=14)\n",
    "plt.xlabel('Платформа')\n",
    "plt.ylabel('Продажи, млн. копий');\n",
    "plt.show()"
   ]
  },
  {
   "cell_type": "markdown",
   "metadata": {},
   "source": [
    "**Тут нам видно, что медианы находятся на уровне около 0.2 млн. Верхняя граница размаханаходится на уровне 0.5-0.75 млн.**"
   ]
  },
  {
   "cell_type": "markdown",
   "metadata": {},
   "source": [
    "**Построим график для наиболее перспективных платформ на 2016 год:**"
   ]
  },
  {
   "cell_type": "code",
   "execution_count": 29,
   "metadata": {},
   "outputs": [
    {
     "data": {
      "image/png": "[encoded data removed]",
      "text/plain": [
       "<Figure size 1080x576 with 1 Axes>"
      ]
     },
     "metadata": {
      "needs_background": "light"
     },
     "output_type": "display_data"
    }
   ],
   "source": [
    "top_5_platforms = last_5_years.query('platform == \"PS4\" or platform == \"XOne\" or platform == \"PS3\" or platform == \"WiiU\" or platform == \"Wii\"')\n",
    "plt.figure(figsize=(15, 8))\n",
    "plt.ylim(0,3)\n",
    "sns.boxplot(data=top_5_platforms, x='platform', y='total_sales')\n",
    "plt.title('Продажи самых попуярных платформ', fontsize=14)\n",
    "plt.xlabel('Платформа')\n",
    "plt.ylabel('Продажи, млн. копий');\n",
    "plt.show()"
   ]
  },
  {
   "cell_type": "markdown",
   "metadata": {},
   "source": [
    "**Посмотрим, как влияют на продажи внутри одной популярной платформы отзывы пользователей и критиков. Построем диаграмму рассеяния и посчитаем корреляцию между отзывами и продажами.**"
   ]
  },
  {
   "cell_type": "markdown",
   "metadata": {},
   "source": [
    "**Возьмем популярную платформу PS4. Так как изначально пробелы в оценках отзывов мы заполнили нулями, мы условились, что оценки этой игры нет, поэтому нам нужно взять только те строки, в которых есть оценки:**"
   ]
  },
  {
   "cell_type": "code",
   "execution_count": 30,
   "metadata": {},
   "outputs": [],
   "source": [
    "ps4_sales = last_5_years.query('platform==\"PS4\" and critic_score>0 and user_score>0')"
   ]
  },
  {
   "cell_type": "markdown",
   "metadata": {},
   "source": [
    "**Посторим диаграмму рассеяния и посчитиаем корреляцию между отзывами критиков и продажами:**"
   ]
  },
  {
   "cell_type": "code",
   "execution_count": 31,
   "metadata": {},
   "outputs": [
    {
     "name": "stdout",
     "output_type": "stream",
     "text": [
      "Коэффицент корреляции: 0.40589480145836687\n"
     ]
    },
    {
     "data": {
      "image/png": "[encoded data removed]",
      "text/plain": [
       "<Figure size 432x288 with 1 Axes>"
      ]
     },
     "metadata": {
      "needs_background": "light"
     },
     "output_type": "display_data"
    }
   ],
   "source": [
    "ps4_sales.plot(x='critic_score', y='total_sales', kind='scatter')\n",
    "plt.title('Диаграмма рассеяния', fontsize=14)\n",
    "print('Коэффицент корреляции:', ps4_sales['critic_score'].corr(ps4_sales['total_sales']))"
   ]
  },
  {
   "cell_type": "markdown",
   "metadata": {},
   "source": [
    "<div class=\"alert alert-block alert-success\">\n",
    " \n",
    "### Комментарий ревьюера\n",
    "    \n",
    "#### Успех\n",
    "\n",
    "Использован хороший метод показа зависимостей на графиках. "
   ]
  },
  {
   "cell_type": "markdown",
   "metadata": {},
   "source": [
    "**Теперь сделаем тоже самое для отзывов пользователей:**"
   ]
  },
  {
   "cell_type": "code",
   "execution_count": 32,
   "metadata": {},
   "outputs": [
    {
     "name": "stdout",
     "output_type": "stream",
     "text": [
      "Коэффицент корреляции: -0.03362497596528878\n"
     ]
    },
    {
     "data": {
      "image/png": "[encoded data removed]",
      "text/plain": [
       "<Figure size 432x288 with 1 Axes>"
      ]
     },
     "metadata": {
      "needs_background": "light"
     },
     "output_type": "display_data"
    }
   ],
   "source": [
    "ps4_sales.plot(x='user_score', y='total_sales', kind='scatter')\n",
    "plt.title('Диаграмма рассеяния', fontsize=14)\n",
    "print('Коэффицент корреляции:', ps4_sales['user_score'].corr(ps4_sales['total_sales']))"
   ]
  },
  {
   "cell_type": "markdown",
   "metadata": {},
   "source": [
    "**Можно сделать вывод, что между продажами и отзывами критиков есть средняя положительная корреляция. Между продажами и отзывами пользователей она меньше и отрицательная.**"
   ]
  },
  {
   "cell_type": "markdown",
   "metadata": {},
   "source": [
    "<div class=\"alert alert-block alert-danger\">\n",
    " \n",
    "### Комментарий ревьюера\n",
    "    \n",
    "#### Ошибка\n",
    "\n",
    "А вот тут стоило рассмотреть график хотя бы еще для одной из платформ актуального периода. Так наши выводы выглядели более убедительными."
   ]
  },
  {
   "cell_type": "markdown",
   "metadata": {},
   "source": [
    "<div class=\"alert alert-block alert-success\">\n",
    " \n",
    "# Комментарий ревьюера ver.2 \n",
    "    \n",
    "#### Успех\n",
    "    \n",
    "Так намного лучше вышло"
   ]
  },
  {
   "cell_type": "markdown",
   "metadata": {},
   "source": [
    "<span style=\"color:blue\"> Спасибо за пометку! Добавил.</span>"
   ]
  },
  {
   "cell_type": "markdown",
   "metadata": {},
   "source": [
    "**Рассмотрим еще одну актуальную платформу XOne:**"
   ]
  },
  {
   "cell_type": "code",
   "execution_count": 33,
   "metadata": {},
   "outputs": [],
   "source": [
    "xone_sales = last_5_years.query('platform==\"XOne\" and critic_score>0 and user_score>0')"
   ]
  },
  {
   "cell_type": "markdown",
   "metadata": {},
   "source": [
    "**Диаграмма рассеяния и корреляция между отзывами критиков и продажами:**"
   ]
  },
  {
   "cell_type": "code",
   "execution_count": 34,
   "metadata": {},
   "outputs": [
    {
     "name": "stdout",
     "output_type": "stream",
     "text": [
      "Коэффицент корреляции: 0.41042203561296375\n"
     ]
    },
    {
     "data": {
      "image/png": "[encoded data removed]",
      "text/plain": [
       "<Figure size 432x288 with 1 Axes>"
      ]
     },
     "metadata": {
      "needs_background": "light"
     },
     "output_type": "display_data"
    }
   ],
   "source": [
    "xone_sales.plot(x='critic_score', y='total_sales', kind='scatter')\n",
    "plt.title('Диаграмма рассеяния', fontsize=14)\n",
    "print('Коэффицент корреляции:', xone_sales['critic_score'].corr(xone_sales['total_sales']))"
   ]
  },
  {
   "cell_type": "markdown",
   "metadata": {},
   "source": [
    "**Диаграмма рассеяния и корреляция между отзывами пользователей и продажами:**"
   ]
  },
  {
   "cell_type": "code",
   "execution_count": 35,
   "metadata": {},
   "outputs": [
    {
     "name": "stdout",
     "output_type": "stream",
     "text": [
      "Коэффицент корреляции: -0.09400318326920852\n"
     ]
    },
    {
     "data": {
      "image/png": "[encoded data removed]",
      "text/plain": [
       "<Figure size 432x288 with 1 Axes>"
      ]
     },
     "metadata": {
      "needs_background": "light"
     },
     "output_type": "display_data"
    }
   ],
   "source": [
    "xone_sales.plot(x='user_score', y='total_sales', kind='scatter')\n",
    "plt.title('Диаграмма рассеяния', fontsize=14)\n",
    "print('Коэффицент корреляции:', xone_sales['user_score'].corr(xone_sales['total_sales']))"
   ]
  },
  {
   "cell_type": "markdown",
   "metadata": {},
   "source": [
    "**Взяв вторую платформу, мы увидели идиентичную корреляцию между отзывами критиков и продажами. Корреляция же между оценками пользователей и продажами хоть и осталась отрицательной, но связь увеличилась в 3 раза.**"
   ]
  },
  {
   "cell_type": "markdown",
   "metadata": {},
   "source": [
    "**Посмотрим на общее распределение игр по жанрам:** "
   ]
  },
  {
   "cell_type": "code",
   "execution_count": 36,
   "metadata": {},
   "outputs": [
    {
     "data": {
      "image/png": "[encoded data removed]",
      "text/plain": [
       "<Figure size 864x360 with 1 Axes>"
      ]
     },
     "metadata": {
      "needs_background": "light"
     },
     "output_type": "display_data"
    }
   ],
   "source": [
    "games = last_5_years.drop_duplicates(subset='name')\n",
    "games['genre'].hist(figsize=(12,5), bins=50);\n",
    "plt.title('Расспределение игр по жанрам', fontsize=14)\n",
    "plt.xlabel('Жанр')\n",
    "plt.ylabel('Количество игр');"
   ]
  },
  {
   "cell_type": "markdown",
   "metadata": {},
   "source": [
    "**Как мы видим, самыми популярными являются жанры Action, Role-Playing и Adventure. Самым не популярным оказался жанр Puzzle.**"
   ]
  },
  {
   "cell_type": "markdown",
   "metadata": {},
   "source": [
    "**Посмотрим на самые прибыльные жанры:**"
   ]
  },
  {
   "cell_type": "code",
   "execution_count": 37,
   "metadata": {},
   "outputs": [
    {
     "data": {
      "image/png": "[encoded data removed]",
      "text/plain": [
       "<Figure size 864x432 with 1 Axes>"
      ]
     },
     "metadata": {
      "needs_background": "light"
     },
     "output_type": "display_data"
    }
   ],
   "source": [
    "genre_profit = last_5_years.groupby('genre')['total_sales'].median().reset_index()\n",
    "\n",
    "plt.figure(figsize=(12, 6))\n",
    "sns.barplot(data=genre_profit, x='genre', y='total_sales')\n",
    "plt.title('Прибыльность жанров')\n",
    "plt.xlabel('Жанр')\n",
    "plt.ylabel('Общая прибыль, млн.')\n",
    "plt.show()"
   ]
  },
  {
   "cell_type": "markdown",
   "metadata": {},
   "source": [
    "<div class=\"alert alert-block alert-danger\">\n",
    " \n",
    "### Комментарий ревьюера\n",
    "    \n",
    "#### Ошибка\n",
    "    \n",
    "Высокие продажи могут быть вызваны не успехом, а просто огромным количеством игр. Вполне могут быть жанры, где игр немного, но при этом продажи сопоставимы с продажами Экшена. Чтобы проверить это, стоит рассмотреть средние или медианные продажи."
   ]
  },
  {
   "cell_type": "markdown",
   "metadata": {},
   "source": [
    "<div class=\"alert alert-block alert-success\">\n",
    " \n",
    "# Комментарий ревьюера ver.2 \n",
    "    \n",
    "#### Успех\n",
    "    \n",
    "Видишь, теперь и вывод изменился "
   ]
  },
  {
   "cell_type": "markdown",
   "metadata": {},
   "source": [
    "<span style=\"color:blue\"> Спасибо за пометку! Исправил график и вывод.</span>"
   ]
  },
  {
   "cell_type": "markdown",
   "metadata": {},
   "source": [
    "**Самыми прибыльными оказались Shooter, Sports и Platform. Самым же низкопродаваемым оказался жанр Adventure.**"
   ]
  },
  {
   "cell_type": "markdown",
   "metadata": {},
   "source": [
    "### Шаг 4. Составим портрет пользователя каждого региона"
   ]
  },
  {
   "cell_type": "markdown",
   "metadata": {},
   "source": [
    "**Определим для пользователя каждого региона (NA, EU, JP):**\n",
    "\n",
    "**Самые популярные платформы (топ-5).**\n",
    "\n",
    "**Самые популярные жанры (топ-5).**\n",
    "\n",
    "**Влияет ли рейтинг ESRB на продажи в отдельном регионе?**\n"
   ]
  },
  {
   "cell_type": "markdown",
   "metadata": {},
   "source": [
    "**Возьмем последний год:**"
   ]
  },
  {
   "cell_type": "code",
   "execution_count": 38,
   "metadata": {},
   "outputs": [],
   "source": [
    "users = df.query('year_of_release == 2016')"
   ]
  },
  {
   "cell_type": "markdown",
   "metadata": {},
   "source": [
    "**Создадим сводную таблицу, которая содержит сумму продаж в каждом регионе для всех платформ:**"
   ]
  },
  {
   "cell_type": "code",
   "execution_count": 39,
   "metadata": {},
   "outputs": [],
   "source": [
    "stat_users = users.pivot_table(['na_sales','eu_sales','jp_sales','other_sales','total_sales'], ['platform'], aggfunc='sum')"
   ]
  },
  {
   "cell_type": "markdown",
   "metadata": {},
   "source": [
    "**Для каждого региона построим график:**"
   ]
  },
  {
   "cell_type": "code",
   "execution_count": 40,
   "metadata": {},
   "outputs": [
    {
     "data": {
      "image/png": "[encoded data removed]",
      "text/plain": [
       "<Figure size 864x360 with 1 Axes>"
      ]
     },
     "metadata": {
      "needs_background": "light"
     },
     "output_type": "display_data"
    }
   ],
   "source": [
    "stat_users['eu_sales'].sort_values(ascending=True).plot.barh(figsize=(12,5));\n",
    "plt.title('Продажи в Европе')\n",
    "plt.xlabel('Продажи, млн.')\n",
    "plt.ylabel('Платформа');"
   ]
  },
  {
   "cell_type": "code",
   "execution_count": 41,
   "metadata": {},
   "outputs": [
    {
     "data": {
      "image/png": "[encoded data removed]",
      "text/plain": [
       "<Figure size 864x360 with 1 Axes>"
      ]
     },
     "metadata": {
      "needs_background": "light"
     },
     "output_type": "display_data"
    }
   ],
   "source": [
    "stat_users['na_sales'].sort_values(ascending=True).plot.barh(figsize=(12,5));\n",
    "plt.title('Продажи в Америке')\n",
    "plt.xlabel('Продажи, млн.')\n",
    "plt.ylabel('Платформа');"
   ]
  },
  {
   "cell_type": "code",
   "execution_count": 42,
   "metadata": {},
   "outputs": [
    {
     "data": {
      "image/png": "[encoded data removed]",
      "text/plain": [
       "<Figure size 864x360 with 1 Axes>"
      ]
     },
     "metadata": {
      "needs_background": "light"
     },
     "output_type": "display_data"
    }
   ],
   "source": [
    "stat_users['jp_sales'].sort_values(ascending=True).plot.barh(figsize=(12,5));\n",
    "plt.title('Продажи в Японии')\n",
    "plt.xlabel('Продажи, млн.')\n",
    "plt.ylabel('Платформа');"
   ]
  },
  {
   "cell_type": "code",
   "execution_count": 43,
   "metadata": {},
   "outputs": [
    {
     "data": {
      "image/png": "[encoded data removed]",
      "text/plain": [
       "<Figure size 864x360 with 1 Axes>"
      ]
     },
     "metadata": {
      "needs_background": "light"
     },
     "output_type": "display_data"
    }
   ],
   "source": [
    "stat_users['total_sales'].sort_values(ascending=True).plot.barh(figsize=(12,5));\n",
    "plt.title('Общие продажи')\n",
    "plt.xlabel('Продажи, млн.')\n",
    "plt.ylabel('Платформа');"
   ]
  },
  {
   "cell_type": "markdown",
   "metadata": {},
   "source": [
    "<div class=\"alert alert-block alert-success\">\n",
    " \n",
    "### Комментарий ревьюера\n",
    "    \n",
    "#### Успех\n",
    "\n",
    "Первичное представление о регионах у нас получено. Мы сформировали промежуточные выводы"
   ]
  },
  {
   "cell_type": "markdown",
   "metadata": {},
   "source": [
    "**Вывод:**\n",
    "\n",
    "**Самые популярные платформы в Европе: PS4, XOne, PC, 3DS, WiiU**\n",
    "\n",
    "**Самые популярные платформы в Америке: PS4, XOne, 3DS, WiiU, PC**\n",
    "\n",
    "**Самые популярные платформы в Японии: 3DS, PS4, PSV, PS3, WiiU**\n",
    "\n",
    "**Самые популярные платформы в Мире: PS4, XOne, 3DS, PC, WiiU**"
   ]
  },
  {
   "cell_type": "markdown",
   "metadata": {},
   "source": [
    "**Создадим сводную таблицу, которая содержит сумму продаж в каждом регионе для всех жанров:**"
   ]
  },
  {
   "cell_type": "code",
   "execution_count": 44,
   "metadata": {},
   "outputs": [],
   "source": [
    "stat_users_genre = users.pivot_table(['na_sales','eu_sales','jp_sales','other_sales','total_sales'], ['genre'], aggfunc='sum')"
   ]
  },
  {
   "cell_type": "markdown",
   "metadata": {},
   "source": [
    "**Для каждого региона построим график:**"
   ]
  },
  {
   "cell_type": "code",
   "execution_count": 45,
   "metadata": {},
   "outputs": [
    {
     "data": {
      "image/png": "[encoded data removed]",
      "text/plain": [
       "<Figure size 864x360 with 1 Axes>"
      ]
     },
     "metadata": {
      "needs_background": "light"
     },
     "output_type": "display_data"
    }
   ],
   "source": [
    "stat_users_genre['eu_sales'].sort_values(ascending=True).plot.barh(figsize=(12,5));\n",
    "plt.title('Ппопулярные жанры в Европе')\n",
    "plt.xlabel('Продажи, млн.')\n",
    "plt.ylabel('Жанр');"
   ]
  },
  {
   "cell_type": "code",
   "execution_count": 46,
   "metadata": {},
   "outputs": [
    {
     "data": {
      "image/png": "[encoded data removed]",
      "text/plain": [
       "<Figure size 864x360 with 1 Axes>"
      ]
     },
     "metadata": {
      "needs_background": "light"
     },
     "output_type": "display_data"
    }
   ],
   "source": [
    "stat_users_genre['na_sales'].sort_values(ascending=True).plot.barh(figsize=(12,5));\n",
    "plt.title('Ппопулярные жанры в Америке')\n",
    "plt.xlabel('Продажи, млн.')\n",
    "plt.ylabel('Жанр');"
   ]
  },
  {
   "cell_type": "code",
   "execution_count": 47,
   "metadata": {},
   "outputs": [
    {
     "data": {
      "image/png": "[encoded data removed]",
      "text/plain": [
       "<Figure size 864x360 with 1 Axes>"
      ]
     },
     "metadata": {
      "needs_background": "light"
     },
     "output_type": "display_data"
    }
   ],
   "source": [
    "stat_users_genre['jp_sales'].sort_values(ascending=True).plot.barh(figsize=(12,5));\n",
    "plt.title('Ппопулярные жанры в Японии')\n",
    "plt.xlabel('Продажи, млн.')\n",
    "plt.ylabel('Жанр');"
   ]
  },
  {
   "cell_type": "code",
   "execution_count": 48,
   "metadata": {},
   "outputs": [
    {
     "data": {
      "image/png": "[encoded data removed]",
      "text/plain": [
       "<Figure size 864x360 with 1 Axes>"
      ]
     },
     "metadata": {
      "needs_background": "light"
     },
     "output_type": "display_data"
    }
   ],
   "source": [
    "stat_users_genre['total_sales'].sort_values(ascending=True).plot.barh(figsize=(12,5));\n",
    "plt.title('Ппопулярные жанры в мире')\n",
    "plt.xlabel('Продажи, млн.')\n",
    "plt.ylabel('Жанр');"
   ]
  },
  {
   "cell_type": "markdown",
   "metadata": {},
   "source": [
    "**Вывод:**\n",
    "\n",
    "**Самые популярные жанры в Европе: Shooter, Sports, Action, Role-Playing, Racing**\n",
    "\n",
    "**Самые популярные жанры в Америке: Shooter, Action, Sports, Role-Playing, Fighting**\n",
    "\n",
    "**Самые популярные жанры в Японии: Action, Role-Playing, Adventure, Shooter, Misc**\n",
    "\n",
    "**Самые популярные жанры в Мире: Shooter, Action, Sports, Role-Playing, Fighting**"
   ]
  },
  {
   "cell_type": "markdown",
   "metadata": {},
   "source": [
    "<div class=\"alert alert-block alert-success\">\n",
    " \n",
    "### Комментарий ревьюера\n",
    "    \n",
    "#### Успех\n",
    "\n",
    "А вот тут заметно, что Япония наиболее уникальна среди регионов"
   ]
  },
  {
   "cell_type": "markdown",
   "metadata": {},
   "source": [
    "**Посмотрим, влияет ли рейтинг ESRB на продажи в отдельных регионах:**"
   ]
  },
  {
   "cell_type": "code",
   "execution_count": 49,
   "metadata": {},
   "outputs": [
    {
     "data": {
      "image/png": "[encoded data removed]",
      "text/plain": [
       "<Figure size 864x360 with 1 Axes>"
      ]
     },
     "metadata": {
      "needs_background": "light"
     },
     "output_type": "display_data"
    }
   ],
   "source": [
    "plt.figure(figsize=(12, 5))\n",
    "sns.barplot(y='eu_sales', x='rating', data = users);\n",
    "plt.title('Рейтинги в Европе')\n",
    "plt.xlabel('Рейтинг')\n",
    "plt.ylabel('Общая прибыль, млн.')\n",
    "plt.show()"
   ]
  },
  {
   "cell_type": "code",
   "execution_count": 50,
   "metadata": {},
   "outputs": [
    {
     "data": {
      "image/png": "[encoded data removed]",
      "text/plain": [
       "<Figure size 864x360 with 1 Axes>"
      ]
     },
     "metadata": {
      "needs_background": "light"
     },
     "output_type": "display_data"
    }
   ],
   "source": [
    "plt.figure(figsize=(12, 5))\n",
    "sns.barplot(y='na_sales', x='rating', data = users);\n",
    "plt.title('Рейтинги в Америке')\n",
    "plt.xlabel('Рейтинг')\n",
    "plt.ylabel('Общая прибыль, млн.')\n",
    "plt.show()"
   ]
  },
  {
   "cell_type": "code",
   "execution_count": 51,
   "metadata": {
    "scrolled": true
   },
   "outputs": [
    {
     "data": {
      "image/png": "[encoded data removed]",
      "text/plain": [
       "<Figure size 864x360 with 1 Axes>"
      ]
     },
     "metadata": {
      "needs_background": "light"
     },
     "output_type": "display_data"
    }
   ],
   "source": [
    "plt.figure(figsize=(12, 5))\n",
    "sns.barplot(y='jp_sales', x='rating', data = users);\n",
    "plt.title('Рейтинги в Японии')\n",
    "plt.xlabel('Рейтинг')\n",
    "plt.ylabel('Общая прибыль, млн.')\n",
    "plt.show()"
   ]
  },
  {
   "cell_type": "code",
   "execution_count": 52,
   "metadata": {},
   "outputs": [
    {
     "data": {
      "image/png": "[encoded data removed]",
      "text/plain": [
       "<Figure size 864x360 with 1 Axes>"
      ]
     },
     "metadata": {
      "needs_background": "light"
     },
     "output_type": "display_data"
    }
   ],
   "source": [
    "plt.figure(figsize=(12, 5))\n",
    "sns.barplot(y='total_sales', x='rating', data = users);\n",
    "plt.title('Рейтинги в мире')\n",
    "plt.xlabel('Рейтинг')\n",
    "plt.ylabel('Общая прибыль, млн.')\n",
    "plt.show()"
   ]
  },
  {
   "cell_type": "markdown",
   "metadata": {},
   "source": [
    "**Смотря на графики можно сделать вывод, что рейтинг ESRB влияет везде, кроме Японии, т.к. в Японии суммарные продажи у игр без рейтинга заметно больше.**"
   ]
  },
  {
   "cell_type": "markdown",
   "metadata": {},
   "source": [
    "<div class=\"alert alert-block alert-success\">\n",
    " \n",
    "### Комментарий ревьюера\n",
    "    \n",
    "#### Успех\n",
    "\n",
    "Рассмотрев каждый из регионов, мы пришли к выводу, что каждый из них имеет свою специфику. Это точно стоит учитывать при прогнозе продаж "
   ]
  },
  {
   "cell_type": "markdown",
   "metadata": {},
   "source": [
    "### Шаг 5. Проверим гипотезы"
   ]
  },
  {
   "cell_type": "markdown",
   "metadata": {},
   "source": [
    "**Даны следующие гипотезы:**\n",
    "\n",
    "**Средние пользовательские рейтинги платформ Xbox One и PC одинаковые;**\n",
    "\n",
    "**Средние пользовательские рейтинги жанров Action и Sports разные.**"
   ]
  },
  {
   "cell_type": "markdown",
   "metadata": {},
   "source": [
    "**Сформулируем нулевую и альтернативную гипотезы для первого варианта:**\n",
    "\n",
    "**Нулевая: Средние пользовательские рейтинги платформ Xbox One и PC равны;**\n",
    "\n",
    "**Альтернативная: Средние пользовательские рейтинги платформ Xbox One и PC не равны.**"
   ]
  },
  {
   "cell_type": "markdown",
   "metadata": {},
   "source": [
    "**Создадим две таблицы с пользовательскими оценками пользователе Xbox One и PC:**"
   ]
  },
  {
   "cell_type": "code",
   "execution_count": 53,
   "metadata": {},
   "outputs": [],
   "source": [
    "xone_user_score = df.query('platform == \"XOne\"')['user_score']\n",
    "pc_user_score = df.query('platform == \"PC\"')['user_score']"
   ]
  },
  {
   "cell_type": "markdown",
   "metadata": {},
   "source": [
    "**Зададим значние alpha 0.05 и проведем тест:**"
   ]
  },
  {
   "cell_type": "code",
   "execution_count": 54,
   "metadata": {},
   "outputs": [
    {
     "name": "stdout",
     "output_type": "stream",
     "text": [
      "p-значение: 0.0007068097266608117\n",
      "Средние пользовательские рейтинги платформ Xbox One и PC не равны\n"
     ]
    }
   ],
   "source": [
    "alpha = 0.05\n",
    "results = ttest_ind(xone_user_score, pc_user_score)\n",
    "\n",
    "print('p-значение:', results.pvalue)\n",
    "\n",
    "if results.pvalue < alpha:\n",
    "    print('Средние пользовательские рейтинги платформ Xbox One и PC не равны')\n",
    "else:\n",
    "    print('Средние пользовательские рейтинги платформ Xbox One и PC равны')"
   ]
  },
  {
   "cell_type": "markdown",
   "metadata": {},
   "source": [
    "**По такому же принципу сформулируем гипотезы для второго варианта:**\n",
    "\n",
    "**Нулевая: Средние пользовательские рейтинги жанров Action и Sports равны;**\n",
    "\n",
    "**Альтернативная: Средние пользовательские рейтинги жанров Action и Sports не равны.**"
   ]
  },
  {
   "cell_type": "markdown",
   "metadata": {},
   "source": [
    "<div class=\"alert alert-block alert-success\">\n",
    " \n",
    "### Комментарий ревьюера\n",
    "    \n",
    "#### Успех\n",
    "\n",
    "Гипотезы сформулированы и верно определен метод проверки. С выводами согласен. "
   ]
  },
  {
   "cell_type": "markdown",
   "metadata": {},
   "source": [
    "**Создадим две таблицы с оценками пользователей жанров Action и Sports:**"
   ]
  },
  {
   "cell_type": "code",
   "execution_count": 55,
   "metadata": {},
   "outputs": [],
   "source": [
    "action_score = df.query('genre == \"Action\"')['user_score']\n",
    "sports_score = df.query('genre == \"Sports\"')['user_score']"
   ]
  },
  {
   "cell_type": "markdown",
   "metadata": {},
   "source": [
    "**Зададим значние alpha 0.05 и проведем тест:**"
   ]
  },
  {
   "cell_type": "code",
   "execution_count": 56,
   "metadata": {},
   "outputs": [
    {
     "name": "stdout",
     "output_type": "stream",
     "text": [
      "p-значение: 7.492568776804778e-09\n",
      "Средние пользовательские рейтинги Action и Sports не равны\n"
     ]
    }
   ],
   "source": [
    "alpha = 0.05\n",
    "results = ttest_ind(action_score, sports_score)\n",
    "\n",
    "print('p-значение:', results.pvalue)\n",
    "\n",
    "if results.pvalue < alpha:\n",
    "    print('Средние пользовательские рейтинги Action и Sports не равны')\n",
    "else:\n",
    "    print('Средние пользовательские рейтинги Action и Sports равны')"
   ]
  },
  {
   "cell_type": "markdown",
   "metadata": {},
   "source": [
    "<div class=\"alert alert-block alert-success\">\n",
    " \n",
    "### Комментарий ревьюера\n",
    "    \n",
    "#### Успех\n",
    "\n",
    "Аналогично"
   ]
  },
  {
   "cell_type": "markdown",
   "metadata": {},
   "source": [
    "### Шаг 6. Общий вывод"
   ]
  },
  {
   "cell_type": "markdown",
   "metadata": {},
   "source": [
    "**Вывод: в ходе этого проекта мы еще раз повторили и закрепили все знания, полученные в спринтах перого модуля обучения. В самом начале мы обработали пропуски и дубликаты в данных. Далее приступили к работе с ними: нашли актуальные платформы, изучили продажи по ним, нашли самые популярные платформы, проверили зависимости продаж от отзывов критиков и пользователей, также нашли самые прибыльные и самые не прибыльные жанры. Далее мы составили портрет каждого пользователя: нашли самые платформы, жанры, убедились что ESRB рейтинг влияет на продажи. В финальной части проекта мы проверили две гипотезы при помощи t-теста.**"
   ]
  },
  {
   "cell_type": "markdown",
   "metadata": {},
   "source": [
    "<div class=\"alert alert-block alert-success\">\n",
    " \n",
    "### Комментарий ревьюера\n",
    "    \n",
    "#### Успех\n",
    "\n",
    "Итоговый вывод, хоть получился и лаконичным, но отличным дополнением к проекту. С такими полезными инсайтами у нас получится составить прогноз продаж на 2017 год. Я уверен, данных нам для этого хватит. "
   ]
  },
  {
   "cell_type": "markdown",
   "metadata": {},
   "source": [
    "<div class=\"alert alert-block alert-info\">\n",
    "\n",
    "## Итоговый комментарии от ревьюера:\n",
    "    \n",
    "#### Успех\n",
    "\n",
    "Спасибо большое тебе за такую качественную работу. Мне было приятно проверять проект и делиться обратной связью. Особенно впечатлила Предобработка данных. Все достаточно структурировано и последовательно. Ты применяешь верные навыки для работы с кодом. Еще хочу отметить понятные и информативные графики. Однако, в проекте есть несколько замечаний, которые надо исправить:\n",
    "\n",
    "* Промежуточные выводы добавить.\n",
    "* Ящик с усами доработать.\n",
    "* Построить график зависимости хотя бы еще для одной из платформ.\n",
    "* Найти и определить самый успешный жанр по медиане или среднему.\n",
    "       \n",
    "Еще я оставил рекомендации. Очень надеюсь, что ты учтешь их в этом и последующих проектах.\n",
    "       \n",
    "Жду проект после доработки. Уверен, ты справишься.\n",
    "</div>"
   ]
  },
  {
   "cell_type": "markdown",
   "metadata": {},
   "source": [
    "<div class=\"alert alert-block alert-success\">\n",
    " \n",
    "# Итоговый Комментарий ревьюера ver.2 \n",
    "    \n",
    "#### Успех\n",
    "    \n",
    "Спасибо тебе за доработку проекта. Вот теперья его готов принять. От себя я хочу пожелать успехов в дальнешей учебе. Ты точно справишься и дальше, я уверен в этом"
   ]
  },
  {
   "cell_type": "code",
   "execution_count": null,
   "metadata": {},
   "outputs": [],
   "source": []
  }
 ],
 "metadata": {
  "ExecuteTimeLog": [
   {
    "duration": 1204,
    "start_time": "2024-09-17T10:25:37.947Z"
   },
   {
    "duration": 236,
    "start_time": "2024-09-17T10:26:45.668Z"
   },
   {
    "duration": 81,
    "start_time": "2024-09-17T10:26:57.031Z"
   },
   {
    "duration": 14,
    "start_time": "2024-09-17T10:37:40.845Z"
   },
   {
    "duration": 3,
    "start_time": "2024-09-17T10:37:46.391Z"
   },
   {
    "duration": 515,
    "start_time": "2024-09-17T10:39:41.337Z"
   },
   {
    "duration": 16,
    "start_time": "2024-09-17T10:39:50.427Z"
   },
   {
    "duration": 21,
    "start_time": "2024-09-17T10:39:58.521Z"
   },
   {
    "duration": 14,
    "start_time": "2024-09-17T10:42:13.834Z"
   },
   {
    "duration": 22,
    "start_time": "2024-09-17T10:47:43.659Z"
   },
   {
    "duration": 18,
    "start_time": "2024-09-17T10:55:51.820Z"
   },
   {
    "duration": 18,
    "start_time": "2024-09-17T10:55:58.104Z"
   },
   {
    "duration": 20,
    "start_time": "2024-09-17T10:56:06.543Z"
   },
   {
    "duration": 3,
    "start_time": "2024-09-17T10:56:15.797Z"
   },
   {
    "duration": 94,
    "start_time": "2024-09-17T10:56:15.801Z"
   },
   {
    "duration": 2,
    "start_time": "2024-09-17T10:56:15.897Z"
   },
   {
    "duration": 22,
    "start_time": "2024-09-17T10:56:15.901Z"
   },
   {
    "duration": 12,
    "start_time": "2024-09-17T10:56:15.925Z"
   },
   {
    "duration": 29,
    "start_time": "2024-09-17T10:56:15.938Z"
   },
   {
    "duration": 5,
    "start_time": "2024-09-17T10:56:37.642Z"
   },
   {
    "duration": 5,
    "start_time": "2024-09-17T10:57:01.570Z"
   },
   {
    "duration": 8,
    "start_time": "2024-09-17T10:57:22.615Z"
   },
   {
    "duration": 17,
    "start_time": "2024-09-17T10:58:18.447Z"
   },
   {
    "duration": 22,
    "start_time": "2024-09-17T10:58:25.815Z"
   },
   {
    "duration": 221,
    "start_time": "2024-09-17T11:03:33.098Z"
   },
   {
    "duration": 17,
    "start_time": "2024-09-17T11:03:45.171Z"
   },
   {
    "duration": 20,
    "start_time": "2024-09-17T11:03:48.294Z"
   },
   {
    "duration": 9,
    "start_time": "2024-09-17T11:21:02.496Z"
   },
   {
    "duration": 7,
    "start_time": "2024-09-17T11:21:34.568Z"
   },
   {
    "duration": 8,
    "start_time": "2024-09-17T11:22:15.653Z"
   },
   {
    "duration": 8,
    "start_time": "2024-09-17T11:23:18.504Z"
   },
   {
    "duration": 8,
    "start_time": "2024-09-17T11:24:42.085Z"
   },
   {
    "duration": 7,
    "start_time": "2024-09-17T11:24:47.321Z"
   },
   {
    "duration": 3,
    "start_time": "2024-09-17T11:24:52.914Z"
   },
   {
    "duration": 99,
    "start_time": "2024-09-17T11:24:52.919Z"
   },
   {
    "duration": 3,
    "start_time": "2024-09-17T11:24:53.019Z"
   },
   {
    "duration": 29,
    "start_time": "2024-09-17T11:24:53.024Z"
   },
   {
    "duration": 16,
    "start_time": "2024-09-17T11:24:53.055Z"
   },
   {
    "duration": 14,
    "start_time": "2024-09-17T11:25:02.360Z"
   },
   {
    "duration": 21,
    "start_time": "2024-09-17T11:25:55.653Z"
   },
   {
    "duration": 14,
    "start_time": "2024-09-17T11:26:29.966Z"
   },
   {
    "duration": 14,
    "start_time": "2024-09-17T11:26:39.225Z"
   },
   {
    "duration": 5,
    "start_time": "2024-09-17T11:27:35.421Z"
   },
   {
    "duration": 13,
    "start_time": "2024-09-17T11:28:23.353Z"
   },
   {
    "duration": 11,
    "start_time": "2024-09-17T12:06:25.176Z"
   },
   {
    "duration": 15,
    "start_time": "2024-09-17T12:06:32.588Z"
   },
   {
    "duration": 10,
    "start_time": "2024-09-17T12:07:01.994Z"
   },
   {
    "duration": 8,
    "start_time": "2024-09-17T12:07:08.298Z"
   },
   {
    "duration": 3,
    "start_time": "2024-09-17T12:07:14.106Z"
   },
   {
    "duration": 87,
    "start_time": "2024-09-17T12:07:14.111Z"
   },
   {
    "duration": 2,
    "start_time": "2024-09-17T12:07:14.200Z"
   },
   {
    "duration": 31,
    "start_time": "2024-09-17T12:07:14.204Z"
   },
   {
    "duration": 7,
    "start_time": "2024-09-17T12:07:14.237Z"
   },
   {
    "duration": 21,
    "start_time": "2024-09-17T12:07:14.246Z"
   },
   {
    "duration": 14,
    "start_time": "2024-09-17T12:07:38.526Z"
   },
   {
    "duration": 8,
    "start_time": "2024-09-17T12:08:25.143Z"
   },
   {
    "duration": 12,
    "start_time": "2024-09-17T12:14:28.870Z"
   },
   {
    "duration": 10,
    "start_time": "2024-09-17T12:14:32.909Z"
   },
   {
    "duration": 11,
    "start_time": "2024-09-17T12:14:36.851Z"
   },
   {
    "duration": 9,
    "start_time": "2024-09-17T12:14:43.633Z"
   },
   {
    "duration": 9,
    "start_time": "2024-09-17T12:14:49.433Z"
   },
   {
    "duration": 10,
    "start_time": "2024-09-17T12:14:53.052Z"
   },
   {
    "duration": 11,
    "start_time": "2024-09-17T12:15:15.892Z"
   },
   {
    "duration": 10,
    "start_time": "2024-09-17T12:15:20.327Z"
   },
   {
    "duration": 9,
    "start_time": "2024-09-17T12:15:23.353Z"
   },
   {
    "duration": 10,
    "start_time": "2024-09-17T12:15:39.428Z"
   },
   {
    "duration": 3,
    "start_time": "2024-09-17T12:15:42.882Z"
   },
   {
    "duration": 95,
    "start_time": "2024-09-17T12:15:42.887Z"
   },
   {
    "duration": 3,
    "start_time": "2024-09-17T12:15:42.984Z"
   },
   {
    "duration": 29,
    "start_time": "2024-09-17T12:15:42.988Z"
   },
   {
    "duration": 26,
    "start_time": "2024-09-17T12:15:43.019Z"
   },
   {
    "duration": 8,
    "start_time": "2024-09-17T12:15:43.047Z"
   },
   {
    "duration": 9,
    "start_time": "2024-09-17T12:15:43.056Z"
   },
   {
    "duration": 8,
    "start_time": "2024-09-17T12:16:21.461Z"
   },
   {
    "duration": 5,
    "start_time": "2024-09-17T12:17:28.934Z"
   },
   {
    "duration": 9,
    "start_time": "2024-09-17T12:18:03.804Z"
   },
   {
    "duration": 30,
    "start_time": "2024-09-17T12:18:08.821Z"
   },
   {
    "duration": 9,
    "start_time": "2024-09-17T12:18:17.316Z"
   },
   {
    "duration": 9,
    "start_time": "2024-09-17T12:18:42.587Z"
   },
   {
    "duration": 1079,
    "start_time": "2024-09-17T12:20:09.673Z"
   },
   {
    "duration": 88,
    "start_time": "2024-09-17T12:20:10.754Z"
   },
   {
    "duration": 3,
    "start_time": "2024-09-17T12:20:10.843Z"
   },
   {
    "duration": 27,
    "start_time": "2024-09-17T12:20:10.848Z"
   },
   {
    "duration": 22,
    "start_time": "2024-09-17T12:20:10.877Z"
   },
   {
    "duration": 28,
    "start_time": "2024-09-17T12:20:10.901Z"
   },
   {
    "duration": 14,
    "start_time": "2024-09-17T12:20:10.930Z"
   },
   {
    "duration": 18,
    "start_time": "2024-09-17T12:20:10.945Z"
   },
   {
    "duration": 8,
    "start_time": "2024-09-17T12:20:18.463Z"
   },
   {
    "duration": 9,
    "start_time": "2024-09-17T12:24:07.484Z"
   },
   {
    "duration": 5,
    "start_time": "2024-09-17T12:24:26.563Z"
   },
   {
    "duration": 9,
    "start_time": "2024-09-17T12:24:35.693Z"
   },
   {
    "duration": 93,
    "start_time": "2024-09-17T12:24:41.225Z"
   },
   {
    "duration": 20,
    "start_time": "2024-09-17T12:25:24.532Z"
   },
   {
    "duration": 8,
    "start_time": "2024-09-17T12:25:35.088Z"
   },
   {
    "duration": 15,
    "start_time": "2024-09-17T12:31:11.903Z"
   },
   {
    "duration": 12,
    "start_time": "2024-09-17T12:32:43.440Z"
   },
   {
    "duration": 9,
    "start_time": "2024-09-17T12:32:51.575Z"
   },
   {
    "duration": 14,
    "start_time": "2024-09-17T12:33:00.293Z"
   },
   {
    "duration": 301,
    "start_time": "2024-09-17T12:37:03.676Z"
   },
   {
    "duration": 3,
    "start_time": "2024-09-17T12:37:12.463Z"
   },
   {
    "duration": 85,
    "start_time": "2024-09-17T12:37:12.467Z"
   },
   {
    "duration": 3,
    "start_time": "2024-09-17T12:37:12.554Z"
   },
   {
    "duration": 20,
    "start_time": "2024-09-17T12:37:12.558Z"
   },
   {
    "duration": 20,
    "start_time": "2024-09-17T12:37:12.579Z"
   },
   {
    "duration": 8,
    "start_time": "2024-09-17T12:37:12.601Z"
   },
   {
    "duration": 37,
    "start_time": "2024-09-17T12:37:12.610Z"
   },
   {
    "duration": 12,
    "start_time": "2024-09-17T12:37:12.649Z"
   },
   {
    "duration": 14,
    "start_time": "2024-09-17T12:37:53.289Z"
   },
   {
    "duration": 3,
    "start_time": "2024-09-17T12:37:57.696Z"
   },
   {
    "duration": 87,
    "start_time": "2024-09-17T12:37:57.701Z"
   },
   {
    "duration": 3,
    "start_time": "2024-09-17T12:37:57.790Z"
   },
   {
    "duration": 38,
    "start_time": "2024-09-17T12:37:57.794Z"
   },
   {
    "duration": 19,
    "start_time": "2024-09-17T12:37:57.835Z"
   },
   {
    "duration": 10,
    "start_time": "2024-09-17T12:37:57.856Z"
   },
   {
    "duration": 20,
    "start_time": "2024-09-17T12:37:57.868Z"
   },
   {
    "duration": 12,
    "start_time": "2024-09-17T12:37:57.890Z"
   },
   {
    "duration": 6,
    "start_time": "2024-09-17T12:39:39.462Z"
   },
   {
    "duration": 3,
    "start_time": "2024-09-17T12:39:49.044Z"
   },
   {
    "duration": 9,
    "start_time": "2024-09-17T12:39:56.588Z"
   },
   {
    "duration": 4,
    "start_time": "2024-09-17T12:43:52.548Z"
   },
   {
    "duration": 10,
    "start_time": "2024-09-17T12:44:00.781Z"
   },
   {
    "duration": 14,
    "start_time": "2024-09-17T12:44:43.018Z"
   },
   {
    "duration": 6,
    "start_time": "2024-09-17T12:48:13.097Z"
   },
   {
    "duration": 20,
    "start_time": "2024-09-17T12:48:22.041Z"
   },
   {
    "duration": 4,
    "start_time": "2024-09-17T12:48:32.905Z"
   },
   {
    "duration": 23,
    "start_time": "2024-09-17T12:48:38.054Z"
   },
   {
    "duration": 3,
    "start_time": "2024-09-17T12:48:44.386Z"
   },
   {
    "duration": 85,
    "start_time": "2024-09-17T12:48:44.391Z"
   },
   {
    "duration": 3,
    "start_time": "2024-09-17T12:48:44.478Z"
   },
   {
    "duration": 28,
    "start_time": "2024-09-17T12:48:44.483Z"
   },
   {
    "duration": 19,
    "start_time": "2024-09-17T12:48:44.513Z"
   },
   {
    "duration": 10,
    "start_time": "2024-09-17T12:48:44.534Z"
   },
   {
    "duration": 25,
    "start_time": "2024-09-17T12:48:44.546Z"
   },
   {
    "duration": 21,
    "start_time": "2024-09-17T12:48:44.572Z"
   },
   {
    "duration": 4,
    "start_time": "2024-09-17T12:48:44.594Z"
   },
   {
    "duration": 40,
    "start_time": "2024-09-17T12:48:44.599Z"
   },
   {
    "duration": 23,
    "start_time": "2024-09-17T12:48:44.642Z"
   },
   {
    "duration": 4,
    "start_time": "2024-09-17T12:48:44.667Z"
   },
   {
    "duration": 20,
    "start_time": "2024-09-17T12:48:44.673Z"
   },
   {
    "duration": 18,
    "start_time": "2024-09-17T12:49:00.940Z"
   },
   {
    "duration": 165,
    "start_time": "2024-09-17T12:50:04.860Z"
   },
   {
    "duration": 126,
    "start_time": "2024-09-17T12:50:51.146Z"
   },
   {
    "duration": 296,
    "start_time": "2024-09-17T12:51:04.750Z"
   },
   {
    "duration": 817,
    "start_time": "2024-09-17T12:51:48.251Z"
   },
   {
    "duration": 181,
    "start_time": "2024-09-17T12:51:55.713Z"
   },
   {
    "duration": 177,
    "start_time": "2024-09-17T12:53:15.392Z"
   },
   {
    "duration": 251,
    "start_time": "2024-09-17T12:53:28.674Z"
   },
   {
    "duration": 172,
    "start_time": "2024-09-17T12:53:43.532Z"
   },
   {
    "duration": 8,
    "start_time": "2024-09-17T12:54:27.395Z"
   },
   {
    "duration": 167,
    "start_time": "2024-09-17T12:54:34.842Z"
   },
   {
    "duration": 311,
    "start_time": "2024-09-17T12:54:40.864Z"
   },
   {
    "duration": 296,
    "start_time": "2024-09-17T12:56:14.587Z"
   },
   {
    "duration": 308,
    "start_time": "2024-09-17T12:57:38.185Z"
   },
   {
    "duration": 8,
    "start_time": "2024-09-17T12:59:10.971Z"
   },
   {
    "duration": 53,
    "start_time": "2024-09-17T19:34:12.773Z"
   },
   {
    "duration": 1364,
    "start_time": "2024-09-17T19:34:16.313Z"
   },
   {
    "duration": 213,
    "start_time": "2024-09-17T19:34:17.679Z"
   },
   {
    "duration": 4,
    "start_time": "2024-09-17T19:34:17.894Z"
   },
   {
    "duration": 16,
    "start_time": "2024-09-17T19:34:17.901Z"
   },
   {
    "duration": 36,
    "start_time": "2024-09-17T19:34:17.920Z"
   },
   {
    "duration": 54,
    "start_time": "2024-09-17T19:34:17.957Z"
   },
   {
    "duration": 77,
    "start_time": "2024-09-17T19:34:18.013Z"
   },
   {
    "duration": 25,
    "start_time": "2024-09-17T19:34:18.092Z"
   },
   {
    "duration": 15,
    "start_time": "2024-09-17T19:34:18.119Z"
   },
   {
    "duration": 32,
    "start_time": "2024-09-17T19:34:18.135Z"
   },
   {
    "duration": 17,
    "start_time": "2024-09-17T19:34:18.169Z"
   },
   {
    "duration": 30,
    "start_time": "2024-09-17T19:34:18.188Z"
   },
   {
    "duration": 380,
    "start_time": "2024-09-17T19:34:18.220Z"
   },
   {
    "duration": 9,
    "start_time": "2024-09-17T19:34:18.603Z"
   },
   {
    "duration": 378,
    "start_time": "2024-09-17T19:34:18.614Z"
   },
   {
    "duration": 8,
    "start_time": "2024-09-17T19:45:57.400Z"
   },
   {
    "duration": 290,
    "start_time": "2024-09-17T19:56:50.930Z"
   },
   {
    "duration": 285,
    "start_time": "2024-09-17T19:57:33.847Z"
   },
   {
    "duration": 305,
    "start_time": "2024-09-17T19:57:46.063Z"
   },
   {
    "duration": 386,
    "start_time": "2024-09-17T19:58:20.598Z"
   },
   {
    "duration": 252,
    "start_time": "2024-09-17T20:16:50.191Z"
   },
   {
    "duration": 14,
    "start_time": "2024-09-17T20:20:16.713Z"
   },
   {
    "duration": 27,
    "start_time": "2024-09-17T20:23:21.364Z"
   },
   {
    "duration": 14,
    "start_time": "2024-09-17T20:23:38.977Z"
   },
   {
    "duration": 15,
    "start_time": "2024-09-17T20:24:24.668Z"
   },
   {
    "duration": 16,
    "start_time": "2024-09-17T20:24:40.336Z"
   },
   {
    "duration": 15,
    "start_time": "2024-09-17T20:25:02.817Z"
   },
   {
    "duration": 13,
    "start_time": "2024-09-17T20:25:10.867Z"
   },
   {
    "duration": 53,
    "start_time": "2024-09-17T20:29:06.737Z"
   },
   {
    "duration": 16,
    "start_time": "2024-09-17T20:29:18.620Z"
   },
   {
    "duration": 11,
    "start_time": "2024-09-17T20:29:41.619Z"
   },
   {
    "duration": 71,
    "start_time": "2024-09-17T20:30:08.754Z"
   },
   {
    "duration": 161,
    "start_time": "2024-09-17T20:30:30.336Z"
   },
   {
    "duration": 15,
    "start_time": "2024-09-17T20:30:37.769Z"
   },
   {
    "duration": 13,
    "start_time": "2024-09-17T20:31:24.381Z"
   },
   {
    "duration": 12,
    "start_time": "2024-09-17T20:42:04.542Z"
   },
   {
    "duration": 10,
    "start_time": "2024-09-17T20:42:19.389Z"
   },
   {
    "duration": 7,
    "start_time": "2024-09-17T20:45:35.737Z"
   },
   {
    "duration": 19,
    "start_time": "2024-09-17T20:45:46.850Z"
   },
   {
    "duration": 1284,
    "start_time": "2024-09-18T12:14:46.740Z"
   },
   {
    "duration": 251,
    "start_time": "2024-09-18T12:14:48.026Z"
   },
   {
    "duration": 3,
    "start_time": "2024-09-18T12:14:48.278Z"
   },
   {
    "duration": 16,
    "start_time": "2024-09-18T12:14:48.282Z"
   },
   {
    "duration": 18,
    "start_time": "2024-09-18T12:14:48.300Z"
   },
   {
    "duration": 36,
    "start_time": "2024-09-18T12:14:48.320Z"
   },
   {
    "duration": 43,
    "start_time": "2024-09-18T12:14:48.358Z"
   },
   {
    "duration": 16,
    "start_time": "2024-09-18T12:14:48.403Z"
   },
   {
    "duration": 4,
    "start_time": "2024-09-18T12:14:48.421Z"
   },
   {
    "duration": 11,
    "start_time": "2024-09-18T12:14:48.427Z"
   },
   {
    "duration": 19,
    "start_time": "2024-09-18T12:14:48.440Z"
   },
   {
    "duration": 20,
    "start_time": "2024-09-18T12:14:48.461Z"
   },
   {
    "duration": 364,
    "start_time": "2024-09-18T12:14:48.483Z"
   },
   {
    "duration": 9,
    "start_time": "2024-09-18T12:14:48.851Z"
   },
   {
    "duration": 358,
    "start_time": "2024-09-18T12:14:48.861Z"
   },
   {
    "duration": 291,
    "start_time": "2024-09-18T12:14:49.221Z"
   },
   {
    "duration": 252,
    "start_time": "2024-09-18T12:14:49.514Z"
   },
   {
    "duration": 13,
    "start_time": "2024-09-18T12:14:49.768Z"
   },
   {
    "duration": 16,
    "start_time": "2024-09-18T12:14:49.783Z"
   },
   {
    "duration": 217,
    "start_time": "2024-09-18T12:22:12.640Z"
   },
   {
    "duration": 10,
    "start_time": "2024-09-18T12:22:34.186Z"
   },
   {
    "duration": 115,
    "start_time": "2024-09-18T12:22:41.514Z"
   },
   {
    "duration": 151,
    "start_time": "2024-09-18T12:24:21.107Z"
   },
   {
    "duration": 85,
    "start_time": "2024-09-18T12:24:21.260Z"
   },
   {
    "duration": 3,
    "start_time": "2024-09-18T12:24:21.346Z"
   },
   {
    "duration": 15,
    "start_time": "2024-09-18T12:24:21.351Z"
   },
   {
    "duration": 18,
    "start_time": "2024-09-18T12:24:21.368Z"
   },
   {
    "duration": 8,
    "start_time": "2024-09-18T12:24:21.388Z"
   },
   {
    "duration": 16,
    "start_time": "2024-09-18T12:24:21.397Z"
   },
   {
    "duration": 38,
    "start_time": "2024-09-18T12:24:21.415Z"
   },
   {
    "duration": 3,
    "start_time": "2024-09-18T12:24:21.454Z"
   },
   {
    "duration": 10,
    "start_time": "2024-09-18T12:24:21.459Z"
   },
   {
    "duration": 13,
    "start_time": "2024-09-18T12:24:21.471Z"
   },
   {
    "duration": 18,
    "start_time": "2024-09-18T12:24:21.485Z"
   },
   {
    "duration": 353,
    "start_time": "2024-09-18T12:24:21.504Z"
   },
   {
    "duration": 9,
    "start_time": "2024-09-18T12:24:21.859Z"
   },
   {
    "duration": 373,
    "start_time": "2024-09-18T12:24:21.869Z"
   },
   {
    "duration": 308,
    "start_time": "2024-09-18T12:24:22.244Z"
   },
   {
    "duration": 245,
    "start_time": "2024-09-18T12:24:22.553Z"
   },
   {
    "duration": 12,
    "start_time": "2024-09-18T12:24:22.800Z"
   },
   {
    "duration": 34,
    "start_time": "2024-09-18T12:24:22.813Z"
   },
   {
    "duration": 131,
    "start_time": "2024-09-18T12:24:22.848Z"
   },
   {
    "duration": 3564,
    "start_time": "2024-09-18T12:24:53.185Z"
   },
   {
    "duration": 1117,
    "start_time": "2024-09-18T12:26:39.283Z"
   },
   {
    "duration": 922,
    "start_time": "2024-09-18T12:26:53.575Z"
   },
   {
    "duration": 838,
    "start_time": "2024-09-18T12:28:26.573Z"
   },
   {
    "duration": 918,
    "start_time": "2024-09-18T12:29:15.475Z"
   },
   {
    "duration": 872,
    "start_time": "2024-09-18T12:30:38.583Z"
   },
   {
    "duration": 1350,
    "start_time": "2024-09-18T12:30:53.277Z"
   },
   {
    "duration": 1131,
    "start_time": "2024-09-18T12:31:06.246Z"
   },
   {
    "duration": 1321,
    "start_time": "2024-09-18T12:31:38.948Z"
   },
   {
    "duration": 1371,
    "start_time": "2024-09-18T12:32:05.638Z"
   },
   {
    "duration": 1373,
    "start_time": "2024-09-18T12:32:15.086Z"
   },
   {
    "duration": 1392,
    "start_time": "2024-09-18T12:33:35.462Z"
   },
   {
    "duration": 1285,
    "start_time": "2024-09-18T12:33:54.380Z"
   },
   {
    "duration": 1365,
    "start_time": "2024-09-18T12:34:52.690Z"
   },
   {
    "duration": 1284,
    "start_time": "2024-09-19T08:44:54.502Z"
   },
   {
    "duration": 214,
    "start_time": "2024-09-19T08:44:55.788Z"
   },
   {
    "duration": 3,
    "start_time": "2024-09-19T08:44:56.004Z"
   },
   {
    "duration": 18,
    "start_time": "2024-09-19T08:44:56.009Z"
   },
   {
    "duration": 19,
    "start_time": "2024-09-19T08:44:56.028Z"
   },
   {
    "duration": 12,
    "start_time": "2024-09-19T08:44:56.048Z"
   },
   {
    "duration": 25,
    "start_time": "2024-09-19T08:44:56.061Z"
   },
   {
    "duration": 11,
    "start_time": "2024-09-19T08:44:56.087Z"
   },
   {
    "duration": 4,
    "start_time": "2024-09-19T08:44:56.100Z"
   },
   {
    "duration": 19,
    "start_time": "2024-09-19T08:44:56.106Z"
   },
   {
    "duration": 30,
    "start_time": "2024-09-19T08:44:56.126Z"
   },
   {
    "duration": 19,
    "start_time": "2024-09-19T08:44:56.158Z"
   },
   {
    "duration": 375,
    "start_time": "2024-09-19T08:44:56.178Z"
   },
   {
    "duration": 8,
    "start_time": "2024-09-19T08:44:56.554Z"
   },
   {
    "duration": 358,
    "start_time": "2024-09-19T08:44:56.564Z"
   },
   {
    "duration": 285,
    "start_time": "2024-09-19T08:44:56.923Z"
   },
   {
    "duration": 253,
    "start_time": "2024-09-19T08:44:57.210Z"
   },
   {
    "duration": 12,
    "start_time": "2024-09-19T08:44:57.464Z"
   },
   {
    "duration": 17,
    "start_time": "2024-09-19T08:44:57.477Z"
   },
   {
    "duration": 1285,
    "start_time": "2024-09-19T08:44:57.495Z"
   },
   {
    "duration": 723,
    "start_time": "2024-09-19T08:55:40.846Z"
   },
   {
    "duration": 21,
    "start_time": "2024-09-19T09:02:27.266Z"
   },
   {
    "duration": 291,
    "start_time": "2024-09-19T09:03:57.642Z"
   },
   {
    "duration": 207,
    "start_time": "2024-09-19T09:04:31.293Z"
   },
   {
    "duration": 8,
    "start_time": "2024-09-19T09:06:20.512Z"
   },
   {
    "duration": 108,
    "start_time": "2024-09-19T09:06:25.973Z"
   },
   {
    "duration": 18,
    "start_time": "2024-09-19T09:06:51.994Z"
   },
   {
    "duration": 292,
    "start_time": "2024-09-19T09:06:55.161Z"
   },
   {
    "duration": 155,
    "start_time": "2024-09-19T09:12:24.589Z"
   },
   {
    "duration": 252,
    "start_time": "2024-09-19T09:12:47.510Z"
   },
   {
    "duration": 290,
    "start_time": "2024-09-19T09:14:34.732Z"
   },
   {
    "duration": 4,
    "start_time": "2024-09-19T09:14:58.252Z"
   },
   {
    "duration": 110,
    "start_time": "2024-09-19T09:14:58.258Z"
   },
   {
    "duration": 3,
    "start_time": "2024-09-19T09:14:58.370Z"
   },
   {
    "duration": 38,
    "start_time": "2024-09-19T09:14:58.374Z"
   },
   {
    "duration": 18,
    "start_time": "2024-09-19T09:14:58.413Z"
   },
   {
    "duration": 9,
    "start_time": "2024-09-19T09:14:58.433Z"
   },
   {
    "duration": 32,
    "start_time": "2024-09-19T09:14:58.443Z"
   },
   {
    "duration": 12,
    "start_time": "2024-09-19T09:14:58.476Z"
   },
   {
    "duration": 4,
    "start_time": "2024-09-19T09:14:58.490Z"
   },
   {
    "duration": 28,
    "start_time": "2024-09-19T09:14:58.496Z"
   },
   {
    "duration": 14,
    "start_time": "2024-09-19T09:14:58.526Z"
   },
   {
    "duration": 19,
    "start_time": "2024-09-19T09:14:58.542Z"
   },
   {
    "duration": 324,
    "start_time": "2024-09-19T09:14:58.564Z"
   },
   {
    "duration": 8,
    "start_time": "2024-09-19T09:14:58.889Z"
   },
   {
    "duration": 328,
    "start_time": "2024-09-19T09:14:58.899Z"
   },
   {
    "duration": 386,
    "start_time": "2024-09-19T09:14:59.228Z"
   },
   {
    "duration": 259,
    "start_time": "2024-09-19T09:14:59.616Z"
   },
   {
    "duration": 12,
    "start_time": "2024-09-19T09:14:59.877Z"
   },
   {
    "duration": 22,
    "start_time": "2024-09-19T09:14:59.891Z"
   },
   {
    "duration": 1193,
    "start_time": "2024-09-19T09:14:59.914Z"
   },
   {
    "duration": 262,
    "start_time": "2024-09-19T09:15:01.109Z"
   },
   {
    "duration": 52,
    "start_time": "2024-09-19T10:40:21.226Z"
   },
   {
    "duration": 1446,
    "start_time": "2024-09-19T10:40:28.811Z"
   },
   {
    "duration": 249,
    "start_time": "2024-09-19T10:40:30.259Z"
   },
   {
    "duration": 4,
    "start_time": "2024-09-19T10:40:30.509Z"
   },
   {
    "duration": 45,
    "start_time": "2024-09-19T10:40:30.515Z"
   },
   {
    "duration": 24,
    "start_time": "2024-09-19T10:40:30.561Z"
   },
   {
    "duration": 9,
    "start_time": "2024-09-19T10:40:30.587Z"
   },
   {
    "duration": 41,
    "start_time": "2024-09-19T10:40:30.597Z"
   },
   {
    "duration": 16,
    "start_time": "2024-09-19T10:40:30.640Z"
   },
   {
    "duration": 11,
    "start_time": "2024-09-19T10:40:30.657Z"
   },
   {
    "duration": 10,
    "start_time": "2024-09-19T10:40:30.671Z"
   },
   {
    "duration": 33,
    "start_time": "2024-09-19T10:40:30.682Z"
   },
   {
    "duration": 53,
    "start_time": "2024-09-19T10:40:30.717Z"
   },
   {
    "duration": 346,
    "start_time": "2024-09-19T10:40:30.772Z"
   },
   {
    "duration": 9,
    "start_time": "2024-09-19T10:40:31.119Z"
   },
   {
    "duration": 351,
    "start_time": "2024-09-19T10:40:31.130Z"
   },
   {
    "duration": 295,
    "start_time": "2024-09-19T10:40:31.483Z"
   },
   {
    "duration": 329,
    "start_time": "2024-09-19T10:40:31.779Z"
   },
   {
    "duration": 21,
    "start_time": "2024-09-19T10:40:32.110Z"
   },
   {
    "duration": 26,
    "start_time": "2024-09-19T10:40:32.133Z"
   },
   {
    "duration": 1165,
    "start_time": "2024-09-19T10:40:32.160Z"
   },
   {
    "duration": 279,
    "start_time": "2024-09-19T10:40:33.327Z"
   },
   {
    "duration": 265,
    "start_time": "2024-09-19T10:40:33.608Z"
   },
   {
    "duration": 254,
    "start_time": "2024-09-19T10:40:51.021Z"
   },
   {
    "duration": 16,
    "start_time": "2024-09-19T10:49:43.349Z"
   },
   {
    "duration": 4,
    "start_time": "2024-09-19T10:49:53.842Z"
   },
   {
    "duration": 12,
    "start_time": "2024-09-19T10:50:07.613Z"
   },
   {
    "duration": 4,
    "start_time": "2024-09-19T10:50:14.401Z"
   },
   {
    "duration": 24,
    "start_time": "2024-09-19T10:51:25.798Z"
   },
   {
    "duration": 144,
    "start_time": "2024-09-19T10:52:49.322Z"
   },
   {
    "duration": 199,
    "start_time": "2024-09-19T10:54:14.918Z"
   },
   {
    "duration": 223,
    "start_time": "2024-09-19T10:54:26.129Z"
   },
   {
    "duration": 124,
    "start_time": "2024-09-19T10:54:31.080Z"
   },
   {
    "duration": 10,
    "start_time": "2024-09-19T10:55:08.678Z"
   },
   {
    "duration": 144,
    "start_time": "2024-09-19T10:55:15.425Z"
   },
   {
    "duration": 154,
    "start_time": "2024-09-19T10:55:38.329Z"
   },
   {
    "duration": 143,
    "start_time": "2024-09-19T10:55:44.169Z"
   },
   {
    "duration": 21,
    "start_time": "2024-09-19T10:58:40.469Z"
   },
   {
    "duration": 20,
    "start_time": "2024-09-19T10:58:58.110Z"
   },
   {
    "duration": 6,
    "start_time": "2024-09-19T10:59:06.261Z"
   },
   {
    "duration": 141,
    "start_time": "2024-09-19T10:59:21.924Z"
   },
   {
    "duration": 6,
    "start_time": "2024-09-19T10:59:38.519Z"
   },
   {
    "duration": 152,
    "start_time": "2024-09-19T11:01:05.228Z"
   },
   {
    "duration": 16,
    "start_time": "2024-09-19T11:02:21.749Z"
   },
   {
    "duration": 7,
    "start_time": "2024-09-19T11:02:41.937Z"
   },
   {
    "duration": 158,
    "start_time": "2024-09-19T11:02:43.127Z"
   },
   {
    "duration": 145,
    "start_time": "2024-09-19T11:03:02.196Z"
   },
   {
    "duration": 5,
    "start_time": "2024-09-19T11:03:46.523Z"
   },
   {
    "duration": 142,
    "start_time": "2024-09-19T11:04:38.013Z"
   },
   {
    "duration": 140,
    "start_time": "2024-09-19T11:04:57.503Z"
   },
   {
    "duration": 137,
    "start_time": "2024-09-19T11:05:00.788Z"
   },
   {
    "duration": 6,
    "start_time": "2024-09-19T11:11:09.530Z"
   },
   {
    "duration": 222,
    "start_time": "2024-09-19T11:11:11.194Z"
   },
   {
    "duration": 4,
    "start_time": "2024-09-19T11:22:00.139Z"
   },
   {
    "duration": 129,
    "start_time": "2024-09-19T11:22:00.144Z"
   },
   {
    "duration": 3,
    "start_time": "2024-09-19T11:22:00.275Z"
   },
   {
    "duration": 18,
    "start_time": "2024-09-19T11:22:00.279Z"
   },
   {
    "duration": 35,
    "start_time": "2024-09-19T11:22:00.298Z"
   },
   {
    "duration": 32,
    "start_time": "2024-09-19T11:22:00.335Z"
   },
   {
    "duration": 33,
    "start_time": "2024-09-19T11:22:00.368Z"
   },
   {
    "duration": 12,
    "start_time": "2024-09-19T11:22:00.403Z"
   },
   {
    "duration": 81,
    "start_time": "2024-09-19T11:22:00.417Z"
   },
   {
    "duration": 48,
    "start_time": "2024-09-19T11:22:00.500Z"
   },
   {
    "duration": 16,
    "start_time": "2024-09-19T11:22:00.550Z"
   },
   {
    "duration": 20,
    "start_time": "2024-09-19T11:22:00.567Z"
   },
   {
    "duration": 358,
    "start_time": "2024-09-19T11:22:00.589Z"
   },
   {
    "duration": 8,
    "start_time": "2024-09-19T11:22:00.949Z"
   },
   {
    "duration": 417,
    "start_time": "2024-09-19T11:22:00.958Z"
   },
   {
    "duration": 294,
    "start_time": "2024-09-19T11:22:01.377Z"
   },
   {
    "duration": 242,
    "start_time": "2024-09-19T11:22:01.672Z"
   },
   {
    "duration": 19,
    "start_time": "2024-09-19T11:22:01.915Z"
   },
   {
    "duration": 18,
    "start_time": "2024-09-19T11:22:01.935Z"
   },
   {
    "duration": 1146,
    "start_time": "2024-09-19T11:22:01.955Z"
   },
   {
    "duration": 265,
    "start_time": "2024-09-19T11:22:03.103Z"
   },
   {
    "duration": 261,
    "start_time": "2024-09-19T11:22:03.370Z"
   },
   {
    "duration": 6,
    "start_time": "2024-09-19T11:22:03.632Z"
   },
   {
    "duration": 146,
    "start_time": "2024-09-19T11:22:03.641Z"
   },
   {
    "duration": 141,
    "start_time": "2024-09-19T11:22:03.788Z"
   },
   {
    "duration": 40221,
    "start_time": "2024-09-19T11:22:03.930Z"
   },
   {
    "duration": 4,
    "start_time": "2024-09-19T11:23:56.160Z"
   },
   {
    "duration": 38995,
    "start_time": "2024-09-19T11:24:47.531Z"
   },
   {
    "duration": 16,
    "start_time": "2024-09-19T11:41:29.896Z"
   },
   {
    "duration": 13,
    "start_time": "2024-09-19T11:41:43.391Z"
   },
   {
    "duration": 11,
    "start_time": "2024-09-19T11:42:26.068Z"
   },
   {
    "duration": 14,
    "start_time": "2024-09-19T11:42:46.214Z"
   },
   {
    "duration": 624,
    "start_time": "2024-09-19T11:46:46.158Z"
   },
   {
    "duration": 626,
    "start_time": "2024-09-19T11:47:23.428Z"
   },
   {
    "duration": 626,
    "start_time": "2024-09-19T11:47:30.721Z"
   },
   {
    "duration": 11,
    "start_time": "2024-09-19T11:48:20.278Z"
   },
   {
    "duration": 12,
    "start_time": "2024-09-19T11:48:31.538Z"
   },
   {
    "duration": 14,
    "start_time": "2024-09-19T11:52:22.437Z"
   },
   {
    "duration": 15,
    "start_time": "2024-09-19T11:52:58.431Z"
   },
   {
    "duration": 13,
    "start_time": "2024-09-19T11:53:18.075Z"
   },
   {
    "duration": 11,
    "start_time": "2024-09-19T11:53:23.548Z"
   },
   {
    "duration": 33,
    "start_time": "2024-09-19T11:53:29.570Z"
   },
   {
    "duration": 9,
    "start_time": "2024-09-19T11:53:38.433Z"
   },
   {
    "duration": 7,
    "start_time": "2024-09-19T11:53:47.599Z"
   },
   {
    "duration": 14,
    "start_time": "2024-09-19T11:53:58.376Z"
   },
   {
    "duration": 825,
    "start_time": "2024-09-19T11:57:03.567Z"
   },
   {
    "duration": 157,
    "start_time": "2024-09-19T11:57:13.844Z"
   },
   {
    "duration": 156,
    "start_time": "2024-09-19T11:57:37.306Z"
   },
   {
    "duration": 7,
    "start_time": "2024-09-19T11:57:41.340Z"
   },
   {
    "duration": 171,
    "start_time": "2024-09-19T11:58:15.761Z"
   },
   {
    "duration": 273,
    "start_time": "2024-09-19T11:58:23.088Z"
   },
   {
    "duration": 213,
    "start_time": "2024-09-19T11:58:29.951Z"
   },
   {
    "duration": 206,
    "start_time": "2024-09-19T11:58:35.563Z"
   },
   {
    "duration": 219,
    "start_time": "2024-09-19T12:00:24.587Z"
   },
   {
    "duration": 240,
    "start_time": "2024-09-19T12:00:28.977Z"
   },
   {
    "duration": 230,
    "start_time": "2024-09-19T12:00:35.722Z"
   },
   {
    "duration": 4,
    "start_time": "2024-09-19T12:52:39.043Z"
   },
   {
    "duration": 99,
    "start_time": "2024-09-19T12:52:39.049Z"
   },
   {
    "duration": 3,
    "start_time": "2024-09-19T12:52:39.150Z"
   },
   {
    "duration": 100,
    "start_time": "2024-09-19T12:52:39.154Z"
   },
   {
    "duration": 21,
    "start_time": "2024-09-19T12:52:39.256Z"
   },
   {
    "duration": 11,
    "start_time": "2024-09-19T12:52:39.278Z"
   },
   {
    "duration": 28,
    "start_time": "2024-09-19T12:52:39.291Z"
   },
   {
    "duration": 33,
    "start_time": "2024-09-19T12:52:39.322Z"
   },
   {
    "duration": 87,
    "start_time": "2024-09-19T12:52:39.356Z"
   },
   {
    "duration": 13,
    "start_time": "2024-09-19T12:52:39.445Z"
   },
   {
    "duration": 15,
    "start_time": "2024-09-19T12:52:39.461Z"
   },
   {
    "duration": 19,
    "start_time": "2024-09-19T12:52:39.478Z"
   },
   {
    "duration": 398,
    "start_time": "2024-09-19T12:52:39.499Z"
   },
   {
    "duration": 8,
    "start_time": "2024-09-19T12:52:39.898Z"
   },
   {
    "duration": 390,
    "start_time": "2024-09-19T12:52:39.908Z"
   },
   {
    "duration": 316,
    "start_time": "2024-09-19T12:52:40.300Z"
   },
   {
    "duration": 267,
    "start_time": "2024-09-19T12:52:40.625Z"
   },
   {
    "duration": 12,
    "start_time": "2024-09-19T12:52:40.894Z"
   },
   {
    "duration": 42,
    "start_time": "2024-09-19T12:52:40.907Z"
   },
   {
    "duration": 1266,
    "start_time": "2024-09-19T12:52:40.951Z"
   },
   {
    "duration": 302,
    "start_time": "2024-09-19T12:52:42.218Z"
   },
   {
    "duration": 312,
    "start_time": "2024-09-19T12:52:42.526Z"
   },
   {
    "duration": 7,
    "start_time": "2024-09-19T12:52:42.840Z"
   },
   {
    "duration": 202,
    "start_time": "2024-09-19T12:52:42.849Z"
   },
   {
    "duration": 155,
    "start_time": "2024-09-19T12:52:43.052Z"
   },
   {
    "duration": 256,
    "start_time": "2024-09-19T12:52:43.208Z"
   },
   {
    "duration": 241,
    "start_time": "2024-09-19T12:52:43.466Z"
   },
   {
    "duration": 1319,
    "start_time": "2024-09-20T08:02:34.959Z"
   },
   {
    "duration": 257,
    "start_time": "2024-09-20T08:02:36.280Z"
   },
   {
    "duration": 3,
    "start_time": "2024-09-20T08:02:36.538Z"
   },
   {
    "duration": 23,
    "start_time": "2024-09-20T08:02:36.542Z"
   },
   {
    "duration": 18,
    "start_time": "2024-09-20T08:02:36.567Z"
   },
   {
    "duration": 9,
    "start_time": "2024-09-20T08:02:36.586Z"
   },
   {
    "duration": 31,
    "start_time": "2024-09-20T08:02:36.596Z"
   },
   {
    "duration": 12,
    "start_time": "2024-09-20T08:02:36.629Z"
   },
   {
    "duration": 19,
    "start_time": "2024-09-20T08:02:36.651Z"
   },
   {
    "duration": 15,
    "start_time": "2024-09-20T08:02:36.671Z"
   },
   {
    "duration": 14,
    "start_time": "2024-09-20T08:02:36.688Z"
   },
   {
    "duration": 31,
    "start_time": "2024-09-20T08:02:36.703Z"
   },
   {
    "duration": 333,
    "start_time": "2024-09-20T08:02:36.735Z"
   },
   {
    "duration": 8,
    "start_time": "2024-09-20T08:02:37.070Z"
   },
   {
    "duration": 327,
    "start_time": "2024-09-20T08:02:37.080Z"
   },
   {
    "duration": 298,
    "start_time": "2024-09-20T08:02:37.409Z"
   },
   {
    "duration": 245,
    "start_time": "2024-09-20T08:02:37.709Z"
   },
   {
    "duration": 12,
    "start_time": "2024-09-20T08:02:37.956Z"
   },
   {
    "duration": 17,
    "start_time": "2024-09-20T08:02:37.969Z"
   },
   {
    "duration": 1232,
    "start_time": "2024-09-20T08:02:37.988Z"
   },
   {
    "duration": 262,
    "start_time": "2024-09-20T08:02:39.222Z"
   },
   {
    "duration": 267,
    "start_time": "2024-09-20T08:02:39.486Z"
   },
   {
    "duration": 7,
    "start_time": "2024-09-20T08:02:39.755Z"
   },
   {
    "duration": 148,
    "start_time": "2024-09-20T08:02:39.763Z"
   },
   {
    "duration": 144,
    "start_time": "2024-09-20T08:02:39.912Z"
   },
   {
    "duration": 219,
    "start_time": "2024-09-20T08:02:40.058Z"
   },
   {
    "duration": 218,
    "start_time": "2024-09-20T08:02:40.278Z"
   },
   {
    "duration": 288,
    "start_time": "2024-09-20T08:02:59.849Z"
   },
   {
    "duration": 6,
    "start_time": "2024-09-20T08:24:59.002Z"
   },
   {
    "duration": 15,
    "start_time": "2024-09-20T08:25:10.737Z"
   },
   {
    "duration": 11,
    "start_time": "2024-09-20T08:25:19.134Z"
   },
   {
    "duration": 6,
    "start_time": "2024-09-20T08:25:30.525Z"
   },
   {
    "duration": 5,
    "start_time": "2024-09-20T08:36:15.670Z"
   },
   {
    "duration": 6330,
    "start_time": "2024-09-20T08:37:00.265Z"
   },
   {
    "duration": 105,
    "start_time": "2024-09-20T08:39:31.669Z"
   },
   {
    "duration": 335,
    "start_time": "2024-09-20T08:40:05.953Z"
   },
   {
    "duration": 19334,
    "start_time": "2024-09-20T08:40:22.033Z"
   },
   {
    "duration": 0,
    "start_time": "2024-09-20T08:40:41.368Z"
   },
   {
    "duration": 18,
    "start_time": "2024-09-20T08:40:44.166Z"
   },
   {
    "duration": 24234,
    "start_time": "2024-09-20T08:41:11.263Z"
   },
   {
    "duration": 15,
    "start_time": "2024-09-20T08:44:01.214Z"
   },
   {
    "duration": 22,
    "start_time": "2024-09-20T08:44:36.311Z"
   },
   {
    "duration": 327,
    "start_time": "2024-09-20T08:44:47.437Z"
   },
   {
    "duration": 26,
    "start_time": "2024-09-20T08:44:53.027Z"
   },
   {
    "duration": 26,
    "start_time": "2024-09-20T08:46:53.297Z"
   },
   {
    "duration": 23,
    "start_time": "2024-09-20T08:47:05.198Z"
   },
   {
    "duration": 16,
    "start_time": "2024-09-20T08:47:35.378Z"
   },
   {
    "duration": 24,
    "start_time": "2024-09-20T08:47:42.691Z"
   },
   {
    "duration": 156,
    "start_time": "2024-09-20T08:50:45.752Z"
   },
   {
    "duration": 17,
    "start_time": "2024-09-20T08:51:49.249Z"
   },
   {
    "duration": 27,
    "start_time": "2024-09-20T08:52:04.588Z"
   },
   {
    "duration": 18,
    "start_time": "2024-09-20T08:52:08.068Z"
   },
   {
    "duration": 6262,
    "start_time": "2024-09-20T08:52:43.870Z"
   },
   {
    "duration": 25,
    "start_time": "2024-09-20T08:52:55.239Z"
   },
   {
    "duration": 24,
    "start_time": "2024-09-20T08:53:03.299Z"
   },
   {
    "duration": 18,
    "start_time": "2024-09-20T08:53:08.819Z"
   },
   {
    "duration": 17,
    "start_time": "2024-09-20T08:53:15.496Z"
   },
   {
    "duration": 14,
    "start_time": "2024-09-20T08:53:20.962Z"
   },
   {
    "duration": 17,
    "start_time": "2024-09-20T08:53:28.031Z"
   },
   {
    "duration": 16,
    "start_time": "2024-09-20T08:54:00.621Z"
   },
   {
    "duration": 863,
    "start_time": "2024-09-20T08:54:05.877Z"
   },
   {
    "duration": 6237,
    "start_time": "2024-09-20T08:54:16.832Z"
   },
   {
    "duration": 17,
    "start_time": "2024-09-20T08:55:19.640Z"
   },
   {
    "duration": 5,
    "start_time": "2024-09-20T08:55:33.293Z"
   },
   {
    "duration": 20,
    "start_time": "2024-09-20T08:56:20.423Z"
   },
   {
    "duration": 29,
    "start_time": "2024-09-20T08:59:06.449Z"
   },
   {
    "duration": 1492,
    "start_time": "2024-09-20T09:00:09.399Z"
   },
   {
    "duration": 472,
    "start_time": "2024-09-20T09:00:48.615Z"
   },
   {
    "duration": 480,
    "start_time": "2024-09-20T09:01:06.149Z"
   },
   {
    "duration": 5,
    "start_time": "2024-09-20T09:02:03.019Z"
   },
   {
    "duration": 6,
    "start_time": "2024-09-20T09:02:33.382Z"
   },
   {
    "duration": 471,
    "start_time": "2024-09-20T09:03:03.917Z"
   },
   {
    "duration": 487,
    "start_time": "2024-09-20T09:03:30.150Z"
   },
   {
    "duration": 6305,
    "start_time": "2024-09-20T09:03:59.961Z"
   },
   {
    "duration": 6215,
    "start_time": "2024-09-20T09:04:23.393Z"
   },
   {
    "duration": 19,
    "start_time": "2024-09-20T09:04:42.843Z"
   },
   {
    "duration": 17,
    "start_time": "2024-09-20T09:04:47.436Z"
   },
   {
    "duration": 18,
    "start_time": "2024-09-20T09:06:39.320Z"
   },
   {
    "duration": 465,
    "start_time": "2024-09-20T09:07:32.936Z"
   },
   {
    "duration": 886,
    "start_time": "2024-09-20T09:09:44.918Z"
   },
   {
    "duration": 3961,
    "start_time": "2024-09-20T09:10:28.929Z"
   },
   {
    "duration": 2439,
    "start_time": "2024-09-20T09:11:40.238Z"
   },
   {
    "duration": 13,
    "start_time": "2024-09-20T09:13:42.228Z"
   },
   {
    "duration": 125,
    "start_time": "2024-09-20T09:13:49.784Z"
   },
   {
    "duration": 194,
    "start_time": "2024-09-20T09:14:11.929Z"
   },
   {
    "duration": 146,
    "start_time": "2024-09-20T09:15:13.137Z"
   },
   {
    "duration": 149,
    "start_time": "2024-09-20T09:15:18.529Z"
   },
   {
    "duration": 142,
    "start_time": "2024-09-20T09:16:08.357Z"
   },
   {
    "duration": 376,
    "start_time": "2024-09-20T09:16:53.380Z"
   },
   {
    "duration": 158,
    "start_time": "2024-09-20T09:16:56.610Z"
   },
   {
    "duration": 15,
    "start_time": "2024-09-20T09:21:47.108Z"
   },
   {
    "duration": 11,
    "start_time": "2024-09-20T09:21:58.616Z"
   },
   {
    "duration": 10,
    "start_time": "2024-09-20T09:24:10.236Z"
   },
   {
    "duration": 153,
    "start_time": "2024-09-20T09:24:12.364Z"
   },
   {
    "duration": 145,
    "start_time": "2024-09-20T09:24:14.093Z"
   },
   {
    "duration": 154,
    "start_time": "2024-09-20T09:24:18.757Z"
   },
   {
    "duration": 149,
    "start_time": "2024-09-20T09:24:20.971Z"
   },
   {
    "duration": 166,
    "start_time": "2024-09-20T09:24:23.922Z"
   },
   {
    "duration": 4,
    "start_time": "2024-09-20T09:34:54.399Z"
   },
   {
    "duration": 91,
    "start_time": "2024-09-20T09:34:54.404Z"
   },
   {
    "duration": 3,
    "start_time": "2024-09-20T09:34:54.497Z"
   },
   {
    "duration": 29,
    "start_time": "2024-09-20T09:34:54.501Z"
   },
   {
    "duration": 25,
    "start_time": "2024-09-20T09:34:54.532Z"
   },
   {
    "duration": 9,
    "start_time": "2024-09-20T09:34:54.559Z"
   },
   {
    "duration": 16,
    "start_time": "2024-09-20T09:34:54.569Z"
   },
   {
    "duration": 28,
    "start_time": "2024-09-20T09:34:54.586Z"
   },
   {
    "duration": 4,
    "start_time": "2024-09-20T09:34:54.616Z"
   },
   {
    "duration": 11,
    "start_time": "2024-09-20T09:34:54.621Z"
   },
   {
    "duration": 30,
    "start_time": "2024-09-20T09:34:54.633Z"
   },
   {
    "duration": 17,
    "start_time": "2024-09-20T09:34:54.664Z"
   },
   {
    "duration": 336,
    "start_time": "2024-09-20T09:34:54.682Z"
   },
   {
    "duration": 8,
    "start_time": "2024-09-20T09:34:55.019Z"
   },
   {
    "duration": 335,
    "start_time": "2024-09-20T09:34:55.029Z"
   },
   {
    "duration": 424,
    "start_time": "2024-09-20T09:34:55.366Z"
   },
   {
    "duration": 244,
    "start_time": "2024-09-20T09:34:55.791Z"
   },
   {
    "duration": 17,
    "start_time": "2024-09-20T09:34:56.036Z"
   },
   {
    "duration": 16,
    "start_time": "2024-09-20T09:34:56.054Z"
   },
   {
    "duration": 1191,
    "start_time": "2024-09-20T09:34:56.072Z"
   },
   {
    "duration": 276,
    "start_time": "2024-09-20T09:34:57.265Z"
   },
   {
    "duration": 271,
    "start_time": "2024-09-20T09:34:57.543Z"
   },
   {
    "duration": 8,
    "start_time": "2024-09-20T09:34:57.816Z"
   },
   {
    "duration": 160,
    "start_time": "2024-09-20T09:34:57.827Z"
   },
   {
    "duration": 145,
    "start_time": "2024-09-20T09:34:57.988Z"
   },
   {
    "duration": 226,
    "start_time": "2024-09-20T09:34:58.134Z"
   },
   {
    "duration": 205,
    "start_time": "2024-09-20T09:34:58.361Z"
   },
   {
    "duration": 6,
    "start_time": "2024-09-20T09:34:58.567Z"
   },
   {
    "duration": 21,
    "start_time": "2024-09-20T09:34:58.574Z"
   },
   {
    "duration": 172,
    "start_time": "2024-09-20T09:34:58.596Z"
   },
   {
    "duration": 279,
    "start_time": "2024-09-20T09:34:58.769Z"
   },
   {
    "duration": 166,
    "start_time": "2024-09-20T09:34:59.050Z"
   },
   {
    "duration": 156,
    "start_time": "2024-09-20T09:34:59.217Z"
   },
   {
    "duration": 181,
    "start_time": "2024-09-20T09:36:59.491Z"
   },
   {
    "duration": 9,
    "start_time": "2024-09-20T09:37:56.264Z"
   },
   {
    "duration": 182,
    "start_time": "2024-09-20T09:39:25.798Z"
   },
   {
    "duration": 178,
    "start_time": "2024-09-20T09:40:10.986Z"
   },
   {
    "duration": 174,
    "start_time": "2024-09-20T09:40:29.830Z"
   },
   {
    "duration": 176,
    "start_time": "2024-09-20T09:40:48.261Z"
   },
   {
    "duration": 91,
    "start_time": "2024-09-20T09:54:57.285Z"
   },
   {
    "duration": 5831,
    "start_time": "2024-09-20T09:55:02.498Z"
   },
   {
    "duration": 8,
    "start_time": "2024-09-20T09:55:49.778Z"
   },
   {
    "duration": 354,
    "start_time": "2024-09-20T09:55:58.475Z"
   },
   {
    "duration": 202,
    "start_time": "2024-09-20T09:57:04.257Z"
   },
   {
    "duration": 192,
    "start_time": "2024-09-20T09:57:18.717Z"
   },
   {
    "duration": 235,
    "start_time": "2024-09-20T09:59:31.968Z"
   },
   {
    "duration": 231,
    "start_time": "2024-09-20T10:00:51.738Z"
   },
   {
    "duration": 225,
    "start_time": "2024-09-20T10:01:04.721Z"
   },
   {
    "duration": 218,
    "start_time": "2024-09-20T10:01:20.736Z"
   },
   {
    "duration": 221,
    "start_time": "2024-09-20T10:01:33.073Z"
   },
   {
    "duration": 3,
    "start_time": "2024-09-20T10:04:55.878Z"
   },
   {
    "duration": 90,
    "start_time": "2024-09-20T10:04:55.884Z"
   },
   {
    "duration": 4,
    "start_time": "2024-09-20T10:04:55.975Z"
   },
   {
    "duration": 15,
    "start_time": "2024-09-20T10:04:55.981Z"
   },
   {
    "duration": 54,
    "start_time": "2024-09-20T10:04:55.998Z"
   },
   {
    "duration": 11,
    "start_time": "2024-09-20T10:04:56.054Z"
   },
   {
    "duration": 17,
    "start_time": "2024-09-20T10:04:56.066Z"
   },
   {
    "duration": 12,
    "start_time": "2024-09-20T10:04:56.085Z"
   },
   {
    "duration": 4,
    "start_time": "2024-09-20T10:04:56.099Z"
   },
   {
    "duration": 14,
    "start_time": "2024-09-20T10:04:56.104Z"
   },
   {
    "duration": 44,
    "start_time": "2024-09-20T10:04:56.120Z"
   },
   {
    "duration": 20,
    "start_time": "2024-09-20T10:04:56.166Z"
   },
   {
    "duration": 348,
    "start_time": "2024-09-20T10:04:56.187Z"
   },
   {
    "duration": 19,
    "start_time": "2024-09-20T10:04:56.537Z"
   },
   {
    "duration": 339,
    "start_time": "2024-09-20T10:04:56.558Z"
   },
   {
    "duration": 419,
    "start_time": "2024-09-20T10:04:56.899Z"
   },
   {
    "duration": 242,
    "start_time": "2024-09-20T10:04:57.319Z"
   },
   {
    "duration": 13,
    "start_time": "2024-09-20T10:04:57.563Z"
   },
   {
    "duration": 17,
    "start_time": "2024-09-20T10:04:57.578Z"
   },
   {
    "duration": 1200,
    "start_time": "2024-09-20T10:04:57.597Z"
   },
   {
    "duration": 273,
    "start_time": "2024-09-20T10:04:58.800Z"
   },
   {
    "duration": 279,
    "start_time": "2024-09-20T10:04:59.075Z"
   },
   {
    "duration": 7,
    "start_time": "2024-09-20T10:04:59.355Z"
   },
   {
    "duration": 153,
    "start_time": "2024-09-20T10:04:59.366Z"
   },
   {
    "duration": 148,
    "start_time": "2024-09-20T10:04:59.521Z"
   },
   {
    "duration": 232,
    "start_time": "2024-09-20T10:04:59.671Z"
   },
   {
    "duration": 215,
    "start_time": "2024-09-20T10:04:59.904Z"
   },
   {
    "duration": 5,
    "start_time": "2024-09-20T10:05:00.121Z"
   },
   {
    "duration": 35,
    "start_time": "2024-09-20T10:05:00.128Z"
   },
   {
    "duration": 166,
    "start_time": "2024-09-20T10:05:00.164Z"
   },
   {
    "duration": 287,
    "start_time": "2024-09-20T10:05:00.332Z"
   },
   {
    "duration": 173,
    "start_time": "2024-09-20T10:05:00.620Z"
   },
   {
    "duration": 167,
    "start_time": "2024-09-20T10:05:00.795Z"
   },
   {
    "duration": 10,
    "start_time": "2024-09-20T10:05:00.963Z"
   },
   {
    "duration": 198,
    "start_time": "2024-09-20T10:05:00.975Z"
   },
   {
    "duration": 193,
    "start_time": "2024-09-20T10:05:01.174Z"
   },
   {
    "duration": 187,
    "start_time": "2024-09-20T10:05:01.369Z"
   },
   {
    "duration": 186,
    "start_time": "2024-09-20T10:05:01.558Z"
   },
   {
    "duration": 223,
    "start_time": "2024-09-20T10:05:01.746Z"
   },
   {
    "duration": 237,
    "start_time": "2024-09-20T10:05:01.970Z"
   },
   {
    "duration": 253,
    "start_time": "2024-09-20T10:05:02.209Z"
   },
   {
    "duration": 235,
    "start_time": "2024-09-20T10:05:02.464Z"
   },
   {
    "duration": 9,
    "start_time": "2024-09-20T10:13:26.400Z"
   },
   {
    "duration": 9,
    "start_time": "2024-09-20T10:13:42.341Z"
   },
   {
    "duration": 16,
    "start_time": "2024-09-20T10:13:48.851Z"
   },
   {
    "duration": 8,
    "start_time": "2024-09-20T10:14:16.060Z"
   },
   {
    "duration": 27,
    "start_time": "2024-09-20T10:14:41.380Z"
   },
   {
    "duration": 8,
    "start_time": "2024-09-20T10:14:59.226Z"
   },
   {
    "duration": 8,
    "start_time": "2024-09-20T10:20:21.486Z"
   },
   {
    "duration": 6,
    "start_time": "2024-09-20T10:31:43.090Z"
   },
   {
    "duration": 5,
    "start_time": "2024-09-20T10:32:23.611Z"
   },
   {
    "duration": 8,
    "start_time": "2024-09-20T10:36:41.165Z"
   },
   {
    "duration": 5,
    "start_time": "2024-09-20T10:37:28.745Z"
   },
   {
    "duration": 8,
    "start_time": "2024-09-20T10:37:30.493Z"
   },
   {
    "duration": 5,
    "start_time": "2024-09-20T10:38:59.116Z"
   },
   {
    "duration": 10,
    "start_time": "2024-09-20T10:39:17.452Z"
   },
   {
    "duration": 10,
    "start_time": "2024-09-20T10:39:42.432Z"
   },
   {
    "duration": 23,
    "start_time": "2024-09-20T10:39:48.771Z"
   },
   {
    "duration": 12,
    "start_time": "2024-09-20T10:40:01.613Z"
   },
   {
    "duration": 9,
    "start_time": "2024-09-20T10:40:04.861Z"
   },
   {
    "duration": 5,
    "start_time": "2024-09-20T10:40:06.208Z"
   },
   {
    "duration": 4,
    "start_time": "2024-09-20T10:40:38.136Z"
   },
   {
    "duration": 4,
    "start_time": "2024-09-20T10:41:09.478Z"
   },
   {
    "duration": 5,
    "start_time": "2024-09-20T10:41:18.448Z"
   },
   {
    "duration": 5,
    "start_time": "2024-09-20T10:41:27.046Z"
   },
   {
    "duration": 5,
    "start_time": "2024-09-20T10:42:57.252Z"
   },
   {
    "duration": 5,
    "start_time": "2024-09-20T10:43:39.790Z"
   },
   {
    "duration": 1088,
    "start_time": "2024-09-20T12:05:35.484Z"
   },
   {
    "duration": 89,
    "start_time": "2024-09-20T12:05:36.574Z"
   },
   {
    "duration": 3,
    "start_time": "2024-09-20T12:05:36.665Z"
   },
   {
    "duration": 16,
    "start_time": "2024-09-20T12:05:36.670Z"
   },
   {
    "duration": 19,
    "start_time": "2024-09-20T12:05:36.687Z"
   },
   {
    "duration": 10,
    "start_time": "2024-09-20T12:05:36.708Z"
   },
   {
    "duration": 87,
    "start_time": "2024-09-20T12:05:36.719Z"
   },
   {
    "duration": 16,
    "start_time": "2024-09-20T12:05:36.808Z"
   },
   {
    "duration": 4,
    "start_time": "2024-09-20T12:05:36.825Z"
   },
   {
    "duration": 20,
    "start_time": "2024-09-20T12:05:36.831Z"
   },
   {
    "duration": 34,
    "start_time": "2024-09-20T12:05:36.853Z"
   },
   {
    "duration": 19,
    "start_time": "2024-09-20T12:05:36.888Z"
   },
   {
    "duration": 341,
    "start_time": "2024-09-20T12:05:36.909Z"
   },
   {
    "duration": 8,
    "start_time": "2024-09-20T12:05:37.252Z"
   },
   {
    "duration": 358,
    "start_time": "2024-09-20T12:05:37.262Z"
   },
   {
    "duration": 288,
    "start_time": "2024-09-20T12:05:37.621Z"
   },
   {
    "duration": 246,
    "start_time": "2024-09-20T12:05:37.911Z"
   },
   {
    "duration": 12,
    "start_time": "2024-09-20T12:05:38.158Z"
   },
   {
    "duration": 16,
    "start_time": "2024-09-20T12:05:38.172Z"
   },
   {
    "duration": 1222,
    "start_time": "2024-09-20T12:05:38.189Z"
   },
   {
    "duration": 274,
    "start_time": "2024-09-20T12:05:39.413Z"
   },
   {
    "duration": 302,
    "start_time": "2024-09-20T12:05:39.688Z"
   },
   {
    "duration": 7,
    "start_time": "2024-09-20T12:05:39.992Z"
   },
   {
    "duration": 162,
    "start_time": "2024-09-20T12:05:40.000Z"
   },
   {
    "duration": 152,
    "start_time": "2024-09-20T12:05:40.163Z"
   },
   {
    "duration": 229,
    "start_time": "2024-09-20T12:05:40.317Z"
   },
   {
    "duration": 214,
    "start_time": "2024-09-20T12:05:40.548Z"
   },
   {
    "duration": 6,
    "start_time": "2024-09-20T12:05:40.765Z"
   },
   {
    "duration": 30,
    "start_time": "2024-09-20T12:05:40.772Z"
   },
   {
    "duration": 234,
    "start_time": "2024-09-20T12:05:40.804Z"
   },
   {
    "duration": 156,
    "start_time": "2024-09-20T12:05:41.040Z"
   },
   {
    "duration": 169,
    "start_time": "2024-09-20T12:05:41.198Z"
   },
   {
    "duration": 158,
    "start_time": "2024-09-20T12:05:41.369Z"
   },
   {
    "duration": 9,
    "start_time": "2024-09-20T12:05:41.528Z"
   },
   {
    "duration": 212,
    "start_time": "2024-09-20T12:05:41.539Z"
   },
   {
    "duration": 187,
    "start_time": "2024-09-20T12:05:41.752Z"
   },
   {
    "duration": 189,
    "start_time": "2024-09-20T12:05:41.941Z"
   },
   {
    "duration": 183,
    "start_time": "2024-09-20T12:05:42.132Z"
   },
   {
    "duration": 242,
    "start_time": "2024-09-20T12:05:42.316Z"
   },
   {
    "duration": 236,
    "start_time": "2024-09-20T12:05:42.560Z"
   },
   {
    "duration": 230,
    "start_time": "2024-09-20T12:05:42.798Z"
   },
   {
    "duration": 317,
    "start_time": "2024-09-20T12:05:43.030Z"
   },
   {
    "duration": 7,
    "start_time": "2024-09-20T12:05:43.351Z"
   },
   {
    "duration": 7,
    "start_time": "2024-09-20T12:05:43.360Z"
   },
   {
    "duration": 13,
    "start_time": "2024-09-20T12:05:43.368Z"
   },
   {
    "duration": 4,
    "start_time": "2024-09-20T12:05:43.383Z"
   },
   {
    "duration": 419,
    "start_time": "2024-09-20T16:42:25.455Z"
   },
   {
    "duration": 409,
    "start_time": "2024-09-20T16:42:25.983Z"
   },
   {
    "duration": 3,
    "start_time": "2024-09-20T16:42:26.394Z"
   },
   {
    "duration": 511,
    "start_time": "2024-09-20T16:42:26.695Z"
   },
   {
    "duration": 3,
    "start_time": "2024-09-20T16:42:27.208Z"
   },
   {
    "duration": 3,
    "start_time": "2024-09-20T16:42:27.377Z"
   },
   {
    "duration": 59,
    "start_time": "2024-09-20T16:42:27.788Z"
   },
   {
    "duration": 101,
    "start_time": "2024-09-20T16:44:34.704Z"
   },
   {
    "duration": 9,
    "start_time": "2024-09-20T16:45:48.887Z"
   },
   {
    "duration": 11,
    "start_time": "2024-09-20T16:45:49.199Z"
   },
   {
    "duration": 211,
    "start_time": "2024-09-20T16:45:59.276Z"
   },
   {
    "duration": 3,
    "start_time": "2024-09-20T16:46:03.216Z"
   },
   {
    "duration": 14,
    "start_time": "2024-09-20T16:46:04.863Z"
   },
   {
    "duration": 18,
    "start_time": "2024-09-20T16:46:07.035Z"
   },
   {
    "duration": 14,
    "start_time": "2024-09-20T16:46:09.005Z"
   },
   {
    "duration": 16,
    "start_time": "2024-09-20T16:46:10.325Z"
   },
   {
    "duration": 18,
    "start_time": "2024-09-20T16:46:11.419Z"
   },
   {
    "duration": 4,
    "start_time": "2024-09-20T16:46:13.017Z"
   },
   {
    "duration": 11,
    "start_time": "2024-09-20T16:46:13.539Z"
   },
   {
    "duration": 14,
    "start_time": "2024-09-20T16:46:14.104Z"
   },
   {
    "duration": 19,
    "start_time": "2024-09-20T16:46:15.512Z"
   },
   {
    "duration": 52,
    "start_time": "2024-09-20T16:47:54.500Z"
   },
   {
    "duration": 3,
    "start_time": "2024-09-20T16:55:56.601Z"
   },
   {
    "duration": 10,
    "start_time": "2024-09-20T16:55:56.606Z"
   },
   {
    "duration": 12,
    "start_time": "2024-09-20T16:55:56.618Z"
   },
   {
    "duration": 5,
    "start_time": "2024-09-20T16:55:56.632Z"
   },
   {
    "duration": 5,
    "start_time": "2024-09-20T16:55:56.640Z"
   },
   {
    "duration": 24,
    "start_time": "2024-09-20T16:55:56.646Z"
   },
   {
    "duration": 7,
    "start_time": "2024-09-20T16:55:56.672Z"
   },
   {
    "duration": 88,
    "start_time": "2024-09-20T16:55:56.681Z"
   },
   {
    "duration": 4,
    "start_time": "2024-09-20T16:55:56.770Z"
   },
   {
    "duration": 17,
    "start_time": "2024-09-20T16:55:56.776Z"
   },
   {
    "duration": 17,
    "start_time": "2024-09-20T16:55:56.795Z"
   },
   {
    "duration": 37,
    "start_time": "2024-09-20T16:55:56.814Z"
   },
   {
    "duration": 17,
    "start_time": "2024-09-20T16:55:56.853Z"
   },
   {
    "duration": 12,
    "start_time": "2024-09-20T16:55:56.871Z"
   },
   {
    "duration": 4,
    "start_time": "2024-09-20T16:55:56.885Z"
   },
   {
    "duration": 11,
    "start_time": "2024-09-20T16:55:56.891Z"
   },
   {
    "duration": 54,
    "start_time": "2024-09-20T16:55:56.904Z"
   },
   {
    "duration": 18,
    "start_time": "2024-09-20T16:55:56.960Z"
   },
   {
    "duration": 383,
    "start_time": "2024-09-20T16:55:56.980Z"
   },
   {
    "duration": 10,
    "start_time": "2024-09-20T16:55:57.365Z"
   },
   {
    "duration": 376,
    "start_time": "2024-09-20T16:55:57.376Z"
   },
   {
    "duration": 300,
    "start_time": "2024-09-20T16:55:57.754Z"
   },
   {
    "duration": 267,
    "start_time": "2024-09-20T16:55:58.056Z"
   },
   {
    "duration": 20,
    "start_time": "2024-09-20T16:55:58.326Z"
   },
   {
    "duration": 119,
    "start_time": "2024-09-20T16:55:58.348Z"
   },
   {
    "duration": 1242,
    "start_time": "2024-09-20T16:55:58.469Z"
   },
   {
    "duration": 261,
    "start_time": "2024-09-20T16:55:59.712Z"
   },
   {
    "duration": 49,
    "start_time": "2024-09-20T16:55:59.974Z"
   },
   {
    "duration": 0,
    "start_time": "2024-09-20T16:56:00.024Z"
   },
   {
    "duration": 0,
    "start_time": "2024-09-20T16:56:00.026Z"
   },
   {
    "duration": 0,
    "start_time": "2024-09-20T16:56:00.026Z"
   },
   {
    "duration": 0,
    "start_time": "2024-09-20T16:56:00.027Z"
   },
   {
    "duration": 0,
    "start_time": "2024-09-20T16:56:00.028Z"
   },
   {
    "duration": 0,
    "start_time": "2024-09-20T16:56:00.029Z"
   },
   {
    "duration": 0,
    "start_time": "2024-09-20T16:56:00.030Z"
   },
   {
    "duration": 0,
    "start_time": "2024-09-20T16:56:00.031Z"
   },
   {
    "duration": 0,
    "start_time": "2024-09-20T16:56:00.032Z"
   },
   {
    "duration": 0,
    "start_time": "2024-09-20T16:56:00.033Z"
   },
   {
    "duration": 0,
    "start_time": "2024-09-20T16:56:00.034Z"
   },
   {
    "duration": 0,
    "start_time": "2024-09-20T16:56:00.035Z"
   },
   {
    "duration": 0,
    "start_time": "2024-09-20T16:56:00.035Z"
   },
   {
    "duration": 0,
    "start_time": "2024-09-20T16:56:00.036Z"
   },
   {
    "duration": 0,
    "start_time": "2024-09-20T16:56:00.037Z"
   },
   {
    "duration": 0,
    "start_time": "2024-09-20T16:56:00.038Z"
   },
   {
    "duration": 1,
    "start_time": "2024-09-20T16:56:00.039Z"
   },
   {
    "duration": 0,
    "start_time": "2024-09-20T16:56:00.041Z"
   },
   {
    "duration": 0,
    "start_time": "2024-09-20T16:56:00.042Z"
   },
   {
    "duration": 0,
    "start_time": "2024-09-20T16:56:00.042Z"
   },
   {
    "duration": 0,
    "start_time": "2024-09-20T16:56:00.043Z"
   },
   {
    "duration": 0,
    "start_time": "2024-09-20T16:56:00.045Z"
   },
   {
    "duration": 0,
    "start_time": "2024-09-20T16:56:00.046Z"
   },
   {
    "duration": 0,
    "start_time": "2024-09-20T16:56:00.047Z"
   },
   {
    "duration": 0,
    "start_time": "2024-09-20T16:56:00.048Z"
   },
   {
    "duration": 8,
    "start_time": "2024-09-20T16:58:20.792Z"
   },
   {
    "duration": 19,
    "start_time": "2024-09-20T16:58:38.674Z"
   },
   {
    "duration": 154,
    "start_time": "2024-09-20T16:59:24.000Z"
   },
   {
    "duration": 202,
    "start_time": "2024-09-20T16:59:35.780Z"
   },
   {
    "duration": 63,
    "start_time": "2024-09-20T17:00:28.039Z"
   },
   {
    "duration": 273,
    "start_time": "2024-09-20T17:01:23.756Z"
   },
   {
    "duration": 219,
    "start_time": "2024-09-20T17:01:37.459Z"
   },
   {
    "duration": 203,
    "start_time": "2024-09-20T17:02:16.411Z"
   },
   {
    "duration": 7,
    "start_time": "2024-09-20T17:03:06.942Z"
   },
   {
    "duration": 148,
    "start_time": "2024-09-20T17:03:09.168Z"
   },
   {
    "duration": 229,
    "start_time": "2024-09-20T17:03:13.964Z"
   },
   {
    "duration": 7,
    "start_time": "2024-09-20T17:05:31.396Z"
   },
   {
    "duration": 123,
    "start_time": "2024-09-20T17:06:39.966Z"
   },
   {
    "duration": 5,
    "start_time": "2024-09-20T17:06:47.561Z"
   },
   {
    "duration": 125,
    "start_time": "2024-09-20T17:06:49.732Z"
   },
   {
    "duration": 6,
    "start_time": "2024-09-20T17:06:53.105Z"
   },
   {
    "duration": 124,
    "start_time": "2024-09-20T17:06:54.682Z"
   },
   {
    "duration": 149,
    "start_time": "2024-09-20T17:07:24.593Z"
   },
   {
    "duration": 17,
    "start_time": "2024-09-20T17:07:41.708Z"
   },
   {
    "duration": 146,
    "start_time": "2024-09-20T17:07:44.834Z"
   },
   {
    "duration": 136,
    "start_time": "2024-09-20T17:08:52.675Z"
   },
   {
    "duration": 193,
    "start_time": "2024-09-20T17:16:32.914Z"
   },
   {
    "duration": 196,
    "start_time": "2024-09-20T17:16:46.376Z"
   },
   {
    "duration": 205,
    "start_time": "2024-09-20T17:17:00.005Z"
   },
   {
    "duration": 190,
    "start_time": "2024-09-20T17:17:14.307Z"
   },
   {
    "duration": 286,
    "start_time": "2024-09-20T17:18:45.889Z"
   },
   {
    "duration": 2,
    "start_time": "2024-09-20T17:18:53.896Z"
   },
   {
    "duration": 19,
    "start_time": "2024-09-20T17:18:53.901Z"
   },
   {
    "duration": 8,
    "start_time": "2024-09-20T17:18:53.921Z"
   },
   {
    "duration": 6,
    "start_time": "2024-09-20T17:18:53.931Z"
   },
   {
    "duration": 18,
    "start_time": "2024-09-20T17:18:53.940Z"
   },
   {
    "duration": 5,
    "start_time": "2024-09-20T17:18:53.960Z"
   },
   {
    "duration": 4,
    "start_time": "2024-09-20T17:18:53.967Z"
   },
   {
    "duration": 103,
    "start_time": "2024-09-20T17:18:53.972Z"
   },
   {
    "duration": 4,
    "start_time": "2024-09-20T17:18:54.077Z"
   },
   {
    "duration": 20,
    "start_time": "2024-09-20T17:18:54.083Z"
   },
   {
    "duration": 43,
    "start_time": "2024-09-20T17:18:54.107Z"
   },
   {
    "duration": 11,
    "start_time": "2024-09-20T17:18:54.152Z"
   },
   {
    "duration": 37,
    "start_time": "2024-09-20T17:18:54.165Z"
   },
   {
    "duration": 12,
    "start_time": "2024-09-20T17:18:54.204Z"
   },
   {
    "duration": 3,
    "start_time": "2024-09-20T17:18:54.218Z"
   },
   {
    "duration": 68,
    "start_time": "2024-09-20T17:18:54.222Z"
   },
   {
    "duration": 83,
    "start_time": "2024-09-20T17:18:54.291Z"
   },
   {
    "duration": 80,
    "start_time": "2024-09-20T17:18:54.375Z"
   },
   {
    "duration": 378,
    "start_time": "2024-09-20T17:18:54.456Z"
   },
   {
    "duration": 14,
    "start_time": "2024-09-20T17:18:54.835Z"
   },
   {
    "duration": 378,
    "start_time": "2024-09-20T17:18:54.850Z"
   },
   {
    "duration": 302,
    "start_time": "2024-09-20T17:18:55.230Z"
   },
   {
    "duration": 261,
    "start_time": "2024-09-20T17:18:55.533Z"
   },
   {
    "duration": 13,
    "start_time": "2024-09-20T17:18:55.796Z"
   },
   {
    "duration": 17,
    "start_time": "2024-09-20T17:18:55.810Z"
   },
   {
    "duration": 1226,
    "start_time": "2024-09-20T17:18:55.845Z"
   },
   {
    "duration": 357,
    "start_time": "2024-09-20T17:18:57.072Z"
   },
   {
    "duration": 298,
    "start_time": "2024-09-20T17:18:57.431Z"
   },
   {
    "duration": 223,
    "start_time": "2024-09-20T17:18:57.735Z"
   },
   {
    "duration": 5,
    "start_time": "2024-09-20T17:18:57.960Z"
   },
   {
    "duration": 164,
    "start_time": "2024-09-20T17:18:57.967Z"
   },
   {
    "duration": 162,
    "start_time": "2024-09-20T17:18:58.132Z"
   },
   {
    "duration": 18,
    "start_time": "2024-09-20T17:18:58.295Z"
   },
   {
    "duration": 177,
    "start_time": "2024-09-20T17:18:58.315Z"
   },
   {
    "duration": 192,
    "start_time": "2024-09-20T17:18:58.494Z"
   },
   {
    "duration": 246,
    "start_time": "2024-09-20T17:18:58.688Z"
   },
   {
    "duration": 306,
    "start_time": "2024-09-20T17:18:58.936Z"
   },
   {
    "duration": 0,
    "start_time": "2024-09-20T17:18:59.243Z"
   },
   {
    "duration": 0,
    "start_time": "2024-09-20T17:18:59.245Z"
   },
   {
    "duration": 0,
    "start_time": "2024-09-20T17:18:59.246Z"
   },
   {
    "duration": 0,
    "start_time": "2024-09-20T17:18:59.248Z"
   },
   {
    "duration": 0,
    "start_time": "2024-09-20T17:18:59.249Z"
   },
   {
    "duration": 0,
    "start_time": "2024-09-20T17:18:59.250Z"
   },
   {
    "duration": 0,
    "start_time": "2024-09-20T17:18:59.251Z"
   },
   {
    "duration": 0,
    "start_time": "2024-09-20T17:18:59.252Z"
   },
   {
    "duration": 0,
    "start_time": "2024-09-20T17:18:59.254Z"
   },
   {
    "duration": 0,
    "start_time": "2024-09-20T17:18:59.255Z"
   },
   {
    "duration": 0,
    "start_time": "2024-09-20T17:18:59.256Z"
   },
   {
    "duration": 0,
    "start_time": "2024-09-20T17:18:59.257Z"
   },
   {
    "duration": 0,
    "start_time": "2024-09-20T17:18:59.258Z"
   },
   {
    "duration": 0,
    "start_time": "2024-09-20T17:18:59.260Z"
   },
   {
    "duration": 0,
    "start_time": "2024-09-20T17:18:59.261Z"
   },
   {
    "duration": 0,
    "start_time": "2024-09-20T17:18:59.262Z"
   },
   {
    "duration": 0,
    "start_time": "2024-09-20T17:18:59.263Z"
   },
   {
    "duration": 0,
    "start_time": "2024-09-20T17:18:59.264Z"
   },
   {
    "duration": 0,
    "start_time": "2024-09-20T17:18:59.265Z"
   },
   {
    "duration": 190,
    "start_time": "2024-09-20T17:19:09.118Z"
   },
   {
    "duration": 218,
    "start_time": "2024-09-20T17:19:21.534Z"
   },
   {
    "duration": 217,
    "start_time": "2024-09-20T17:20:01.396Z"
   },
   {
    "duration": 210,
    "start_time": "2024-09-20T17:20:18.036Z"
   },
   {
    "duration": 3,
    "start_time": "2024-09-20T17:21:30.830Z"
   },
   {
    "duration": 192,
    "start_time": "2024-09-20T17:21:30.834Z"
   },
   {
    "duration": 50,
    "start_time": "2024-09-20T17:21:31.028Z"
   },
   {
    "duration": 24,
    "start_time": "2024-09-20T17:21:31.079Z"
   },
   {
    "duration": 27,
    "start_time": "2024-09-20T17:21:31.105Z"
   },
   {
    "duration": 77,
    "start_time": "2024-09-20T17:21:31.134Z"
   },
   {
    "duration": 16,
    "start_time": "2024-09-20T17:21:31.213Z"
   },
   {
    "duration": 118,
    "start_time": "2024-09-20T17:21:31.231Z"
   },
   {
    "duration": 3,
    "start_time": "2024-09-20T17:21:31.351Z"
   },
   {
    "duration": 30,
    "start_time": "2024-09-20T17:21:31.356Z"
   },
   {
    "duration": 26,
    "start_time": "2024-09-20T17:21:31.390Z"
   },
   {
    "duration": 35,
    "start_time": "2024-09-20T17:21:31.418Z"
   },
   {
    "duration": 20,
    "start_time": "2024-09-20T17:21:31.455Z"
   },
   {
    "duration": 15,
    "start_time": "2024-09-20T17:21:31.477Z"
   },
   {
    "duration": 47,
    "start_time": "2024-09-20T17:21:31.494Z"
   },
   {
    "duration": 25,
    "start_time": "2024-09-20T17:21:31.544Z"
   },
   {
    "duration": 24,
    "start_time": "2024-09-20T17:21:31.571Z"
   },
   {
    "duration": 28,
    "start_time": "2024-09-20T17:21:31.597Z"
   },
   {
    "duration": 369,
    "start_time": "2024-09-20T17:21:31.627Z"
   },
   {
    "duration": 11,
    "start_time": "2024-09-20T17:21:31.998Z"
   },
   {
    "duration": 466,
    "start_time": "2024-09-20T17:21:32.011Z"
   },
   {
    "duration": 402,
    "start_time": "2024-09-20T17:21:32.478Z"
   },
   {
    "duration": 247,
    "start_time": "2024-09-20T17:21:32.882Z"
   },
   {
    "duration": 18,
    "start_time": "2024-09-20T17:21:33.130Z"
   },
   {
    "duration": 103,
    "start_time": "2024-09-20T17:21:33.149Z"
   },
   {
    "duration": 1259,
    "start_time": "2024-09-20T17:21:33.253Z"
   },
   {
    "duration": 292,
    "start_time": "2024-09-20T17:21:34.514Z"
   },
   {
    "duration": 270,
    "start_time": "2024-09-20T17:21:34.808Z"
   },
   {
    "duration": 205,
    "start_time": "2024-09-20T17:21:35.082Z"
   },
   {
    "duration": 7,
    "start_time": "2024-09-20T17:21:35.288Z"
   },
   {
    "duration": 166,
    "start_time": "2024-09-20T17:21:35.296Z"
   },
   {
    "duration": 153,
    "start_time": "2024-09-20T17:21:35.463Z"
   },
   {
    "duration": 18,
    "start_time": "2024-09-20T17:21:35.617Z"
   },
   {
    "duration": 270,
    "start_time": "2024-09-20T17:21:35.646Z"
   },
   {
    "duration": 157,
    "start_time": "2024-09-20T17:21:35.918Z"
   },
   {
    "duration": 235,
    "start_time": "2024-09-20T17:21:36.077Z"
   },
   {
    "duration": 208,
    "start_time": "2024-09-20T17:21:36.314Z"
   },
   {
    "duration": 6,
    "start_time": "2024-09-20T17:21:36.523Z"
   },
   {
    "duration": 39,
    "start_time": "2024-09-20T17:21:36.531Z"
   },
   {
    "duration": 184,
    "start_time": "2024-09-20T17:21:36.572Z"
   },
   {
    "duration": 159,
    "start_time": "2024-09-20T17:21:36.758Z"
   },
   {
    "duration": 184,
    "start_time": "2024-09-20T17:21:36.918Z"
   },
   {
    "duration": 177,
    "start_time": "2024-09-20T17:21:37.104Z"
   },
   {
    "duration": 10,
    "start_time": "2024-09-20T17:21:37.282Z"
   },
   {
    "duration": 244,
    "start_time": "2024-09-20T17:21:37.294Z"
   },
   {
    "duration": 231,
    "start_time": "2024-09-20T17:21:37.540Z"
   },
   {
    "duration": 264,
    "start_time": "2024-09-20T17:21:37.772Z"
   },
   {
    "duration": 199,
    "start_time": "2024-09-20T17:21:38.038Z"
   },
   {
    "duration": 241,
    "start_time": "2024-09-20T17:21:38.238Z"
   },
   {
    "duration": 277,
    "start_time": "2024-09-20T17:21:38.480Z"
   },
   {
    "duration": 224,
    "start_time": "2024-09-20T17:21:38.758Z"
   },
   {
    "duration": 244,
    "start_time": "2024-09-20T17:21:38.984Z"
   },
   {
    "duration": 18,
    "start_time": "2024-09-20T17:21:39.230Z"
   },
   {
    "duration": 17,
    "start_time": "2024-09-20T17:21:39.249Z"
   },
   {
    "duration": 22,
    "start_time": "2024-09-20T17:21:39.268Z"
   },
   {
    "duration": 15,
    "start_time": "2024-09-20T17:21:39.292Z"
   },
   {
    "duration": 6,
    "start_time": "2024-09-20T17:23:17.371Z"
   },
   {
    "duration": 210,
    "start_time": "2024-09-20T17:24:09.123Z"
   },
   {
    "duration": 452,
    "start_time": "2024-09-20T17:24:49.524Z"
   },
   {
    "duration": 253,
    "start_time": "2024-09-20T17:24:49.978Z"
   },
   {
    "duration": 3,
    "start_time": "2024-09-20T17:24:50.232Z"
   },
   {
    "duration": 520,
    "start_time": "2024-09-20T17:24:50.236Z"
   },
   {
    "duration": 3,
    "start_time": "2024-09-20T17:24:50.759Z"
   },
   {
    "duration": 45,
    "start_time": "2024-09-20T17:24:50.764Z"
   },
   {
    "duration": 88,
    "start_time": "2024-09-20T17:24:50.811Z"
   },
   {
    "duration": 88,
    "start_time": "2024-09-20T17:24:50.900Z"
   },
   {
    "duration": 3,
    "start_time": "2024-09-20T17:24:50.990Z"
   },
   {
    "duration": 23,
    "start_time": "2024-09-20T17:24:50.994Z"
   },
   {
    "duration": 21,
    "start_time": "2024-09-20T17:24:51.019Z"
   },
   {
    "duration": 30,
    "start_time": "2024-09-20T17:24:51.045Z"
   },
   {
    "duration": 77,
    "start_time": "2024-09-20T17:24:51.077Z"
   },
   {
    "duration": 11,
    "start_time": "2024-09-20T17:24:51.158Z"
   },
   {
    "duration": 54,
    "start_time": "2024-09-20T17:24:51.170Z"
   },
   {
    "duration": 34,
    "start_time": "2024-09-20T17:24:51.226Z"
   },
   {
    "duration": 20,
    "start_time": "2024-09-20T17:24:51.261Z"
   },
   {
    "duration": 31,
    "start_time": "2024-09-20T17:24:51.283Z"
   },
   {
    "duration": 352,
    "start_time": "2024-09-20T17:24:51.316Z"
   },
   {
    "duration": 9,
    "start_time": "2024-09-20T17:24:51.670Z"
   },
   {
    "duration": 367,
    "start_time": "2024-09-20T17:24:51.681Z"
   },
   {
    "duration": 353,
    "start_time": "2024-09-20T17:24:52.050Z"
   },
   {
    "duration": 289,
    "start_time": "2024-09-20T17:24:52.405Z"
   },
   {
    "duration": 16,
    "start_time": "2024-09-20T17:24:52.695Z"
   },
   {
    "duration": 16,
    "start_time": "2024-09-20T17:24:52.713Z"
   },
   {
    "duration": 1416,
    "start_time": "2024-09-20T17:24:52.731Z"
   },
   {
    "duration": 294,
    "start_time": "2024-09-20T17:24:54.148Z"
   },
   {
    "duration": 303,
    "start_time": "2024-09-20T17:24:54.445Z"
   },
   {
    "duration": 245,
    "start_time": "2024-09-20T17:24:54.750Z"
   },
   {
    "duration": 7,
    "start_time": "2024-09-20T17:24:54.997Z"
   },
   {
    "duration": 249,
    "start_time": "2024-09-20T17:24:55.006Z"
   },
   {
    "duration": 174,
    "start_time": "2024-09-20T17:24:55.257Z"
   },
   {
    "duration": 13,
    "start_time": "2024-09-20T17:24:55.433Z"
   },
   {
    "duration": 169,
    "start_time": "2024-09-20T17:24:55.448Z"
   },
   {
    "duration": 160,
    "start_time": "2024-09-20T17:24:55.619Z"
   },
   {
    "duration": 370,
    "start_time": "2024-09-20T17:24:55.781Z"
   },
   {
    "duration": 222,
    "start_time": "2024-09-20T17:24:56.153Z"
   },
   {
    "duration": 6,
    "start_time": "2024-09-20T17:24:56.377Z"
   },
   {
    "duration": 13,
    "start_time": "2024-09-20T17:24:56.384Z"
   },
   {
    "duration": 180,
    "start_time": "2024-09-20T17:24:56.398Z"
   },
   {
    "duration": 179,
    "start_time": "2024-09-20T17:24:56.583Z"
   },
   {
    "duration": 168,
    "start_time": "2024-09-20T17:24:56.764Z"
   },
   {
    "duration": 166,
    "start_time": "2024-09-20T17:24:56.934Z"
   },
   {
    "duration": 10,
    "start_time": "2024-09-20T17:24:57.102Z"
   },
   {
    "duration": 225,
    "start_time": "2024-09-20T17:24:57.113Z"
   },
   {
    "duration": 203,
    "start_time": "2024-09-20T17:24:57.345Z"
   },
   {
    "duration": 227,
    "start_time": "2024-09-20T17:24:57.550Z"
   },
   {
    "duration": 203,
    "start_time": "2024-09-20T17:24:57.779Z"
   },
   {
    "duration": 284,
    "start_time": "2024-09-20T17:24:57.984Z"
   },
   {
    "duration": 430,
    "start_time": "2024-09-20T17:24:58.270Z"
   },
   {
    "duration": 245,
    "start_time": "2024-09-20T17:24:58.703Z"
   },
   {
    "duration": 243,
    "start_time": "2024-09-20T17:24:58.950Z"
   },
   {
    "duration": 8,
    "start_time": "2024-09-20T17:24:59.195Z"
   },
   {
    "duration": 44,
    "start_time": "2024-09-20T17:24:59.205Z"
   },
   {
    "duration": 74,
    "start_time": "2024-09-20T17:24:59.251Z"
   },
   {
    "duration": 18,
    "start_time": "2024-09-20T17:24:59.326Z"
   }
  ],
  "kernelspec": {
   "display_name": "Python 3 (ipykernel)",
   "language": "python",
   "name": "python3"
  },
  "language_info": {
   "codemirror_mode": {
    "name": "ipython",
    "version": 3
   },
   "file_extension": ".py",
   "mimetype": "text/x-python",
   "name": "python",
   "nbconvert_exporter": "python",
   "pygments_lexer": "ipython3",
   "version": "3.13.1"
  },
  "toc": {
   "base_numbering": 1,
   "nav_menu": {},
   "number_sections": true,
   "sideBar": true,
   "skip_h1_title": true,
   "title_cell": "Table of Contents",
   "title_sidebar": "Contents",
   "toc_cell": false,
   "toc_position": {},
   "toc_section_display": true,
   "toc_window_display": false
  }
 },
 "nbformat": 4,
 "nbformat_minor": 4
}
